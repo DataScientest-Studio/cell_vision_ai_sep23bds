{
 "cells": [
  {
   "cell_type": "code",
   "execution_count": 125,
   "id": "5f195c01-2041-498b-a855-df7be9f52705",
   "metadata": {
    "tags": []
   },
   "outputs": [
    {
     "name": "stdout",
     "output_type": "stream",
     "text": [
      "Ignoré le fichier non pris en charge : ALL_IDB\\ALL_IDB1\\ALL_IDB1\\readme_ALL_IDB1.txt\n",
      "Ignoré le fichier non pris en charge : ALL_IDB\\ALL_IDB1\\ALL_IDB1\\xyc\\Im001_1.xyc\n",
      "Ignoré le fichier non pris en charge : ALL_IDB\\ALL_IDB1\\ALL_IDB1\\xyc\\Im002_1.xyc\n",
      "Ignoré le fichier non pris en charge : ALL_IDB\\ALL_IDB1\\ALL_IDB1\\xyc\\Im003_1.xyc\n",
      "Ignoré le fichier non pris en charge : ALL_IDB\\ALL_IDB1\\ALL_IDB1\\xyc\\Im004_1.xyc\n",
      "Ignoré le fichier non pris en charge : ALL_IDB\\ALL_IDB1\\ALL_IDB1\\xyc\\Im005_1.xyc\n",
      "Ignoré le fichier non pris en charge : ALL_IDB\\ALL_IDB1\\ALL_IDB1\\xyc\\Im006_1.xyc\n",
      "Ignoré le fichier non pris en charge : ALL_IDB\\ALL_IDB1\\ALL_IDB1\\xyc\\Im007_1.xyc\n",
      "Ignoré le fichier non pris en charge : ALL_IDB\\ALL_IDB1\\ALL_IDB1\\xyc\\Im008_1.xyc\n",
      "Ignoré le fichier non pris en charge : ALL_IDB\\ALL_IDB1\\ALL_IDB1\\xyc\\Im009_1.xyc\n",
      "Ignoré le fichier non pris en charge : ALL_IDB\\ALL_IDB1\\ALL_IDB1\\xyc\\Im010_1.xyc\n",
      "Ignoré le fichier non pris en charge : ALL_IDB\\ALL_IDB1\\ALL_IDB1\\xyc\\Im011_1.xyc\n",
      "Ignoré le fichier non pris en charge : ALL_IDB\\ALL_IDB1\\ALL_IDB1\\xyc\\Im012_1.xyc\n",
      "Ignoré le fichier non pris en charge : ALL_IDB\\ALL_IDB1\\ALL_IDB1\\xyc\\Im013_1.xyc\n",
      "Ignoré le fichier non pris en charge : ALL_IDB\\ALL_IDB1\\ALL_IDB1\\xyc\\Im014_1.xyc\n",
      "Ignoré le fichier non pris en charge : ALL_IDB\\ALL_IDB1\\ALL_IDB1\\xyc\\Im015_1.xyc\n",
      "Ignoré le fichier non pris en charge : ALL_IDB\\ALL_IDB1\\ALL_IDB1\\xyc\\Im016_1.xyc\n",
      "Ignoré le fichier non pris en charge : ALL_IDB\\ALL_IDB1\\ALL_IDB1\\xyc\\Im017_1.xyc\n",
      "Ignoré le fichier non pris en charge : ALL_IDB\\ALL_IDB1\\ALL_IDB1\\xyc\\Im018_1.xyc\n",
      "Ignoré le fichier non pris en charge : ALL_IDB\\ALL_IDB1\\ALL_IDB1\\xyc\\Im019_1.xyc\n",
      "Ignoré le fichier non pris en charge : ALL_IDB\\ALL_IDB1\\ALL_IDB1\\xyc\\Im020_1.xyc\n",
      "Ignoré le fichier non pris en charge : ALL_IDB\\ALL_IDB1\\ALL_IDB1\\xyc\\Im021_1.xyc\n",
      "Ignoré le fichier non pris en charge : ALL_IDB\\ALL_IDB1\\ALL_IDB1\\xyc\\Im022_1.xyc\n",
      "Ignoré le fichier non pris en charge : ALL_IDB\\ALL_IDB1\\ALL_IDB1\\xyc\\Im023_1.xyc\n",
      "Ignoré le fichier non pris en charge : ALL_IDB\\ALL_IDB1\\ALL_IDB1\\xyc\\Im024_1.xyc\n",
      "Ignoré le fichier non pris en charge : ALL_IDB\\ALL_IDB1\\ALL_IDB1\\xyc\\Im025_1.xyc\n",
      "Ignoré le fichier non pris en charge : ALL_IDB\\ALL_IDB1\\ALL_IDB1\\xyc\\Im026_1.xyc\n",
      "Ignoré le fichier non pris en charge : ALL_IDB\\ALL_IDB1\\ALL_IDB1\\xyc\\Im027_1.xyc\n",
      "Ignoré le fichier non pris en charge : ALL_IDB\\ALL_IDB1\\ALL_IDB1\\xyc\\Im028_1.xyc\n",
      "Ignoré le fichier non pris en charge : ALL_IDB\\ALL_IDB1\\ALL_IDB1\\xyc\\Im029_1.xyc\n",
      "Ignoré le fichier non pris en charge : ALL_IDB\\ALL_IDB1\\ALL_IDB1\\xyc\\Im030_1.xyc\n",
      "Ignoré le fichier non pris en charge : ALL_IDB\\ALL_IDB1\\ALL_IDB1\\xyc\\Im031_1.xyc\n",
      "Ignoré le fichier non pris en charge : ALL_IDB\\ALL_IDB1\\ALL_IDB1\\xyc\\Im032_1.xyc\n",
      "Ignoré le fichier non pris en charge : ALL_IDB\\ALL_IDB1\\ALL_IDB1\\xyc\\Im033_1.xyc\n",
      "Ignoré le fichier non pris en charge : ALL_IDB\\ALL_IDB1\\ALL_IDB1\\xyc\\Im034_0.xyc\n",
      "Ignoré le fichier non pris en charge : ALL_IDB\\ALL_IDB1\\ALL_IDB1\\xyc\\Im035_0.xyc\n",
      "Ignoré le fichier non pris en charge : ALL_IDB\\ALL_IDB1\\ALL_IDB1\\xyc\\Im036_0.xyc\n",
      "Ignoré le fichier non pris en charge : ALL_IDB\\ALL_IDB1\\ALL_IDB1\\xyc\\Im037_0.xyc\n",
      "Ignoré le fichier non pris en charge : ALL_IDB\\ALL_IDB1\\ALL_IDB1\\xyc\\Im038_0.xyc\n",
      "Ignoré le fichier non pris en charge : ALL_IDB\\ALL_IDB1\\ALL_IDB1\\xyc\\Im039_0.xyc\n",
      "Ignoré le fichier non pris en charge : ALL_IDB\\ALL_IDB1\\ALL_IDB1\\xyc\\Im040_0.xyc\n",
      "Ignoré le fichier non pris en charge : ALL_IDB\\ALL_IDB1\\ALL_IDB1\\xyc\\Im041_0.xyc\n",
      "Ignoré le fichier non pris en charge : ALL_IDB\\ALL_IDB1\\ALL_IDB1\\xyc\\Im042_0.xyc\n",
      "Ignoré le fichier non pris en charge : ALL_IDB\\ALL_IDB1\\ALL_IDB1\\xyc\\Im043_0.xyc\n",
      "Ignoré le fichier non pris en charge : ALL_IDB\\ALL_IDB1\\ALL_IDB1\\xyc\\Im044_0.xyc\n",
      "Ignoré le fichier non pris en charge : ALL_IDB\\ALL_IDB1\\ALL_IDB1\\xyc\\Im045_0.xyc\n",
      "Ignoré le fichier non pris en charge : ALL_IDB\\ALL_IDB1\\ALL_IDB1\\xyc\\Im046_0.xyc\n",
      "Ignoré le fichier non pris en charge : ALL_IDB\\ALL_IDB1\\ALL_IDB1\\xyc\\Im047_0.xyc\n",
      "Ignoré le fichier non pris en charge : ALL_IDB\\ALL_IDB1\\ALL_IDB1\\xyc\\Im048_1.xyc\n",
      "Ignoré le fichier non pris en charge : ALL_IDB\\ALL_IDB1\\ALL_IDB1\\xyc\\Im049_1.xyc\n",
      "Ignoré le fichier non pris en charge : ALL_IDB\\ALL_IDB1\\ALL_IDB1\\xyc\\Im050_1.xyc\n",
      "Ignoré le fichier non pris en charge : ALL_IDB\\ALL_IDB1\\ALL_IDB1\\xyc\\Im051_1.xyc\n",
      "Ignoré le fichier non pris en charge : ALL_IDB\\ALL_IDB1\\ALL_IDB1\\xyc\\Im052_1.xyc\n",
      "Ignoré le fichier non pris en charge : ALL_IDB\\ALL_IDB1\\ALL_IDB1\\xyc\\Im053_1.xyc\n",
      "Ignoré le fichier non pris en charge : ALL_IDB\\ALL_IDB1\\ALL_IDB1\\xyc\\Im054_1.xyc\n",
      "Ignoré le fichier non pris en charge : ALL_IDB\\ALL_IDB1\\ALL_IDB1\\xyc\\Im055_1.xyc\n",
      "Ignoré le fichier non pris en charge : ALL_IDB\\ALL_IDB1\\ALL_IDB1\\xyc\\Im056_1.xyc\n",
      "Ignoré le fichier non pris en charge : ALL_IDB\\ALL_IDB1\\ALL_IDB1\\xyc\\Im057_1.xyc\n",
      "Ignoré le fichier non pris en charge : ALL_IDB\\ALL_IDB1\\ALL_IDB1\\xyc\\Im058_1.xyc\n",
      "Ignoré le fichier non pris en charge : ALL_IDB\\ALL_IDB1\\ALL_IDB1\\xyc\\Im059_1.xyc\n",
      "Ignoré le fichier non pris en charge : ALL_IDB\\ALL_IDB1\\ALL_IDB1\\xyc\\Im060_1.xyc\n",
      "Ignoré le fichier non pris en charge : ALL_IDB\\ALL_IDB1\\ALL_IDB1\\xyc\\Im061_1.xyc\n",
      "Ignoré le fichier non pris en charge : ALL_IDB\\ALL_IDB1\\ALL_IDB1\\xyc\\Im062_1.xyc\n",
      "Ignoré le fichier non pris en charge : ALL_IDB\\ALL_IDB1\\ALL_IDB1\\xyc\\Im063_1.xyc\n",
      "Ignoré le fichier non pris en charge : ALL_IDB\\ALL_IDB1\\ALL_IDB1\\xyc\\Im064_0.xyc\n",
      "Ignoré le fichier non pris en charge : ALL_IDB\\ALL_IDB1\\ALL_IDB1\\xyc\\Im065_0.xyc\n",
      "Ignoré le fichier non pris en charge : ALL_IDB\\ALL_IDB1\\ALL_IDB1\\xyc\\Im066_0.xyc\n",
      "Ignoré le fichier non pris en charge : ALL_IDB\\ALL_IDB1\\ALL_IDB1\\xyc\\Im067_0.xyc\n",
      "Ignoré le fichier non pris en charge : ALL_IDB\\ALL_IDB1\\ALL_IDB1\\xyc\\Im068_0.xyc\n",
      "Ignoré le fichier non pris en charge : ALL_IDB\\ALL_IDB1\\ALL_IDB1\\xyc\\Im069_0.xyc\n",
      "Ignoré le fichier non pris en charge : ALL_IDB\\ALL_IDB1\\ALL_IDB1\\xyc\\Im070_0.xyc\n",
      "Ignoré le fichier non pris en charge : ALL_IDB\\ALL_IDB1\\ALL_IDB1\\xyc\\Im071_0.xyc\n",
      "Ignoré le fichier non pris en charge : ALL_IDB\\ALL_IDB1\\ALL_IDB1\\xyc\\Im072_0.xyc\n",
      "Ignoré le fichier non pris en charge : ALL_IDB\\ALL_IDB1\\ALL_IDB1\\xyc\\Im073_0.xyc\n",
      "Ignoré le fichier non pris en charge : ALL_IDB\\ALL_IDB1\\ALL_IDB1\\xyc\\Im074_0.xyc\n",
      "Ignoré le fichier non pris en charge : ALL_IDB\\ALL_IDB1\\ALL_IDB1\\xyc\\Im075_0.xyc\n",
      "Ignoré le fichier non pris en charge : ALL_IDB\\ALL_IDB1\\ALL_IDB1\\xyc\\Im076_0.xyc\n",
      "Ignoré le fichier non pris en charge : ALL_IDB\\ALL_IDB1\\ALL_IDB1\\xyc\\Im077_0.xyc\n",
      "Ignoré le fichier non pris en charge : ALL_IDB\\ALL_IDB1\\ALL_IDB1\\xyc\\Im078_0.xyc\n",
      "Ignoré le fichier non pris en charge : ALL_IDB\\ALL_IDB1\\ALL_IDB1\\xyc\\Im079_0.xyc\n",
      "Ignoré le fichier non pris en charge : ALL_IDB\\ALL_IDB1\\ALL_IDB1\\xyc\\Im080_0.xyc\n",
      "Ignoré le fichier non pris en charge : ALL_IDB\\ALL_IDB1\\ALL_IDB1\\xyc\\Im081_0.xyc\n",
      "Ignoré le fichier non pris en charge : ALL_IDB\\ALL_IDB1\\ALL_IDB1\\xyc\\Im082_0.xyc\n",
      "Ignoré le fichier non pris en charge : ALL_IDB\\ALL_IDB1\\ALL_IDB1\\xyc\\Im083_0.xyc\n",
      "Ignoré le fichier non pris en charge : ALL_IDB\\ALL_IDB1\\ALL_IDB1\\xyc\\Im084_0.xyc\n",
      "Ignoré le fichier non pris en charge : ALL_IDB\\ALL_IDB1\\ALL_IDB1\\xyc\\Im085_0.xyc\n",
      "Ignoré le fichier non pris en charge : ALL_IDB\\ALL_IDB1\\ALL_IDB1\\xyc\\Im086_0.xyc\n",
      "Ignoré le fichier non pris en charge : ALL_IDB\\ALL_IDB1\\ALL_IDB1\\xyc\\Im087_0.xyc\n",
      "Ignoré le fichier non pris en charge : ALL_IDB\\ALL_IDB1\\ALL_IDB1\\xyc\\Im088_0.xyc\n",
      "Ignoré le fichier non pris en charge : ALL_IDB\\ALL_IDB1\\ALL_IDB1\\xyc\\Im089_0.xyc\n",
      "Ignoré le fichier non pris en charge : ALL_IDB\\ALL_IDB1\\ALL_IDB1\\xyc\\Im090_0.xyc\n",
      "Ignoré le fichier non pris en charge : ALL_IDB\\ALL_IDB1\\ALL_IDB1\\xyc\\Im091_0.xyc\n",
      "Ignoré le fichier non pris en charge : ALL_IDB\\ALL_IDB1\\ALL_IDB1\\xyc\\Im092_0.xyc\n",
      "Ignoré le fichier non pris en charge : ALL_IDB\\ALL_IDB1\\ALL_IDB1\\xyc\\Im093_0.xyc\n",
      "Ignoré le fichier non pris en charge : ALL_IDB\\ALL_IDB1\\ALL_IDB1\\xyc\\Im094_0.xyc\n",
      "Ignoré le fichier non pris en charge : ALL_IDB\\ALL_IDB1\\ALL_IDB1\\xyc\\Im095_0.xyc\n",
      "Ignoré le fichier non pris en charge : ALL_IDB\\ALL_IDB1\\ALL_IDB1\\xyc\\Im096_0.xyc\n",
      "Ignoré le fichier non pris en charge : ALL_IDB\\ALL_IDB1\\ALL_IDB1\\xyc\\Im097_0.xyc\n",
      "Ignoré le fichier non pris en charge : ALL_IDB\\ALL_IDB1\\ALL_IDB1\\xyc\\Im098_0.xyc\n",
      "Ignoré le fichier non pris en charge : ALL_IDB\\ALL_IDB1\\ALL_IDB1\\xyc\\Im099_0.xyc\n",
      "Ignoré le fichier non pris en charge : ALL_IDB\\ALL_IDB1\\ALL_IDB1\\xyc\\Im100_0.xyc\n",
      "Ignoré le fichier non pris en charge : ALL_IDB\\ALL_IDB1\\ALL_IDB1\\xyc\\Im101_0.xyc\n",
      "Ignoré le fichier non pris en charge : ALL_IDB\\ALL_IDB1\\ALL_IDB1\\xyc\\Im102_0.xyc\n",
      "Ignoré le fichier non pris en charge : ALL_IDB\\ALL_IDB1\\ALL_IDB1\\xyc\\Im103_0.xyc\n",
      "Ignoré le fichier non pris en charge : ALL_IDB\\ALL_IDB1\\ALL_IDB1\\xyc\\Im104_0.xyc\n",
      "Ignoré le fichier non pris en charge : ALL_IDB\\ALL_IDB1\\ALL_IDB1\\xyc\\Im105_0.xyc\n",
      "Ignoré le fichier non pris en charge : ALL_IDB\\ALL_IDB1\\ALL_IDB1\\xyc\\Im106_0.xyc\n",
      "Ignoré le fichier non pris en charge : ALL_IDB\\ALL_IDB1\\ALL_IDB1\\xyc\\Im107_0.xyc\n",
      "Ignoré le fichier non pris en charge : ALL_IDB\\ALL_IDB1\\ALL_IDB1\\xyc\\Im108_0.xyc\n",
      "Ignoré le fichier non pris en charge : ALL_IDB\\ALL_IDB2\\ALL_IDB2\\readme_ALL_IDB2.txt\n"
     ]
    },
    {
     "data": {
      "text/html": [
       "<div>\n",
       "<style scoped>\n",
       "    .dataframe tbody tr th:only-of-type {\n",
       "        vertical-align: middle;\n",
       "    }\n",
       "\n",
       "    .dataframe tbody tr th {\n",
       "        vertical-align: top;\n",
       "    }\n",
       "\n",
       "    .dataframe thead th {\n",
       "        text-align: right;\n",
       "    }\n",
       "</style>\n",
       "<table border=\"1\" class=\"dataframe\">\n",
       "  <thead>\n",
       "    <tr style=\"text-align: right;\">\n",
       "      <th></th>\n",
       "      <th>img_path</th>\n",
       "      <th>dataset</th>\n",
       "      <th>diagnostic</th>\n",
       "      <th>height</th>\n",
       "      <th>width</th>\n",
       "      <th>format</th>\n",
       "      <th>mean_brightness</th>\n",
       "      <th>mean_hue</th>\n",
       "    </tr>\n",
       "  </thead>\n",
       "  <tbody>\n",
       "    <tr>\n",
       "      <th>0</th>\n",
       "      <td>ALL_IDB\\ALL_IDB1\\ALL_IDB1\\im\\Im001_1.jpg</td>\n",
       "      <td>ALL_IDB1</td>\n",
       "      <td>1</td>\n",
       "      <td>1368</td>\n",
       "      <td>1712</td>\n",
       "      <td>.jpg</td>\n",
       "      <td>145.034146</td>\n",
       "      <td>86.744511</td>\n",
       "    </tr>\n",
       "    <tr>\n",
       "      <th>1</th>\n",
       "      <td>ALL_IDB\\ALL_IDB1\\ALL_IDB1\\im\\Im002_1.jpg</td>\n",
       "      <td>ALL_IDB1</td>\n",
       "      <td>1</td>\n",
       "      <td>1368</td>\n",
       "      <td>1712</td>\n",
       "      <td>.jpg</td>\n",
       "      <td>141.622415</td>\n",
       "      <td>96.973916</td>\n",
       "    </tr>\n",
       "    <tr>\n",
       "      <th>2</th>\n",
       "      <td>ALL_IDB\\ALL_IDB1\\ALL_IDB1\\im\\Im003_1.jpg</td>\n",
       "      <td>ALL_IDB1</td>\n",
       "      <td>1</td>\n",
       "      <td>1368</td>\n",
       "      <td>1712</td>\n",
       "      <td>.jpg</td>\n",
       "      <td>142.288550</td>\n",
       "      <td>94.330912</td>\n",
       "    </tr>\n",
       "    <tr>\n",
       "      <th>3</th>\n",
       "      <td>ALL_IDB\\ALL_IDB1\\ALL_IDB1\\im\\Im004_1.jpg</td>\n",
       "      <td>ALL_IDB1</td>\n",
       "      <td>1</td>\n",
       "      <td>1368</td>\n",
       "      <td>1712</td>\n",
       "      <td>.jpg</td>\n",
       "      <td>138.196909</td>\n",
       "      <td>89.780578</td>\n",
       "    </tr>\n",
       "    <tr>\n",
       "      <th>4</th>\n",
       "      <td>ALL_IDB\\ALL_IDB1\\ALL_IDB1\\im\\Im005_1.jpg</td>\n",
       "      <td>ALL_IDB1</td>\n",
       "      <td>1</td>\n",
       "      <td>1368</td>\n",
       "      <td>1712</td>\n",
       "      <td>.jpg</td>\n",
       "      <td>144.365016</td>\n",
       "      <td>110.769000</td>\n",
       "    </tr>\n",
       "  </tbody>\n",
       "</table>\n",
       "</div>"
      ],
      "text/plain": [
       "                                   img_path   dataset diagnostic  height  \\\n",
       "0  ALL_IDB\\ALL_IDB1\\ALL_IDB1\\im\\Im001_1.jpg  ALL_IDB1          1    1368   \n",
       "1  ALL_IDB\\ALL_IDB1\\ALL_IDB1\\im\\Im002_1.jpg  ALL_IDB1          1    1368   \n",
       "2  ALL_IDB\\ALL_IDB1\\ALL_IDB1\\im\\Im003_1.jpg  ALL_IDB1          1    1368   \n",
       "3  ALL_IDB\\ALL_IDB1\\ALL_IDB1\\im\\Im004_1.jpg  ALL_IDB1          1    1368   \n",
       "4  ALL_IDB\\ALL_IDB1\\ALL_IDB1\\im\\Im005_1.jpg  ALL_IDB1          1    1368   \n",
       "\n",
       "   width format  mean_brightness    mean_hue  \n",
       "0   1712   .jpg       145.034146   86.744511  \n",
       "1   1712   .jpg       141.622415   96.973916  \n",
       "2   1712   .jpg       142.288550   94.330912  \n",
       "3   1712   .jpg       138.196909   89.780578  \n",
       "4   1712   .jpg       144.365016  110.769000  "
      ]
     },
     "execution_count": 125,
     "metadata": {},
     "output_type": "execute_result"
    }
   ],
   "source": [
    "from PIL import Image\n",
    "import os\n",
    "import cv2\n",
    "import pandas as pd\n",
    "\n",
    "def calculate_image_stats(image_path):\n",
    "    # Vérifier si le fichier est une image\n",
    "    image_extensions = ['.jpg', '.jpeg', '.png', '.bmp', '.gif', '.tif']\n",
    "    if not any(image_path.lower().endswith(ext) for ext in image_extensions):\n",
    "        print(f\"Ignoré le fichier non pris en charge : {image_path}\")\n",
    "        return None\n",
    "\n",
    "    # Charger l'image\n",
    "    img = cv2.imread(image_path)\n",
    "\n",
    "    if img is None:\n",
    "        print(f\"Erreur de lecture de l'image : {image_path}\")\n",
    "        return None\n",
    "\n",
    "    # Obtenir les dimensions de l'image (hauteur et largeur)\n",
    "    height, width, _ = img.shape\n",
    "\n",
    "    # Obtenir le format à partir de l'extension du fichier\n",
    "    img_format = os.path.splitext(image_path)[1]\n",
    "\n",
    "    # Convertir l'image en niveaux de gris\n",
    "    gray = cv2.cvtColor(img, cv2.COLOR_BGR2GRAY)\n",
    "\n",
    "    # Calculer la luminosité moyenne\n",
    "    mean_brightness = gray.mean()\n",
    "    \n",
    "    # Convertir l'image en espace de couleur HSV\n",
    "    hsv_img = cv2.cvtColor(img, cv2.COLOR_BGR2HSV)\n",
    "    # Extraire la composante de teinte (Hue)\n",
    "    hue = hsv_img[:, :, 0]\n",
    "    # Calculer la teinte moyenne\n",
    "    mean_hue = hue.mean()\n",
    "\n",
    "    # Extraire le dataset de l'image à partir du chemin\n",
    "    dataset = os.path.basename(os.path.dirname(os.path.dirname(image_path))) \n",
    "\n",
    "    # Extraire le diagnostic à partir du nom de l'image ('1' ou '0' en dernier caractère)\n",
    "    diagnostic = os.path.splitext(os.path.basename(image_path))[0][-1]\n",
    "\n",
    "    return  dataset, diagnostic, height, width, img_format, mean_brightness, mean_hue\n",
    "\n",
    "def create_dataframe(root_dir):\n",
    "    data = []\n",
    "\n",
    "    for root, dirs, files in os.walk(root_dir):\n",
    "        for file in files:\n",
    "            img_path = os.path.join(root, file)\n",
    "            image_stats = calculate_image_stats(img_path)\n",
    "\n",
    "            if image_stats:\n",
    "                data.append([img_path] + list(image_stats))\n",
    "\n",
    "    df = pd.DataFrame(data, columns=['img_path', 'dataset', 'diagnostic', 'height', 'width', 'format', 'mean_brightness', 'mean_hue'])\n",
    "    return df\n",
    "\n",
    "root_directory = \"ALL_IDB\"\n",
    "df = create_dataframe(root_directory)\n",
    "\n",
    "# Afficher le DataFrame\n",
    "df.head()\n",
    "\n"
   ]
  },
  {
   "cell_type": "code",
   "execution_count": 126,
   "id": "facdec86-0f50-4cd5-a6e2-cd71a79f010c",
   "metadata": {
    "tags": []
   },
   "outputs": [
    {
     "name": "stdout",
     "output_type": "stream",
     "text": [
      "<class 'pandas.core.frame.DataFrame'>\n",
      "RangeIndex: 368 entries, 0 to 367\n",
      "Data columns (total 8 columns):\n",
      " #   Column           Non-Null Count  Dtype  \n",
      "---  ------           --------------  -----  \n",
      " 0   img_path         368 non-null    object \n",
      " 1   dataset          368 non-null    object \n",
      " 2   diagnostic       368 non-null    object \n",
      " 3   height           368 non-null    int64  \n",
      " 4   width            368 non-null    int64  \n",
      " 5   format           368 non-null    object \n",
      " 6   mean_brightness  368 non-null    float64\n",
      " 7   mean_hue         368 non-null    float64\n",
      "dtypes: float64(2), int64(2), object(4)\n",
      "memory usage: 23.1+ KB\n"
     ]
    }
   ],
   "source": [
    "df.info()"
   ]
  },
  {
   "cell_type": "code",
   "execution_count": 105,
   "id": "6772b5ff-4064-427e-ac41-7eeea11b26f2",
   "metadata": {
    "tags": []
   },
   "outputs": [
    {
     "data": {
      "application/vnd.plotly.v1+json": {
       "config": {
        "plotlyServerURL": "https://plot.ly"
       },
       "data": [
        {
         "alignmentgroup": "True",
         "hovertemplate": "diagnostic=0<br>Dataset=%{x}<br>Nombre de patients=%{y}<extra></extra>",
         "legendgroup": "0",
         "marker": {
          "color": "#636efa",
          "pattern": {
           "shape": ""
          }
         },
         "name": "0",
         "offsetgroup": "0",
         "orientation": "v",
         "showlegend": true,
         "textposition": "auto",
         "type": "bar",
         "x": [
          "ALL_IDB1",
          "ALL_IDB2"
         ],
         "xaxis": "x",
         "y": [
          59,
          130
         ],
         "yaxis": "y"
        },
        {
         "alignmentgroup": "True",
         "hovertemplate": "diagnostic=1<br>Dataset=%{x}<br>Nombre de patients=%{y}<extra></extra>",
         "legendgroup": "1",
         "marker": {
          "color": "#EF553B",
          "pattern": {
           "shape": ""
          }
         },
         "name": "1",
         "offsetgroup": "1",
         "orientation": "v",
         "showlegend": true,
         "textposition": "auto",
         "type": "bar",
         "x": [
          "ALL_IDB1",
          "ALL_IDB2"
         ],
         "xaxis": "x",
         "y": [
          49,
          130
         ],
         "yaxis": "y"
        }
       ],
       "layout": {
        "autosize": true,
        "barmode": "relative",
        "legend": {
         "title": {
          "text": "diagnostic"
         },
         "tracegroupgap": 0
        },
        "template": {
         "data": {
          "bar": [
           {
            "error_x": {
             "color": "#2a3f5f"
            },
            "error_y": {
             "color": "#2a3f5f"
            },
            "marker": {
             "line": {
              "color": "#E5ECF6",
              "width": 0.5
             },
             "pattern": {
              "fillmode": "overlay",
              "size": 10,
              "solidity": 0.2
             }
            },
            "type": "bar"
           }
          ],
          "barpolar": [
           {
            "marker": {
             "line": {
              "color": "#E5ECF6",
              "width": 0.5
             },
             "pattern": {
              "fillmode": "overlay",
              "size": 10,
              "solidity": 0.2
             }
            },
            "type": "barpolar"
           }
          ],
          "carpet": [
           {
            "aaxis": {
             "endlinecolor": "#2a3f5f",
             "gridcolor": "white",
             "linecolor": "white",
             "minorgridcolor": "white",
             "startlinecolor": "#2a3f5f"
            },
            "baxis": {
             "endlinecolor": "#2a3f5f",
             "gridcolor": "white",
             "linecolor": "white",
             "minorgridcolor": "white",
             "startlinecolor": "#2a3f5f"
            },
            "type": "carpet"
           }
          ],
          "choropleth": [
           {
            "colorbar": {
             "outlinewidth": 0,
             "ticks": ""
            },
            "type": "choropleth"
           }
          ],
          "contour": [
           {
            "colorbar": {
             "outlinewidth": 0,
             "ticks": ""
            },
            "colorscale": [
             [
              0,
              "#0d0887"
             ],
             [
              0.1111111111111111,
              "#46039f"
             ],
             [
              0.2222222222222222,
              "#7201a8"
             ],
             [
              0.3333333333333333,
              "#9c179e"
             ],
             [
              0.4444444444444444,
              "#bd3786"
             ],
             [
              0.5555555555555556,
              "#d8576b"
             ],
             [
              0.6666666666666666,
              "#ed7953"
             ],
             [
              0.7777777777777778,
              "#fb9f3a"
             ],
             [
              0.8888888888888888,
              "#fdca26"
             ],
             [
              1,
              "#f0f921"
             ]
            ],
            "type": "contour"
           }
          ],
          "contourcarpet": [
           {
            "colorbar": {
             "outlinewidth": 0,
             "ticks": ""
            },
            "type": "contourcarpet"
           }
          ],
          "heatmap": [
           {
            "colorbar": {
             "outlinewidth": 0,
             "ticks": ""
            },
            "colorscale": [
             [
              0,
              "#0d0887"
             ],
             [
              0.1111111111111111,
              "#46039f"
             ],
             [
              0.2222222222222222,
              "#7201a8"
             ],
             [
              0.3333333333333333,
              "#9c179e"
             ],
             [
              0.4444444444444444,
              "#bd3786"
             ],
             [
              0.5555555555555556,
              "#d8576b"
             ],
             [
              0.6666666666666666,
              "#ed7953"
             ],
             [
              0.7777777777777778,
              "#fb9f3a"
             ],
             [
              0.8888888888888888,
              "#fdca26"
             ],
             [
              1,
              "#f0f921"
             ]
            ],
            "type": "heatmap"
           }
          ],
          "heatmapgl": [
           {
            "colorbar": {
             "outlinewidth": 0,
             "ticks": ""
            },
            "colorscale": [
             [
              0,
              "#0d0887"
             ],
             [
              0.1111111111111111,
              "#46039f"
             ],
             [
              0.2222222222222222,
              "#7201a8"
             ],
             [
              0.3333333333333333,
              "#9c179e"
             ],
             [
              0.4444444444444444,
              "#bd3786"
             ],
             [
              0.5555555555555556,
              "#d8576b"
             ],
             [
              0.6666666666666666,
              "#ed7953"
             ],
             [
              0.7777777777777778,
              "#fb9f3a"
             ],
             [
              0.8888888888888888,
              "#fdca26"
             ],
             [
              1,
              "#f0f921"
             ]
            ],
            "type": "heatmapgl"
           }
          ],
          "histogram": [
           {
            "marker": {
             "pattern": {
              "fillmode": "overlay",
              "size": 10,
              "solidity": 0.2
             }
            },
            "type": "histogram"
           }
          ],
          "histogram2d": [
           {
            "colorbar": {
             "outlinewidth": 0,
             "ticks": ""
            },
            "colorscale": [
             [
              0,
              "#0d0887"
             ],
             [
              0.1111111111111111,
              "#46039f"
             ],
             [
              0.2222222222222222,
              "#7201a8"
             ],
             [
              0.3333333333333333,
              "#9c179e"
             ],
             [
              0.4444444444444444,
              "#bd3786"
             ],
             [
              0.5555555555555556,
              "#d8576b"
             ],
             [
              0.6666666666666666,
              "#ed7953"
             ],
             [
              0.7777777777777778,
              "#fb9f3a"
             ],
             [
              0.8888888888888888,
              "#fdca26"
             ],
             [
              1,
              "#f0f921"
             ]
            ],
            "type": "histogram2d"
           }
          ],
          "histogram2dcontour": [
           {
            "colorbar": {
             "outlinewidth": 0,
             "ticks": ""
            },
            "colorscale": [
             [
              0,
              "#0d0887"
             ],
             [
              0.1111111111111111,
              "#46039f"
             ],
             [
              0.2222222222222222,
              "#7201a8"
             ],
             [
              0.3333333333333333,
              "#9c179e"
             ],
             [
              0.4444444444444444,
              "#bd3786"
             ],
             [
              0.5555555555555556,
              "#d8576b"
             ],
             [
              0.6666666666666666,
              "#ed7953"
             ],
             [
              0.7777777777777778,
              "#fb9f3a"
             ],
             [
              0.8888888888888888,
              "#fdca26"
             ],
             [
              1,
              "#f0f921"
             ]
            ],
            "type": "histogram2dcontour"
           }
          ],
          "mesh3d": [
           {
            "colorbar": {
             "outlinewidth": 0,
             "ticks": ""
            },
            "type": "mesh3d"
           }
          ],
          "parcoords": [
           {
            "line": {
             "colorbar": {
              "outlinewidth": 0,
              "ticks": ""
             }
            },
            "type": "parcoords"
           }
          ],
          "pie": [
           {
            "automargin": true,
            "type": "pie"
           }
          ],
          "scatter": [
           {
            "fillpattern": {
             "fillmode": "overlay",
             "size": 10,
             "solidity": 0.2
            },
            "type": "scatter"
           }
          ],
          "scatter3d": [
           {
            "line": {
             "colorbar": {
              "outlinewidth": 0,
              "ticks": ""
             }
            },
            "marker": {
             "colorbar": {
              "outlinewidth": 0,
              "ticks": ""
             }
            },
            "type": "scatter3d"
           }
          ],
          "scattercarpet": [
           {
            "marker": {
             "colorbar": {
              "outlinewidth": 0,
              "ticks": ""
             }
            },
            "type": "scattercarpet"
           }
          ],
          "scattergeo": [
           {
            "marker": {
             "colorbar": {
              "outlinewidth": 0,
              "ticks": ""
             }
            },
            "type": "scattergeo"
           }
          ],
          "scattergl": [
           {
            "marker": {
             "colorbar": {
              "outlinewidth": 0,
              "ticks": ""
             }
            },
            "type": "scattergl"
           }
          ],
          "scattermapbox": [
           {
            "marker": {
             "colorbar": {
              "outlinewidth": 0,
              "ticks": ""
             }
            },
            "type": "scattermapbox"
           }
          ],
          "scatterpolar": [
           {
            "marker": {
             "colorbar": {
              "outlinewidth": 0,
              "ticks": ""
             }
            },
            "type": "scatterpolar"
           }
          ],
          "scatterpolargl": [
           {
            "marker": {
             "colorbar": {
              "outlinewidth": 0,
              "ticks": ""
             }
            },
            "type": "scatterpolargl"
           }
          ],
          "scatterternary": [
           {
            "marker": {
             "colorbar": {
              "outlinewidth": 0,
              "ticks": ""
             }
            },
            "type": "scatterternary"
           }
          ],
          "surface": [
           {
            "colorbar": {
             "outlinewidth": 0,
             "ticks": ""
            },
            "colorscale": [
             [
              0,
              "#0d0887"
             ],
             [
              0.1111111111111111,
              "#46039f"
             ],
             [
              0.2222222222222222,
              "#7201a8"
             ],
             [
              0.3333333333333333,
              "#9c179e"
             ],
             [
              0.4444444444444444,
              "#bd3786"
             ],
             [
              0.5555555555555556,
              "#d8576b"
             ],
             [
              0.6666666666666666,
              "#ed7953"
             ],
             [
              0.7777777777777778,
              "#fb9f3a"
             ],
             [
              0.8888888888888888,
              "#fdca26"
             ],
             [
              1,
              "#f0f921"
             ]
            ],
            "type": "surface"
           }
          ],
          "table": [
           {
            "cells": {
             "fill": {
              "color": "#EBF0F8"
             },
             "line": {
              "color": "white"
             }
            },
            "header": {
             "fill": {
              "color": "#C8D4E3"
             },
             "line": {
              "color": "white"
             }
            },
            "type": "table"
           }
          ]
         },
         "layout": {
          "annotationdefaults": {
           "arrowcolor": "#2a3f5f",
           "arrowhead": 0,
           "arrowwidth": 1
          },
          "autotypenumbers": "strict",
          "coloraxis": {
           "colorbar": {
            "outlinewidth": 0,
            "ticks": ""
           }
          },
          "colorscale": {
           "diverging": [
            [
             0,
             "#8e0152"
            ],
            [
             0.1,
             "#c51b7d"
            ],
            [
             0.2,
             "#de77ae"
            ],
            [
             0.3,
             "#f1b6da"
            ],
            [
             0.4,
             "#fde0ef"
            ],
            [
             0.5,
             "#f7f7f7"
            ],
            [
             0.6,
             "#e6f5d0"
            ],
            [
             0.7,
             "#b8e186"
            ],
            [
             0.8,
             "#7fbc41"
            ],
            [
             0.9,
             "#4d9221"
            ],
            [
             1,
             "#276419"
            ]
           ],
           "sequential": [
            [
             0,
             "#0d0887"
            ],
            [
             0.1111111111111111,
             "#46039f"
            ],
            [
             0.2222222222222222,
             "#7201a8"
            ],
            [
             0.3333333333333333,
             "#9c179e"
            ],
            [
             0.4444444444444444,
             "#bd3786"
            ],
            [
             0.5555555555555556,
             "#d8576b"
            ],
            [
             0.6666666666666666,
             "#ed7953"
            ],
            [
             0.7777777777777778,
             "#fb9f3a"
            ],
            [
             0.8888888888888888,
             "#fdca26"
            ],
            [
             1,
             "#f0f921"
            ]
           ],
           "sequentialminus": [
            [
             0,
             "#0d0887"
            ],
            [
             0.1111111111111111,
             "#46039f"
            ],
            [
             0.2222222222222222,
             "#7201a8"
            ],
            [
             0.3333333333333333,
             "#9c179e"
            ],
            [
             0.4444444444444444,
             "#bd3786"
            ],
            [
             0.5555555555555556,
             "#d8576b"
            ],
            [
             0.6666666666666666,
             "#ed7953"
            ],
            [
             0.7777777777777778,
             "#fb9f3a"
            ],
            [
             0.8888888888888888,
             "#fdca26"
            ],
            [
             1,
             "#f0f921"
            ]
           ]
          },
          "colorway": [
           "#636efa",
           "#EF553B",
           "#00cc96",
           "#ab63fa",
           "#FFA15A",
           "#19d3f3",
           "#FF6692",
           "#B6E880",
           "#FF97FF",
           "#FECB52"
          ],
          "font": {
           "color": "#2a3f5f"
          },
          "geo": {
           "bgcolor": "white",
           "lakecolor": "white",
           "landcolor": "#E5ECF6",
           "showlakes": true,
           "showland": true,
           "subunitcolor": "white"
          },
          "hoverlabel": {
           "align": "left"
          },
          "hovermode": "closest",
          "mapbox": {
           "style": "light"
          },
          "paper_bgcolor": "white",
          "plot_bgcolor": "#E5ECF6",
          "polar": {
           "angularaxis": {
            "gridcolor": "white",
            "linecolor": "white",
            "ticks": ""
           },
           "bgcolor": "#E5ECF6",
           "radialaxis": {
            "gridcolor": "white",
            "linecolor": "white",
            "ticks": ""
           }
          },
          "scene": {
           "xaxis": {
            "backgroundcolor": "#E5ECF6",
            "gridcolor": "white",
            "gridwidth": 2,
            "linecolor": "white",
            "showbackground": true,
            "ticks": "",
            "zerolinecolor": "white"
           },
           "yaxis": {
            "backgroundcolor": "#E5ECF6",
            "gridcolor": "white",
            "gridwidth": 2,
            "linecolor": "white",
            "showbackground": true,
            "ticks": "",
            "zerolinecolor": "white"
           },
           "zaxis": {
            "backgroundcolor": "#E5ECF6",
            "gridcolor": "white",
            "gridwidth": 2,
            "linecolor": "white",
            "showbackground": true,
            "ticks": "",
            "zerolinecolor": "white"
           }
          },
          "shapedefaults": {
           "line": {
            "color": "#2a3f5f"
           }
          },
          "ternary": {
           "aaxis": {
            "gridcolor": "white",
            "linecolor": "white",
            "ticks": ""
           },
           "baxis": {
            "gridcolor": "white",
            "linecolor": "white",
            "ticks": ""
           },
           "bgcolor": "#E5ECF6",
           "caxis": {
            "gridcolor": "white",
            "linecolor": "white",
            "ticks": ""
           }
          },
          "title": {
           "x": 0.05
          },
          "xaxis": {
           "automargin": true,
           "gridcolor": "white",
           "linecolor": "white",
           "ticks": "",
           "title": {
            "standoff": 15
           },
           "zerolinecolor": "white",
           "zerolinewidth": 2
          },
          "yaxis": {
           "automargin": true,
           "gridcolor": "white",
           "linecolor": "white",
           "ticks": "",
           "title": {
            "standoff": 15
           },
           "zerolinecolor": "white",
           "zerolinewidth": 2
          }
         }
        },
        "title": {
         "text": "Nombre de patients sains (0) et atteints (1) par dataset"
        },
        "xaxis": {
         "anchor": "y",
         "autorange": true,
         "domain": [
          0,
          1
         ],
         "range": [
          -0.5,
          1.5
         ],
         "title": {
          "text": "Dataset"
         },
         "type": "category"
        },
        "yaxis": {
         "anchor": "x",
         "autorange": true,
         "domain": [
          0,
          1
         ],
         "range": [
          0,
          273.6842105263158
         ],
         "title": {
          "text": "Nombre de patients"
         },
         "type": "linear"
        }
       }
      },
      "image/png": "[encoded data removed]",
      "text/html": [
       "<div>                            <div id=\"95f296c7-224b-46ef-b622-f72e35de8b78\" class=\"plotly-graph-div\" style=\"height:525px; width:100%;\"></div>            <script type=\"text/javascript\">                require([\"plotly\"], function(Plotly) {                    window.PLOTLYENV=window.PLOTLYENV || {};                                    if (document.getElementById(\"95f296c7-224b-46ef-b622-f72e35de8b78\")) {                    Plotly.newPlot(                        \"95f296c7-224b-46ef-b622-f72e35de8b78\",                        [{\"alignmentgroup\":\"True\",\"hovertemplate\":\"diagnostic=0<br>Dataset=%{x}<br>Nombre de patients=%{y}<extra></extra>\",\"legendgroup\":\"0\",\"marker\":{\"color\":\"#636efa\",\"pattern\":{\"shape\":\"\"}},\"name\":\"0\",\"offsetgroup\":\"0\",\"orientation\":\"v\",\"showlegend\":true,\"textposition\":\"auto\",\"x\":[\"ALL_IDB1\",\"ALL_IDB2\"],\"xaxis\":\"x\",\"y\":[59,130],\"yaxis\":\"y\",\"type\":\"bar\"},{\"alignmentgroup\":\"True\",\"hovertemplate\":\"diagnostic=1<br>Dataset=%{x}<br>Nombre de patients=%{y}<extra></extra>\",\"legendgroup\":\"1\",\"marker\":{\"color\":\"#EF553B\",\"pattern\":{\"shape\":\"\"}},\"name\":\"1\",\"offsetgroup\":\"1\",\"orientation\":\"v\",\"showlegend\":true,\"textposition\":\"auto\",\"x\":[\"ALL_IDB1\",\"ALL_IDB2\"],\"xaxis\":\"x\",\"y\":[49,130],\"yaxis\":\"y\",\"type\":\"bar\"}],                        {\"template\":{\"data\":{\"histogram2dcontour\":[{\"type\":\"histogram2dcontour\",\"colorbar\":{\"outlinewidth\":0,\"ticks\":\"\"},\"colorscale\":[[0.0,\"#0d0887\"],[0.1111111111111111,\"#46039f\"],[0.2222222222222222,\"#7201a8\"],[0.3333333333333333,\"#9c179e\"],[0.4444444444444444,\"#bd3786\"],[0.5555555555555556,\"#d8576b\"],[0.6666666666666666,\"#ed7953\"],[0.7777777777777778,\"#fb9f3a\"],[0.8888888888888888,\"#fdca26\"],[1.0,\"#f0f921\"]]}],\"choropleth\":[{\"type\":\"choropleth\",\"colorbar\":{\"outlinewidth\":0,\"ticks\":\"\"}}],\"histogram2d\":[{\"type\":\"histogram2d\",\"colorbar\":{\"outlinewidth\":0,\"ticks\":\"\"},\"colorscale\":[[0.0,\"#0d0887\"],[0.1111111111111111,\"#46039f\"],[0.2222222222222222,\"#7201a8\"],[0.3333333333333333,\"#9c179e\"],[0.4444444444444444,\"#bd3786\"],[0.5555555555555556,\"#d8576b\"],[0.6666666666666666,\"#ed7953\"],[0.7777777777777778,\"#fb9f3a\"],[0.8888888888888888,\"#fdca26\"],[1.0,\"#f0f921\"]]}],\"heatmap\":[{\"type\":\"heatmap\",\"colorbar\":{\"outlinewidth\":0,\"ticks\":\"\"},\"colorscale\":[[0.0,\"#0d0887\"],[0.1111111111111111,\"#46039f\"],[0.2222222222222222,\"#7201a8\"],[0.3333333333333333,\"#9c179e\"],[0.4444444444444444,\"#bd3786\"],[0.5555555555555556,\"#d8576b\"],[0.6666666666666666,\"#ed7953\"],[0.7777777777777778,\"#fb9f3a\"],[0.8888888888888888,\"#fdca26\"],[1.0,\"#f0f921\"]]}],\"heatmapgl\":[{\"type\":\"heatmapgl\",\"colorbar\":{\"outlinewidth\":0,\"ticks\":\"\"},\"colorscale\":[[0.0,\"#0d0887\"],[0.1111111111111111,\"#46039f\"],[0.2222222222222222,\"#7201a8\"],[0.3333333333333333,\"#9c179e\"],[0.4444444444444444,\"#bd3786\"],[0.5555555555555556,\"#d8576b\"],[0.6666666666666666,\"#ed7953\"],[0.7777777777777778,\"#fb9f3a\"],[0.8888888888888888,\"#fdca26\"],[1.0,\"#f0f921\"]]}],\"contourcarpet\":[{\"type\":\"contourcarpet\",\"colorbar\":{\"outlinewidth\":0,\"ticks\":\"\"}}],\"contour\":[{\"type\":\"contour\",\"colorbar\":{\"outlinewidth\":0,\"ticks\":\"\"},\"colorscale\":[[0.0,\"#0d0887\"],[0.1111111111111111,\"#46039f\"],[0.2222222222222222,\"#7201a8\"],[0.3333333333333333,\"#9c179e\"],[0.4444444444444444,\"#bd3786\"],[0.5555555555555556,\"#d8576b\"],[0.6666666666666666,\"#ed7953\"],[0.7777777777777778,\"#fb9f3a\"],[0.8888888888888888,\"#fdca26\"],[1.0,\"#f0f921\"]]}],\"surface\":[{\"type\":\"surface\",\"colorbar\":{\"outlinewidth\":0,\"ticks\":\"\"},\"colorscale\":[[0.0,\"#0d0887\"],[0.1111111111111111,\"#46039f\"],[0.2222222222222222,\"#7201a8\"],[0.3333333333333333,\"#9c179e\"],[0.4444444444444444,\"#bd3786\"],[0.5555555555555556,\"#d8576b\"],[0.6666666666666666,\"#ed7953\"],[0.7777777777777778,\"#fb9f3a\"],[0.8888888888888888,\"#fdca26\"],[1.0,\"#f0f921\"]]}],\"mesh3d\":[{\"type\":\"mesh3d\",\"colorbar\":{\"outlinewidth\":0,\"ticks\":\"\"}}],\"scatter\":[{\"fillpattern\":{\"fillmode\":\"overlay\",\"size\":10,\"solidity\":0.2},\"type\":\"scatter\"}],\"parcoords\":[{\"type\":\"parcoords\",\"line\":{\"colorbar\":{\"outlinewidth\":0,\"ticks\":\"\"}}}],\"scatterpolargl\":[{\"type\":\"scatterpolargl\",\"marker\":{\"colorbar\":{\"outlinewidth\":0,\"ticks\":\"\"}}}],\"bar\":[{\"error_x\":{\"color\":\"#2a3f5f\"},\"error_y\":{\"color\":\"#2a3f5f\"},\"marker\":{\"line\":{\"color\":\"#E5ECF6\",\"width\":0.5},\"pattern\":{\"fillmode\":\"overlay\",\"size\":10,\"solidity\":0.2}},\"type\":\"bar\"}],\"scattergeo\":[{\"type\":\"scattergeo\",\"marker\":{\"colorbar\":{\"outlinewidth\":0,\"ticks\":\"\"}}}],\"scatterpolar\":[{\"type\":\"scatterpolar\",\"marker\":{\"colorbar\":{\"outlinewidth\":0,\"ticks\":\"\"}}}],\"histogram\":[{\"marker\":{\"pattern\":{\"fillmode\":\"overlay\",\"size\":10,\"solidity\":0.2}},\"type\":\"histogram\"}],\"scattergl\":[{\"type\":\"scattergl\",\"marker\":{\"colorbar\":{\"outlinewidth\":0,\"ticks\":\"\"}}}],\"scatter3d\":[{\"type\":\"scatter3d\",\"line\":{\"colorbar\":{\"outlinewidth\":0,\"ticks\":\"\"}},\"marker\":{\"colorbar\":{\"outlinewidth\":0,\"ticks\":\"\"}}}],\"scattermapbox\":[{\"type\":\"scattermapbox\",\"marker\":{\"colorbar\":{\"outlinewidth\":0,\"ticks\":\"\"}}}],\"scatterternary\":[{\"type\":\"scatterternary\",\"marker\":{\"colorbar\":{\"outlinewidth\":0,\"ticks\":\"\"}}}],\"scattercarpet\":[{\"type\":\"scattercarpet\",\"marker\":{\"colorbar\":{\"outlinewidth\":0,\"ticks\":\"\"}}}],\"carpet\":[{\"aaxis\":{\"endlinecolor\":\"#2a3f5f\",\"gridcolor\":\"white\",\"linecolor\":\"white\",\"minorgridcolor\":\"white\",\"startlinecolor\":\"#2a3f5f\"},\"baxis\":{\"endlinecolor\":\"#2a3f5f\",\"gridcolor\":\"white\",\"linecolor\":\"white\",\"minorgridcolor\":\"white\",\"startlinecolor\":\"#2a3f5f\"},\"type\":\"carpet\"}],\"table\":[{\"cells\":{\"fill\":{\"color\":\"#EBF0F8\"},\"line\":{\"color\":\"white\"}},\"header\":{\"fill\":{\"color\":\"#C8D4E3\"},\"line\":{\"color\":\"white\"}},\"type\":\"table\"}],\"barpolar\":[{\"marker\":{\"line\":{\"color\":\"#E5ECF6\",\"width\":0.5},\"pattern\":{\"fillmode\":\"overlay\",\"size\":10,\"solidity\":0.2}},\"type\":\"barpolar\"}],\"pie\":[{\"automargin\":true,\"type\":\"pie\"}]},\"layout\":{\"autotypenumbers\":\"strict\",\"colorway\":[\"#636efa\",\"#EF553B\",\"#00cc96\",\"#ab63fa\",\"#FFA15A\",\"#19d3f3\",\"#FF6692\",\"#B6E880\",\"#FF97FF\",\"#FECB52\"],\"font\":{\"color\":\"#2a3f5f\"},\"hovermode\":\"closest\",\"hoverlabel\":{\"align\":\"left\"},\"paper_bgcolor\":\"white\",\"plot_bgcolor\":\"#E5ECF6\",\"polar\":{\"bgcolor\":\"#E5ECF6\",\"angularaxis\":{\"gridcolor\":\"white\",\"linecolor\":\"white\",\"ticks\":\"\"},\"radialaxis\":{\"gridcolor\":\"white\",\"linecolor\":\"white\",\"ticks\":\"\"}},\"ternary\":{\"bgcolor\":\"#E5ECF6\",\"aaxis\":{\"gridcolor\":\"white\",\"linecolor\":\"white\",\"ticks\":\"\"},\"baxis\":{\"gridcolor\":\"white\",\"linecolor\":\"white\",\"ticks\":\"\"},\"caxis\":{\"gridcolor\":\"white\",\"linecolor\":\"white\",\"ticks\":\"\"}},\"coloraxis\":{\"colorbar\":{\"outlinewidth\":0,\"ticks\":\"\"}},\"colorscale\":{\"sequential\":[[0.0,\"#0d0887\"],[0.1111111111111111,\"#46039f\"],[0.2222222222222222,\"#7201a8\"],[0.3333333333333333,\"#9c179e\"],[0.4444444444444444,\"#bd3786\"],[0.5555555555555556,\"#d8576b\"],[0.6666666666666666,\"#ed7953\"],[0.7777777777777778,\"#fb9f3a\"],[0.8888888888888888,\"#fdca26\"],[1.0,\"#f0f921\"]],\"sequentialminus\":[[0.0,\"#0d0887\"],[0.1111111111111111,\"#46039f\"],[0.2222222222222222,\"#7201a8\"],[0.3333333333333333,\"#9c179e\"],[0.4444444444444444,\"#bd3786\"],[0.5555555555555556,\"#d8576b\"],[0.6666666666666666,\"#ed7953\"],[0.7777777777777778,\"#fb9f3a\"],[0.8888888888888888,\"#fdca26\"],[1.0,\"#f0f921\"]],\"diverging\":[[0,\"#8e0152\"],[0.1,\"#c51b7d\"],[0.2,\"#de77ae\"],[0.3,\"#f1b6da\"],[0.4,\"#fde0ef\"],[0.5,\"#f7f7f7\"],[0.6,\"#e6f5d0\"],[0.7,\"#b8e186\"],[0.8,\"#7fbc41\"],[0.9,\"#4d9221\"],[1,\"#276419\"]]},\"xaxis\":{\"gridcolor\":\"white\",\"linecolor\":\"white\",\"ticks\":\"\",\"title\":{\"standoff\":15},\"zerolinecolor\":\"white\",\"automargin\":true,\"zerolinewidth\":2},\"yaxis\":{\"gridcolor\":\"white\",\"linecolor\":\"white\",\"ticks\":\"\",\"title\":{\"standoff\":15},\"zerolinecolor\":\"white\",\"automargin\":true,\"zerolinewidth\":2},\"scene\":{\"xaxis\":{\"backgroundcolor\":\"#E5ECF6\",\"gridcolor\":\"white\",\"linecolor\":\"white\",\"showbackground\":true,\"ticks\":\"\",\"zerolinecolor\":\"white\",\"gridwidth\":2},\"yaxis\":{\"backgroundcolor\":\"#E5ECF6\",\"gridcolor\":\"white\",\"linecolor\":\"white\",\"showbackground\":true,\"ticks\":\"\",\"zerolinecolor\":\"white\",\"gridwidth\":2},\"zaxis\":{\"backgroundcolor\":\"#E5ECF6\",\"gridcolor\":\"white\",\"linecolor\":\"white\",\"showbackground\":true,\"ticks\":\"\",\"zerolinecolor\":\"white\",\"gridwidth\":2}},\"shapedefaults\":{\"line\":{\"color\":\"#2a3f5f\"}},\"annotationdefaults\":{\"arrowcolor\":\"#2a3f5f\",\"arrowhead\":0,\"arrowwidth\":1},\"geo\":{\"bgcolor\":\"white\",\"landcolor\":\"#E5ECF6\",\"subunitcolor\":\"white\",\"showland\":true,\"showlakes\":true,\"lakecolor\":\"white\"},\"title\":{\"x\":0.05},\"mapbox\":{\"style\":\"light\"}}},\"xaxis\":{\"anchor\":\"y\",\"domain\":[0.0,1.0],\"title\":{\"text\":\"Dataset\"}},\"yaxis\":{\"anchor\":\"x\",\"domain\":[0.0,1.0],\"title\":{\"text\":\"Nombre de patients\"}},\"legend\":{\"title\":{\"text\":\"diagnostic\"},\"tracegroupgap\":0},\"title\":{\"text\":\"Nombre de patients sains (0) et atteints (1) par dataset\"},\"barmode\":\"relative\"},                        {\"responsive\": true}                    ).then(function(){\n",
       "                            \n",
       "var gd = document.getElementById('95f296c7-224b-46ef-b622-f72e35de8b78');\n",
       "var x = new MutationObserver(function (mutations, observer) {{\n",
       "        var display = window.getComputedStyle(gd).display;\n",
       "        if (!display || display === 'none') {{\n",
       "            console.log([gd, 'removed!']);\n",
       "            Plotly.purge(gd);\n",
       "            observer.disconnect();\n",
       "        }}\n",
       "}});\n",
       "\n",
       "// Listen for the removal of the full notebook cells\n",
       "var notebookContainer = gd.closest('#notebook-container');\n",
       "if (notebookContainer) {{\n",
       "    x.observe(notebookContainer, {childList: true});\n",
       "}}\n",
       "\n",
       "// Listen for the clearing of the current output cell\n",
       "var outputEl = gd.closest('.output');\n",
       "if (outputEl) {{\n",
       "    x.observe(outputEl, {childList: true});\n",
       "}}\n",
       "\n",
       "                        })                };                });            </script>        </div>"
      ]
     },
     "metadata": {},
     "output_type": "display_data"
    }
   ],
   "source": [
    "import plotly.express as px\n",
    "\n",
    "# Regrouper les données par dataset et diagnostic, puis compter le nombre de patients\n",
    "grouped = df.groupby(['dataset', 'diagnostic']).size().reset_index(name='count')\n",
    "\n",
    "# Créer un graphique interactif en utilisant Plotly Express\n",
    "fig = px.bar(grouped, x='dataset', y='count', color='diagnostic',\n",
    "             labels={'dataset': 'Dataset', 'count': 'Nombre de patients'},\n",
    "             title=\"Nombre de patients sains (0) et atteints (1) par dataset\")\n",
    "fig.show()\n"
   ]
  },
  {
   "cell_type": "code",
   "execution_count": 106,
   "id": "65235ce5-1588-4907-a602-8051cb1b5f61",
   "metadata": {
    "tags": []
   },
   "outputs": [
    {
     "name": "stdout",
     "output_type": "stream",
     "text": [
      "Nombre d'occurences pour chaque valeur de 'width' :\n",
      " width\n",
      "257     257\n",
      "2592     74\n",
      "1712     33\n",
      "1226      1\n",
      "193       1\n",
      "196       1\n",
      "232       1\n",
      "Name: count, dtype: int64\n",
      "Nombre d'occurences pour chaque valeur de 'height' :\n",
      " height\n",
      "257     253\n",
      "1944     74\n",
      "1368     33\n",
      "253       2\n",
      "652       1\n",
      "256       1\n",
      "235       1\n",
      "232       1\n",
      "220       1\n",
      "214       1\n",
      "Name: count, dtype: int64\n"
     ]
    }
   ],
   "source": [
    "print(\"Nombre d'occurences pour chaque valeur de 'width' :\\n\", df['width'].value_counts())\n",
    "print(\"Nombre d'occurences pour chaque valeur de 'height' :\\n\", df['height'].value_counts())"
   ]
  },
  {
   "cell_type": "code",
   "execution_count": 129,
   "id": "29ccbb34-a559-4c7c-81fd-47dda3244a1f",
   "metadata": {
    "tags": []
   },
   "outputs": [
    {
     "data": {
      "application/vnd.plotly.v1+json": {
       "config": {
        "plotlyServerURL": "https://plot.ly"
       },
       "data": [
        {
         "hovertemplate": "dataset=ALL_IDB1<br>width=%{x}<br>index=%{y}<extra></extra>",
         "legendgroup": "ALL_IDB1",
         "marker": {
          "color": "#636efa",
          "symbol": "circle"
         },
         "mode": "markers",
         "name": "ALL_IDB1",
         "orientation": "h",
         "showlegend": true,
         "type": "scatter",
         "x": [
          1712,
          1712,
          1712,
          1712,
          1712,
          1712,
          1712,
          1712,
          1712,
          1712,
          1712,
          1712,
          1712,
          1712,
          1712,
          1712,
          1712,
          1712,
          1712,
          1712,
          1712,
          1712,
          1712,
          1712,
          1712,
          1712,
          1712,
          1712,
          1712,
          1712,
          1712,
          1712,
          1712,
          2592,
          2592,
          2592,
          1226,
          2592,
          2592,
          2592,
          2592,
          2592,
          2592,
          2592,
          2592,
          2592,
          2592,
          2592,
          2592,
          2592,
          2592,
          2592,
          2592,
          2592,
          2592,
          2592,
          2592,
          2592,
          2592,
          2592,
          2592,
          2592,
          2592,
          2592,
          2592,
          2592,
          2592,
          2592,
          2592,
          2592,
          2592,
          2592,
          2592,
          2592,
          2592,
          2592,
          2592,
          2592,
          2592,
          2592,
          2592,
          2592,
          2592,
          2592,
          2592,
          2592,
          2592,
          2592,
          2592,
          2592,
          2592,
          2592,
          2592,
          2592,
          2592,
          2592,
          2592,
          2592,
          2592,
          2592,
          2592,
          2592,
          2592,
          2592,
          2592,
          2592,
          2592,
          2592
         ],
         "xaxis": "x",
         "y": [
          0,
          1,
          2,
          3,
          4,
          5,
          6,
          7,
          8,
          9,
          10,
          11,
          12,
          13,
          14,
          15,
          16,
          17,
          18,
          19,
          20,
          21,
          22,
          23,
          24,
          25,
          26,
          27,
          28,
          29,
          30,
          31,
          32,
          33,
          34,
          35,
          36,
          37,
          38,
          39,
          40,
          41,
          42,
          43,
          44,
          45,
          46,
          47,
          48,
          49,
          50,
          51,
          52,
          53,
          54,
          55,
          56,
          57,
          58,
          59,
          60,
          61,
          62,
          63,
          64,
          65,
          66,
          67,
          68,
          69,
          70,
          71,
          72,
          73,
          74,
          75,
          76,
          77,
          78,
          79,
          80,
          81,
          82,
          83,
          84,
          85,
          86,
          87,
          88,
          89,
          90,
          91,
          92,
          93,
          94,
          95,
          96,
          97,
          98,
          99,
          100,
          101,
          102,
          103,
          104,
          105,
          106,
          107
         ],
         "yaxis": "y"
        },
        {
         "hovertemplate": "dataset=ALL_IDB2<br>width=%{x}<br>index=%{y}<extra></extra>",
         "legendgroup": "ALL_IDB2",
         "marker": {
          "color": "#EF553B",
          "symbol": "circle"
         },
         "mode": "markers",
         "name": "ALL_IDB2",
         "orientation": "h",
         "showlegend": true,
         "type": "scatter",
         "x": [
          257,
          257,
          257,
          257,
          257,
          257,
          257,
          257,
          257,
          257,
          257,
          257,
          257,
          257,
          257,
          257,
          257,
          257,
          257,
          257,
          257,
          257,
          257,
          257,
          257,
          257,
          257,
          257,
          257,
          257,
          257,
          257,
          257,
          257,
          257,
          257,
          257,
          257,
          257,
          257,
          257,
          257,
          257,
          257,
          257,
          257,
          257,
          257,
          257,
          257,
          257,
          257,
          257,
          257,
          257,
          257,
          257,
          257,
          257,
          257,
          257,
          257,
          257,
          257,
          257,
          257,
          257,
          257,
          257,
          257,
          257,
          257,
          257,
          257,
          257,
          257,
          257,
          257,
          257,
          257,
          257,
          257,
          257,
          257,
          257,
          257,
          257,
          257,
          257,
          257,
          257,
          257,
          257,
          257,
          257,
          257,
          257,
          257,
          257,
          257,
          257,
          257,
          257,
          257,
          257,
          257,
          257,
          257,
          257,
          257,
          257,
          257,
          257,
          257,
          257,
          257,
          257,
          257,
          257,
          257,
          257,
          257,
          257,
          257,
          257,
          257,
          257,
          257,
          257,
          257,
          257,
          257,
          257,
          257,
          257,
          257,
          257,
          257,
          257,
          257,
          257,
          257,
          257,
          257,
          257,
          257,
          257,
          257,
          257,
          257,
          257,
          257,
          257,
          257,
          257,
          257,
          257,
          257,
          257,
          257,
          257,
          257,
          257,
          257,
          257,
          257,
          257,
          257,
          257,
          257,
          257,
          257,
          257,
          257,
          257,
          257,
          257,
          257,
          257,
          257,
          257,
          257,
          257,
          257,
          257,
          257,
          257,
          257,
          257,
          257,
          257,
          257,
          257,
          257,
          257,
          257,
          257,
          257,
          257,
          257,
          257,
          257,
          257,
          257,
          257,
          257,
          257,
          257,
          257,
          257,
          257,
          257,
          257,
          257,
          257,
          257,
          257,
          257,
          257,
          257,
          193,
          257,
          257,
          257,
          257,
          257,
          257,
          257,
          257,
          257,
          257,
          257,
          196,
          257,
          257,
          257,
          257,
          257,
          257,
          257,
          257,
          257,
          257,
          257,
          257,
          257,
          257,
          257,
          257,
          257,
          232,
          257,
          257,
          257,
          257,
          257,
          257,
          257,
          257,
          257
         ],
         "xaxis": "x",
         "y": [
          108,
          109,
          110,
          111,
          112,
          113,
          114,
          115,
          116,
          117,
          118,
          119,
          120,
          121,
          122,
          123,
          124,
          125,
          126,
          127,
          128,
          129,
          130,
          131,
          132,
          133,
          134,
          135,
          136,
          137,
          138,
          139,
          140,
          141,
          142,
          143,
          144,
          145,
          146,
          147,
          148,
          149,
          150,
          151,
          152,
          153,
          154,
          155,
          156,
          157,
          158,
          159,
          160,
          161,
          162,
          163,
          164,
          165,
          166,
          167,
          168,
          169,
          170,
          171,
          172,
          173,
          174,
          175,
          176,
          177,
          178,
          179,
          180,
          181,
          182,
          183,
          184,
          185,
          186,
          187,
          188,
          189,
          190,
          191,
          192,
          193,
          194,
          195,
          196,
          197,
          198,
          199,
          200,
          201,
          202,
          203,
          204,
          205,
          206,
          207,
          208,
          209,
          210,
          211,
          212,
          213,
          214,
          215,
          216,
          217,
          218,
          219,
          220,
          221,
          222,
          223,
          224,
          225,
          226,
          227,
          228,
          229,
          230,
          231,
          232,
          233,
          234,
          235,
          236,
          237,
          238,
          239,
          240,
          241,
          242,
          243,
          244,
          245,
          246,
          247,
          248,
          249,
          250,
          251,
          252,
          253,
          254,
          255,
          256,
          257,
          258,
          259,
          260,
          261,
          262,
          263,
          264,
          265,
          266,
          267,
          268,
          269,
          270,
          271,
          272,
          273,
          274,
          275,
          276,
          277,
          278,
          279,
          280,
          281,
          282,
          283,
          284,
          285,
          286,
          287,
          288,
          289,
          290,
          291,
          292,
          293,
          294,
          295,
          296,
          297,
          298,
          299,
          300,
          301,
          302,
          303,
          304,
          305,
          306,
          307,
          308,
          309,
          310,
          311,
          312,
          313,
          314,
          315,
          316,
          317,
          318,
          319,
          320,
          321,
          322,
          323,
          324,
          325,
          326,
          327,
          328,
          329,
          330,
          331,
          332,
          333,
          334,
          335,
          336,
          337,
          338,
          339,
          340,
          341,
          342,
          343,
          344,
          345,
          346,
          347,
          348,
          349,
          350,
          351,
          352,
          353,
          354,
          355,
          356,
          357,
          358,
          359,
          360,
          361,
          362,
          363,
          364,
          365,
          366,
          367
         ],
         "yaxis": "y"
        }
       ],
       "layout": {
        "height": 500,
        "legend": {
         "title": {
          "text": "dataset"
         },
         "tracegroupgap": 0
        },
        "template": {
         "data": {
          "bar": [
           {
            "error_x": {
             "color": "#2a3f5f"
            },
            "error_y": {
             "color": "#2a3f5f"
            },
            "marker": {
             "line": {
              "color": "#E5ECF6",
              "width": 0.5
             },
             "pattern": {
              "fillmode": "overlay",
              "size": 10,
              "solidity": 0.2
             }
            },
            "type": "bar"
           }
          ],
          "barpolar": [
           {
            "marker": {
             "line": {
              "color": "#E5ECF6",
              "width": 0.5
             },
             "pattern": {
              "fillmode": "overlay",
              "size": 10,
              "solidity": 0.2
             }
            },
            "type": "barpolar"
           }
          ],
          "carpet": [
           {
            "aaxis": {
             "endlinecolor": "#2a3f5f",
             "gridcolor": "white",
             "linecolor": "white",
             "minorgridcolor": "white",
             "startlinecolor": "#2a3f5f"
            },
            "baxis": {
             "endlinecolor": "#2a3f5f",
             "gridcolor": "white",
             "linecolor": "white",
             "minorgridcolor": "white",
             "startlinecolor": "#2a3f5f"
            },
            "type": "carpet"
           }
          ],
          "choropleth": [
           {
            "colorbar": {
             "outlinewidth": 0,
             "ticks": ""
            },
            "type": "choropleth"
           }
          ],
          "contour": [
           {
            "colorbar": {
             "outlinewidth": 0,
             "ticks": ""
            },
            "colorscale": [
             [
              0,
              "#0d0887"
             ],
             [
              0.1111111111111111,
              "#46039f"
             ],
             [
              0.2222222222222222,
              "#7201a8"
             ],
             [
              0.3333333333333333,
              "#9c179e"
             ],
             [
              0.4444444444444444,
              "#bd3786"
             ],
             [
              0.5555555555555556,
              "#d8576b"
             ],
             [
              0.6666666666666666,
              "#ed7953"
             ],
             [
              0.7777777777777778,
              "#fb9f3a"
             ],
             [
              0.8888888888888888,
              "#fdca26"
             ],
             [
              1,
              "#f0f921"
             ]
            ],
            "type": "contour"
           }
          ],
          "contourcarpet": [
           {
            "colorbar": {
             "outlinewidth": 0,
             "ticks": ""
            },
            "type": "contourcarpet"
           }
          ],
          "heatmap": [
           {
            "colorbar": {
             "outlinewidth": 0,
             "ticks": ""
            },
            "colorscale": [
             [
              0,
              "#0d0887"
             ],
             [
              0.1111111111111111,
              "#46039f"
             ],
             [
              0.2222222222222222,
              "#7201a8"
             ],
             [
              0.3333333333333333,
              "#9c179e"
             ],
             [
              0.4444444444444444,
              "#bd3786"
             ],
             [
              0.5555555555555556,
              "#d8576b"
             ],
             [
              0.6666666666666666,
              "#ed7953"
             ],
             [
              0.7777777777777778,
              "#fb9f3a"
             ],
             [
              0.8888888888888888,
              "#fdca26"
             ],
             [
              1,
              "#f0f921"
             ]
            ],
            "type": "heatmap"
           }
          ],
          "heatmapgl": [
           {
            "colorbar": {
             "outlinewidth": 0,
             "ticks": ""
            },
            "colorscale": [
             [
              0,
              "#0d0887"
             ],
             [
              0.1111111111111111,
              "#46039f"
             ],
             [
              0.2222222222222222,
              "#7201a8"
             ],
             [
              0.3333333333333333,
              "#9c179e"
             ],
             [
              0.4444444444444444,
              "#bd3786"
             ],
             [
              0.5555555555555556,
              "#d8576b"
             ],
             [
              0.6666666666666666,
              "#ed7953"
             ],
             [
              0.7777777777777778,
              "#fb9f3a"
             ],
             [
              0.8888888888888888,
              "#fdca26"
             ],
             [
              1,
              "#f0f921"
             ]
            ],
            "type": "heatmapgl"
           }
          ],
          "histogram": [
           {
            "marker": {
             "pattern": {
              "fillmode": "overlay",
              "size": 10,
              "solidity": 0.2
             }
            },
            "type": "histogram"
           }
          ],
          "histogram2d": [
           {
            "colorbar": {
             "outlinewidth": 0,
             "ticks": ""
            },
            "colorscale": [
             [
              0,
              "#0d0887"
             ],
             [
              0.1111111111111111,
              "#46039f"
             ],
             [
              0.2222222222222222,
              "#7201a8"
             ],
             [
              0.3333333333333333,
              "#9c179e"
             ],
             [
              0.4444444444444444,
              "#bd3786"
             ],
             [
              0.5555555555555556,
              "#d8576b"
             ],
             [
              0.6666666666666666,
              "#ed7953"
             ],
             [
              0.7777777777777778,
              "#fb9f3a"
             ],
             [
              0.8888888888888888,
              "#fdca26"
             ],
             [
              1,
              "#f0f921"
             ]
            ],
            "type": "histogram2d"
           }
          ],
          "histogram2dcontour": [
           {
            "colorbar": {
             "outlinewidth": 0,
             "ticks": ""
            },
            "colorscale": [
             [
              0,
              "#0d0887"
             ],
             [
              0.1111111111111111,
              "#46039f"
             ],
             [
              0.2222222222222222,
              "#7201a8"
             ],
             [
              0.3333333333333333,
              "#9c179e"
             ],
             [
              0.4444444444444444,
              "#bd3786"
             ],
             [
              0.5555555555555556,
              "#d8576b"
             ],
             [
              0.6666666666666666,
              "#ed7953"
             ],
             [
              0.7777777777777778,
              "#fb9f3a"
             ],
             [
              0.8888888888888888,
              "#fdca26"
             ],
             [
              1,
              "#f0f921"
             ]
            ],
            "type": "histogram2dcontour"
           }
          ],
          "mesh3d": [
           {
            "colorbar": {
             "outlinewidth": 0,
             "ticks": ""
            },
            "type": "mesh3d"
           }
          ],
          "parcoords": [
           {
            "line": {
             "colorbar": {
              "outlinewidth": 0,
              "ticks": ""
             }
            },
            "type": "parcoords"
           }
          ],
          "pie": [
           {
            "automargin": true,
            "type": "pie"
           }
          ],
          "scatter": [
           {
            "fillpattern": {
             "fillmode": "overlay",
             "size": 10,
             "solidity": 0.2
            },
            "type": "scatter"
           }
          ],
          "scatter3d": [
           {
            "line": {
             "colorbar": {
              "outlinewidth": 0,
              "ticks": ""
             }
            },
            "marker": {
             "colorbar": {
              "outlinewidth": 0,
              "ticks": ""
             }
            },
            "type": "scatter3d"
           }
          ],
          "scattercarpet": [
           {
            "marker": {
             "colorbar": {
              "outlinewidth": 0,
              "ticks": ""
             }
            },
            "type": "scattercarpet"
           }
          ],
          "scattergeo": [
           {
            "marker": {
             "colorbar": {
              "outlinewidth": 0,
              "ticks": ""
             }
            },
            "type": "scattergeo"
           }
          ],
          "scattergl": [
           {
            "marker": {
             "colorbar": {
              "outlinewidth": 0,
              "ticks": ""
             }
            },
            "type": "scattergl"
           }
          ],
          "scattermapbox": [
           {
            "marker": {
             "colorbar": {
              "outlinewidth": 0,
              "ticks": ""
             }
            },
            "type": "scattermapbox"
           }
          ],
          "scatterpolar": [
           {
            "marker": {
             "colorbar": {
              "outlinewidth": 0,
              "ticks": ""
             }
            },
            "type": "scatterpolar"
           }
          ],
          "scatterpolargl": [
           {
            "marker": {
             "colorbar": {
              "outlinewidth": 0,
              "ticks": ""
             }
            },
            "type": "scatterpolargl"
           }
          ],
          "scatterternary": [
           {
            "marker": {
             "colorbar": {
              "outlinewidth": 0,
              "ticks": ""
             }
            },
            "type": "scatterternary"
           }
          ],
          "surface": [
           {
            "colorbar": {
             "outlinewidth": 0,
             "ticks": ""
            },
            "colorscale": [
             [
              0,
              "#0d0887"
             ],
             [
              0.1111111111111111,
              "#46039f"
             ],
             [
              0.2222222222222222,
              "#7201a8"
             ],
             [
              0.3333333333333333,
              "#9c179e"
             ],
             [
              0.4444444444444444,
              "#bd3786"
             ],
             [
              0.5555555555555556,
              "#d8576b"
             ],
             [
              0.6666666666666666,
              "#ed7953"
             ],
             [
              0.7777777777777778,
              "#fb9f3a"
             ],
             [
              0.8888888888888888,
              "#fdca26"
             ],
             [
              1,
              "#f0f921"
             ]
            ],
            "type": "surface"
           }
          ],
          "table": [
           {
            "cells": {
             "fill": {
              "color": "#EBF0F8"
             },
             "line": {
              "color": "white"
             }
            },
            "header": {
             "fill": {
              "color": "#C8D4E3"
             },
             "line": {
              "color": "white"
             }
            },
            "type": "table"
           }
          ]
         },
         "layout": {
          "annotationdefaults": {
           "arrowcolor": "#2a3f5f",
           "arrowhead": 0,
           "arrowwidth": 1
          },
          "autotypenumbers": "strict",
          "coloraxis": {
           "colorbar": {
            "outlinewidth": 0,
            "ticks": ""
           }
          },
          "colorscale": {
           "diverging": [
            [
             0,
             "#8e0152"
            ],
            [
             0.1,
             "#c51b7d"
            ],
            [
             0.2,
             "#de77ae"
            ],
            [
             0.3,
             "#f1b6da"
            ],
            [
             0.4,
             "#fde0ef"
            ],
            [
             0.5,
             "#f7f7f7"
            ],
            [
             0.6,
             "#e6f5d0"
            ],
            [
             0.7,
             "#b8e186"
            ],
            [
             0.8,
             "#7fbc41"
            ],
            [
             0.9,
             "#4d9221"
            ],
            [
             1,
             "#276419"
            ]
           ],
           "sequential": [
            [
             0,
             "#0d0887"
            ],
            [
             0.1111111111111111,
             "#46039f"
            ],
            [
             0.2222222222222222,
             "#7201a8"
            ],
            [
             0.3333333333333333,
             "#9c179e"
            ],
            [
             0.4444444444444444,
             "#bd3786"
            ],
            [
             0.5555555555555556,
             "#d8576b"
            ],
            [
             0.6666666666666666,
             "#ed7953"
            ],
            [
             0.7777777777777778,
             "#fb9f3a"
            ],
            [
             0.8888888888888888,
             "#fdca26"
            ],
            [
             1,
             "#f0f921"
            ]
           ],
           "sequentialminus": [
            [
             0,
             "#0d0887"
            ],
            [
             0.1111111111111111,
             "#46039f"
            ],
            [
             0.2222222222222222,
             "#7201a8"
            ],
            [
             0.3333333333333333,
             "#9c179e"
            ],
            [
             0.4444444444444444,
             "#bd3786"
            ],
            [
             0.5555555555555556,
             "#d8576b"
            ],
            [
             0.6666666666666666,
             "#ed7953"
            ],
            [
             0.7777777777777778,
             "#fb9f3a"
            ],
            [
             0.8888888888888888,
             "#fdca26"
            ],
            [
             1,
             "#f0f921"
            ]
           ]
          },
          "colorway": [
           "#636efa",
           "#EF553B",
           "#00cc96",
           "#ab63fa",
           "#FFA15A",
           "#19d3f3",
           "#FF6692",
           "#B6E880",
           "#FF97FF",
           "#FECB52"
          ],
          "font": {
           "color": "#2a3f5f"
          },
          "geo": {
           "bgcolor": "white",
           "lakecolor": "white",
           "landcolor": "#E5ECF6",
           "showlakes": true,
           "showland": true,
           "subunitcolor": "white"
          },
          "hoverlabel": {
           "align": "left"
          },
          "hovermode": "closest",
          "mapbox": {
           "style": "light"
          },
          "paper_bgcolor": "white",
          "plot_bgcolor": "#E5ECF6",
          "polar": {
           "angularaxis": {
            "gridcolor": "white",
            "linecolor": "white",
            "ticks": ""
           },
           "bgcolor": "#E5ECF6",
           "radialaxis": {
            "gridcolor": "white",
            "linecolor": "white",
            "ticks": ""
           }
          },
          "scene": {
           "xaxis": {
            "backgroundcolor": "#E5ECF6",
            "gridcolor": "white",
            "gridwidth": 2,
            "linecolor": "white",
            "showbackground": true,
            "ticks": "",
            "zerolinecolor": "white"
           },
           "yaxis": {
            "backgroundcolor": "#E5ECF6",
            "gridcolor": "white",
            "gridwidth": 2,
            "linecolor": "white",
            "showbackground": true,
            "ticks": "",
            "zerolinecolor": "white"
           },
           "zaxis": {
            "backgroundcolor": "#E5ECF6",
            "gridcolor": "white",
            "gridwidth": 2,
            "linecolor": "white",
            "showbackground": true,
            "ticks": "",
            "zerolinecolor": "white"
           }
          },
          "shapedefaults": {
           "line": {
            "color": "#2a3f5f"
           }
          },
          "ternary": {
           "aaxis": {
            "gridcolor": "white",
            "linecolor": "white",
            "ticks": ""
           },
           "baxis": {
            "gridcolor": "white",
            "linecolor": "white",
            "ticks": ""
           },
           "bgcolor": "#E5ECF6",
           "caxis": {
            "gridcolor": "white",
            "linecolor": "white",
            "ticks": ""
           }
          },
          "title": {
           "x": 0.05
          },
          "xaxis": {
           "automargin": true,
           "gridcolor": "white",
           "linecolor": "white",
           "ticks": "",
           "title": {
            "standoff": 15
           },
           "zerolinecolor": "white",
           "zerolinewidth": 2
          },
          "yaxis": {
           "automargin": true,
           "gridcolor": "white",
           "linecolor": "white",
           "ticks": "",
           "title": {
            "standoff": 15
           },
           "zerolinecolor": "white",
           "zerolinewidth": 2
          }
         }
        },
        "title": {
         "text": "Répartition des largeurs des images par dataset"
        },
        "width": 500,
        "xaxis": {
         "anchor": "y",
         "autorange": true,
         "domain": [
          0,
          1
         ],
         "range": [
          21.113364233294675,
          2763.8866357667052
         ],
         "title": {
          "text": "width"
         },
         "type": "linear"
        },
        "yaxis": {
         "anchor": "x",
         "autorange": true,
         "domain": [
          0,
          1
         ],
         "range": [
          -25.840463458110516,
          392.8404634581105
         ],
         "title": {
          "text": "index"
         },
         "type": "linear"
        }
       }
      },
      "image/png": "[encoded data removed]",
      "text/html": [
       "<div>                            <div id=\"6bc1ad40-ba4c-4555-ae49-2bec5c55ae9a\" class=\"plotly-graph-div\" style=\"height:500px; width:500px;\"></div>            <script type=\"text/javascript\">                require([\"plotly\"], function(Plotly) {                    window.PLOTLYENV=window.PLOTLYENV || {};                                    if (document.getElementById(\"6bc1ad40-ba4c-4555-ae49-2bec5c55ae9a\")) {                    Plotly.newPlot(                        \"6bc1ad40-ba4c-4555-ae49-2bec5c55ae9a\",                        [{\"hovertemplate\":\"dataset=ALL_IDB1<br>width=%{x}<br>index=%{y}<extra></extra>\",\"legendgroup\":\"ALL_IDB1\",\"marker\":{\"color\":\"#636efa\",\"symbol\":\"circle\"},\"mode\":\"markers\",\"name\":\"ALL_IDB1\",\"orientation\":\"h\",\"showlegend\":true,\"x\":[1712,1712,1712,1712,1712,1712,1712,1712,1712,1712,1712,1712,1712,1712,1712,1712,1712,1712,1712,1712,1712,1712,1712,1712,1712,1712,1712,1712,1712,1712,1712,1712,1712,2592,2592,2592,1226,2592,2592,2592,2592,2592,2592,2592,2592,2592,2592,2592,2592,2592,2592,2592,2592,2592,2592,2592,2592,2592,2592,2592,2592,2592,2592,2592,2592,2592,2592,2592,2592,2592,2592,2592,2592,2592,2592,2592,2592,2592,2592,2592,2592,2592,2592,2592,2592,2592,2592,2592,2592,2592,2592,2592,2592,2592,2592,2592,2592,2592,2592,2592,2592,2592,2592,2592,2592,2592,2592,2592],\"xaxis\":\"x\",\"y\":[0,1,2,3,4,5,6,7,8,9,10,11,12,13,14,15,16,17,18,19,20,21,22,23,24,25,26,27,28,29,30,31,32,33,34,35,36,37,38,39,40,41,42,43,44,45,46,47,48,49,50,51,52,53,54,55,56,57,58,59,60,61,62,63,64,65,66,67,68,69,70,71,72,73,74,75,76,77,78,79,80,81,82,83,84,85,86,87,88,89,90,91,92,93,94,95,96,97,98,99,100,101,102,103,104,105,106,107],\"yaxis\":\"y\",\"type\":\"scatter\"},{\"hovertemplate\":\"dataset=ALL_IDB2<br>width=%{x}<br>index=%{y}<extra></extra>\",\"legendgroup\":\"ALL_IDB2\",\"marker\":{\"color\":\"#EF553B\",\"symbol\":\"circle\"},\"mode\":\"markers\",\"name\":\"ALL_IDB2\",\"orientation\":\"h\",\"showlegend\":true,\"x\":[257,257,257,257,257,257,257,257,257,257,257,257,257,257,257,257,257,257,257,257,257,257,257,257,257,257,257,257,257,257,257,257,257,257,257,257,257,257,257,257,257,257,257,257,257,257,257,257,257,257,257,257,257,257,257,257,257,257,257,257,257,257,257,257,257,257,257,257,257,257,257,257,257,257,257,257,257,257,257,257,257,257,257,257,257,257,257,257,257,257,257,257,257,257,257,257,257,257,257,257,257,257,257,257,257,257,257,257,257,257,257,257,257,257,257,257,257,257,257,257,257,257,257,257,257,257,257,257,257,257,257,257,257,257,257,257,257,257,257,257,257,257,257,257,257,257,257,257,257,257,257,257,257,257,257,257,257,257,257,257,257,257,257,257,257,257,257,257,257,257,257,257,257,257,257,257,257,257,257,257,257,257,257,257,257,257,257,257,257,257,257,257,257,257,257,257,257,257,257,257,257,257,257,257,257,257,257,257,257,257,257,257,257,257,257,257,257,257,257,257,193,257,257,257,257,257,257,257,257,257,257,257,196,257,257,257,257,257,257,257,257,257,257,257,257,257,257,257,257,257,232,257,257,257,257,257,257,257,257,257],\"xaxis\":\"x\",\"y\":[108,109,110,111,112,113,114,115,116,117,118,119,120,121,122,123,124,125,126,127,128,129,130,131,132,133,134,135,136,137,138,139,140,141,142,143,144,145,146,147,148,149,150,151,152,153,154,155,156,157,158,159,160,161,162,163,164,165,166,167,168,169,170,171,172,173,174,175,176,177,178,179,180,181,182,183,184,185,186,187,188,189,190,191,192,193,194,195,196,197,198,199,200,201,202,203,204,205,206,207,208,209,210,211,212,213,214,215,216,217,218,219,220,221,222,223,224,225,226,227,228,229,230,231,232,233,234,235,236,237,238,239,240,241,242,243,244,245,246,247,248,249,250,251,252,253,254,255,256,257,258,259,260,261,262,263,264,265,266,267,268,269,270,271,272,273,274,275,276,277,278,279,280,281,282,283,284,285,286,287,288,289,290,291,292,293,294,295,296,297,298,299,300,301,302,303,304,305,306,307,308,309,310,311,312,313,314,315,316,317,318,319,320,321,322,323,324,325,326,327,328,329,330,331,332,333,334,335,336,337,338,339,340,341,342,343,344,345,346,347,348,349,350,351,352,353,354,355,356,357,358,359,360,361,362,363,364,365,366,367],\"yaxis\":\"y\",\"type\":\"scatter\"}],                        {\"template\":{\"data\":{\"histogram2dcontour\":[{\"type\":\"histogram2dcontour\",\"colorbar\":{\"outlinewidth\":0,\"ticks\":\"\"},\"colorscale\":[[0.0,\"#0d0887\"],[0.1111111111111111,\"#46039f\"],[0.2222222222222222,\"#7201a8\"],[0.3333333333333333,\"#9c179e\"],[0.4444444444444444,\"#bd3786\"],[0.5555555555555556,\"#d8576b\"],[0.6666666666666666,\"#ed7953\"],[0.7777777777777778,\"#fb9f3a\"],[0.8888888888888888,\"#fdca26\"],[1.0,\"#f0f921\"]]}],\"choropleth\":[{\"type\":\"choropleth\",\"colorbar\":{\"outlinewidth\":0,\"ticks\":\"\"}}],\"histogram2d\":[{\"type\":\"histogram2d\",\"colorbar\":{\"outlinewidth\":0,\"ticks\":\"\"},\"colorscale\":[[0.0,\"#0d0887\"],[0.1111111111111111,\"#46039f\"],[0.2222222222222222,\"#7201a8\"],[0.3333333333333333,\"#9c179e\"],[0.4444444444444444,\"#bd3786\"],[0.5555555555555556,\"#d8576b\"],[0.6666666666666666,\"#ed7953\"],[0.7777777777777778,\"#fb9f3a\"],[0.8888888888888888,\"#fdca26\"],[1.0,\"#f0f921\"]]}],\"heatmap\":[{\"type\":\"heatmap\",\"colorbar\":{\"outlinewidth\":0,\"ticks\":\"\"},\"colorscale\":[[0.0,\"#0d0887\"],[0.1111111111111111,\"#46039f\"],[0.2222222222222222,\"#7201a8\"],[0.3333333333333333,\"#9c179e\"],[0.4444444444444444,\"#bd3786\"],[0.5555555555555556,\"#d8576b\"],[0.6666666666666666,\"#ed7953\"],[0.7777777777777778,\"#fb9f3a\"],[0.8888888888888888,\"#fdca26\"],[1.0,\"#f0f921\"]]}],\"heatmapgl\":[{\"type\":\"heatmapgl\",\"colorbar\":{\"outlinewidth\":0,\"ticks\":\"\"},\"colorscale\":[[0.0,\"#0d0887\"],[0.1111111111111111,\"#46039f\"],[0.2222222222222222,\"#7201a8\"],[0.3333333333333333,\"#9c179e\"],[0.4444444444444444,\"#bd3786\"],[0.5555555555555556,\"#d8576b\"],[0.6666666666666666,\"#ed7953\"],[0.7777777777777778,\"#fb9f3a\"],[0.8888888888888888,\"#fdca26\"],[1.0,\"#f0f921\"]]}],\"contourcarpet\":[{\"type\":\"contourcarpet\",\"colorbar\":{\"outlinewidth\":0,\"ticks\":\"\"}}],\"contour\":[{\"type\":\"contour\",\"colorbar\":{\"outlinewidth\":0,\"ticks\":\"\"},\"colorscale\":[[0.0,\"#0d0887\"],[0.1111111111111111,\"#46039f\"],[0.2222222222222222,\"#7201a8\"],[0.3333333333333333,\"#9c179e\"],[0.4444444444444444,\"#bd3786\"],[0.5555555555555556,\"#d8576b\"],[0.6666666666666666,\"#ed7953\"],[0.7777777777777778,\"#fb9f3a\"],[0.8888888888888888,\"#fdca26\"],[1.0,\"#f0f921\"]]}],\"surface\":[{\"type\":\"surface\",\"colorbar\":{\"outlinewidth\":0,\"ticks\":\"\"},\"colorscale\":[[0.0,\"#0d0887\"],[0.1111111111111111,\"#46039f\"],[0.2222222222222222,\"#7201a8\"],[0.3333333333333333,\"#9c179e\"],[0.4444444444444444,\"#bd3786\"],[0.5555555555555556,\"#d8576b\"],[0.6666666666666666,\"#ed7953\"],[0.7777777777777778,\"#fb9f3a\"],[0.8888888888888888,\"#fdca26\"],[1.0,\"#f0f921\"]]}],\"mesh3d\":[{\"type\":\"mesh3d\",\"colorbar\":{\"outlinewidth\":0,\"ticks\":\"\"}}],\"scatter\":[{\"fillpattern\":{\"fillmode\":\"overlay\",\"size\":10,\"solidity\":0.2},\"type\":\"scatter\"}],\"parcoords\":[{\"type\":\"parcoords\",\"line\":{\"colorbar\":{\"outlinewidth\":0,\"ticks\":\"\"}}}],\"scatterpolargl\":[{\"type\":\"scatterpolargl\",\"marker\":{\"colorbar\":{\"outlinewidth\":0,\"ticks\":\"\"}}}],\"bar\":[{\"error_x\":{\"color\":\"#2a3f5f\"},\"error_y\":{\"color\":\"#2a3f5f\"},\"marker\":{\"line\":{\"color\":\"#E5ECF6\",\"width\":0.5},\"pattern\":{\"fillmode\":\"overlay\",\"size\":10,\"solidity\":0.2}},\"type\":\"bar\"}],\"scattergeo\":[{\"type\":\"scattergeo\",\"marker\":{\"colorbar\":{\"outlinewidth\":0,\"ticks\":\"\"}}}],\"scatterpolar\":[{\"type\":\"scatterpolar\",\"marker\":{\"colorbar\":{\"outlinewidth\":0,\"ticks\":\"\"}}}],\"histogram\":[{\"marker\":{\"pattern\":{\"fillmode\":\"overlay\",\"size\":10,\"solidity\":0.2}},\"type\":\"histogram\"}],\"scattergl\":[{\"type\":\"scattergl\",\"marker\":{\"colorbar\":{\"outlinewidth\":0,\"ticks\":\"\"}}}],\"scatter3d\":[{\"type\":\"scatter3d\",\"line\":{\"colorbar\":{\"outlinewidth\":0,\"ticks\":\"\"}},\"marker\":{\"colorbar\":{\"outlinewidth\":0,\"ticks\":\"\"}}}],\"scattermapbox\":[{\"type\":\"scattermapbox\",\"marker\":{\"colorbar\":{\"outlinewidth\":0,\"ticks\":\"\"}}}],\"scatterternary\":[{\"type\":\"scatterternary\",\"marker\":{\"colorbar\":{\"outlinewidth\":0,\"ticks\":\"\"}}}],\"scattercarpet\":[{\"type\":\"scattercarpet\",\"marker\":{\"colorbar\":{\"outlinewidth\":0,\"ticks\":\"\"}}}],\"carpet\":[{\"aaxis\":{\"endlinecolor\":\"#2a3f5f\",\"gridcolor\":\"white\",\"linecolor\":\"white\",\"minorgridcolor\":\"white\",\"startlinecolor\":\"#2a3f5f\"},\"baxis\":{\"endlinecolor\":\"#2a3f5f\",\"gridcolor\":\"white\",\"linecolor\":\"white\",\"minorgridcolor\":\"white\",\"startlinecolor\":\"#2a3f5f\"},\"type\":\"carpet\"}],\"table\":[{\"cells\":{\"fill\":{\"color\":\"#EBF0F8\"},\"line\":{\"color\":\"white\"}},\"header\":{\"fill\":{\"color\":\"#C8D4E3\"},\"line\":{\"color\":\"white\"}},\"type\":\"table\"}],\"barpolar\":[{\"marker\":{\"line\":{\"color\":\"#E5ECF6\",\"width\":0.5},\"pattern\":{\"fillmode\":\"overlay\",\"size\":10,\"solidity\":0.2}},\"type\":\"barpolar\"}],\"pie\":[{\"automargin\":true,\"type\":\"pie\"}]},\"layout\":{\"autotypenumbers\":\"strict\",\"colorway\":[\"#636efa\",\"#EF553B\",\"#00cc96\",\"#ab63fa\",\"#FFA15A\",\"#19d3f3\",\"#FF6692\",\"#B6E880\",\"#FF97FF\",\"#FECB52\"],\"font\":{\"color\":\"#2a3f5f\"},\"hovermode\":\"closest\",\"hoverlabel\":{\"align\":\"left\"},\"paper_bgcolor\":\"white\",\"plot_bgcolor\":\"#E5ECF6\",\"polar\":{\"bgcolor\":\"#E5ECF6\",\"angularaxis\":{\"gridcolor\":\"white\",\"linecolor\":\"white\",\"ticks\":\"\"},\"radialaxis\":{\"gridcolor\":\"white\",\"linecolor\":\"white\",\"ticks\":\"\"}},\"ternary\":{\"bgcolor\":\"#E5ECF6\",\"aaxis\":{\"gridcolor\":\"white\",\"linecolor\":\"white\",\"ticks\":\"\"},\"baxis\":{\"gridcolor\":\"white\",\"linecolor\":\"white\",\"ticks\":\"\"},\"caxis\":{\"gridcolor\":\"white\",\"linecolor\":\"white\",\"ticks\":\"\"}},\"coloraxis\":{\"colorbar\":{\"outlinewidth\":0,\"ticks\":\"\"}},\"colorscale\":{\"sequential\":[[0.0,\"#0d0887\"],[0.1111111111111111,\"#46039f\"],[0.2222222222222222,\"#7201a8\"],[0.3333333333333333,\"#9c179e\"],[0.4444444444444444,\"#bd3786\"],[0.5555555555555556,\"#d8576b\"],[0.6666666666666666,\"#ed7953\"],[0.7777777777777778,\"#fb9f3a\"],[0.8888888888888888,\"#fdca26\"],[1.0,\"#f0f921\"]],\"sequentialminus\":[[0.0,\"#0d0887\"],[0.1111111111111111,\"#46039f\"],[0.2222222222222222,\"#7201a8\"],[0.3333333333333333,\"#9c179e\"],[0.4444444444444444,\"#bd3786\"],[0.5555555555555556,\"#d8576b\"],[0.6666666666666666,\"#ed7953\"],[0.7777777777777778,\"#fb9f3a\"],[0.8888888888888888,\"#fdca26\"],[1.0,\"#f0f921\"]],\"diverging\":[[0,\"#8e0152\"],[0.1,\"#c51b7d\"],[0.2,\"#de77ae\"],[0.3,\"#f1b6da\"],[0.4,\"#fde0ef\"],[0.5,\"#f7f7f7\"],[0.6,\"#e6f5d0\"],[0.7,\"#b8e186\"],[0.8,\"#7fbc41\"],[0.9,\"#4d9221\"],[1,\"#276419\"]]},\"xaxis\":{\"gridcolor\":\"white\",\"linecolor\":\"white\",\"ticks\":\"\",\"title\":{\"standoff\":15},\"zerolinecolor\":\"white\",\"automargin\":true,\"zerolinewidth\":2},\"yaxis\":{\"gridcolor\":\"white\",\"linecolor\":\"white\",\"ticks\":\"\",\"title\":{\"standoff\":15},\"zerolinecolor\":\"white\",\"automargin\":true,\"zerolinewidth\":2},\"scene\":{\"xaxis\":{\"backgroundcolor\":\"#E5ECF6\",\"gridcolor\":\"white\",\"linecolor\":\"white\",\"showbackground\":true,\"ticks\":\"\",\"zerolinecolor\":\"white\",\"gridwidth\":2},\"yaxis\":{\"backgroundcolor\":\"#E5ECF6\",\"gridcolor\":\"white\",\"linecolor\":\"white\",\"showbackground\":true,\"ticks\":\"\",\"zerolinecolor\":\"white\",\"gridwidth\":2},\"zaxis\":{\"backgroundcolor\":\"#E5ECF6\",\"gridcolor\":\"white\",\"linecolor\":\"white\",\"showbackground\":true,\"ticks\":\"\",\"zerolinecolor\":\"white\",\"gridwidth\":2}},\"shapedefaults\":{\"line\":{\"color\":\"#2a3f5f\"}},\"annotationdefaults\":{\"arrowcolor\":\"#2a3f5f\",\"arrowhead\":0,\"arrowwidth\":1},\"geo\":{\"bgcolor\":\"white\",\"landcolor\":\"#E5ECF6\",\"subunitcolor\":\"white\",\"showland\":true,\"showlakes\":true,\"lakecolor\":\"white\"},\"title\":{\"x\":0.05},\"mapbox\":{\"style\":\"light\"}}},\"xaxis\":{\"anchor\":\"y\",\"domain\":[0.0,1.0],\"title\":{\"text\":\"width\"}},\"yaxis\":{\"anchor\":\"x\",\"domain\":[0.0,1.0],\"title\":{\"text\":\"index\"}},\"legend\":{\"title\":{\"text\":\"dataset\"},\"tracegroupgap\":0},\"title\":{\"text\":\"R\\u00e9partition des largeurs des images par dataset\"},\"width\":500,\"height\":500},                        {\"responsive\": true}                    ).then(function(){\n",
       "                            \n",
       "var gd = document.getElementById('6bc1ad40-ba4c-4555-ae49-2bec5c55ae9a');\n",
       "var x = new MutationObserver(function (mutations, observer) {{\n",
       "        var display = window.getComputedStyle(gd).display;\n",
       "        if (!display || display === 'none') {{\n",
       "            console.log([gd, 'removed!']);\n",
       "            Plotly.purge(gd);\n",
       "            observer.disconnect();\n",
       "        }}\n",
       "}});\n",
       "\n",
       "// Listen for the removal of the full notebook cells\n",
       "var notebookContainer = gd.closest('#notebook-container');\n",
       "if (notebookContainer) {{\n",
       "    x.observe(notebookContainer, {childList: true});\n",
       "}}\n",
       "\n",
       "// Listen for the clearing of the current output cell\n",
       "var outputEl = gd.closest('.output');\n",
       "if (outputEl) {{\n",
       "    x.observe(outputEl, {childList: true});\n",
       "}}\n",
       "\n",
       "                        })                };                });            </script>        </div>"
      ]
     },
     "metadata": {},
     "output_type": "display_data"
    },
    {
     "data": {
      "application/vnd.plotly.v1+json": {
       "config": {
        "plotlyServerURL": "https://plot.ly"
       },
       "data": [
        {
         "hovertemplate": "dataset=ALL_IDB1<br>height=%{x}<br>index=%{y}<extra></extra>",
         "legendgroup": "ALL_IDB1",
         "marker": {
          "color": "#636efa",
          "symbol": "circle"
         },
         "mode": "markers",
         "name": "ALL_IDB1",
         "orientation": "h",
         "showlegend": true,
         "type": "scatter",
         "x": [
          1368,
          1368,
          1368,
          1368,
          1368,
          1368,
          1368,
          1368,
          1368,
          1368,
          1368,
          1368,
          1368,
          1368,
          1368,
          1368,
          1368,
          1368,
          1368,
          1368,
          1368,
          1368,
          1368,
          1368,
          1368,
          1368,
          1368,
          1368,
          1368,
          1368,
          1368,
          1368,
          1368,
          1944,
          1944,
          1944,
          652,
          1944,
          1944,
          1944,
          1944,
          1944,
          1944,
          1944,
          1944,
          1944,
          1944,
          1944,
          1944,
          1944,
          1944,
          1944,
          1944,
          1944,
          1944,
          1944,
          1944,
          1944,
          1944,
          1944,
          1944,
          1944,
          1944,
          1944,
          1944,
          1944,
          1944,
          1944,
          1944,
          1944,
          1944,
          1944,
          1944,
          1944,
          1944,
          1944,
          1944,
          1944,
          1944,
          1944,
          1944,
          1944,
          1944,
          1944,
          1944,
          1944,
          1944,
          1944,
          1944,
          1944,
          1944,
          1944,
          1944,
          1944,
          1944,
          1944,
          1944,
          1944,
          1944,
          1944,
          1944,
          1944,
          1944,
          1944,
          1944,
          1944,
          1944,
          1944
         ],
         "xaxis": "x",
         "y": [
          0,
          1,
          2,
          3,
          4,
          5,
          6,
          7,
          8,
          9,
          10,
          11,
          12,
          13,
          14,
          15,
          16,
          17,
          18,
          19,
          20,
          21,
          22,
          23,
          24,
          25,
          26,
          27,
          28,
          29,
          30,
          31,
          32,
          33,
          34,
          35,
          36,
          37,
          38,
          39,
          40,
          41,
          42,
          43,
          44,
          45,
          46,
          47,
          48,
          49,
          50,
          51,
          52,
          53,
          54,
          55,
          56,
          57,
          58,
          59,
          60,
          61,
          62,
          63,
          64,
          65,
          66,
          67,
          68,
          69,
          70,
          71,
          72,
          73,
          74,
          75,
          76,
          77,
          78,
          79,
          80,
          81,
          82,
          83,
          84,
          85,
          86,
          87,
          88,
          89,
          90,
          91,
          92,
          93,
          94,
          95,
          96,
          97,
          98,
          99,
          100,
          101,
          102,
          103,
          104,
          105,
          106,
          107
         ],
         "yaxis": "y"
        },
        {
         "hovertemplate": "dataset=ALL_IDB2<br>height=%{x}<br>index=%{y}<extra></extra>",
         "legendgroup": "ALL_IDB2",
         "marker": {
          "color": "#EF553B",
          "symbol": "circle"
         },
         "mode": "markers",
         "name": "ALL_IDB2",
         "orientation": "h",
         "showlegend": true,
         "type": "scatter",
         "x": [
          257,
          257,
          257,
          257,
          257,
          257,
          257,
          257,
          257,
          257,
          257,
          257,
          257,
          257,
          257,
          257,
          257,
          257,
          257,
          257,
          257,
          257,
          257,
          257,
          253,
          257,
          257,
          257,
          257,
          257,
          257,
          257,
          257,
          257,
          257,
          257,
          257,
          257,
          257,
          257,
          257,
          257,
          257,
          257,
          257,
          257,
          257,
          257,
          257,
          257,
          257,
          257,
          257,
          257,
          257,
          257,
          257,
          257,
          257,
          257,
          257,
          257,
          257,
          257,
          257,
          257,
          257,
          257,
          257,
          257,
          257,
          257,
          257,
          257,
          257,
          257,
          257,
          257,
          257,
          257,
          257,
          257,
          257,
          257,
          257,
          257,
          257,
          257,
          257,
          256,
          257,
          257,
          257,
          257,
          257,
          257,
          257,
          257,
          257,
          257,
          257,
          257,
          253,
          257,
          257,
          257,
          257,
          257,
          257,
          257,
          257,
          257,
          257,
          257,
          257,
          257,
          257,
          257,
          257,
          257,
          257,
          257,
          257,
          257,
          257,
          257,
          257,
          257,
          257,
          257,
          257,
          257,
          257,
          257,
          257,
          257,
          257,
          257,
          257,
          257,
          257,
          257,
          257,
          235,
          257,
          257,
          257,
          257,
          257,
          257,
          257,
          257,
          257,
          257,
          257,
          257,
          257,
          257,
          257,
          257,
          257,
          257,
          257,
          257,
          257,
          257,
          232,
          257,
          257,
          257,
          257,
          257,
          257,
          257,
          257,
          257,
          257,
          257,
          257,
          257,
          257,
          257,
          257,
          257,
          257,
          257,
          257,
          257,
          257,
          257,
          257,
          257,
          257,
          257,
          257,
          257,
          220,
          257,
          257,
          257,
          257,
          257,
          257,
          257,
          257,
          257,
          257,
          257,
          257,
          257,
          257,
          257,
          257,
          257,
          257,
          257,
          257,
          257,
          257,
          257,
          257,
          257,
          257,
          257,
          257,
          257,
          257,
          257,
          257,
          257,
          257,
          257,
          257,
          257,
          257,
          257,
          257,
          214,
          257,
          257,
          257,
          257,
          257,
          257,
          257,
          257,
          257,
          257,
          257,
          257,
          257,
          257,
          257,
          257,
          257,
          257,
          257,
          257,
          257,
          257
         ],
         "xaxis": "x",
         "y": [
          108,
          109,
          110,
          111,
          112,
          113,
          114,
          115,
          116,
          117,
          118,
          119,
          120,
          121,
          122,
          123,
          124,
          125,
          126,
          127,
          128,
          129,
          130,
          131,
          132,
          133,
          134,
          135,
          136,
          137,
          138,
          139,
          140,
          141,
          142,
          143,
          144,
          145,
          146,
          147,
          148,
          149,
          150,
          151,
          152,
          153,
          154,
          155,
          156,
          157,
          158,
          159,
          160,
          161,
          162,
          163,
          164,
          165,
          166,
          167,
          168,
          169,
          170,
          171,
          172,
          173,
          174,
          175,
          176,
          177,
          178,
          179,
          180,
          181,
          182,
          183,
          184,
          185,
          186,
          187,
          188,
          189,
          190,
          191,
          192,
          193,
          194,
          195,
          196,
          197,
          198,
          199,
          200,
          201,
          202,
          203,
          204,
          205,
          206,
          207,
          208,
          209,
          210,
          211,
          212,
          213,
          214,
          215,
          216,
          217,
          218,
          219,
          220,
          221,
          222,
          223,
          224,
          225,
          226,
          227,
          228,
          229,
          230,
          231,
          232,
          233,
          234,
          235,
          236,
          237,
          238,
          239,
          240,
          241,
          242,
          243,
          244,
          245,
          246,
          247,
          248,
          249,
          250,
          251,
          252,
          253,
          254,
          255,
          256,
          257,
          258,
          259,
          260,
          261,
          262,
          263,
          264,
          265,
          266,
          267,
          268,
          269,
          270,
          271,
          272,
          273,
          274,
          275,
          276,
          277,
          278,
          279,
          280,
          281,
          282,
          283,
          284,
          285,
          286,
          287,
          288,
          289,
          290,
          291,
          292,
          293,
          294,
          295,
          296,
          297,
          298,
          299,
          300,
          301,
          302,
          303,
          304,
          305,
          306,
          307,
          308,
          309,
          310,
          311,
          312,
          313,
          314,
          315,
          316,
          317,
          318,
          319,
          320,
          321,
          322,
          323,
          324,
          325,
          326,
          327,
          328,
          329,
          330,
          331,
          332,
          333,
          334,
          335,
          336,
          337,
          338,
          339,
          340,
          341,
          342,
          343,
          344,
          345,
          346,
          347,
          348,
          349,
          350,
          351,
          352,
          353,
          354,
          355,
          356,
          357,
          358,
          359,
          360,
          361,
          362,
          363,
          364,
          365,
          366,
          367
         ],
         "yaxis": "y"
        }
       ],
       "layout": {
        "height": 500,
        "legend": {
         "title": {
          "text": "dataset"
         },
         "tracegroupgap": 0
        },
        "template": {
         "data": {
          "bar": [
           {
            "error_x": {
             "color": "#2a3f5f"
            },
            "error_y": {
             "color": "#2a3f5f"
            },
            "marker": {
             "line": {
              "color": "#E5ECF6",
              "width": 0.5
             },
             "pattern": {
              "fillmode": "overlay",
              "size": 10,
              "solidity": 0.2
             }
            },
            "type": "bar"
           }
          ],
          "barpolar": [
           {
            "marker": {
             "line": {
              "color": "#E5ECF6",
              "width": 0.5
             },
             "pattern": {
              "fillmode": "overlay",
              "size": 10,
              "solidity": 0.2
             }
            },
            "type": "barpolar"
           }
          ],
          "carpet": [
           {
            "aaxis": {
             "endlinecolor": "#2a3f5f",
             "gridcolor": "white",
             "linecolor": "white",
             "minorgridcolor": "white",
             "startlinecolor": "#2a3f5f"
            },
            "baxis": {
             "endlinecolor": "#2a3f5f",
             "gridcolor": "white",
             "linecolor": "white",
             "minorgridcolor": "white",
             "startlinecolor": "#2a3f5f"
            },
            "type": "carpet"
           }
          ],
          "choropleth": [
           {
            "colorbar": {
             "outlinewidth": 0,
             "ticks": ""
            },
            "type": "choropleth"
           }
          ],
          "contour": [
           {
            "colorbar": {
             "outlinewidth": 0,
             "ticks": ""
            },
            "colorscale": [
             [
              0,
              "#0d0887"
             ],
             [
              0.1111111111111111,
              "#46039f"
             ],
             [
              0.2222222222222222,
              "#7201a8"
             ],
             [
              0.3333333333333333,
              "#9c179e"
             ],
             [
              0.4444444444444444,
              "#bd3786"
             ],
             [
              0.5555555555555556,
              "#d8576b"
             ],
             [
              0.6666666666666666,
              "#ed7953"
             ],
             [
              0.7777777777777778,
              "#fb9f3a"
             ],
             [
              0.8888888888888888,
              "#fdca26"
             ],
             [
              1,
              "#f0f921"
             ]
            ],
            "type": "contour"
           }
          ],
          "contourcarpet": [
           {
            "colorbar": {
             "outlinewidth": 0,
             "ticks": ""
            },
            "type": "contourcarpet"
           }
          ],
          "heatmap": [
           {
            "colorbar": {
             "outlinewidth": 0,
             "ticks": ""
            },
            "colorscale": [
             [
              0,
              "#0d0887"
             ],
             [
              0.1111111111111111,
              "#46039f"
             ],
             [
              0.2222222222222222,
              "#7201a8"
             ],
             [
              0.3333333333333333,
              "#9c179e"
             ],
             [
              0.4444444444444444,
              "#bd3786"
             ],
             [
              0.5555555555555556,
              "#d8576b"
             ],
             [
              0.6666666666666666,
              "#ed7953"
             ],
             [
              0.7777777777777778,
              "#fb9f3a"
             ],
             [
              0.8888888888888888,
              "#fdca26"
             ],
             [
              1,
              "#f0f921"
             ]
            ],
            "type": "heatmap"
           }
          ],
          "heatmapgl": [
           {
            "colorbar": {
             "outlinewidth": 0,
             "ticks": ""
            },
            "colorscale": [
             [
              0,
              "#0d0887"
             ],
             [
              0.1111111111111111,
              "#46039f"
             ],
             [
              0.2222222222222222,
              "#7201a8"
             ],
             [
              0.3333333333333333,
              "#9c179e"
             ],
             [
              0.4444444444444444,
              "#bd3786"
             ],
             [
              0.5555555555555556,
              "#d8576b"
             ],
             [
              0.6666666666666666,
              "#ed7953"
             ],
             [
              0.7777777777777778,
              "#fb9f3a"
             ],
             [
              0.8888888888888888,
              "#fdca26"
             ],
             [
              1,
              "#f0f921"
             ]
            ],
            "type": "heatmapgl"
           }
          ],
          "histogram": [
           {
            "marker": {
             "pattern": {
              "fillmode": "overlay",
              "size": 10,
              "solidity": 0.2
             }
            },
            "type": "histogram"
           }
          ],
          "histogram2d": [
           {
            "colorbar": {
             "outlinewidth": 0,
             "ticks": ""
            },
            "colorscale": [
             [
              0,
              "#0d0887"
             ],
             [
              0.1111111111111111,
              "#46039f"
             ],
             [
              0.2222222222222222,
              "#7201a8"
             ],
             [
              0.3333333333333333,
              "#9c179e"
             ],
             [
              0.4444444444444444,
              "#bd3786"
             ],
             [
              0.5555555555555556,
              "#d8576b"
             ],
             [
              0.6666666666666666,
              "#ed7953"
             ],
             [
              0.7777777777777778,
              "#fb9f3a"
             ],
             [
              0.8888888888888888,
              "#fdca26"
             ],
             [
              1,
              "#f0f921"
             ]
            ],
            "type": "histogram2d"
           }
          ],
          "histogram2dcontour": [
           {
            "colorbar": {
             "outlinewidth": 0,
             "ticks": ""
            },
            "colorscale": [
             [
              0,
              "#0d0887"
             ],
             [
              0.1111111111111111,
              "#46039f"
             ],
             [
              0.2222222222222222,
              "#7201a8"
             ],
             [
              0.3333333333333333,
              "#9c179e"
             ],
             [
              0.4444444444444444,
              "#bd3786"
             ],
             [
              0.5555555555555556,
              "#d8576b"
             ],
             [
              0.6666666666666666,
              "#ed7953"
             ],
             [
              0.7777777777777778,
              "#fb9f3a"
             ],
             [
              0.8888888888888888,
              "#fdca26"
             ],
             [
              1,
              "#f0f921"
             ]
            ],
            "type": "histogram2dcontour"
           }
          ],
          "mesh3d": [
           {
            "colorbar": {
             "outlinewidth": 0,
             "ticks": ""
            },
            "type": "mesh3d"
           }
          ],
          "parcoords": [
           {
            "line": {
             "colorbar": {
              "outlinewidth": 0,
              "ticks": ""
             }
            },
            "type": "parcoords"
           }
          ],
          "pie": [
           {
            "automargin": true,
            "type": "pie"
           }
          ],
          "scatter": [
           {
            "fillpattern": {
             "fillmode": "overlay",
             "size": 10,
             "solidity": 0.2
            },
            "type": "scatter"
           }
          ],
          "scatter3d": [
           {
            "line": {
             "colorbar": {
              "outlinewidth": 0,
              "ticks": ""
             }
            },
            "marker": {
             "colorbar": {
              "outlinewidth": 0,
              "ticks": ""
             }
            },
            "type": "scatter3d"
           }
          ],
          "scattercarpet": [
           {
            "marker": {
             "colorbar": {
              "outlinewidth": 0,
              "ticks": ""
             }
            },
            "type": "scattercarpet"
           }
          ],
          "scattergeo": [
           {
            "marker": {
             "colorbar": {
              "outlinewidth": 0,
              "ticks": ""
             }
            },
            "type": "scattergeo"
           }
          ],
          "scattergl": [
           {
            "marker": {
             "colorbar": {
              "outlinewidth": 0,
              "ticks": ""
             }
            },
            "type": "scattergl"
           }
          ],
          "scattermapbox": [
           {
            "marker": {
             "colorbar": {
              "outlinewidth": 0,
              "ticks": ""
             }
            },
            "type": "scattermapbox"
           }
          ],
          "scatterpolar": [
           {
            "marker": {
             "colorbar": {
              "outlinewidth": 0,
              "ticks": ""
             }
            },
            "type": "scatterpolar"
           }
          ],
          "scatterpolargl": [
           {
            "marker": {
             "colorbar": {
              "outlinewidth": 0,
              "ticks": ""
             }
            },
            "type": "scatterpolargl"
           }
          ],
          "scatterternary": [
           {
            "marker": {
             "colorbar": {
              "outlinewidth": 0,
              "ticks": ""
             }
            },
            "type": "scatterternary"
           }
          ],
          "surface": [
           {
            "colorbar": {
             "outlinewidth": 0,
             "ticks": ""
            },
            "colorscale": [
             [
              0,
              "#0d0887"
             ],
             [
              0.1111111111111111,
              "#46039f"
             ],
             [
              0.2222222222222222,
              "#7201a8"
             ],
             [
              0.3333333333333333,
              "#9c179e"
             ],
             [
              0.4444444444444444,
              "#bd3786"
             ],
             [
              0.5555555555555556,
              "#d8576b"
             ],
             [
              0.6666666666666666,
              "#ed7953"
             ],
             [
              0.7777777777777778,
              "#fb9f3a"
             ],
             [
              0.8888888888888888,
              "#fdca26"
             ],
             [
              1,
              "#f0f921"
             ]
            ],
            "type": "surface"
           }
          ],
          "table": [
           {
            "cells": {
             "fill": {
              "color": "#EBF0F8"
             },
             "line": {
              "color": "white"
             }
            },
            "header": {
             "fill": {
              "color": "#C8D4E3"
             },
             "line": {
              "color": "white"
             }
            },
            "type": "table"
           }
          ]
         },
         "layout": {
          "annotationdefaults": {
           "arrowcolor": "#2a3f5f",
           "arrowhead": 0,
           "arrowwidth": 1
          },
          "autotypenumbers": "strict",
          "coloraxis": {
           "colorbar": {
            "outlinewidth": 0,
            "ticks": ""
           }
          },
          "colorscale": {
           "diverging": [
            [
             0,
             "#8e0152"
            ],
            [
             0.1,
             "#c51b7d"
            ],
            [
             0.2,
             "#de77ae"
            ],
            [
             0.3,
             "#f1b6da"
            ],
            [
             0.4,
             "#fde0ef"
            ],
            [
             0.5,
             "#f7f7f7"
            ],
            [
             0.6,
             "#e6f5d0"
            ],
            [
             0.7,
             "#b8e186"
            ],
            [
             0.8,
             "#7fbc41"
            ],
            [
             0.9,
             "#4d9221"
            ],
            [
             1,
             "#276419"
            ]
           ],
           "sequential": [
            [
             0,
             "#0d0887"
            ],
            [
             0.1111111111111111,
             "#46039f"
            ],
            [
             0.2222222222222222,
             "#7201a8"
            ],
            [
             0.3333333333333333,
             "#9c179e"
            ],
            [
             0.4444444444444444,
             "#bd3786"
            ],
            [
             0.5555555555555556,
             "#d8576b"
            ],
            [
             0.6666666666666666,
             "#ed7953"
            ],
            [
             0.7777777777777778,
             "#fb9f3a"
            ],
            [
             0.8888888888888888,
             "#fdca26"
            ],
            [
             1,
             "#f0f921"
            ]
           ],
           "sequentialminus": [
            [
             0,
             "#0d0887"
            ],
            [
             0.1111111111111111,
             "#46039f"
            ],
            [
             0.2222222222222222,
             "#7201a8"
            ],
            [
             0.3333333333333333,
             "#9c179e"
            ],
            [
             0.4444444444444444,
             "#bd3786"
            ],
            [
             0.5555555555555556,
             "#d8576b"
            ],
            [
             0.6666666666666666,
             "#ed7953"
            ],
            [
             0.7777777777777778,
             "#fb9f3a"
            ],
            [
             0.8888888888888888,
             "#fdca26"
            ],
            [
             1,
             "#f0f921"
            ]
           ]
          },
          "colorway": [
           "#636efa",
           "#EF553B",
           "#00cc96",
           "#ab63fa",
           "#FFA15A",
           "#19d3f3",
           "#FF6692",
           "#B6E880",
           "#FF97FF",
           "#FECB52"
          ],
          "font": {
           "color": "#2a3f5f"
          },
          "geo": {
           "bgcolor": "white",
           "lakecolor": "white",
           "landcolor": "#E5ECF6",
           "showlakes": true,
           "showland": true,
           "subunitcolor": "white"
          },
          "hoverlabel": {
           "align": "left"
          },
          "hovermode": "closest",
          "mapbox": {
           "style": "light"
          },
          "paper_bgcolor": "white",
          "plot_bgcolor": "#E5ECF6",
          "polar": {
           "angularaxis": {
            "gridcolor": "white",
            "linecolor": "white",
            "ticks": ""
           },
           "bgcolor": "#E5ECF6",
           "radialaxis": {
            "gridcolor": "white",
            "linecolor": "white",
            "ticks": ""
           }
          },
          "scene": {
           "xaxis": {
            "backgroundcolor": "#E5ECF6",
            "gridcolor": "white",
            "gridwidth": 2,
            "linecolor": "white",
            "showbackground": true,
            "ticks": "",
            "zerolinecolor": "white"
           },
           "yaxis": {
            "backgroundcolor": "#E5ECF6",
            "gridcolor": "white",
            "gridwidth": 2,
            "linecolor": "white",
            "showbackground": true,
            "ticks": "",
            "zerolinecolor": "white"
           },
           "zaxis": {
            "backgroundcolor": "#E5ECF6",
            "gridcolor": "white",
            "gridwidth": 2,
            "linecolor": "white",
            "showbackground": true,
            "ticks": "",
            "zerolinecolor": "white"
           }
          },
          "shapedefaults": {
           "line": {
            "color": "#2a3f5f"
           }
          },
          "ternary": {
           "aaxis": {
            "gridcolor": "white",
            "linecolor": "white",
            "ticks": ""
           },
           "baxis": {
            "gridcolor": "white",
            "linecolor": "white",
            "ticks": ""
           },
           "bgcolor": "#E5ECF6",
           "caxis": {
            "gridcolor": "white",
            "linecolor": "white",
            "ticks": ""
           }
          },
          "title": {
           "x": 0.05
          },
          "xaxis": {
           "automargin": true,
           "gridcolor": "white",
           "linecolor": "white",
           "ticks": "",
           "title": {
            "standoff": 15
           },
           "zerolinecolor": "white",
           "zerolinewidth": 2
          },
          "yaxis": {
           "automargin": true,
           "gridcolor": "white",
           "linecolor": "white",
           "ticks": "",
           "title": {
            "standoff": 15
           },
           "zerolinecolor": "white",
           "zerolinewidth": 2
          }
         }
        },
        "title": {
         "text": "Répartition des hauteurs des images par dataset"
        },
        "width": 500,
        "xaxis": {
         "anchor": "y",
         "autorange": true,
         "domain": [
          0,
          1
         ],
         "range": [
          90.04673619157974,
          2067.95326380842
         ],
         "title": {
          "text": "height"
         },
         "type": "linear"
        },
        "yaxis": {
         "anchor": "x",
         "autorange": true,
         "domain": [
          0,
          1
         ],
         "range": [
          -25.840463458110516,
          392.8404634581105
         ],
         "title": {
          "text": "index"
         },
         "type": "linear"
        }
       }
      },
      "image/png": "[encoded data removed]",
      "text/html": [
       "<div>                            <div id=\"78958459-3922-494c-b0f1-8f8c0be39321\" class=\"plotly-graph-div\" style=\"height:500px; width:500px;\"></div>            <script type=\"text/javascript\">                require([\"plotly\"], function(Plotly) {                    window.PLOTLYENV=window.PLOTLYENV || {};                                    if (document.getElementById(\"78958459-3922-494c-b0f1-8f8c0be39321\")) {                    Plotly.newPlot(                        \"78958459-3922-494c-b0f1-8f8c0be39321\",                        [{\"hovertemplate\":\"dataset=ALL_IDB1<br>height=%{x}<br>index=%{y}<extra></extra>\",\"legendgroup\":\"ALL_IDB1\",\"marker\":{\"color\":\"#636efa\",\"symbol\":\"circle\"},\"mode\":\"markers\",\"name\":\"ALL_IDB1\",\"orientation\":\"h\",\"showlegend\":true,\"x\":[1368,1368,1368,1368,1368,1368,1368,1368,1368,1368,1368,1368,1368,1368,1368,1368,1368,1368,1368,1368,1368,1368,1368,1368,1368,1368,1368,1368,1368,1368,1368,1368,1368,1944,1944,1944,652,1944,1944,1944,1944,1944,1944,1944,1944,1944,1944,1944,1944,1944,1944,1944,1944,1944,1944,1944,1944,1944,1944,1944,1944,1944,1944,1944,1944,1944,1944,1944,1944,1944,1944,1944,1944,1944,1944,1944,1944,1944,1944,1944,1944,1944,1944,1944,1944,1944,1944,1944,1944,1944,1944,1944,1944,1944,1944,1944,1944,1944,1944,1944,1944,1944,1944,1944,1944,1944,1944,1944],\"xaxis\":\"x\",\"y\":[0,1,2,3,4,5,6,7,8,9,10,11,12,13,14,15,16,17,18,19,20,21,22,23,24,25,26,27,28,29,30,31,32,33,34,35,36,37,38,39,40,41,42,43,44,45,46,47,48,49,50,51,52,53,54,55,56,57,58,59,60,61,62,63,64,65,66,67,68,69,70,71,72,73,74,75,76,77,78,79,80,81,82,83,84,85,86,87,88,89,90,91,92,93,94,95,96,97,98,99,100,101,102,103,104,105,106,107],\"yaxis\":\"y\",\"type\":\"scatter\"},{\"hovertemplate\":\"dataset=ALL_IDB2<br>height=%{x}<br>index=%{y}<extra></extra>\",\"legendgroup\":\"ALL_IDB2\",\"marker\":{\"color\":\"#EF553B\",\"symbol\":\"circle\"},\"mode\":\"markers\",\"name\":\"ALL_IDB2\",\"orientation\":\"h\",\"showlegend\":true,\"x\":[257,257,257,257,257,257,257,257,257,257,257,257,257,257,257,257,257,257,257,257,257,257,257,257,253,257,257,257,257,257,257,257,257,257,257,257,257,257,257,257,257,257,257,257,257,257,257,257,257,257,257,257,257,257,257,257,257,257,257,257,257,257,257,257,257,257,257,257,257,257,257,257,257,257,257,257,257,257,257,257,257,257,257,257,257,257,257,257,257,256,257,257,257,257,257,257,257,257,257,257,257,257,253,257,257,257,257,257,257,257,257,257,257,257,257,257,257,257,257,257,257,257,257,257,257,257,257,257,257,257,257,257,257,257,257,257,257,257,257,257,257,257,257,235,257,257,257,257,257,257,257,257,257,257,257,257,257,257,257,257,257,257,257,257,257,257,232,257,257,257,257,257,257,257,257,257,257,257,257,257,257,257,257,257,257,257,257,257,257,257,257,257,257,257,257,257,220,257,257,257,257,257,257,257,257,257,257,257,257,257,257,257,257,257,257,257,257,257,257,257,257,257,257,257,257,257,257,257,257,257,257,257,257,257,257,257,257,214,257,257,257,257,257,257,257,257,257,257,257,257,257,257,257,257,257,257,257,257,257,257],\"xaxis\":\"x\",\"y\":[108,109,110,111,112,113,114,115,116,117,118,119,120,121,122,123,124,125,126,127,128,129,130,131,132,133,134,135,136,137,138,139,140,141,142,143,144,145,146,147,148,149,150,151,152,153,154,155,156,157,158,159,160,161,162,163,164,165,166,167,168,169,170,171,172,173,174,175,176,177,178,179,180,181,182,183,184,185,186,187,188,189,190,191,192,193,194,195,196,197,198,199,200,201,202,203,204,205,206,207,208,209,210,211,212,213,214,215,216,217,218,219,220,221,222,223,224,225,226,227,228,229,230,231,232,233,234,235,236,237,238,239,240,241,242,243,244,245,246,247,248,249,250,251,252,253,254,255,256,257,258,259,260,261,262,263,264,265,266,267,268,269,270,271,272,273,274,275,276,277,278,279,280,281,282,283,284,285,286,287,288,289,290,291,292,293,294,295,296,297,298,299,300,301,302,303,304,305,306,307,308,309,310,311,312,313,314,315,316,317,318,319,320,321,322,323,324,325,326,327,328,329,330,331,332,333,334,335,336,337,338,339,340,341,342,343,344,345,346,347,348,349,350,351,352,353,354,355,356,357,358,359,360,361,362,363,364,365,366,367],\"yaxis\":\"y\",\"type\":\"scatter\"}],                        {\"template\":{\"data\":{\"histogram2dcontour\":[{\"type\":\"histogram2dcontour\",\"colorbar\":{\"outlinewidth\":0,\"ticks\":\"\"},\"colorscale\":[[0.0,\"#0d0887\"],[0.1111111111111111,\"#46039f\"],[0.2222222222222222,\"#7201a8\"],[0.3333333333333333,\"#9c179e\"],[0.4444444444444444,\"#bd3786\"],[0.5555555555555556,\"#d8576b\"],[0.6666666666666666,\"#ed7953\"],[0.7777777777777778,\"#fb9f3a\"],[0.8888888888888888,\"#fdca26\"],[1.0,\"#f0f921\"]]}],\"choropleth\":[{\"type\":\"choropleth\",\"colorbar\":{\"outlinewidth\":0,\"ticks\":\"\"}}],\"histogram2d\":[{\"type\":\"histogram2d\",\"colorbar\":{\"outlinewidth\":0,\"ticks\":\"\"},\"colorscale\":[[0.0,\"#0d0887\"],[0.1111111111111111,\"#46039f\"],[0.2222222222222222,\"#7201a8\"],[0.3333333333333333,\"#9c179e\"],[0.4444444444444444,\"#bd3786\"],[0.5555555555555556,\"#d8576b\"],[0.6666666666666666,\"#ed7953\"],[0.7777777777777778,\"#fb9f3a\"],[0.8888888888888888,\"#fdca26\"],[1.0,\"#f0f921\"]]}],\"heatmap\":[{\"type\":\"heatmap\",\"colorbar\":{\"outlinewidth\":0,\"ticks\":\"\"},\"colorscale\":[[0.0,\"#0d0887\"],[0.1111111111111111,\"#46039f\"],[0.2222222222222222,\"#7201a8\"],[0.3333333333333333,\"#9c179e\"],[0.4444444444444444,\"#bd3786\"],[0.5555555555555556,\"#d8576b\"],[0.6666666666666666,\"#ed7953\"],[0.7777777777777778,\"#fb9f3a\"],[0.8888888888888888,\"#fdca26\"],[1.0,\"#f0f921\"]]}],\"heatmapgl\":[{\"type\":\"heatmapgl\",\"colorbar\":{\"outlinewidth\":0,\"ticks\":\"\"},\"colorscale\":[[0.0,\"#0d0887\"],[0.1111111111111111,\"#46039f\"],[0.2222222222222222,\"#7201a8\"],[0.3333333333333333,\"#9c179e\"],[0.4444444444444444,\"#bd3786\"],[0.5555555555555556,\"#d8576b\"],[0.6666666666666666,\"#ed7953\"],[0.7777777777777778,\"#fb9f3a\"],[0.8888888888888888,\"#fdca26\"],[1.0,\"#f0f921\"]]}],\"contourcarpet\":[{\"type\":\"contourcarpet\",\"colorbar\":{\"outlinewidth\":0,\"ticks\":\"\"}}],\"contour\":[{\"type\":\"contour\",\"colorbar\":{\"outlinewidth\":0,\"ticks\":\"\"},\"colorscale\":[[0.0,\"#0d0887\"],[0.1111111111111111,\"#46039f\"],[0.2222222222222222,\"#7201a8\"],[0.3333333333333333,\"#9c179e\"],[0.4444444444444444,\"#bd3786\"],[0.5555555555555556,\"#d8576b\"],[0.6666666666666666,\"#ed7953\"],[0.7777777777777778,\"#fb9f3a\"],[0.8888888888888888,\"#fdca26\"],[1.0,\"#f0f921\"]]}],\"surface\":[{\"type\":\"surface\",\"colorbar\":{\"outlinewidth\":0,\"ticks\":\"\"},\"colorscale\":[[0.0,\"#0d0887\"],[0.1111111111111111,\"#46039f\"],[0.2222222222222222,\"#7201a8\"],[0.3333333333333333,\"#9c179e\"],[0.4444444444444444,\"#bd3786\"],[0.5555555555555556,\"#d8576b\"],[0.6666666666666666,\"#ed7953\"],[0.7777777777777778,\"#fb9f3a\"],[0.8888888888888888,\"#fdca26\"],[1.0,\"#f0f921\"]]}],\"mesh3d\":[{\"type\":\"mesh3d\",\"colorbar\":{\"outlinewidth\":0,\"ticks\":\"\"}}],\"scatter\":[{\"fillpattern\":{\"fillmode\":\"overlay\",\"size\":10,\"solidity\":0.2},\"type\":\"scatter\"}],\"parcoords\":[{\"type\":\"parcoords\",\"line\":{\"colorbar\":{\"outlinewidth\":0,\"ticks\":\"\"}}}],\"scatterpolargl\":[{\"type\":\"scatterpolargl\",\"marker\":{\"colorbar\":{\"outlinewidth\":0,\"ticks\":\"\"}}}],\"bar\":[{\"error_x\":{\"color\":\"#2a3f5f\"},\"error_y\":{\"color\":\"#2a3f5f\"},\"marker\":{\"line\":{\"color\":\"#E5ECF6\",\"width\":0.5},\"pattern\":{\"fillmode\":\"overlay\",\"size\":10,\"solidity\":0.2}},\"type\":\"bar\"}],\"scattergeo\":[{\"type\":\"scattergeo\",\"marker\":{\"colorbar\":{\"outlinewidth\":0,\"ticks\":\"\"}}}],\"scatterpolar\":[{\"type\":\"scatterpolar\",\"marker\":{\"colorbar\":{\"outlinewidth\":0,\"ticks\":\"\"}}}],\"histogram\":[{\"marker\":{\"pattern\":{\"fillmode\":\"overlay\",\"size\":10,\"solidity\":0.2}},\"type\":\"histogram\"}],\"scattergl\":[{\"type\":\"scattergl\",\"marker\":{\"colorbar\":{\"outlinewidth\":0,\"ticks\":\"\"}}}],\"scatter3d\":[{\"type\":\"scatter3d\",\"line\":{\"colorbar\":{\"outlinewidth\":0,\"ticks\":\"\"}},\"marker\":{\"colorbar\":{\"outlinewidth\":0,\"ticks\":\"\"}}}],\"scattermapbox\":[{\"type\":\"scattermapbox\",\"marker\":{\"colorbar\":{\"outlinewidth\":0,\"ticks\":\"\"}}}],\"scatterternary\":[{\"type\":\"scatterternary\",\"marker\":{\"colorbar\":{\"outlinewidth\":0,\"ticks\":\"\"}}}],\"scattercarpet\":[{\"type\":\"scattercarpet\",\"marker\":{\"colorbar\":{\"outlinewidth\":0,\"ticks\":\"\"}}}],\"carpet\":[{\"aaxis\":{\"endlinecolor\":\"#2a3f5f\",\"gridcolor\":\"white\",\"linecolor\":\"white\",\"minorgridcolor\":\"white\",\"startlinecolor\":\"#2a3f5f\"},\"baxis\":{\"endlinecolor\":\"#2a3f5f\",\"gridcolor\":\"white\",\"linecolor\":\"white\",\"minorgridcolor\":\"white\",\"startlinecolor\":\"#2a3f5f\"},\"type\":\"carpet\"}],\"table\":[{\"cells\":{\"fill\":{\"color\":\"#EBF0F8\"},\"line\":{\"color\":\"white\"}},\"header\":{\"fill\":{\"color\":\"#C8D4E3\"},\"line\":{\"color\":\"white\"}},\"type\":\"table\"}],\"barpolar\":[{\"marker\":{\"line\":{\"color\":\"#E5ECF6\",\"width\":0.5},\"pattern\":{\"fillmode\":\"overlay\",\"size\":10,\"solidity\":0.2}},\"type\":\"barpolar\"}],\"pie\":[{\"automargin\":true,\"type\":\"pie\"}]},\"layout\":{\"autotypenumbers\":\"strict\",\"colorway\":[\"#636efa\",\"#EF553B\",\"#00cc96\",\"#ab63fa\",\"#FFA15A\",\"#19d3f3\",\"#FF6692\",\"#B6E880\",\"#FF97FF\",\"#FECB52\"],\"font\":{\"color\":\"#2a3f5f\"},\"hovermode\":\"closest\",\"hoverlabel\":{\"align\":\"left\"},\"paper_bgcolor\":\"white\",\"plot_bgcolor\":\"#E5ECF6\",\"polar\":{\"bgcolor\":\"#E5ECF6\",\"angularaxis\":{\"gridcolor\":\"white\",\"linecolor\":\"white\",\"ticks\":\"\"},\"radialaxis\":{\"gridcolor\":\"white\",\"linecolor\":\"white\",\"ticks\":\"\"}},\"ternary\":{\"bgcolor\":\"#E5ECF6\",\"aaxis\":{\"gridcolor\":\"white\",\"linecolor\":\"white\",\"ticks\":\"\"},\"baxis\":{\"gridcolor\":\"white\",\"linecolor\":\"white\",\"ticks\":\"\"},\"caxis\":{\"gridcolor\":\"white\",\"linecolor\":\"white\",\"ticks\":\"\"}},\"coloraxis\":{\"colorbar\":{\"outlinewidth\":0,\"ticks\":\"\"}},\"colorscale\":{\"sequential\":[[0.0,\"#0d0887\"],[0.1111111111111111,\"#46039f\"],[0.2222222222222222,\"#7201a8\"],[0.3333333333333333,\"#9c179e\"],[0.4444444444444444,\"#bd3786\"],[0.5555555555555556,\"#d8576b\"],[0.6666666666666666,\"#ed7953\"],[0.7777777777777778,\"#fb9f3a\"],[0.8888888888888888,\"#fdca26\"],[1.0,\"#f0f921\"]],\"sequentialminus\":[[0.0,\"#0d0887\"],[0.1111111111111111,\"#46039f\"],[0.2222222222222222,\"#7201a8\"],[0.3333333333333333,\"#9c179e\"],[0.4444444444444444,\"#bd3786\"],[0.5555555555555556,\"#d8576b\"],[0.6666666666666666,\"#ed7953\"],[0.7777777777777778,\"#fb9f3a\"],[0.8888888888888888,\"#fdca26\"],[1.0,\"#f0f921\"]],\"diverging\":[[0,\"#8e0152\"],[0.1,\"#c51b7d\"],[0.2,\"#de77ae\"],[0.3,\"#f1b6da\"],[0.4,\"#fde0ef\"],[0.5,\"#f7f7f7\"],[0.6,\"#e6f5d0\"],[0.7,\"#b8e186\"],[0.8,\"#7fbc41\"],[0.9,\"#4d9221\"],[1,\"#276419\"]]},\"xaxis\":{\"gridcolor\":\"white\",\"linecolor\":\"white\",\"ticks\":\"\",\"title\":{\"standoff\":15},\"zerolinecolor\":\"white\",\"automargin\":true,\"zerolinewidth\":2},\"yaxis\":{\"gridcolor\":\"white\",\"linecolor\":\"white\",\"ticks\":\"\",\"title\":{\"standoff\":15},\"zerolinecolor\":\"white\",\"automargin\":true,\"zerolinewidth\":2},\"scene\":{\"xaxis\":{\"backgroundcolor\":\"#E5ECF6\",\"gridcolor\":\"white\",\"linecolor\":\"white\",\"showbackground\":true,\"ticks\":\"\",\"zerolinecolor\":\"white\",\"gridwidth\":2},\"yaxis\":{\"backgroundcolor\":\"#E5ECF6\",\"gridcolor\":\"white\",\"linecolor\":\"white\",\"showbackground\":true,\"ticks\":\"\",\"zerolinecolor\":\"white\",\"gridwidth\":2},\"zaxis\":{\"backgroundcolor\":\"#E5ECF6\",\"gridcolor\":\"white\",\"linecolor\":\"white\",\"showbackground\":true,\"ticks\":\"\",\"zerolinecolor\":\"white\",\"gridwidth\":2}},\"shapedefaults\":{\"line\":{\"color\":\"#2a3f5f\"}},\"annotationdefaults\":{\"arrowcolor\":\"#2a3f5f\",\"arrowhead\":0,\"arrowwidth\":1},\"geo\":{\"bgcolor\":\"white\",\"landcolor\":\"#E5ECF6\",\"subunitcolor\":\"white\",\"showland\":true,\"showlakes\":true,\"lakecolor\":\"white\"},\"title\":{\"x\":0.05},\"mapbox\":{\"style\":\"light\"}}},\"xaxis\":{\"anchor\":\"y\",\"domain\":[0.0,1.0],\"title\":{\"text\":\"height\"}},\"yaxis\":{\"anchor\":\"x\",\"domain\":[0.0,1.0],\"title\":{\"text\":\"index\"}},\"legend\":{\"title\":{\"text\":\"dataset\"},\"tracegroupgap\":0},\"title\":{\"text\":\"R\\u00e9partition des hauteurs des images par dataset\"},\"width\":500,\"height\":500},                        {\"responsive\": true}                    ).then(function(){\n",
       "                            \n",
       "var gd = document.getElementById('78958459-3922-494c-b0f1-8f8c0be39321');\n",
       "var x = new MutationObserver(function (mutations, observer) {{\n",
       "        var display = window.getComputedStyle(gd).display;\n",
       "        if (!display || display === 'none') {{\n",
       "            console.log([gd, 'removed!']);\n",
       "            Plotly.purge(gd);\n",
       "            observer.disconnect();\n",
       "        }}\n",
       "}});\n",
       "\n",
       "// Listen for the removal of the full notebook cells\n",
       "var notebookContainer = gd.closest('#notebook-container');\n",
       "if (notebookContainer) {{\n",
       "    x.observe(notebookContainer, {childList: true});\n",
       "}}\n",
       "\n",
       "// Listen for the clearing of the current output cell\n",
       "var outputEl = gd.closest('.output');\n",
       "if (outputEl) {{\n",
       "    x.observe(outputEl, {childList: true});\n",
       "}}\n",
       "\n",
       "                        })                };                });            </script>        </div>"
      ]
     },
     "metadata": {},
     "output_type": "display_data"
    }
   ],
   "source": [
    "# Créer un scatter plot interactif pour la largeur (width) en différenciant par le dataset\n",
    "fig_width = px.scatter(df, x='width', color='dataset', title=\"Répartition des largeurs des images par dataset\")\n",
    "\n",
    "# Créer un scatter plot interactif pour la hauteur (height) en différenciant par le dataset\n",
    "fig_height = px.scatter(df, x='height', color='dataset', title=\"Répartition des hauteurs des images par dataset\")\n",
    "fig_width.update_layout(width=500, height=500)\n",
    "fig_height.update_layout(width=500, height=500)\n",
    "fig_width.show()\n",
    "fig_height.show()\n"
   ]
  },
  {
   "cell_type": "code",
   "execution_count": 128,
   "id": "a7b54f58-6d6d-4fd2-8b81-7f205001429a",
   "metadata": {
    "tags": []
   },
   "outputs": [
    {
     "data": {
      "application/vnd.plotly.v1+json": {
       "config": {
        "plotlyServerURL": "https://plot.ly"
       },
       "data": [
        {
         "alignmentgroup": "True",
         "customdata": [
          [
           "ALL_IDB\\ALL_IDB1\\ALL_IDB1\\im\\Im001_1.jpg"
          ],
          [
           "ALL_IDB\\ALL_IDB1\\ALL_IDB1\\im\\Im002_1.jpg"
          ],
          [
           "ALL_IDB\\ALL_IDB1\\ALL_IDB1\\im\\Im003_1.jpg"
          ],
          [
           "ALL_IDB\\ALL_IDB1\\ALL_IDB1\\im\\Im004_1.jpg"
          ],
          [
           "ALL_IDB\\ALL_IDB1\\ALL_IDB1\\im\\Im005_1.jpg"
          ],
          [
           "ALL_IDB\\ALL_IDB1\\ALL_IDB1\\im\\Im006_1.jpg"
          ],
          [
           "ALL_IDB\\ALL_IDB1\\ALL_IDB1\\im\\Im007_1.jpg"
          ],
          [
           "ALL_IDB\\ALL_IDB1\\ALL_IDB1\\im\\Im008_1.jpg"
          ],
          [
           "ALL_IDB\\ALL_IDB1\\ALL_IDB1\\im\\Im009_1.jpg"
          ],
          [
           "ALL_IDB\\ALL_IDB1\\ALL_IDB1\\im\\Im010_1.jpg"
          ],
          [
           "ALL_IDB\\ALL_IDB1\\ALL_IDB1\\im\\Im011_1.jpg"
          ],
          [
           "ALL_IDB\\ALL_IDB1\\ALL_IDB1\\im\\Im012_1.jpg"
          ],
          [
           "ALL_IDB\\ALL_IDB1\\ALL_IDB1\\im\\Im013_1.jpg"
          ],
          [
           "ALL_IDB\\ALL_IDB1\\ALL_IDB1\\im\\Im014_1.jpg"
          ],
          [
           "ALL_IDB\\ALL_IDB1\\ALL_IDB1\\im\\Im015_1.jpg"
          ],
          [
           "ALL_IDB\\ALL_IDB1\\ALL_IDB1\\im\\Im016_1.jpg"
          ],
          [
           "ALL_IDB\\ALL_IDB1\\ALL_IDB1\\im\\Im017_1.jpg"
          ],
          [
           "ALL_IDB\\ALL_IDB1\\ALL_IDB1\\im\\Im018_1.jpg"
          ],
          [
           "ALL_IDB\\ALL_IDB1\\ALL_IDB1\\im\\Im019_1.jpg"
          ],
          [
           "ALL_IDB\\ALL_IDB1\\ALL_IDB1\\im\\Im020_1.jpg"
          ],
          [
           "ALL_IDB\\ALL_IDB1\\ALL_IDB1\\im\\Im021_1.jpg"
          ],
          [
           "ALL_IDB\\ALL_IDB1\\ALL_IDB1\\im\\Im022_1.jpg"
          ],
          [
           "ALL_IDB\\ALL_IDB1\\ALL_IDB1\\im\\Im023_1.jpg"
          ],
          [
           "ALL_IDB\\ALL_IDB1\\ALL_IDB1\\im\\Im024_1.jpg"
          ],
          [
           "ALL_IDB\\ALL_IDB1\\ALL_IDB1\\im\\Im025_1.jpg"
          ],
          [
           "ALL_IDB\\ALL_IDB1\\ALL_IDB1\\im\\Im026_1.jpg"
          ],
          [
           "ALL_IDB\\ALL_IDB1\\ALL_IDB1\\im\\Im027_1.jpg"
          ],
          [
           "ALL_IDB\\ALL_IDB1\\ALL_IDB1\\im\\Im028_1.jpg"
          ],
          [
           "ALL_IDB\\ALL_IDB1\\ALL_IDB1\\im\\Im029_1.jpg"
          ],
          [
           "ALL_IDB\\ALL_IDB1\\ALL_IDB1\\im\\Im030_1.jpg"
          ],
          [
           "ALL_IDB\\ALL_IDB1\\ALL_IDB1\\im\\Im031_1.jpg"
          ],
          [
           "ALL_IDB\\ALL_IDB1\\ALL_IDB1\\im\\Im032_1.jpg"
          ],
          [
           "ALL_IDB\\ALL_IDB1\\ALL_IDB1\\im\\Im033_1.jpg"
          ],
          [
           "ALL_IDB\\ALL_IDB1\\ALL_IDB1\\im\\Im034_0.jpg"
          ],
          [
           "ALL_IDB\\ALL_IDB1\\ALL_IDB1\\im\\Im035_0.jpg"
          ],
          [
           "ALL_IDB\\ALL_IDB1\\ALL_IDB1\\im\\Im036_0.jpg"
          ],
          [
           "ALL_IDB\\ALL_IDB1\\ALL_IDB1\\im\\Im037_0.jpg"
          ],
          [
           "ALL_IDB\\ALL_IDB1\\ALL_IDB1\\im\\Im038_0.jpg"
          ],
          [
           "ALL_IDB\\ALL_IDB1\\ALL_IDB1\\im\\Im039_0.jpg"
          ],
          [
           "ALL_IDB\\ALL_IDB1\\ALL_IDB1\\im\\Im040_0.jpg"
          ],
          [
           "ALL_IDB\\ALL_IDB1\\ALL_IDB1\\im\\Im041_0.jpg"
          ],
          [
           "ALL_IDB\\ALL_IDB1\\ALL_IDB1\\im\\Im042_0.jpg"
          ],
          [
           "ALL_IDB\\ALL_IDB1\\ALL_IDB1\\im\\Im043_0.jpg"
          ],
          [
           "ALL_IDB\\ALL_IDB1\\ALL_IDB1\\im\\Im044_0.jpg"
          ],
          [
           "ALL_IDB\\ALL_IDB1\\ALL_IDB1\\im\\Im045_0.jpg"
          ],
          [
           "ALL_IDB\\ALL_IDB1\\ALL_IDB1\\im\\Im046_0.jpg"
          ],
          [
           "ALL_IDB\\ALL_IDB1\\ALL_IDB1\\im\\Im047_0.jpg"
          ],
          [
           "ALL_IDB\\ALL_IDB1\\ALL_IDB1\\im\\Im048_1.jpg"
          ],
          [
           "ALL_IDB\\ALL_IDB1\\ALL_IDB1\\im\\Im049_1.jpg"
          ],
          [
           "ALL_IDB\\ALL_IDB1\\ALL_IDB1\\im\\Im050_1.jpg"
          ],
          [
           "ALL_IDB\\ALL_IDB1\\ALL_IDB1\\im\\Im051_1.jpg"
          ],
          [
           "ALL_IDB\\ALL_IDB1\\ALL_IDB1\\im\\Im052_1.jpg"
          ],
          [
           "ALL_IDB\\ALL_IDB1\\ALL_IDB1\\im\\Im053_1.jpg"
          ],
          [
           "ALL_IDB\\ALL_IDB1\\ALL_IDB1\\im\\Im054_1.jpg"
          ],
          [
           "ALL_IDB\\ALL_IDB1\\ALL_IDB1\\im\\Im055_1.jpg"
          ],
          [
           "ALL_IDB\\ALL_IDB1\\ALL_IDB1\\im\\Im056_1.jpg"
          ],
          [
           "ALL_IDB\\ALL_IDB1\\ALL_IDB1\\im\\Im057_1.jpg"
          ],
          [
           "ALL_IDB\\ALL_IDB1\\ALL_IDB1\\im\\Im058_1.jpg"
          ],
          [
           "ALL_IDB\\ALL_IDB1\\ALL_IDB1\\im\\Im059_1.jpg"
          ],
          [
           "ALL_IDB\\ALL_IDB1\\ALL_IDB1\\im\\Im060_1.jpg"
          ],
          [
           "ALL_IDB\\ALL_IDB1\\ALL_IDB1\\im\\Im061_1.jpg"
          ],
          [
           "ALL_IDB\\ALL_IDB1\\ALL_IDB1\\im\\Im062_1.jpg"
          ],
          [
           "ALL_IDB\\ALL_IDB1\\ALL_IDB1\\im\\Im063_1.jpg"
          ],
          [
           "ALL_IDB\\ALL_IDB1\\ALL_IDB1\\im\\Im064_0.jpg"
          ],
          [
           "ALL_IDB\\ALL_IDB1\\ALL_IDB1\\im\\Im065_0.jpg"
          ],
          [
           "ALL_IDB\\ALL_IDB1\\ALL_IDB1\\im\\Im066_0.jpg"
          ],
          [
           "ALL_IDB\\ALL_IDB1\\ALL_IDB1\\im\\Im067_0.jpg"
          ],
          [
           "ALL_IDB\\ALL_IDB1\\ALL_IDB1\\im\\Im068_0.jpg"
          ],
          [
           "ALL_IDB\\ALL_IDB1\\ALL_IDB1\\im\\Im069_0.jpg"
          ],
          [
           "ALL_IDB\\ALL_IDB1\\ALL_IDB1\\im\\Im070_0.jpg"
          ],
          [
           "ALL_IDB\\ALL_IDB1\\ALL_IDB1\\im\\Im071_0.jpg"
          ],
          [
           "ALL_IDB\\ALL_IDB1\\ALL_IDB1\\im\\Im072_0.jpg"
          ],
          [
           "ALL_IDB\\ALL_IDB1\\ALL_IDB1\\im\\Im073_0.jpg"
          ],
          [
           "ALL_IDB\\ALL_IDB1\\ALL_IDB1\\im\\Im074_0.jpg"
          ],
          [
           "ALL_IDB\\ALL_IDB1\\ALL_IDB1\\im\\Im075_0.jpg"
          ],
          [
           "ALL_IDB\\ALL_IDB1\\ALL_IDB1\\im\\Im076_0.jpg"
          ],
          [
           "ALL_IDB\\ALL_IDB1\\ALL_IDB1\\im\\Im077_0.jpg"
          ],
          [
           "ALL_IDB\\ALL_IDB1\\ALL_IDB1\\im\\Im078_0.jpg"
          ],
          [
           "ALL_IDB\\ALL_IDB1\\ALL_IDB1\\im\\Im079_0.jpg"
          ],
          [
           "ALL_IDB\\ALL_IDB1\\ALL_IDB1\\im\\Im080_0.jpg"
          ],
          [
           "ALL_IDB\\ALL_IDB1\\ALL_IDB1\\im\\Im081_0.jpg"
          ],
          [
           "ALL_IDB\\ALL_IDB1\\ALL_IDB1\\im\\Im082_0.jpg"
          ],
          [
           "ALL_IDB\\ALL_IDB1\\ALL_IDB1\\im\\Im083_0.jpg"
          ],
          [
           "ALL_IDB\\ALL_IDB1\\ALL_IDB1\\im\\Im084_0.jpg"
          ],
          [
           "ALL_IDB\\ALL_IDB1\\ALL_IDB1\\im\\Im085_0.jpg"
          ],
          [
           "ALL_IDB\\ALL_IDB1\\ALL_IDB1\\im\\Im086_0.jpg"
          ],
          [
           "ALL_IDB\\ALL_IDB1\\ALL_IDB1\\im\\Im087_0.jpg"
          ],
          [
           "ALL_IDB\\ALL_IDB1\\ALL_IDB1\\im\\Im088_0.jpg"
          ],
          [
           "ALL_IDB\\ALL_IDB1\\ALL_IDB1\\im\\Im089_0.jpg"
          ],
          [
           "ALL_IDB\\ALL_IDB1\\ALL_IDB1\\im\\Im090_0.jpg"
          ],
          [
           "ALL_IDB\\ALL_IDB1\\ALL_IDB1\\im\\Im091_0.jpg"
          ],
          [
           "ALL_IDB\\ALL_IDB1\\ALL_IDB1\\im\\Im092_0.jpg"
          ],
          [
           "ALL_IDB\\ALL_IDB1\\ALL_IDB1\\im\\Im093_0.jpg"
          ],
          [
           "ALL_IDB\\ALL_IDB1\\ALL_IDB1\\im\\Im094_0.jpg"
          ],
          [
           "ALL_IDB\\ALL_IDB1\\ALL_IDB1\\im\\Im095_0.jpg"
          ],
          [
           "ALL_IDB\\ALL_IDB1\\ALL_IDB1\\im\\Im096_0.jpg"
          ],
          [
           "ALL_IDB\\ALL_IDB1\\ALL_IDB1\\im\\Im097_0.jpg"
          ],
          [
           "ALL_IDB\\ALL_IDB1\\ALL_IDB1\\im\\Im098_0.jpg"
          ],
          [
           "ALL_IDB\\ALL_IDB1\\ALL_IDB1\\im\\Im099_0.jpg"
          ],
          [
           "ALL_IDB\\ALL_IDB1\\ALL_IDB1\\im\\Im100_0.jpg"
          ],
          [
           "ALL_IDB\\ALL_IDB1\\ALL_IDB1\\im\\Im101_0.jpg"
          ],
          [
           "ALL_IDB\\ALL_IDB1\\ALL_IDB1\\im\\Im102_0.jpg"
          ],
          [
           "ALL_IDB\\ALL_IDB1\\ALL_IDB1\\im\\Im103_0.jpg"
          ],
          [
           "ALL_IDB\\ALL_IDB1\\ALL_IDB1\\im\\Im104_0.jpg"
          ],
          [
           "ALL_IDB\\ALL_IDB1\\ALL_IDB1\\im\\Im105_0.jpg"
          ],
          [
           "ALL_IDB\\ALL_IDB1\\ALL_IDB1\\im\\Im106_0.jpg"
          ],
          [
           "ALL_IDB\\ALL_IDB1\\ALL_IDB1\\im\\Im107_0.jpg"
          ],
          [
           "ALL_IDB\\ALL_IDB1\\ALL_IDB1\\im\\Im108_0.jpg"
          ],
          [
           "ALL_IDB\\ALL_IDB2\\ALL_IDB2\\img\\Im001_1.tif"
          ],
          [
           "ALL_IDB\\ALL_IDB2\\ALL_IDB2\\img\\Im002_1.tif"
          ],
          [
           "ALL_IDB\\ALL_IDB2\\ALL_IDB2\\img\\Im003_1.tif"
          ],
          [
           "ALL_IDB\\ALL_IDB2\\ALL_IDB2\\img\\Im004_1.tif"
          ],
          [
           "ALL_IDB\\ALL_IDB2\\ALL_IDB2\\img\\Im005_1.tif"
          ],
          [
           "ALL_IDB\\ALL_IDB2\\ALL_IDB2\\img\\Im006_1.tif"
          ],
          [
           "ALL_IDB\\ALL_IDB2\\ALL_IDB2\\img\\Im007_1.tif"
          ],
          [
           "ALL_IDB\\ALL_IDB2\\ALL_IDB2\\img\\Im008_1.tif"
          ],
          [
           "ALL_IDB\\ALL_IDB2\\ALL_IDB2\\img\\Im009_1.tif"
          ],
          [
           "ALL_IDB\\ALL_IDB2\\ALL_IDB2\\img\\Im010_1.tif"
          ],
          [
           "ALL_IDB\\ALL_IDB2\\ALL_IDB2\\img\\Im011_1.tif"
          ],
          [
           "ALL_IDB\\ALL_IDB2\\ALL_IDB2\\img\\Im012_1.tif"
          ],
          [
           "ALL_IDB\\ALL_IDB2\\ALL_IDB2\\img\\Im013_1.tif"
          ],
          [
           "ALL_IDB\\ALL_IDB2\\ALL_IDB2\\img\\Im014_1.tif"
          ],
          [
           "ALL_IDB\\ALL_IDB2\\ALL_IDB2\\img\\Im015_1.tif"
          ],
          [
           "ALL_IDB\\ALL_IDB2\\ALL_IDB2\\img\\Im016_1.tif"
          ],
          [
           "ALL_IDB\\ALL_IDB2\\ALL_IDB2\\img\\Im017_1.tif"
          ],
          [
           "ALL_IDB\\ALL_IDB2\\ALL_IDB2\\img\\Im018_1.tif"
          ],
          [
           "ALL_IDB\\ALL_IDB2\\ALL_IDB2\\img\\Im019_1.tif"
          ],
          [
           "ALL_IDB\\ALL_IDB2\\ALL_IDB2\\img\\Im020_1.tif"
          ],
          [
           "ALL_IDB\\ALL_IDB2\\ALL_IDB2\\img\\Im021_1.tif"
          ],
          [
           "ALL_IDB\\ALL_IDB2\\ALL_IDB2\\img\\Im022_1.tif"
          ],
          [
           "ALL_IDB\\ALL_IDB2\\ALL_IDB2\\img\\Im023_1.tif"
          ],
          [
           "ALL_IDB\\ALL_IDB2\\ALL_IDB2\\img\\Im024_1.tif"
          ],
          [
           "ALL_IDB\\ALL_IDB2\\ALL_IDB2\\img\\Im025_1.tif"
          ],
          [
           "ALL_IDB\\ALL_IDB2\\ALL_IDB2\\img\\Im026_1.tif"
          ],
          [
           "ALL_IDB\\ALL_IDB2\\ALL_IDB2\\img\\Im027_1.tif"
          ],
          [
           "ALL_IDB\\ALL_IDB2\\ALL_IDB2\\img\\Im028_1.tif"
          ],
          [
           "ALL_IDB\\ALL_IDB2\\ALL_IDB2\\img\\Im029_1.tif"
          ],
          [
           "ALL_IDB\\ALL_IDB2\\ALL_IDB2\\img\\Im030_1.tif"
          ],
          [
           "ALL_IDB\\ALL_IDB2\\ALL_IDB2\\img\\Im031_1.tif"
          ],
          [
           "ALL_IDB\\ALL_IDB2\\ALL_IDB2\\img\\Im032_1.tif"
          ],
          [
           "ALL_IDB\\ALL_IDB2\\ALL_IDB2\\img\\Im033_1.tif"
          ],
          [
           "ALL_IDB\\ALL_IDB2\\ALL_IDB2\\img\\Im034_1.tif"
          ],
          [
           "ALL_IDB\\ALL_IDB2\\ALL_IDB2\\img\\Im035_1.tif"
          ],
          [
           "ALL_IDB\\ALL_IDB2\\ALL_IDB2\\img\\Im036_1.tif"
          ],
          [
           "ALL_IDB\\ALL_IDB2\\ALL_IDB2\\img\\Im037_1.tif"
          ],
          [
           "ALL_IDB\\ALL_IDB2\\ALL_IDB2\\img\\Im038_1.tif"
          ],
          [
           "ALL_IDB\\ALL_IDB2\\ALL_IDB2\\img\\Im039_1.tif"
          ],
          [
           "ALL_IDB\\ALL_IDB2\\ALL_IDB2\\img\\Im040_1.tif"
          ],
          [
           "ALL_IDB\\ALL_IDB2\\ALL_IDB2\\img\\Im041_1.tif"
          ],
          [
           "ALL_IDB\\ALL_IDB2\\ALL_IDB2\\img\\Im042_1.tif"
          ],
          [
           "ALL_IDB\\ALL_IDB2\\ALL_IDB2\\img\\Im043_1.tif"
          ],
          [
           "ALL_IDB\\ALL_IDB2\\ALL_IDB2\\img\\Im044_1.tif"
          ],
          [
           "ALL_IDB\\ALL_IDB2\\ALL_IDB2\\img\\Im045_1.tif"
          ],
          [
           "ALL_IDB\\ALL_IDB2\\ALL_IDB2\\img\\Im046_1.tif"
          ],
          [
           "ALL_IDB\\ALL_IDB2\\ALL_IDB2\\img\\Im047_1.tif"
          ],
          [
           "ALL_IDB\\ALL_IDB2\\ALL_IDB2\\img\\Im048_1.tif"
          ],
          [
           "ALL_IDB\\ALL_IDB2\\ALL_IDB2\\img\\Im049_1.tif"
          ],
          [
           "ALL_IDB\\ALL_IDB2\\ALL_IDB2\\img\\Im050_1.tif"
          ],
          [
           "ALL_IDB\\ALL_IDB2\\ALL_IDB2\\img\\Im051_1.tif"
          ],
          [
           "ALL_IDB\\ALL_IDB2\\ALL_IDB2\\img\\Im052_1.tif"
          ],
          [
           "ALL_IDB\\ALL_IDB2\\ALL_IDB2\\img\\Im053_1.tif"
          ],
          [
           "ALL_IDB\\ALL_IDB2\\ALL_IDB2\\img\\Im054_1.tif"
          ],
          [
           "ALL_IDB\\ALL_IDB2\\ALL_IDB2\\img\\Im055_1.tif"
          ],
          [
           "ALL_IDB\\ALL_IDB2\\ALL_IDB2\\img\\Im056_1.tif"
          ],
          [
           "ALL_IDB\\ALL_IDB2\\ALL_IDB2\\img\\Im057_1.tif"
          ],
          [
           "ALL_IDB\\ALL_IDB2\\ALL_IDB2\\img\\Im058_1.tif"
          ],
          [
           "ALL_IDB\\ALL_IDB2\\ALL_IDB2\\img\\Im059_1.tif"
          ],
          [
           "ALL_IDB\\ALL_IDB2\\ALL_IDB2\\img\\Im060_1.tif"
          ],
          [
           "ALL_IDB\\ALL_IDB2\\ALL_IDB2\\img\\Im061_1.tif"
          ],
          [
           "ALL_IDB\\ALL_IDB2\\ALL_IDB2\\img\\Im062_1.tif"
          ],
          [
           "ALL_IDB\\ALL_IDB2\\ALL_IDB2\\img\\Im063_1.tif"
          ],
          [
           "ALL_IDB\\ALL_IDB2\\ALL_IDB2\\img\\Im064_1.tif"
          ],
          [
           "ALL_IDB\\ALL_IDB2\\ALL_IDB2\\img\\Im065_1.tif"
          ],
          [
           "ALL_IDB\\ALL_IDB2\\ALL_IDB2\\img\\Im066_1.tif"
          ],
          [
           "ALL_IDB\\ALL_IDB2\\ALL_IDB2\\img\\Im067_1.tif"
          ],
          [
           "ALL_IDB\\ALL_IDB2\\ALL_IDB2\\img\\Im068_1.tif"
          ],
          [
           "ALL_IDB\\ALL_IDB2\\ALL_IDB2\\img\\Im069_1.tif"
          ],
          [
           "ALL_IDB\\ALL_IDB2\\ALL_IDB2\\img\\Im070_1.tif"
          ],
          [
           "ALL_IDB\\ALL_IDB2\\ALL_IDB2\\img\\Im071_1.tif"
          ],
          [
           "ALL_IDB\\ALL_IDB2\\ALL_IDB2\\img\\Im072_1.tif"
          ],
          [
           "ALL_IDB\\ALL_IDB2\\ALL_IDB2\\img\\Im073_1.tif"
          ],
          [
           "ALL_IDB\\ALL_IDB2\\ALL_IDB2\\img\\Im074_1.tif"
          ],
          [
           "ALL_IDB\\ALL_IDB2\\ALL_IDB2\\img\\Im075_1.tif"
          ],
          [
           "ALL_IDB\\ALL_IDB2\\ALL_IDB2\\img\\Im076_1.tif"
          ],
          [
           "ALL_IDB\\ALL_IDB2\\ALL_IDB2\\img\\Im077_1.tif"
          ],
          [
           "ALL_IDB\\ALL_IDB2\\ALL_IDB2\\img\\Im078_1.tif"
          ],
          [
           "ALL_IDB\\ALL_IDB2\\ALL_IDB2\\img\\Im079_1.tif"
          ],
          [
           "ALL_IDB\\ALL_IDB2\\ALL_IDB2\\img\\Im080_1.tif"
          ],
          [
           "ALL_IDB\\ALL_IDB2\\ALL_IDB2\\img\\Im081_1.tif"
          ],
          [
           "ALL_IDB\\ALL_IDB2\\ALL_IDB2\\img\\Im082_1.tif"
          ],
          [
           "ALL_IDB\\ALL_IDB2\\ALL_IDB2\\img\\Im083_1.tif"
          ],
          [
           "ALL_IDB\\ALL_IDB2\\ALL_IDB2\\img\\Im084_1.tif"
          ],
          [
           "ALL_IDB\\ALL_IDB2\\ALL_IDB2\\img\\Im085_1.tif"
          ],
          [
           "ALL_IDB\\ALL_IDB2\\ALL_IDB2\\img\\Im086_1.tif"
          ],
          [
           "ALL_IDB\\ALL_IDB2\\ALL_IDB2\\img\\Im087_1.tif"
          ],
          [
           "ALL_IDB\\ALL_IDB2\\ALL_IDB2\\img\\Im088_1.tif"
          ],
          [
           "ALL_IDB\\ALL_IDB2\\ALL_IDB2\\img\\Im089_1.tif"
          ],
          [
           "ALL_IDB\\ALL_IDB2\\ALL_IDB2\\img\\Im090_1.tif"
          ],
          [
           "ALL_IDB\\ALL_IDB2\\ALL_IDB2\\img\\Im091_1.tif"
          ],
          [
           "ALL_IDB\\ALL_IDB2\\ALL_IDB2\\img\\Im092_1.tif"
          ],
          [
           "ALL_IDB\\ALL_IDB2\\ALL_IDB2\\img\\Im093_1.tif"
          ],
          [
           "ALL_IDB\\ALL_IDB2\\ALL_IDB2\\img\\Im094_1.tif"
          ],
          [
           "ALL_IDB\\ALL_IDB2\\ALL_IDB2\\img\\Im095_1.tif"
          ],
          [
           "ALL_IDB\\ALL_IDB2\\ALL_IDB2\\img\\Im096_1.tif"
          ],
          [
           "ALL_IDB\\ALL_IDB2\\ALL_IDB2\\img\\Im097_1.tif"
          ],
          [
           "ALL_IDB\\ALL_IDB2\\ALL_IDB2\\img\\Im098_1.tif"
          ],
          [
           "ALL_IDB\\ALL_IDB2\\ALL_IDB2\\img\\Im099_1.tif"
          ],
          [
           "ALL_IDB\\ALL_IDB2\\ALL_IDB2\\img\\Im100_1.tif"
          ],
          [
           "ALL_IDB\\ALL_IDB2\\ALL_IDB2\\img\\Im101_1.tif"
          ],
          [
           "ALL_IDB\\ALL_IDB2\\ALL_IDB2\\img\\Im102_1.tif"
          ],
          [
           "ALL_IDB\\ALL_IDB2\\ALL_IDB2\\img\\Im103_1.tif"
          ],
          [
           "ALL_IDB\\ALL_IDB2\\ALL_IDB2\\img\\Im104_1.tif"
          ],
          [
           "ALL_IDB\\ALL_IDB2\\ALL_IDB2\\img\\Im105_1.tif"
          ],
          [
           "ALL_IDB\\ALL_IDB2\\ALL_IDB2\\img\\Im106_1.tif"
          ],
          [
           "ALL_IDB\\ALL_IDB2\\ALL_IDB2\\img\\Im107_1.tif"
          ],
          [
           "ALL_IDB\\ALL_IDB2\\ALL_IDB2\\img\\Im108_1.tif"
          ],
          [
           "ALL_IDB\\ALL_IDB2\\ALL_IDB2\\img\\Im109_1.tif"
          ],
          [
           "ALL_IDB\\ALL_IDB2\\ALL_IDB2\\img\\Im110_1.tif"
          ],
          [
           "ALL_IDB\\ALL_IDB2\\ALL_IDB2\\img\\Im111_1.tif"
          ],
          [
           "ALL_IDB\\ALL_IDB2\\ALL_IDB2\\img\\Im112_1.tif"
          ],
          [
           "ALL_IDB\\ALL_IDB2\\ALL_IDB2\\img\\Im113_1.tif"
          ],
          [
           "ALL_IDB\\ALL_IDB2\\ALL_IDB2\\img\\Im114_1.tif"
          ],
          [
           "ALL_IDB\\ALL_IDB2\\ALL_IDB2\\img\\Im115_1.tif"
          ],
          [
           "ALL_IDB\\ALL_IDB2\\ALL_IDB2\\img\\Im116_1.tif"
          ],
          [
           "ALL_IDB\\ALL_IDB2\\ALL_IDB2\\img\\Im117_1.tif"
          ],
          [
           "ALL_IDB\\ALL_IDB2\\ALL_IDB2\\img\\Im118_1.tif"
          ],
          [
           "ALL_IDB\\ALL_IDB2\\ALL_IDB2\\img\\Im119_1.tif"
          ],
          [
           "ALL_IDB\\ALL_IDB2\\ALL_IDB2\\img\\Im120_1.tif"
          ],
          [
           "ALL_IDB\\ALL_IDB2\\ALL_IDB2\\img\\Im121_1.tif"
          ],
          [
           "ALL_IDB\\ALL_IDB2\\ALL_IDB2\\img\\Im122_1.tif"
          ],
          [
           "ALL_IDB\\ALL_IDB2\\ALL_IDB2\\img\\Im123_1.tif"
          ],
          [
           "ALL_IDB\\ALL_IDB2\\ALL_IDB2\\img\\Im124_1.tif"
          ],
          [
           "ALL_IDB\\ALL_IDB2\\ALL_IDB2\\img\\Im125_1.tif"
          ],
          [
           "ALL_IDB\\ALL_IDB2\\ALL_IDB2\\img\\Im126_1.tif"
          ],
          [
           "ALL_IDB\\ALL_IDB2\\ALL_IDB2\\img\\Im127_1.tif"
          ],
          [
           "ALL_IDB\\ALL_IDB2\\ALL_IDB2\\img\\Im128_1.tif"
          ],
          [
           "ALL_IDB\\ALL_IDB2\\ALL_IDB2\\img\\Im129_1.tif"
          ],
          [
           "ALL_IDB\\ALL_IDB2\\ALL_IDB2\\img\\Im130_1.tif"
          ],
          [
           "ALL_IDB\\ALL_IDB2\\ALL_IDB2\\img\\Im131_0.tif"
          ],
          [
           "ALL_IDB\\ALL_IDB2\\ALL_IDB2\\img\\Im132_0.tif"
          ],
          [
           "ALL_IDB\\ALL_IDB2\\ALL_IDB2\\img\\Im133_0.tif"
          ],
          [
           "ALL_IDB\\ALL_IDB2\\ALL_IDB2\\img\\Im134_0.tif"
          ],
          [
           "ALL_IDB\\ALL_IDB2\\ALL_IDB2\\img\\Im135_0.tif"
          ],
          [
           "ALL_IDB\\ALL_IDB2\\ALL_IDB2\\img\\Im136_0.tif"
          ],
          [
           "ALL_IDB\\ALL_IDB2\\ALL_IDB2\\img\\Im137_0.tif"
          ],
          [
           "ALL_IDB\\ALL_IDB2\\ALL_IDB2\\img\\Im138_0.tif"
          ],
          [
           "ALL_IDB\\ALL_IDB2\\ALL_IDB2\\img\\Im139_0.tif"
          ],
          [
           "ALL_IDB\\ALL_IDB2\\ALL_IDB2\\img\\Im140_0.tif"
          ],
          [
           "ALL_IDB\\ALL_IDB2\\ALL_IDB2\\img\\Im141_0.tif"
          ],
          [
           "ALL_IDB\\ALL_IDB2\\ALL_IDB2\\img\\Im142_0.tif"
          ],
          [
           "ALL_IDB\\ALL_IDB2\\ALL_IDB2\\img\\Im143_0.tif"
          ],
          [
           "ALL_IDB\\ALL_IDB2\\ALL_IDB2\\img\\Im144_0.tif"
          ],
          [
           "ALL_IDB\\ALL_IDB2\\ALL_IDB2\\img\\Im145_0.tif"
          ],
          [
           "ALL_IDB\\ALL_IDB2\\ALL_IDB2\\img\\Im146_0.tif"
          ],
          [
           "ALL_IDB\\ALL_IDB2\\ALL_IDB2\\img\\Im147_0.tif"
          ],
          [
           "ALL_IDB\\ALL_IDB2\\ALL_IDB2\\img\\Im148_0.tif"
          ],
          [
           "ALL_IDB\\ALL_IDB2\\ALL_IDB2\\img\\Im149_0.tif"
          ],
          [
           "ALL_IDB\\ALL_IDB2\\ALL_IDB2\\img\\Im150_0.tif"
          ],
          [
           "ALL_IDB\\ALL_IDB2\\ALL_IDB2\\img\\Im151_0.tif"
          ],
          [
           "ALL_IDB\\ALL_IDB2\\ALL_IDB2\\img\\Im152_0.tif"
          ],
          [
           "ALL_IDB\\ALL_IDB2\\ALL_IDB2\\img\\Im153_0.tif"
          ],
          [
           "ALL_IDB\\ALL_IDB2\\ALL_IDB2\\img\\Im154_0.tif"
          ],
          [
           "ALL_IDB\\ALL_IDB2\\ALL_IDB2\\img\\Im155_0.tif"
          ],
          [
           "ALL_IDB\\ALL_IDB2\\ALL_IDB2\\img\\Im156_0.tif"
          ],
          [
           "ALL_IDB\\ALL_IDB2\\ALL_IDB2\\img\\Im157_0.tif"
          ],
          [
           "ALL_IDB\\ALL_IDB2\\ALL_IDB2\\img\\Im158_0.tif"
          ],
          [
           "ALL_IDB\\ALL_IDB2\\ALL_IDB2\\img\\Im159_0.tif"
          ],
          [
           "ALL_IDB\\ALL_IDB2\\ALL_IDB2\\img\\Im160_0.tif"
          ],
          [
           "ALL_IDB\\ALL_IDB2\\ALL_IDB2\\img\\Im161_0.tif"
          ],
          [
           "ALL_IDB\\ALL_IDB2\\ALL_IDB2\\img\\Im162_0.tif"
          ],
          [
           "ALL_IDB\\ALL_IDB2\\ALL_IDB2\\img\\Im163_0.tif"
          ],
          [
           "ALL_IDB\\ALL_IDB2\\ALL_IDB2\\img\\Im164_0.tif"
          ],
          [
           "ALL_IDB\\ALL_IDB2\\ALL_IDB2\\img\\Im165_0.tif"
          ],
          [
           "ALL_IDB\\ALL_IDB2\\ALL_IDB2\\img\\Im166_0.tif"
          ],
          [
           "ALL_IDB\\ALL_IDB2\\ALL_IDB2\\img\\Im167_0.tif"
          ],
          [
           "ALL_IDB\\ALL_IDB2\\ALL_IDB2\\img\\Im168_0.tif"
          ],
          [
           "ALL_IDB\\ALL_IDB2\\ALL_IDB2\\img\\Im169_0.tif"
          ],
          [
           "ALL_IDB\\ALL_IDB2\\ALL_IDB2\\img\\Im170_0.tif"
          ],
          [
           "ALL_IDB\\ALL_IDB2\\ALL_IDB2\\img\\Im171_0.tif"
          ],
          [
           "ALL_IDB\\ALL_IDB2\\ALL_IDB2\\img\\Im172_0.tif"
          ],
          [
           "ALL_IDB\\ALL_IDB2\\ALL_IDB2\\img\\Im173_0.tif"
          ],
          [
           "ALL_IDB\\ALL_IDB2\\ALL_IDB2\\img\\Im174_0.tif"
          ],
          [
           "ALL_IDB\\ALL_IDB2\\ALL_IDB2\\img\\Im175_0.tif"
          ],
          [
           "ALL_IDB\\ALL_IDB2\\ALL_IDB2\\img\\Im176_0.tif"
          ],
          [
           "ALL_IDB\\ALL_IDB2\\ALL_IDB2\\img\\Im177_0.tif"
          ],
          [
           "ALL_IDB\\ALL_IDB2\\ALL_IDB2\\img\\Im178_0.tif"
          ],
          [
           "ALL_IDB\\ALL_IDB2\\ALL_IDB2\\img\\Im179_0.tif"
          ],
          [
           "ALL_IDB\\ALL_IDB2\\ALL_IDB2\\img\\Im180_0.tif"
          ],
          [
           "ALL_IDB\\ALL_IDB2\\ALL_IDB2\\img\\Im181_0.tif"
          ],
          [
           "ALL_IDB\\ALL_IDB2\\ALL_IDB2\\img\\Im182_0.tif"
          ],
          [
           "ALL_IDB\\ALL_IDB2\\ALL_IDB2\\img\\Im183_0.tif"
          ],
          [
           "ALL_IDB\\ALL_IDB2\\ALL_IDB2\\img\\Im184_0.tif"
          ],
          [
           "ALL_IDB\\ALL_IDB2\\ALL_IDB2\\img\\Im185_0.tif"
          ],
          [
           "ALL_IDB\\ALL_IDB2\\ALL_IDB2\\img\\Im186_0.tif"
          ],
          [
           "ALL_IDB\\ALL_IDB2\\ALL_IDB2\\img\\Im187_0.tif"
          ],
          [
           "ALL_IDB\\ALL_IDB2\\ALL_IDB2\\img\\Im188_0.tif"
          ],
          [
           "ALL_IDB\\ALL_IDB2\\ALL_IDB2\\img\\Im189_0.tif"
          ],
          [
           "ALL_IDB\\ALL_IDB2\\ALL_IDB2\\img\\Im190_0.tif"
          ],
          [
           "ALL_IDB\\ALL_IDB2\\ALL_IDB2\\img\\Im191_0.tif"
          ],
          [
           "ALL_IDB\\ALL_IDB2\\ALL_IDB2\\img\\Im192_0.tif"
          ],
          [
           "ALL_IDB\\ALL_IDB2\\ALL_IDB2\\img\\Im193_0.tif"
          ],
          [
           "ALL_IDB\\ALL_IDB2\\ALL_IDB2\\img\\Im194_0.tif"
          ],
          [
           "ALL_IDB\\ALL_IDB2\\ALL_IDB2\\img\\Im195_0.tif"
          ],
          [
           "ALL_IDB\\ALL_IDB2\\ALL_IDB2\\img\\Im196_0.tif"
          ],
          [
           "ALL_IDB\\ALL_IDB2\\ALL_IDB2\\img\\Im197_0.tif"
          ],
          [
           "ALL_IDB\\ALL_IDB2\\ALL_IDB2\\img\\Im198_0.tif"
          ],
          [
           "ALL_IDB\\ALL_IDB2\\ALL_IDB2\\img\\Im199_0.tif"
          ],
          [
           "ALL_IDB\\ALL_IDB2\\ALL_IDB2\\img\\Im200_0.tif"
          ],
          [
           "ALL_IDB\\ALL_IDB2\\ALL_IDB2\\img\\Im201_0.tif"
          ],
          [
           "ALL_IDB\\ALL_IDB2\\ALL_IDB2\\img\\Im202_0.tif"
          ],
          [
           "ALL_IDB\\ALL_IDB2\\ALL_IDB2\\img\\Im203_0.tif"
          ],
          [
           "ALL_IDB\\ALL_IDB2\\ALL_IDB2\\img\\Im204_0.tif"
          ],
          [
           "ALL_IDB\\ALL_IDB2\\ALL_IDB2\\img\\Im205_0.tif"
          ],
          [
           "ALL_IDB\\ALL_IDB2\\ALL_IDB2\\img\\Im206_0.tif"
          ],
          [
           "ALL_IDB\\ALL_IDB2\\ALL_IDB2\\img\\Im207_0.tif"
          ],
          [
           "ALL_IDB\\ALL_IDB2\\ALL_IDB2\\img\\Im208_0.tif"
          ],
          [
           "ALL_IDB\\ALL_IDB2\\ALL_IDB2\\img\\Im209_0.tif"
          ],
          [
           "ALL_IDB\\ALL_IDB2\\ALL_IDB2\\img\\Im210_0.tif"
          ],
          [
           "ALL_IDB\\ALL_IDB2\\ALL_IDB2\\img\\Im211_0.tif"
          ],
          [
           "ALL_IDB\\ALL_IDB2\\ALL_IDB2\\img\\Im212_0.tif"
          ],
          [
           "ALL_IDB\\ALL_IDB2\\ALL_IDB2\\img\\Im213_0.tif"
          ],
          [
           "ALL_IDB\\ALL_IDB2\\ALL_IDB2\\img\\Im214_0.tif"
          ],
          [
           "ALL_IDB\\ALL_IDB2\\ALL_IDB2\\img\\Im215_0.tif"
          ],
          [
           "ALL_IDB\\ALL_IDB2\\ALL_IDB2\\img\\Im216_0.tif"
          ],
          [
           "ALL_IDB\\ALL_IDB2\\ALL_IDB2\\img\\Im217_0.tif"
          ],
          [
           "ALL_IDB\\ALL_IDB2\\ALL_IDB2\\img\\Im218_0.tif"
          ],
          [
           "ALL_IDB\\ALL_IDB2\\ALL_IDB2\\img\\Im219_0.tif"
          ],
          [
           "ALL_IDB\\ALL_IDB2\\ALL_IDB2\\img\\Im220_0.tif"
          ],
          [
           "ALL_IDB\\ALL_IDB2\\ALL_IDB2\\img\\Im221_0.tif"
          ],
          [
           "ALL_IDB\\ALL_IDB2\\ALL_IDB2\\img\\Im222_0.tif"
          ],
          [
           "ALL_IDB\\ALL_IDB2\\ALL_IDB2\\img\\Im223_0.tif"
          ],
          [
           "ALL_IDB\\ALL_IDB2\\ALL_IDB2\\img\\Im224_0.tif"
          ],
          [
           "ALL_IDB\\ALL_IDB2\\ALL_IDB2\\img\\Im225_0.tif"
          ],
          [
           "ALL_IDB\\ALL_IDB2\\ALL_IDB2\\img\\Im226_0.tif"
          ],
          [
           "ALL_IDB\\ALL_IDB2\\ALL_IDB2\\img\\Im227_0.tif"
          ],
          [
           "ALL_IDB\\ALL_IDB2\\ALL_IDB2\\img\\Im228_0.tif"
          ],
          [
           "ALL_IDB\\ALL_IDB2\\ALL_IDB2\\img\\Im229_0.tif"
          ],
          [
           "ALL_IDB\\ALL_IDB2\\ALL_IDB2\\img\\Im230_0.tif"
          ],
          [
           "ALL_IDB\\ALL_IDB2\\ALL_IDB2\\img\\Im231_0.tif"
          ],
          [
           "ALL_IDB\\ALL_IDB2\\ALL_IDB2\\img\\Im232_0.tif"
          ],
          [
           "ALL_IDB\\ALL_IDB2\\ALL_IDB2\\img\\Im233_0.tif"
          ],
          [
           "ALL_IDB\\ALL_IDB2\\ALL_IDB2\\img\\Im234_0.tif"
          ],
          [
           "ALL_IDB\\ALL_IDB2\\ALL_IDB2\\img\\Im235_0.tif"
          ],
          [
           "ALL_IDB\\ALL_IDB2\\ALL_IDB2\\img\\Im236_0.tif"
          ],
          [
           "ALL_IDB\\ALL_IDB2\\ALL_IDB2\\img\\Im237_0.tif"
          ],
          [
           "ALL_IDB\\ALL_IDB2\\ALL_IDB2\\img\\Im238_0.tif"
          ],
          [
           "ALL_IDB\\ALL_IDB2\\ALL_IDB2\\img\\Im239_0.tif"
          ],
          [
           "ALL_IDB\\ALL_IDB2\\ALL_IDB2\\img\\Im240_0.tif"
          ],
          [
           "ALL_IDB\\ALL_IDB2\\ALL_IDB2\\img\\Im241_0.tif"
          ],
          [
           "ALL_IDB\\ALL_IDB2\\ALL_IDB2\\img\\Im242_0.tif"
          ],
          [
           "ALL_IDB\\ALL_IDB2\\ALL_IDB2\\img\\Im243_0.tif"
          ],
          [
           "ALL_IDB\\ALL_IDB2\\ALL_IDB2\\img\\Im244_0.tif"
          ],
          [
           "ALL_IDB\\ALL_IDB2\\ALL_IDB2\\img\\Im245_0.tif"
          ],
          [
           "ALL_IDB\\ALL_IDB2\\ALL_IDB2\\img\\Im246_0.tif"
          ],
          [
           "ALL_IDB\\ALL_IDB2\\ALL_IDB2\\img\\Im247_0.tif"
          ],
          [
           "ALL_IDB\\ALL_IDB2\\ALL_IDB2\\img\\Im248_0.tif"
          ],
          [
           "ALL_IDB\\ALL_IDB2\\ALL_IDB2\\img\\Im249_0.tif"
          ],
          [
           "ALL_IDB\\ALL_IDB2\\ALL_IDB2\\img\\Im250_0.tif"
          ],
          [
           "ALL_IDB\\ALL_IDB2\\ALL_IDB2\\img\\Im251_0.tif"
          ],
          [
           "ALL_IDB\\ALL_IDB2\\ALL_IDB2\\img\\Im252_0.tif"
          ],
          [
           "ALL_IDB\\ALL_IDB2\\ALL_IDB2\\img\\Im253_0.tif"
          ],
          [
           "ALL_IDB\\ALL_IDB2\\ALL_IDB2\\img\\Im254_0.tif"
          ],
          [
           "ALL_IDB\\ALL_IDB2\\ALL_IDB2\\img\\Im255_0.tif"
          ],
          [
           "ALL_IDB\\ALL_IDB2\\ALL_IDB2\\img\\Im256_0.tif"
          ],
          [
           "ALL_IDB\\ALL_IDB2\\ALL_IDB2\\img\\Im257_0.tif"
          ],
          [
           "ALL_IDB\\ALL_IDB2\\ALL_IDB2\\img\\Im258_0.tif"
          ],
          [
           "ALL_IDB\\ALL_IDB2\\ALL_IDB2\\img\\Im259_0.tif"
          ],
          [
           "ALL_IDB\\ALL_IDB2\\ALL_IDB2\\img\\Im260_0.tif"
          ]
         ],
         "hovertemplate": "Dataset=%{x}<br>Luminosité=%{y}<br>img_path=%{customdata[0]}<extra></extra>",
         "legendgroup": "",
         "marker": {
          "color": "#636efa"
         },
         "name": "",
         "notched": false,
         "offsetgroup": "",
         "orientation": "v",
         "showlegend": false,
         "type": "box",
         "x": [
          "ALL_IDB1",
          "ALL_IDB1",
          "ALL_IDB1",
          "ALL_IDB1",
          "ALL_IDB1",
          "ALL_IDB1",
          "ALL_IDB1",
          "ALL_IDB1",
          "ALL_IDB1",
          "ALL_IDB1",
          "ALL_IDB1",
          "ALL_IDB1",
          "ALL_IDB1",
          "ALL_IDB1",
          "ALL_IDB1",
          "ALL_IDB1",
          "ALL_IDB1",
          "ALL_IDB1",
          "ALL_IDB1",
          "ALL_IDB1",
          "ALL_IDB1",
          "ALL_IDB1",
          "ALL_IDB1",
          "ALL_IDB1",
          "ALL_IDB1",
          "ALL_IDB1",
          "ALL_IDB1",
          "ALL_IDB1",
          "ALL_IDB1",
          "ALL_IDB1",
          "ALL_IDB1",
          "ALL_IDB1",
          "ALL_IDB1",
          "ALL_IDB1",
          "ALL_IDB1",
          "ALL_IDB1",
          "ALL_IDB1",
          "ALL_IDB1",
          "ALL_IDB1",
          "ALL_IDB1",
          "ALL_IDB1",
          "ALL_IDB1",
          "ALL_IDB1",
          "ALL_IDB1",
          "ALL_IDB1",
          "ALL_IDB1",
          "ALL_IDB1",
          "ALL_IDB1",
          "ALL_IDB1",
          "ALL_IDB1",
          "ALL_IDB1",
          "ALL_IDB1",
          "ALL_IDB1",
          "ALL_IDB1",
          "ALL_IDB1",
          "ALL_IDB1",
          "ALL_IDB1",
          "ALL_IDB1",
          "ALL_IDB1",
          "ALL_IDB1",
          "ALL_IDB1",
          "ALL_IDB1",
          "ALL_IDB1",
          "ALL_IDB1",
          "ALL_IDB1",
          "ALL_IDB1",
          "ALL_IDB1",
          "ALL_IDB1",
          "ALL_IDB1",
          "ALL_IDB1",
          "ALL_IDB1",
          "ALL_IDB1",
          "ALL_IDB1",
          "ALL_IDB1",
          "ALL_IDB1",
          "ALL_IDB1",
          "ALL_IDB1",
          "ALL_IDB1",
          "ALL_IDB1",
          "ALL_IDB1",
          "ALL_IDB1",
          "ALL_IDB1",
          "ALL_IDB1",
          "ALL_IDB1",
          "ALL_IDB1",
          "ALL_IDB1",
          "ALL_IDB1",
          "ALL_IDB1",
          "ALL_IDB1",
          "ALL_IDB1",
          "ALL_IDB1",
          "ALL_IDB1",
          "ALL_IDB1",
          "ALL_IDB1",
          "ALL_IDB1",
          "ALL_IDB1",
          "ALL_IDB1",
          "ALL_IDB1",
          "ALL_IDB1",
          "ALL_IDB1",
          "ALL_IDB1",
          "ALL_IDB1",
          "ALL_IDB1",
          "ALL_IDB1",
          "ALL_IDB1",
          "ALL_IDB1",
          "ALL_IDB1",
          "ALL_IDB1",
          "ALL_IDB2",
          "ALL_IDB2",
          "ALL_IDB2",
          "ALL_IDB2",
          "ALL_IDB2",
          "ALL_IDB2",
          "ALL_IDB2",
          "ALL_IDB2",
          "ALL_IDB2",
          "ALL_IDB2",
          "ALL_IDB2",
          "ALL_IDB2",
          "ALL_IDB2",
          "ALL_IDB2",
          "ALL_IDB2",
          "ALL_IDB2",
          "ALL_IDB2",
          "ALL_IDB2",
          "ALL_IDB2",
          "ALL_IDB2",
          "ALL_IDB2",
          "ALL_IDB2",
          "ALL_IDB2",
          "ALL_IDB2",
          "ALL_IDB2",
          "ALL_IDB2",
          "ALL_IDB2",
          "ALL_IDB2",
          "ALL_IDB2",
          "ALL_IDB2",
          "ALL_IDB2",
          "ALL_IDB2",
          "ALL_IDB2",
          "ALL_IDB2",
          "ALL_IDB2",
          "ALL_IDB2",
          "ALL_IDB2",
          "ALL_IDB2",
          "ALL_IDB2",
          "ALL_IDB2",
          "ALL_IDB2",
          "ALL_IDB2",
          "ALL_IDB2",
          "ALL_IDB2",
          "ALL_IDB2",
          "ALL_IDB2",
          "ALL_IDB2",
          "ALL_IDB2",
          "ALL_IDB2",
          "ALL_IDB2",
          "ALL_IDB2",
          "ALL_IDB2",
          "ALL_IDB2",
          "ALL_IDB2",
          "ALL_IDB2",
          "ALL_IDB2",
          "ALL_IDB2",
          "ALL_IDB2",
          "ALL_IDB2",
          "ALL_IDB2",
          "ALL_IDB2",
          "ALL_IDB2",
          "ALL_IDB2",
          "ALL_IDB2",
          "ALL_IDB2",
          "ALL_IDB2",
          "ALL_IDB2",
          "ALL_IDB2",
          "ALL_IDB2",
          "ALL_IDB2",
          "ALL_IDB2",
          "ALL_IDB2",
          "ALL_IDB2",
          "ALL_IDB2",
          "ALL_IDB2",
          "ALL_IDB2",
          "ALL_IDB2",
          "ALL_IDB2",
          "ALL_IDB2",
          "ALL_IDB2",
          "ALL_IDB2",
          "ALL_IDB2",
          "ALL_IDB2",
          "ALL_IDB2",
          "ALL_IDB2",
          "ALL_IDB2",
          "ALL_IDB2",
          "ALL_IDB2",
          "ALL_IDB2",
          "ALL_IDB2",
          "ALL_IDB2",
          "ALL_IDB2",
          "ALL_IDB2",
          "ALL_IDB2",
          "ALL_IDB2",
          "ALL_IDB2",
          "ALL_IDB2",
          "ALL_IDB2",
          "ALL_IDB2",
          "ALL_IDB2",
          "ALL_IDB2",
          "ALL_IDB2",
          "ALL_IDB2",
          "ALL_IDB2",
          "ALL_IDB2",
          "ALL_IDB2",
          "ALL_IDB2",
          "ALL_IDB2",
          "ALL_IDB2",
          "ALL_IDB2",
          "ALL_IDB2",
          "ALL_IDB2",
          "ALL_IDB2",
          "ALL_IDB2",
          "ALL_IDB2",
          "ALL_IDB2",
          "ALL_IDB2",
          "ALL_IDB2",
          "ALL_IDB2",
          "ALL_IDB2",
          "ALL_IDB2",
          "ALL_IDB2",
          "ALL_IDB2",
          "ALL_IDB2",
          "ALL_IDB2",
          "ALL_IDB2",
          "ALL_IDB2",
          "ALL_IDB2",
          "ALL_IDB2",
          "ALL_IDB2",
          "ALL_IDB2",
          "ALL_IDB2",
          "ALL_IDB2",
          "ALL_IDB2",
          "ALL_IDB2",
          "ALL_IDB2",
          "ALL_IDB2",
          "ALL_IDB2",
          "ALL_IDB2",
          "ALL_IDB2",
          "ALL_IDB2",
          "ALL_IDB2",
          "ALL_IDB2",
          "ALL_IDB2",
          "ALL_IDB2",
          "ALL_IDB2",
          "ALL_IDB2",
          "ALL_IDB2",
          "ALL_IDB2",
          "ALL_IDB2",
          "ALL_IDB2",
          "ALL_IDB2",
          "ALL_IDB2",
          "ALL_IDB2",
          "ALL_IDB2",
          "ALL_IDB2",
          "ALL_IDB2",
          "ALL_IDB2",
          "ALL_IDB2",
          "ALL_IDB2",
          "ALL_IDB2",
          "ALL_IDB2",
          "ALL_IDB2",
          "ALL_IDB2",
          "ALL_IDB2",
          "ALL_IDB2",
          "ALL_IDB2",
          "ALL_IDB2",
          "ALL_IDB2",
          "ALL_IDB2",
          "ALL_IDB2",
          "ALL_IDB2",
          "ALL_IDB2",
          "ALL_IDB2",
          "ALL_IDB2",
          "ALL_IDB2",
          "ALL_IDB2",
          "ALL_IDB2",
          "ALL_IDB2",
          "ALL_IDB2",
          "ALL_IDB2",
          "ALL_IDB2",
          "ALL_IDB2",
          "ALL_IDB2",
          "ALL_IDB2",
          "ALL_IDB2",
          "ALL_IDB2",
          "ALL_IDB2",
          "ALL_IDB2",
          "ALL_IDB2",
          "ALL_IDB2",
          "ALL_IDB2",
          "ALL_IDB2",
          "ALL_IDB2",
          "ALL_IDB2",
          "ALL_IDB2",
          "ALL_IDB2",
          "ALL_IDB2",
          "ALL_IDB2",
          "ALL_IDB2",
          "ALL_IDB2",
          "ALL_IDB2",
          "ALL_IDB2",
          "ALL_IDB2",
          "ALL_IDB2",
          "ALL_IDB2",
          "ALL_IDB2",
          "ALL_IDB2",
          "ALL_IDB2",
          "ALL_IDB2",
          "ALL_IDB2",
          "ALL_IDB2",
          "ALL_IDB2",
          "ALL_IDB2",
          "ALL_IDB2",
          "ALL_IDB2",
          "ALL_IDB2",
          "ALL_IDB2",
          "ALL_IDB2",
          "ALL_IDB2",
          "ALL_IDB2",
          "ALL_IDB2",
          "ALL_IDB2",
          "ALL_IDB2",
          "ALL_IDB2",
          "ALL_IDB2",
          "ALL_IDB2",
          "ALL_IDB2",
          "ALL_IDB2",
          "ALL_IDB2",
          "ALL_IDB2",
          "ALL_IDB2",
          "ALL_IDB2",
          "ALL_IDB2",
          "ALL_IDB2",
          "ALL_IDB2",
          "ALL_IDB2",
          "ALL_IDB2",
          "ALL_IDB2",
          "ALL_IDB2",
          "ALL_IDB2",
          "ALL_IDB2",
          "ALL_IDB2",
          "ALL_IDB2",
          "ALL_IDB2",
          "ALL_IDB2",
          "ALL_IDB2",
          "ALL_IDB2",
          "ALL_IDB2",
          "ALL_IDB2",
          "ALL_IDB2",
          "ALL_IDB2",
          "ALL_IDB2",
          "ALL_IDB2",
          "ALL_IDB2",
          "ALL_IDB2",
          "ALL_IDB2",
          "ALL_IDB2",
          "ALL_IDB2",
          "ALL_IDB2"
         ],
         "x0": " ",
         "xaxis": "x",
         "y": [
          145.03414579575886,
          141.62241462056622,
          142.2885496939389,
          138.19690856082966,
          144.3650162936547,
          137.3963060030333,
          142.12832021642893,
          135.50760071664754,
          135.2329403385801,
          135.09749250218616,
          138.5709935371919,
          135.99933134530252,
          137.59533965609117,
          136.0710883273214,
          139.28842416106465,
          137.26808484655953,
          141.95639952929443,
          137.23209960990872,
          141.97959749207521,
          137.23168885268078,
          140.4316832165109,
          138.03262445687818,
          138.5305087582664,
          141.01131802686234,
          137.6871477393835,
          139.16984725979668,
          137.52137474722633,
          138.8166519784664,
          140.51532824711703,
          139.47052624747226,
          137.74500942777505,
          139.62830142919606,
          138.906015159589,
          158.53806643899557,
          143.58823743046028,
          146.85992056120764,
          139.45071883225413,
          133.0535439846568,
          142.11356127432302,
          140.56480628111822,
          134.4498109488518,
          146.53939590954124,
          152.43445485952344,
          136.4526286563913,
          152.76373329776965,
          140.905304744259,
          147.6123768766194,
          143.74834803510643,
          150.1158477096352,
          149.85109294822945,
          137.01475059378652,
          137.2453332587131,
          150.9192450337855,
          133.46678407445512,
          133.18568787945182,
          152.69506065672152,
          142.38327728877712,
          148.0277990127902,
          137.73951149151551,
          150.19631391937205,
          145.13058580056395,
          148.28976980452674,
          149.95299937604787,
          142.6694393242265,
          144.28968049839963,
          151.8503632179419,
          156.15531565945233,
          148.27855751949653,
          155.35053309804147,
          140.27770395137935,
          148.5803505086877,
          139.05642261882082,
          143.64235356970482,
          148.42867199010567,
          147.77859086045063,
          139.74496194368237,
          134.90999331593252,
          148.5731861727125,
          135.9800408744221,
          134.6984717538612,
          153.94790714067977,
          150.45981164742417,
          151.32145085543362,
          151.1942529324163,
          140.2589165221892,
          153.51085902968296,
          134.3921529286059,
          132.56985684029365,
          152.36348764638265,
          137.3557338899685,
          138.41836387999797,
          135.89343000622364,
          133.99209898770513,
          94.85548164977392,
          93.04169762612406,
          105.32462816897831,
          100.57457438684398,
          110.6125118281004,
          110.26667226318396,
          101.04185262186913,
          109.18836567405883,
          108.98109012218666,
          105.09999547515622,
          105.30863641848295,
          99.15683743585835,
          108.21788571514759,
          108.61835800563938,
          133.99209898770513,
          133.18890520674046,
          134.36214022922377,
          132.22890581235143,
          129.93684991445744,
          126.96790261775348,
          133.06437644778876,
          133.7252191554755,
          137.0293115717119,
          137.65714848067344,
          140.37744704688944,
          141.77051885721207,
          142.72008660237097,
          134.99573044255024,
          132.85027782403972,
          131.8809671607443,
          135.52571575648383,
          132.99421641508576,
          124.30996684279853,
          125.53322533270753,
          131.52426229011795,
          114.34428984541779,
          125.17702009114446,
          125.59086435827946,
          128.3545852321761,
          126.03392750034604,
          130.3125709700374,
          125.46936365425668,
          130.7581341125528,
          132.72079819527926,
          130.26418265227332,
          132.72580962618662,
          124.96690335962694,
          133.89112628503082,
          120.10754137080046,
          118.17645990098261,
          119.54347529864192,
          120.79242683462277,
          124.89654650335358,
          122.63301488288998,
          122.68768641463156,
          121.72606701085557,
          126.07957728353192,
          137.66577843722087,
          128.86649305818406,
          131.2188375297128,
          133.78571969295524,
          119.98108979696892,
          125.00752471649835,
          130.52868325031417,
          134.07612530091296,
          128.9717785280625,
          129.6697300489031,
          138.1365501370195,
          139.74870172144924,
          132.11877545458674,
          124.24911807900196,
          135.0400460264349,
          126.46500325515905,
          125.41647867492317,
          124.3630032248785,
          124.6453844872746,
          130.87802994746323,
          130.23950400460265,
          122.2882556889582,
          124.22351587457797,
          122.13208375599933,
          126.08767733046678,
          123.40167148632077,
          124.69366682311617,
          130.90051325531044,
          118.05928931550818,
          131.6952414116792,
          116.19453738890823,
          141.53764629290376,
          130.11140214083483,
          134.44639585762087,
          130.31876334236702,
          136.85528925494708,
          137.63646686550894,
          139.03662432436525,
          148.83197323199443,
          147.46215688352586,
          143.93848506411905,
          139.1414858665536,
          138.6668079758967,
          141.17038865085013,
          140.39146694121033,
          147.982407000863,
          137.02720707353632,
          121.81266719357977,
          116.27759693560841,
          133.8993020333389,
          129.29676452330844,
          140.99012854093172,
          149.57452800193795,
          154.44633529652228,
          147.0846946963618,
          148.47776650668442,
          145.9580917197838,
          141.70868597556358,
          143.0140955956941,
          127.87105028085209,
          124.17828086310577,
          121.11506608729883,
          132.0125361474057,
          128.95348907629185,
          124.16296991627428,
          142.58841163378705,
          130.28468258414208,
          139.426880043604,
          138.0154430801375,
          148.3506487607685,
          137.1777468243274,
          133.92283002013656,
          133.81521294796286,
          127.28562128117004,
          129.72982179896744,
          131.43920422716468,
          135.32484973277414,
          130.904707111387,
          140.98846311072083,
          132.25423549183182,
          137.47682780965647,
          135.78379687807538,
          138.03710881315388,
          146.65560417265968,
          144.84597798604068,
          144.7608442217142,
          140.45622189586518,
          125.17904888794683,
          147.99574558282487,
          152.91373071507516,
          140.68564247755455,
          141.77204802495118,
          145.10904025799027,
          134.19494617632364,
          130.87416917742888,
          140.37746218716407,
          136.5434752986419,
          132.02702539024057,
          133.45776620387895,
          147.8911868461294,
          142.7099123378098,
          150.9915059193642,
          141.6785568290209,
          131.30274493179306,
          128.67389362443035,
          146.72711168980607,
          140.14458962285576,
          138.7247498069615,
          138.77689291283744,
          135.50616966191765,
          135.6223258489909,
          135.15953307392996,
          146.4880770337174,
          151.59463428666595,
          147.7068540023316,
          145.77271419703553,
          142.71359142454844,
          151.37301094641856,
          134.85123166134233,
          144.47160441490408,
          138.64870020742177,
          136.47650986388894,
          145.40796984057292,
          138.180744598707,
          131.46893868240977,
          132.1955820678587,
          132.82249542006693,
          143.87026298657057,
          147.6999954579176,
          150.85772683916485,
          127.76299414071372,
          129.15250798649487,
          129.70249360323396,
          125.66323487108056,
          139.05274871686171,
          131.33509969870855,
          129.0737634180684,
          118.60780632560675,
          132.52423200956866,
          137.07620100228618,
          133.26195703190055,
          132.7817378007237,
          144.2858483852897,
          154.90879498554105,
          144.57455828248723,
          154.42801556420233,
          145.69755787369982,
          152.894653969023,
          143.54041696316372,
          145.82511468758042,
          145.5262910869203,
          134.75204772214568,
          120.61190934003542,
          145.67047192236066,
          128.63616908383446,
          125.06283213977501,
          137.65745128616632,
          129.94725128313829,
          120.14200063589153,
          122.5189480537177,
          129.1916455964511,
          123.97150600311889,
          132.5074717255371,
          132.51608654180987,
          125.12838952898606,
          128.71919332616693,
          147.52974306953928,
          156.35078502324032,
          154.74208542142955,
          126.88923375070024,
          131.64735272297838,
          135.91348847068085,
          140.0393647140759,
          122.98331541734167,
          132.5232024708928,
          134.98390588805282,
          131.22988993020334,
          134.9240563823828,
          128.8113142880184,
          119.75920907205257,
          127.01862253781283,
          137.57248406486093,
          129.1903435328317,
          128.22089660706445,
          133.95591152023496,
          76.49221032869536,
          68.55480022407606,
          68.86986933942981,
          102.47183151902375,
          101.52847128646914,
          94.54228539664894,
          96.94295144513922,
          99.78179836182228,
          96.287710639071,
          109.73724053354327,
          104.87866831521146,
          110.20861784432769,
          106.15013096337567,
          102.64788263259095,
          107.56097745613106,
          103.2814274250935,
          103.59025874729367,
          102.85232176111674,
          94.31829399385305,
          101.96140743993097,
          97.77301700252842,
          98.44526033702252,
          91.2028493996881,
          91.1896551724138,
          105.79527320625596,
          102.68647519266,
          101.83866523338733,
          102.67687625853533,
          119.72432587927145,
          127.01862253781283,
          137.55446713803389,
          129.1100243758422,
          133.79218459022846
         ],
         "y0": " ",
         "yaxis": "y"
        }
       ],
       "layout": {
        "boxmode": "group",
        "height": 500,
        "legend": {
         "tracegroupgap": 0
        },
        "template": {
         "data": {
          "bar": [
           {
            "error_x": {
             "color": "#2a3f5f"
            },
            "error_y": {
             "color": "#2a3f5f"
            },
            "marker": {
             "line": {
              "color": "#E5ECF6",
              "width": 0.5
             },
             "pattern": {
              "fillmode": "overlay",
              "size": 10,
              "solidity": 0.2
             }
            },
            "type": "bar"
           }
          ],
          "barpolar": [
           {
            "marker": {
             "line": {
              "color": "#E5ECF6",
              "width": 0.5
             },
             "pattern": {
              "fillmode": "overlay",
              "size": 10,
              "solidity": 0.2
             }
            },
            "type": "barpolar"
           }
          ],
          "carpet": [
           {
            "aaxis": {
             "endlinecolor": "#2a3f5f",
             "gridcolor": "white",
             "linecolor": "white",
             "minorgridcolor": "white",
             "startlinecolor": "#2a3f5f"
            },
            "baxis": {
             "endlinecolor": "#2a3f5f",
             "gridcolor": "white",
             "linecolor": "white",
             "minorgridcolor": "white",
             "startlinecolor": "#2a3f5f"
            },
            "type": "carpet"
           }
          ],
          "choropleth": [
           {
            "colorbar": {
             "outlinewidth": 0,
             "ticks": ""
            },
            "type": "choropleth"
           }
          ],
          "contour": [
           {
            "colorbar": {
             "outlinewidth": 0,
             "ticks": ""
            },
            "colorscale": [
             [
              0,
              "#0d0887"
             ],
             [
              0.1111111111111111,
              "#46039f"
             ],
             [
              0.2222222222222222,
              "#7201a8"
             ],
             [
              0.3333333333333333,
              "#9c179e"
             ],
             [
              0.4444444444444444,
              "#bd3786"
             ],
             [
              0.5555555555555556,
              "#d8576b"
             ],
             [
              0.6666666666666666,
              "#ed7953"
             ],
             [
              0.7777777777777778,
              "#fb9f3a"
             ],
             [
              0.8888888888888888,
              "#fdca26"
             ],
             [
              1,
              "#f0f921"
             ]
            ],
            "type": "contour"
           }
          ],
          "contourcarpet": [
           {
            "colorbar": {
             "outlinewidth": 0,
             "ticks": ""
            },
            "type": "contourcarpet"
           }
          ],
          "heatmap": [
           {
            "colorbar": {
             "outlinewidth": 0,
             "ticks": ""
            },
            "colorscale": [
             [
              0,
              "#0d0887"
             ],
             [
              0.1111111111111111,
              "#46039f"
             ],
             [
              0.2222222222222222,
              "#7201a8"
             ],
             [
              0.3333333333333333,
              "#9c179e"
             ],
             [
              0.4444444444444444,
              "#bd3786"
             ],
             [
              0.5555555555555556,
              "#d8576b"
             ],
             [
              0.6666666666666666,
              "#ed7953"
             ],
             [
              0.7777777777777778,
              "#fb9f3a"
             ],
             [
              0.8888888888888888,
              "#fdca26"
             ],
             [
              1,
              "#f0f921"
             ]
            ],
            "type": "heatmap"
           }
          ],
          "heatmapgl": [
           {
            "colorbar": {
             "outlinewidth": 0,
             "ticks": ""
            },
            "colorscale": [
             [
              0,
              "#0d0887"
             ],
             [
              0.1111111111111111,
              "#46039f"
             ],
             [
              0.2222222222222222,
              "#7201a8"
             ],
             [
              0.3333333333333333,
              "#9c179e"
             ],
             [
              0.4444444444444444,
              "#bd3786"
             ],
             [
              0.5555555555555556,
              "#d8576b"
             ],
             [
              0.6666666666666666,
              "#ed7953"
             ],
             [
              0.7777777777777778,
              "#fb9f3a"
             ],
             [
              0.8888888888888888,
              "#fdca26"
             ],
             [
              1,
              "#f0f921"
             ]
            ],
            "type": "heatmapgl"
           }
          ],
          "histogram": [
           {
            "marker": {
             "pattern": {
              "fillmode": "overlay",
              "size": 10,
              "solidity": 0.2
             }
            },
            "type": "histogram"
           }
          ],
          "histogram2d": [
           {
            "colorbar": {
             "outlinewidth": 0,
             "ticks": ""
            },
            "colorscale": [
             [
              0,
              "#0d0887"
             ],
             [
              0.1111111111111111,
              "#46039f"
             ],
             [
              0.2222222222222222,
              "#7201a8"
             ],
             [
              0.3333333333333333,
              "#9c179e"
             ],
             [
              0.4444444444444444,
              "#bd3786"
             ],
             [
              0.5555555555555556,
              "#d8576b"
             ],
             [
              0.6666666666666666,
              "#ed7953"
             ],
             [
              0.7777777777777778,
              "#fb9f3a"
             ],
             [
              0.8888888888888888,
              "#fdca26"
             ],
             [
              1,
              "#f0f921"
             ]
            ],
            "type": "histogram2d"
           }
          ],
          "histogram2dcontour": [
           {
            "colorbar": {
             "outlinewidth": 0,
             "ticks": ""
            },
            "colorscale": [
             [
              0,
              "#0d0887"
             ],
             [
              0.1111111111111111,
              "#46039f"
             ],
             [
              0.2222222222222222,
              "#7201a8"
             ],
             [
              0.3333333333333333,
              "#9c179e"
             ],
             [
              0.4444444444444444,
              "#bd3786"
             ],
             [
              0.5555555555555556,
              "#d8576b"
             ],
             [
              0.6666666666666666,
              "#ed7953"
             ],
             [
              0.7777777777777778,
              "#fb9f3a"
             ],
             [
              0.8888888888888888,
              "#fdca26"
             ],
             [
              1,
              "#f0f921"
             ]
            ],
            "type": "histogram2dcontour"
           }
          ],
          "mesh3d": [
           {
            "colorbar": {
             "outlinewidth": 0,
             "ticks": ""
            },
            "type": "mesh3d"
           }
          ],
          "parcoords": [
           {
            "line": {
             "colorbar": {
              "outlinewidth": 0,
              "ticks": ""
             }
            },
            "type": "parcoords"
           }
          ],
          "pie": [
           {
            "automargin": true,
            "type": "pie"
           }
          ],
          "scatter": [
           {
            "fillpattern": {
             "fillmode": "overlay",
             "size": 10,
             "solidity": 0.2
            },
            "type": "scatter"
           }
          ],
          "scatter3d": [
           {
            "line": {
             "colorbar": {
              "outlinewidth": 0,
              "ticks": ""
             }
            },
            "marker": {
             "colorbar": {
              "outlinewidth": 0,
              "ticks": ""
             }
            },
            "type": "scatter3d"
           }
          ],
          "scattercarpet": [
           {
            "marker": {
             "colorbar": {
              "outlinewidth": 0,
              "ticks": ""
             }
            },
            "type": "scattercarpet"
           }
          ],
          "scattergeo": [
           {
            "marker": {
             "colorbar": {
              "outlinewidth": 0,
              "ticks": ""
             }
            },
            "type": "scattergeo"
           }
          ],
          "scattergl": [
           {
            "marker": {
             "colorbar": {
              "outlinewidth": 0,
              "ticks": ""
             }
            },
            "type": "scattergl"
           }
          ],
          "scattermapbox": [
           {
            "marker": {
             "colorbar": {
              "outlinewidth": 0,
              "ticks": ""
             }
            },
            "type": "scattermapbox"
           }
          ],
          "scatterpolar": [
           {
            "marker": {
             "colorbar": {
              "outlinewidth": 0,
              "ticks": ""
             }
            },
            "type": "scatterpolar"
           }
          ],
          "scatterpolargl": [
           {
            "marker": {
             "colorbar": {
              "outlinewidth": 0,
              "ticks": ""
             }
            },
            "type": "scatterpolargl"
           }
          ],
          "scatterternary": [
           {
            "marker": {
             "colorbar": {
              "outlinewidth": 0,
              "ticks": ""
             }
            },
            "type": "scatterternary"
           }
          ],
          "surface": [
           {
            "colorbar": {
             "outlinewidth": 0,
             "ticks": ""
            },
            "colorscale": [
             [
              0,
              "#0d0887"
             ],
             [
              0.1111111111111111,
              "#46039f"
             ],
             [
              0.2222222222222222,
              "#7201a8"
             ],
             [
              0.3333333333333333,
              "#9c179e"
             ],
             [
              0.4444444444444444,
              "#bd3786"
             ],
             [
              0.5555555555555556,
              "#d8576b"
             ],
             [
              0.6666666666666666,
              "#ed7953"
             ],
             [
              0.7777777777777778,
              "#fb9f3a"
             ],
             [
              0.8888888888888888,
              "#fdca26"
             ],
             [
              1,
              "#f0f921"
             ]
            ],
            "type": "surface"
           }
          ],
          "table": [
           {
            "cells": {
             "fill": {
              "color": "#EBF0F8"
             },
             "line": {
              "color": "white"
             }
            },
            "header": {
             "fill": {
              "color": "#C8D4E3"
             },
             "line": {
              "color": "white"
             }
            },
            "type": "table"
           }
          ]
         },
         "layout": {
          "annotationdefaults": {
           "arrowcolor": "#2a3f5f",
           "arrowhead": 0,
           "arrowwidth": 1
          },
          "autotypenumbers": "strict",
          "coloraxis": {
           "colorbar": {
            "outlinewidth": 0,
            "ticks": ""
           }
          },
          "colorscale": {
           "diverging": [
            [
             0,
             "#8e0152"
            ],
            [
             0.1,
             "#c51b7d"
            ],
            [
             0.2,
             "#de77ae"
            ],
            [
             0.3,
             "#f1b6da"
            ],
            [
             0.4,
             "#fde0ef"
            ],
            [
             0.5,
             "#f7f7f7"
            ],
            [
             0.6,
             "#e6f5d0"
            ],
            [
             0.7,
             "#b8e186"
            ],
            [
             0.8,
             "#7fbc41"
            ],
            [
             0.9,
             "#4d9221"
            ],
            [
             1,
             "#276419"
            ]
           ],
           "sequential": [
            [
             0,
             "#0d0887"
            ],
            [
             0.1111111111111111,
             "#46039f"
            ],
            [
             0.2222222222222222,
             "#7201a8"
            ],
            [
             0.3333333333333333,
             "#9c179e"
            ],
            [
             0.4444444444444444,
             "#bd3786"
            ],
            [
             0.5555555555555556,
             "#d8576b"
            ],
            [
             0.6666666666666666,
             "#ed7953"
            ],
            [
             0.7777777777777778,
             "#fb9f3a"
            ],
            [
             0.8888888888888888,
             "#fdca26"
            ],
            [
             1,
             "#f0f921"
            ]
           ],
           "sequentialminus": [
            [
             0,
             "#0d0887"
            ],
            [
             0.1111111111111111,
             "#46039f"
            ],
            [
             0.2222222222222222,
             "#7201a8"
            ],
            [
             0.3333333333333333,
             "#9c179e"
            ],
            [
             0.4444444444444444,
             "#bd3786"
            ],
            [
             0.5555555555555556,
             "#d8576b"
            ],
            [
             0.6666666666666666,
             "#ed7953"
            ],
            [
             0.7777777777777778,
             "#fb9f3a"
            ],
            [
             0.8888888888888888,
             "#fdca26"
            ],
            [
             1,
             "#f0f921"
            ]
           ]
          },
          "colorway": [
           "#636efa",
           "#EF553B",
           "#00cc96",
           "#ab63fa",
           "#FFA15A",
           "#19d3f3",
           "#FF6692",
           "#B6E880",
           "#FF97FF",
           "#FECB52"
          ],
          "font": {
           "color": "#2a3f5f"
          },
          "geo": {
           "bgcolor": "white",
           "lakecolor": "white",
           "landcolor": "#E5ECF6",
           "showlakes": true,
           "showland": true,
           "subunitcolor": "white"
          },
          "hoverlabel": {
           "align": "left"
          },
          "hovermode": "closest",
          "mapbox": {
           "style": "light"
          },
          "paper_bgcolor": "white",
          "plot_bgcolor": "#E5ECF6",
          "polar": {
           "angularaxis": {
            "gridcolor": "white",
            "linecolor": "white",
            "ticks": ""
           },
           "bgcolor": "#E5ECF6",
           "radialaxis": {
            "gridcolor": "white",
            "linecolor": "white",
            "ticks": ""
           }
          },
          "scene": {
           "xaxis": {
            "backgroundcolor": "#E5ECF6",
            "gridcolor": "white",
            "gridwidth": 2,
            "linecolor": "white",
            "showbackground": true,
            "ticks": "",
            "zerolinecolor": "white"
           },
           "yaxis": {
            "backgroundcolor": "#E5ECF6",
            "gridcolor": "white",
            "gridwidth": 2,
            "linecolor": "white",
            "showbackground": true,
            "ticks": "",
            "zerolinecolor": "white"
           },
           "zaxis": {
            "backgroundcolor": "#E5ECF6",
            "gridcolor": "white",
            "gridwidth": 2,
            "linecolor": "white",
            "showbackground": true,
            "ticks": "",
            "zerolinecolor": "white"
           }
          },
          "shapedefaults": {
           "line": {
            "color": "#2a3f5f"
           }
          },
          "ternary": {
           "aaxis": {
            "gridcolor": "white",
            "linecolor": "white",
            "ticks": ""
           },
           "baxis": {
            "gridcolor": "white",
            "linecolor": "white",
            "ticks": ""
           },
           "bgcolor": "#E5ECF6",
           "caxis": {
            "gridcolor": "white",
            "linecolor": "white",
            "ticks": ""
           }
          },
          "title": {
           "x": 0.05
          },
          "xaxis": {
           "automargin": true,
           "gridcolor": "white",
           "linecolor": "white",
           "ticks": "",
           "title": {
            "standoff": 15
           },
           "zerolinecolor": "white",
           "zerolinewidth": 2
          },
          "yaxis": {
           "automargin": true,
           "gridcolor": "white",
           "linecolor": "white",
           "ticks": "",
           "title": {
            "standoff": 15
           },
           "zerolinecolor": "white",
           "zerolinewidth": 2
          }
         }
        },
        "title": {
         "text": "Boîte à Moustaches de la luminosité moyenne par dataset"
        },
        "width": 800,
        "xaxis": {
         "anchor": "y",
         "autorange": true,
         "domain": [
          0,
          1
         ],
         "range": [
          -0.5,
          1.5
         ],
         "title": {
          "text": "Dataset"
         },
         "type": "category"
        },
        "yaxis": {
         "anchor": "x",
         "autorange": true,
         "domain": [
          0,
          1
         ],
         "range": [
          63.55572987880275,
          163.53713678426888
         ],
         "title": {
          "text": "Luminosité"
         },
         "type": "linear"
        }
       }
      },
      "image/png": "[encoded data removed]",
      "text/html": [
       "<div>                            <div id=\"208786a7-771e-41c8-ac64-bb136c7c7b38\" class=\"plotly-graph-div\" style=\"height:500px; width:800px;\"></div>            <script type=\"text/javascript\">                require([\"plotly\"], function(Plotly) {                    window.PLOTLYENV=window.PLOTLYENV || {};                                    if (document.getElementById(\"208786a7-771e-41c8-ac64-bb136c7c7b38\")) {                    Plotly.newPlot(                        \"208786a7-771e-41c8-ac64-bb136c7c7b38\",                        [{\"alignmentgroup\":\"True\",\"customdata\":[[\"ALL_IDB\\\\ALL_IDB1\\\\ALL_IDB1\\\\im\\\\Im001_1.jpg\"],[\"ALL_IDB\\\\ALL_IDB1\\\\ALL_IDB1\\\\im\\\\Im002_1.jpg\"],[\"ALL_IDB\\\\ALL_IDB1\\\\ALL_IDB1\\\\im\\\\Im003_1.jpg\"],[\"ALL_IDB\\\\ALL_IDB1\\\\ALL_IDB1\\\\im\\\\Im004_1.jpg\"],[\"ALL_IDB\\\\ALL_IDB1\\\\ALL_IDB1\\\\im\\\\Im005_1.jpg\"],[\"ALL_IDB\\\\ALL_IDB1\\\\ALL_IDB1\\\\im\\\\Im006_1.jpg\"],[\"ALL_IDB\\\\ALL_IDB1\\\\ALL_IDB1\\\\im\\\\Im007_1.jpg\"],[\"ALL_IDB\\\\ALL_IDB1\\\\ALL_IDB1\\\\im\\\\Im008_1.jpg\"],[\"ALL_IDB\\\\ALL_IDB1\\\\ALL_IDB1\\\\im\\\\Im009_1.jpg\"],[\"ALL_IDB\\\\ALL_IDB1\\\\ALL_IDB1\\\\im\\\\Im010_1.jpg\"],[\"ALL_IDB\\\\ALL_IDB1\\\\ALL_IDB1\\\\im\\\\Im011_1.jpg\"],[\"ALL_IDB\\\\ALL_IDB1\\\\ALL_IDB1\\\\im\\\\Im012_1.jpg\"],[\"ALL_IDB\\\\ALL_IDB1\\\\ALL_IDB1\\\\im\\\\Im013_1.jpg\"],[\"ALL_IDB\\\\ALL_IDB1\\\\ALL_IDB1\\\\im\\\\Im014_1.jpg\"],[\"ALL_IDB\\\\ALL_IDB1\\\\ALL_IDB1\\\\im\\\\Im015_1.jpg\"],[\"ALL_IDB\\\\ALL_IDB1\\\\ALL_IDB1\\\\im\\\\Im016_1.jpg\"],[\"ALL_IDB\\\\ALL_IDB1\\\\ALL_IDB1\\\\im\\\\Im017_1.jpg\"],[\"ALL_IDB\\\\ALL_IDB1\\\\ALL_IDB1\\\\im\\\\Im018_1.jpg\"],[\"ALL_IDB\\\\ALL_IDB1\\\\ALL_IDB1\\\\im\\\\Im019_1.jpg\"],[\"ALL_IDB\\\\ALL_IDB1\\\\ALL_IDB1\\\\im\\\\Im020_1.jpg\"],[\"ALL_IDB\\\\ALL_IDB1\\\\ALL_IDB1\\\\im\\\\Im021_1.jpg\"],[\"ALL_IDB\\\\ALL_IDB1\\\\ALL_IDB1\\\\im\\\\Im022_1.jpg\"],[\"ALL_IDB\\\\ALL_IDB1\\\\ALL_IDB1\\\\im\\\\Im023_1.jpg\"],[\"ALL_IDB\\\\ALL_IDB1\\\\ALL_IDB1\\\\im\\\\Im024_1.jpg\"],[\"ALL_IDB\\\\ALL_IDB1\\\\ALL_IDB1\\\\im\\\\Im025_1.jpg\"],[\"ALL_IDB\\\\ALL_IDB1\\\\ALL_IDB1\\\\im\\\\Im026_1.jpg\"],[\"ALL_IDB\\\\ALL_IDB1\\\\ALL_IDB1\\\\im\\\\Im027_1.jpg\"],[\"ALL_IDB\\\\ALL_IDB1\\\\ALL_IDB1\\\\im\\\\Im028_1.jpg\"],[\"ALL_IDB\\\\ALL_IDB1\\\\ALL_IDB1\\\\im\\\\Im029_1.jpg\"],[\"ALL_IDB\\\\ALL_IDB1\\\\ALL_IDB1\\\\im\\\\Im030_1.jpg\"],[\"ALL_IDB\\\\ALL_IDB1\\\\ALL_IDB1\\\\im\\\\Im031_1.jpg\"],[\"ALL_IDB\\\\ALL_IDB1\\\\ALL_IDB1\\\\im\\\\Im032_1.jpg\"],[\"ALL_IDB\\\\ALL_IDB1\\\\ALL_IDB1\\\\im\\\\Im033_1.jpg\"],[\"ALL_IDB\\\\ALL_IDB1\\\\ALL_IDB1\\\\im\\\\Im034_0.jpg\"],[\"ALL_IDB\\\\ALL_IDB1\\\\ALL_IDB1\\\\im\\\\Im035_0.jpg\"],[\"ALL_IDB\\\\ALL_IDB1\\\\ALL_IDB1\\\\im\\\\Im036_0.jpg\"],[\"ALL_IDB\\\\ALL_IDB1\\\\ALL_IDB1\\\\im\\\\Im037_0.jpg\"],[\"ALL_IDB\\\\ALL_IDB1\\\\ALL_IDB1\\\\im\\\\Im038_0.jpg\"],[\"ALL_IDB\\\\ALL_IDB1\\\\ALL_IDB1\\\\im\\\\Im039_0.jpg\"],[\"ALL_IDB\\\\ALL_IDB1\\\\ALL_IDB1\\\\im\\\\Im040_0.jpg\"],[\"ALL_IDB\\\\ALL_IDB1\\\\ALL_IDB1\\\\im\\\\Im041_0.jpg\"],[\"ALL_IDB\\\\ALL_IDB1\\\\ALL_IDB1\\\\im\\\\Im042_0.jpg\"],[\"ALL_IDB\\\\ALL_IDB1\\\\ALL_IDB1\\\\im\\\\Im043_0.jpg\"],[\"ALL_IDB\\\\ALL_IDB1\\\\ALL_IDB1\\\\im\\\\Im044_0.jpg\"],[\"ALL_IDB\\\\ALL_IDB1\\\\ALL_IDB1\\\\im\\\\Im045_0.jpg\"],[\"ALL_IDB\\\\ALL_IDB1\\\\ALL_IDB1\\\\im\\\\Im046_0.jpg\"],[\"ALL_IDB\\\\ALL_IDB1\\\\ALL_IDB1\\\\im\\\\Im047_0.jpg\"],[\"ALL_IDB\\\\ALL_IDB1\\\\ALL_IDB1\\\\im\\\\Im048_1.jpg\"],[\"ALL_IDB\\\\ALL_IDB1\\\\ALL_IDB1\\\\im\\\\Im049_1.jpg\"],[\"ALL_IDB\\\\ALL_IDB1\\\\ALL_IDB1\\\\im\\\\Im050_1.jpg\"],[\"ALL_IDB\\\\ALL_IDB1\\\\ALL_IDB1\\\\im\\\\Im051_1.jpg\"],[\"ALL_IDB\\\\ALL_IDB1\\\\ALL_IDB1\\\\im\\\\Im052_1.jpg\"],[\"ALL_IDB\\\\ALL_IDB1\\\\ALL_IDB1\\\\im\\\\Im053_1.jpg\"],[\"ALL_IDB\\\\ALL_IDB1\\\\ALL_IDB1\\\\im\\\\Im054_1.jpg\"],[\"ALL_IDB\\\\ALL_IDB1\\\\ALL_IDB1\\\\im\\\\Im055_1.jpg\"],[\"ALL_IDB\\\\ALL_IDB1\\\\ALL_IDB1\\\\im\\\\Im056_1.jpg\"],[\"ALL_IDB\\\\ALL_IDB1\\\\ALL_IDB1\\\\im\\\\Im057_1.jpg\"],[\"ALL_IDB\\\\ALL_IDB1\\\\ALL_IDB1\\\\im\\\\Im058_1.jpg\"],[\"ALL_IDB\\\\ALL_IDB1\\\\ALL_IDB1\\\\im\\\\Im059_1.jpg\"],[\"ALL_IDB\\\\ALL_IDB1\\\\ALL_IDB1\\\\im\\\\Im060_1.jpg\"],[\"ALL_IDB\\\\ALL_IDB1\\\\ALL_IDB1\\\\im\\\\Im061_1.jpg\"],[\"ALL_IDB\\\\ALL_IDB1\\\\ALL_IDB1\\\\im\\\\Im062_1.jpg\"],[\"ALL_IDB\\\\ALL_IDB1\\\\ALL_IDB1\\\\im\\\\Im063_1.jpg\"],[\"ALL_IDB\\\\ALL_IDB1\\\\ALL_IDB1\\\\im\\\\Im064_0.jpg\"],[\"ALL_IDB\\\\ALL_IDB1\\\\ALL_IDB1\\\\im\\\\Im065_0.jpg\"],[\"ALL_IDB\\\\ALL_IDB1\\\\ALL_IDB1\\\\im\\\\Im066_0.jpg\"],[\"ALL_IDB\\\\ALL_IDB1\\\\ALL_IDB1\\\\im\\\\Im067_0.jpg\"],[\"ALL_IDB\\\\ALL_IDB1\\\\ALL_IDB1\\\\im\\\\Im068_0.jpg\"],[\"ALL_IDB\\\\ALL_IDB1\\\\ALL_IDB1\\\\im\\\\Im069_0.jpg\"],[\"ALL_IDB\\\\ALL_IDB1\\\\ALL_IDB1\\\\im\\\\Im070_0.jpg\"],[\"ALL_IDB\\\\ALL_IDB1\\\\ALL_IDB1\\\\im\\\\Im071_0.jpg\"],[\"ALL_IDB\\\\ALL_IDB1\\\\ALL_IDB1\\\\im\\\\Im072_0.jpg\"],[\"ALL_IDB\\\\ALL_IDB1\\\\ALL_IDB1\\\\im\\\\Im073_0.jpg\"],[\"ALL_IDB\\\\ALL_IDB1\\\\ALL_IDB1\\\\im\\\\Im074_0.jpg\"],[\"ALL_IDB\\\\ALL_IDB1\\\\ALL_IDB1\\\\im\\\\Im075_0.jpg\"],[\"ALL_IDB\\\\ALL_IDB1\\\\ALL_IDB1\\\\im\\\\Im076_0.jpg\"],[\"ALL_IDB\\\\ALL_IDB1\\\\ALL_IDB1\\\\im\\\\Im077_0.jpg\"],[\"ALL_IDB\\\\ALL_IDB1\\\\ALL_IDB1\\\\im\\\\Im078_0.jpg\"],[\"ALL_IDB\\\\ALL_IDB1\\\\ALL_IDB1\\\\im\\\\Im079_0.jpg\"],[\"ALL_IDB\\\\ALL_IDB1\\\\ALL_IDB1\\\\im\\\\Im080_0.jpg\"],[\"ALL_IDB\\\\ALL_IDB1\\\\ALL_IDB1\\\\im\\\\Im081_0.jpg\"],[\"ALL_IDB\\\\ALL_IDB1\\\\ALL_IDB1\\\\im\\\\Im082_0.jpg\"],[\"ALL_IDB\\\\ALL_IDB1\\\\ALL_IDB1\\\\im\\\\Im083_0.jpg\"],[\"ALL_IDB\\\\ALL_IDB1\\\\ALL_IDB1\\\\im\\\\Im084_0.jpg\"],[\"ALL_IDB\\\\ALL_IDB1\\\\ALL_IDB1\\\\im\\\\Im085_0.jpg\"],[\"ALL_IDB\\\\ALL_IDB1\\\\ALL_IDB1\\\\im\\\\Im086_0.jpg\"],[\"ALL_IDB\\\\ALL_IDB1\\\\ALL_IDB1\\\\im\\\\Im087_0.jpg\"],[\"ALL_IDB\\\\ALL_IDB1\\\\ALL_IDB1\\\\im\\\\Im088_0.jpg\"],[\"ALL_IDB\\\\ALL_IDB1\\\\ALL_IDB1\\\\im\\\\Im089_0.jpg\"],[\"ALL_IDB\\\\ALL_IDB1\\\\ALL_IDB1\\\\im\\\\Im090_0.jpg\"],[\"ALL_IDB\\\\ALL_IDB1\\\\ALL_IDB1\\\\im\\\\Im091_0.jpg\"],[\"ALL_IDB\\\\ALL_IDB1\\\\ALL_IDB1\\\\im\\\\Im092_0.jpg\"],[\"ALL_IDB\\\\ALL_IDB1\\\\ALL_IDB1\\\\im\\\\Im093_0.jpg\"],[\"ALL_IDB\\\\ALL_IDB1\\\\ALL_IDB1\\\\im\\\\Im094_0.jpg\"],[\"ALL_IDB\\\\ALL_IDB1\\\\ALL_IDB1\\\\im\\\\Im095_0.jpg\"],[\"ALL_IDB\\\\ALL_IDB1\\\\ALL_IDB1\\\\im\\\\Im096_0.jpg\"],[\"ALL_IDB\\\\ALL_IDB1\\\\ALL_IDB1\\\\im\\\\Im097_0.jpg\"],[\"ALL_IDB\\\\ALL_IDB1\\\\ALL_IDB1\\\\im\\\\Im098_0.jpg\"],[\"ALL_IDB\\\\ALL_IDB1\\\\ALL_IDB1\\\\im\\\\Im099_0.jpg\"],[\"ALL_IDB\\\\ALL_IDB1\\\\ALL_IDB1\\\\im\\\\Im100_0.jpg\"],[\"ALL_IDB\\\\ALL_IDB1\\\\ALL_IDB1\\\\im\\\\Im101_0.jpg\"],[\"ALL_IDB\\\\ALL_IDB1\\\\ALL_IDB1\\\\im\\\\Im102_0.jpg\"],[\"ALL_IDB\\\\ALL_IDB1\\\\ALL_IDB1\\\\im\\\\Im103_0.jpg\"],[\"ALL_IDB\\\\ALL_IDB1\\\\ALL_IDB1\\\\im\\\\Im104_0.jpg\"],[\"ALL_IDB\\\\ALL_IDB1\\\\ALL_IDB1\\\\im\\\\Im105_0.jpg\"],[\"ALL_IDB\\\\ALL_IDB1\\\\ALL_IDB1\\\\im\\\\Im106_0.jpg\"],[\"ALL_IDB\\\\ALL_IDB1\\\\ALL_IDB1\\\\im\\\\Im107_0.jpg\"],[\"ALL_IDB\\\\ALL_IDB1\\\\ALL_IDB1\\\\im\\\\Im108_0.jpg\"],[\"ALL_IDB\\\\ALL_IDB2\\\\ALL_IDB2\\\\img\\\\Im001_1.tif\"],[\"ALL_IDB\\\\ALL_IDB2\\\\ALL_IDB2\\\\img\\\\Im002_1.tif\"],[\"ALL_IDB\\\\ALL_IDB2\\\\ALL_IDB2\\\\img\\\\Im003_1.tif\"],[\"ALL_IDB\\\\ALL_IDB2\\\\ALL_IDB2\\\\img\\\\Im004_1.tif\"],[\"ALL_IDB\\\\ALL_IDB2\\\\ALL_IDB2\\\\img\\\\Im005_1.tif\"],[\"ALL_IDB\\\\ALL_IDB2\\\\ALL_IDB2\\\\img\\\\Im006_1.tif\"],[\"ALL_IDB\\\\ALL_IDB2\\\\ALL_IDB2\\\\img\\\\Im007_1.tif\"],[\"ALL_IDB\\\\ALL_IDB2\\\\ALL_IDB2\\\\img\\\\Im008_1.tif\"],[\"ALL_IDB\\\\ALL_IDB2\\\\ALL_IDB2\\\\img\\\\Im009_1.tif\"],[\"ALL_IDB\\\\ALL_IDB2\\\\ALL_IDB2\\\\img\\\\Im010_1.tif\"],[\"ALL_IDB\\\\ALL_IDB2\\\\ALL_IDB2\\\\img\\\\Im011_1.tif\"],[\"ALL_IDB\\\\ALL_IDB2\\\\ALL_IDB2\\\\img\\\\Im012_1.tif\"],[\"ALL_IDB\\\\ALL_IDB2\\\\ALL_IDB2\\\\img\\\\Im013_1.tif\"],[\"ALL_IDB\\\\ALL_IDB2\\\\ALL_IDB2\\\\img\\\\Im014_1.tif\"],[\"ALL_IDB\\\\ALL_IDB2\\\\ALL_IDB2\\\\img\\\\Im015_1.tif\"],[\"ALL_IDB\\\\ALL_IDB2\\\\ALL_IDB2\\\\img\\\\Im016_1.tif\"],[\"ALL_IDB\\\\ALL_IDB2\\\\ALL_IDB2\\\\img\\\\Im017_1.tif\"],[\"ALL_IDB\\\\ALL_IDB2\\\\ALL_IDB2\\\\img\\\\Im018_1.tif\"],[\"ALL_IDB\\\\ALL_IDB2\\\\ALL_IDB2\\\\img\\\\Im019_1.tif\"],[\"ALL_IDB\\\\ALL_IDB2\\\\ALL_IDB2\\\\img\\\\Im020_1.tif\"],[\"ALL_IDB\\\\ALL_IDB2\\\\ALL_IDB2\\\\img\\\\Im021_1.tif\"],[\"ALL_IDB\\\\ALL_IDB2\\\\ALL_IDB2\\\\img\\\\Im022_1.tif\"],[\"ALL_IDB\\\\ALL_IDB2\\\\ALL_IDB2\\\\img\\\\Im023_1.tif\"],[\"ALL_IDB\\\\ALL_IDB2\\\\ALL_IDB2\\\\img\\\\Im024_1.tif\"],[\"ALL_IDB\\\\ALL_IDB2\\\\ALL_IDB2\\\\img\\\\Im025_1.tif\"],[\"ALL_IDB\\\\ALL_IDB2\\\\ALL_IDB2\\\\img\\\\Im026_1.tif\"],[\"ALL_IDB\\\\ALL_IDB2\\\\ALL_IDB2\\\\img\\\\Im027_1.tif\"],[\"ALL_IDB\\\\ALL_IDB2\\\\ALL_IDB2\\\\img\\\\Im028_1.tif\"],[\"ALL_IDB\\\\ALL_IDB2\\\\ALL_IDB2\\\\img\\\\Im029_1.tif\"],[\"ALL_IDB\\\\ALL_IDB2\\\\ALL_IDB2\\\\img\\\\Im030_1.tif\"],[\"ALL_IDB\\\\ALL_IDB2\\\\ALL_IDB2\\\\img\\\\Im031_1.tif\"],[\"ALL_IDB\\\\ALL_IDB2\\\\ALL_IDB2\\\\img\\\\Im032_1.tif\"],[\"ALL_IDB\\\\ALL_IDB2\\\\ALL_IDB2\\\\img\\\\Im033_1.tif\"],[\"ALL_IDB\\\\ALL_IDB2\\\\ALL_IDB2\\\\img\\\\Im034_1.tif\"],[\"ALL_IDB\\\\ALL_IDB2\\\\ALL_IDB2\\\\img\\\\Im035_1.tif\"],[\"ALL_IDB\\\\ALL_IDB2\\\\ALL_IDB2\\\\img\\\\Im036_1.tif\"],[\"ALL_IDB\\\\ALL_IDB2\\\\ALL_IDB2\\\\img\\\\Im037_1.tif\"],[\"ALL_IDB\\\\ALL_IDB2\\\\ALL_IDB2\\\\img\\\\Im038_1.tif\"],[\"ALL_IDB\\\\ALL_IDB2\\\\ALL_IDB2\\\\img\\\\Im039_1.tif\"],[\"ALL_IDB\\\\ALL_IDB2\\\\ALL_IDB2\\\\img\\\\Im040_1.tif\"],[\"ALL_IDB\\\\ALL_IDB2\\\\ALL_IDB2\\\\img\\\\Im041_1.tif\"],[\"ALL_IDB\\\\ALL_IDB2\\\\ALL_IDB2\\\\img\\\\Im042_1.tif\"],[\"ALL_IDB\\\\ALL_IDB2\\\\ALL_IDB2\\\\img\\\\Im043_1.tif\"],[\"ALL_IDB\\\\ALL_IDB2\\\\ALL_IDB2\\\\img\\\\Im044_1.tif\"],[\"ALL_IDB\\\\ALL_IDB2\\\\ALL_IDB2\\\\img\\\\Im045_1.tif\"],[\"ALL_IDB\\\\ALL_IDB2\\\\ALL_IDB2\\\\img\\\\Im046_1.tif\"],[\"ALL_IDB\\\\ALL_IDB2\\\\ALL_IDB2\\\\img\\\\Im047_1.tif\"],[\"ALL_IDB\\\\ALL_IDB2\\\\ALL_IDB2\\\\img\\\\Im048_1.tif\"],[\"ALL_IDB\\\\ALL_IDB2\\\\ALL_IDB2\\\\img\\\\Im049_1.tif\"],[\"ALL_IDB\\\\ALL_IDB2\\\\ALL_IDB2\\\\img\\\\Im050_1.tif\"],[\"ALL_IDB\\\\ALL_IDB2\\\\ALL_IDB2\\\\img\\\\Im051_1.tif\"],[\"ALL_IDB\\\\ALL_IDB2\\\\ALL_IDB2\\\\img\\\\Im052_1.tif\"],[\"ALL_IDB\\\\ALL_IDB2\\\\ALL_IDB2\\\\img\\\\Im053_1.tif\"],[\"ALL_IDB\\\\ALL_IDB2\\\\ALL_IDB2\\\\img\\\\Im054_1.tif\"],[\"ALL_IDB\\\\ALL_IDB2\\\\ALL_IDB2\\\\img\\\\Im055_1.tif\"],[\"ALL_IDB\\\\ALL_IDB2\\\\ALL_IDB2\\\\img\\\\Im056_1.tif\"],[\"ALL_IDB\\\\ALL_IDB2\\\\ALL_IDB2\\\\img\\\\Im057_1.tif\"],[\"ALL_IDB\\\\ALL_IDB2\\\\ALL_IDB2\\\\img\\\\Im058_1.tif\"],[\"ALL_IDB\\\\ALL_IDB2\\\\ALL_IDB2\\\\img\\\\Im059_1.tif\"],[\"ALL_IDB\\\\ALL_IDB2\\\\ALL_IDB2\\\\img\\\\Im060_1.tif\"],[\"ALL_IDB\\\\ALL_IDB2\\\\ALL_IDB2\\\\img\\\\Im061_1.tif\"],[\"ALL_IDB\\\\ALL_IDB2\\\\ALL_IDB2\\\\img\\\\Im062_1.tif\"],[\"ALL_IDB\\\\ALL_IDB2\\\\ALL_IDB2\\\\img\\\\Im063_1.tif\"],[\"ALL_IDB\\\\ALL_IDB2\\\\ALL_IDB2\\\\img\\\\Im064_1.tif\"],[\"ALL_IDB\\\\ALL_IDB2\\\\ALL_IDB2\\\\img\\\\Im065_1.tif\"],[\"ALL_IDB\\\\ALL_IDB2\\\\ALL_IDB2\\\\img\\\\Im066_1.tif\"],[\"ALL_IDB\\\\ALL_IDB2\\\\ALL_IDB2\\\\img\\\\Im067_1.tif\"],[\"ALL_IDB\\\\ALL_IDB2\\\\ALL_IDB2\\\\img\\\\Im068_1.tif\"],[\"ALL_IDB\\\\ALL_IDB2\\\\ALL_IDB2\\\\img\\\\Im069_1.tif\"],[\"ALL_IDB\\\\ALL_IDB2\\\\ALL_IDB2\\\\img\\\\Im070_1.tif\"],[\"ALL_IDB\\\\ALL_IDB2\\\\ALL_IDB2\\\\img\\\\Im071_1.tif\"],[\"ALL_IDB\\\\ALL_IDB2\\\\ALL_IDB2\\\\img\\\\Im072_1.tif\"],[\"ALL_IDB\\\\ALL_IDB2\\\\ALL_IDB2\\\\img\\\\Im073_1.tif\"],[\"ALL_IDB\\\\ALL_IDB2\\\\ALL_IDB2\\\\img\\\\Im074_1.tif\"],[\"ALL_IDB\\\\ALL_IDB2\\\\ALL_IDB2\\\\img\\\\Im075_1.tif\"],[\"ALL_IDB\\\\ALL_IDB2\\\\ALL_IDB2\\\\img\\\\Im076_1.tif\"],[\"ALL_IDB\\\\ALL_IDB2\\\\ALL_IDB2\\\\img\\\\Im077_1.tif\"],[\"ALL_IDB\\\\ALL_IDB2\\\\ALL_IDB2\\\\img\\\\Im078_1.tif\"],[\"ALL_IDB\\\\ALL_IDB2\\\\ALL_IDB2\\\\img\\\\Im079_1.tif\"],[\"ALL_IDB\\\\ALL_IDB2\\\\ALL_IDB2\\\\img\\\\Im080_1.tif\"],[\"ALL_IDB\\\\ALL_IDB2\\\\ALL_IDB2\\\\img\\\\Im081_1.tif\"],[\"ALL_IDB\\\\ALL_IDB2\\\\ALL_IDB2\\\\img\\\\Im082_1.tif\"],[\"ALL_IDB\\\\ALL_IDB2\\\\ALL_IDB2\\\\img\\\\Im083_1.tif\"],[\"ALL_IDB\\\\ALL_IDB2\\\\ALL_IDB2\\\\img\\\\Im084_1.tif\"],[\"ALL_IDB\\\\ALL_IDB2\\\\ALL_IDB2\\\\img\\\\Im085_1.tif\"],[\"ALL_IDB\\\\ALL_IDB2\\\\ALL_IDB2\\\\img\\\\Im086_1.tif\"],[\"ALL_IDB\\\\ALL_IDB2\\\\ALL_IDB2\\\\img\\\\Im087_1.tif\"],[\"ALL_IDB\\\\ALL_IDB2\\\\ALL_IDB2\\\\img\\\\Im088_1.tif\"],[\"ALL_IDB\\\\ALL_IDB2\\\\ALL_IDB2\\\\img\\\\Im089_1.tif\"],[\"ALL_IDB\\\\ALL_IDB2\\\\ALL_IDB2\\\\img\\\\Im090_1.tif\"],[\"ALL_IDB\\\\ALL_IDB2\\\\ALL_IDB2\\\\img\\\\Im091_1.tif\"],[\"ALL_IDB\\\\ALL_IDB2\\\\ALL_IDB2\\\\img\\\\Im092_1.tif\"],[\"ALL_IDB\\\\ALL_IDB2\\\\ALL_IDB2\\\\img\\\\Im093_1.tif\"],[\"ALL_IDB\\\\ALL_IDB2\\\\ALL_IDB2\\\\img\\\\Im094_1.tif\"],[\"ALL_IDB\\\\ALL_IDB2\\\\ALL_IDB2\\\\img\\\\Im095_1.tif\"],[\"ALL_IDB\\\\ALL_IDB2\\\\ALL_IDB2\\\\img\\\\Im096_1.tif\"],[\"ALL_IDB\\\\ALL_IDB2\\\\ALL_IDB2\\\\img\\\\Im097_1.tif\"],[\"ALL_IDB\\\\ALL_IDB2\\\\ALL_IDB2\\\\img\\\\Im098_1.tif\"],[\"ALL_IDB\\\\ALL_IDB2\\\\ALL_IDB2\\\\img\\\\Im099_1.tif\"],[\"ALL_IDB\\\\ALL_IDB2\\\\ALL_IDB2\\\\img\\\\Im100_1.tif\"],[\"ALL_IDB\\\\ALL_IDB2\\\\ALL_IDB2\\\\img\\\\Im101_1.tif\"],[\"ALL_IDB\\\\ALL_IDB2\\\\ALL_IDB2\\\\img\\\\Im102_1.tif\"],[\"ALL_IDB\\\\ALL_IDB2\\\\ALL_IDB2\\\\img\\\\Im103_1.tif\"],[\"ALL_IDB\\\\ALL_IDB2\\\\ALL_IDB2\\\\img\\\\Im104_1.tif\"],[\"ALL_IDB\\\\ALL_IDB2\\\\ALL_IDB2\\\\img\\\\Im105_1.tif\"],[\"ALL_IDB\\\\ALL_IDB2\\\\ALL_IDB2\\\\img\\\\Im106_1.tif\"],[\"ALL_IDB\\\\ALL_IDB2\\\\ALL_IDB2\\\\img\\\\Im107_1.tif\"],[\"ALL_IDB\\\\ALL_IDB2\\\\ALL_IDB2\\\\img\\\\Im108_1.tif\"],[\"ALL_IDB\\\\ALL_IDB2\\\\ALL_IDB2\\\\img\\\\Im109_1.tif\"],[\"ALL_IDB\\\\ALL_IDB2\\\\ALL_IDB2\\\\img\\\\Im110_1.tif\"],[\"ALL_IDB\\\\ALL_IDB2\\\\ALL_IDB2\\\\img\\\\Im111_1.tif\"],[\"ALL_IDB\\\\ALL_IDB2\\\\ALL_IDB2\\\\img\\\\Im112_1.tif\"],[\"ALL_IDB\\\\ALL_IDB2\\\\ALL_IDB2\\\\img\\\\Im113_1.tif\"],[\"ALL_IDB\\\\ALL_IDB2\\\\ALL_IDB2\\\\img\\\\Im114_1.tif\"],[\"ALL_IDB\\\\ALL_IDB2\\\\ALL_IDB2\\\\img\\\\Im115_1.tif\"],[\"ALL_IDB\\\\ALL_IDB2\\\\ALL_IDB2\\\\img\\\\Im116_1.tif\"],[\"ALL_IDB\\\\ALL_IDB2\\\\ALL_IDB2\\\\img\\\\Im117_1.tif\"],[\"ALL_IDB\\\\ALL_IDB2\\\\ALL_IDB2\\\\img\\\\Im118_1.tif\"],[\"ALL_IDB\\\\ALL_IDB2\\\\ALL_IDB2\\\\img\\\\Im119_1.tif\"],[\"ALL_IDB\\\\ALL_IDB2\\\\ALL_IDB2\\\\img\\\\Im120_1.tif\"],[\"ALL_IDB\\\\ALL_IDB2\\\\ALL_IDB2\\\\img\\\\Im121_1.tif\"],[\"ALL_IDB\\\\ALL_IDB2\\\\ALL_IDB2\\\\img\\\\Im122_1.tif\"],[\"ALL_IDB\\\\ALL_IDB2\\\\ALL_IDB2\\\\img\\\\Im123_1.tif\"],[\"ALL_IDB\\\\ALL_IDB2\\\\ALL_IDB2\\\\img\\\\Im124_1.tif\"],[\"ALL_IDB\\\\ALL_IDB2\\\\ALL_IDB2\\\\img\\\\Im125_1.tif\"],[\"ALL_IDB\\\\ALL_IDB2\\\\ALL_IDB2\\\\img\\\\Im126_1.tif\"],[\"ALL_IDB\\\\ALL_IDB2\\\\ALL_IDB2\\\\img\\\\Im127_1.tif\"],[\"ALL_IDB\\\\ALL_IDB2\\\\ALL_IDB2\\\\img\\\\Im128_1.tif\"],[\"ALL_IDB\\\\ALL_IDB2\\\\ALL_IDB2\\\\img\\\\Im129_1.tif\"],[\"ALL_IDB\\\\ALL_IDB2\\\\ALL_IDB2\\\\img\\\\Im130_1.tif\"],[\"ALL_IDB\\\\ALL_IDB2\\\\ALL_IDB2\\\\img\\\\Im131_0.tif\"],[\"ALL_IDB\\\\ALL_IDB2\\\\ALL_IDB2\\\\img\\\\Im132_0.tif\"],[\"ALL_IDB\\\\ALL_IDB2\\\\ALL_IDB2\\\\img\\\\Im133_0.tif\"],[\"ALL_IDB\\\\ALL_IDB2\\\\ALL_IDB2\\\\img\\\\Im134_0.tif\"],[\"ALL_IDB\\\\ALL_IDB2\\\\ALL_IDB2\\\\img\\\\Im135_0.tif\"],[\"ALL_IDB\\\\ALL_IDB2\\\\ALL_IDB2\\\\img\\\\Im136_0.tif\"],[\"ALL_IDB\\\\ALL_IDB2\\\\ALL_IDB2\\\\img\\\\Im137_0.tif\"],[\"ALL_IDB\\\\ALL_IDB2\\\\ALL_IDB2\\\\img\\\\Im138_0.tif\"],[\"ALL_IDB\\\\ALL_IDB2\\\\ALL_IDB2\\\\img\\\\Im139_0.tif\"],[\"ALL_IDB\\\\ALL_IDB2\\\\ALL_IDB2\\\\img\\\\Im140_0.tif\"],[\"ALL_IDB\\\\ALL_IDB2\\\\ALL_IDB2\\\\img\\\\Im141_0.tif\"],[\"ALL_IDB\\\\ALL_IDB2\\\\ALL_IDB2\\\\img\\\\Im142_0.tif\"],[\"ALL_IDB\\\\ALL_IDB2\\\\ALL_IDB2\\\\img\\\\Im143_0.tif\"],[\"ALL_IDB\\\\ALL_IDB2\\\\ALL_IDB2\\\\img\\\\Im144_0.tif\"],[\"ALL_IDB\\\\ALL_IDB2\\\\ALL_IDB2\\\\img\\\\Im145_0.tif\"],[\"ALL_IDB\\\\ALL_IDB2\\\\ALL_IDB2\\\\img\\\\Im146_0.tif\"],[\"ALL_IDB\\\\ALL_IDB2\\\\ALL_IDB2\\\\img\\\\Im147_0.tif\"],[\"ALL_IDB\\\\ALL_IDB2\\\\ALL_IDB2\\\\img\\\\Im148_0.tif\"],[\"ALL_IDB\\\\ALL_IDB2\\\\ALL_IDB2\\\\img\\\\Im149_0.tif\"],[\"ALL_IDB\\\\ALL_IDB2\\\\ALL_IDB2\\\\img\\\\Im150_0.tif\"],[\"ALL_IDB\\\\ALL_IDB2\\\\ALL_IDB2\\\\img\\\\Im151_0.tif\"],[\"ALL_IDB\\\\ALL_IDB2\\\\ALL_IDB2\\\\img\\\\Im152_0.tif\"],[\"ALL_IDB\\\\ALL_IDB2\\\\ALL_IDB2\\\\img\\\\Im153_0.tif\"],[\"ALL_IDB\\\\ALL_IDB2\\\\ALL_IDB2\\\\img\\\\Im154_0.tif\"],[\"ALL_IDB\\\\ALL_IDB2\\\\ALL_IDB2\\\\img\\\\Im155_0.tif\"],[\"ALL_IDB\\\\ALL_IDB2\\\\ALL_IDB2\\\\img\\\\Im156_0.tif\"],[\"ALL_IDB\\\\ALL_IDB2\\\\ALL_IDB2\\\\img\\\\Im157_0.tif\"],[\"ALL_IDB\\\\ALL_IDB2\\\\ALL_IDB2\\\\img\\\\Im158_0.tif\"],[\"ALL_IDB\\\\ALL_IDB2\\\\ALL_IDB2\\\\img\\\\Im159_0.tif\"],[\"ALL_IDB\\\\ALL_IDB2\\\\ALL_IDB2\\\\img\\\\Im160_0.tif\"],[\"ALL_IDB\\\\ALL_IDB2\\\\ALL_IDB2\\\\img\\\\Im161_0.tif\"],[\"ALL_IDB\\\\ALL_IDB2\\\\ALL_IDB2\\\\img\\\\Im162_0.tif\"],[\"ALL_IDB\\\\ALL_IDB2\\\\ALL_IDB2\\\\img\\\\Im163_0.tif\"],[\"ALL_IDB\\\\ALL_IDB2\\\\ALL_IDB2\\\\img\\\\Im164_0.tif\"],[\"ALL_IDB\\\\ALL_IDB2\\\\ALL_IDB2\\\\img\\\\Im165_0.tif\"],[\"ALL_IDB\\\\ALL_IDB2\\\\ALL_IDB2\\\\img\\\\Im166_0.tif\"],[\"ALL_IDB\\\\ALL_IDB2\\\\ALL_IDB2\\\\img\\\\Im167_0.tif\"],[\"ALL_IDB\\\\ALL_IDB2\\\\ALL_IDB2\\\\img\\\\Im168_0.tif\"],[\"ALL_IDB\\\\ALL_IDB2\\\\ALL_IDB2\\\\img\\\\Im169_0.tif\"],[\"ALL_IDB\\\\ALL_IDB2\\\\ALL_IDB2\\\\img\\\\Im170_0.tif\"],[\"ALL_IDB\\\\ALL_IDB2\\\\ALL_IDB2\\\\img\\\\Im171_0.tif\"],[\"ALL_IDB\\\\ALL_IDB2\\\\ALL_IDB2\\\\img\\\\Im172_0.tif\"],[\"ALL_IDB\\\\ALL_IDB2\\\\ALL_IDB2\\\\img\\\\Im173_0.tif\"],[\"ALL_IDB\\\\ALL_IDB2\\\\ALL_IDB2\\\\img\\\\Im174_0.tif\"],[\"ALL_IDB\\\\ALL_IDB2\\\\ALL_IDB2\\\\img\\\\Im175_0.tif\"],[\"ALL_IDB\\\\ALL_IDB2\\\\ALL_IDB2\\\\img\\\\Im176_0.tif\"],[\"ALL_IDB\\\\ALL_IDB2\\\\ALL_IDB2\\\\img\\\\Im177_0.tif\"],[\"ALL_IDB\\\\ALL_IDB2\\\\ALL_IDB2\\\\img\\\\Im178_0.tif\"],[\"ALL_IDB\\\\ALL_IDB2\\\\ALL_IDB2\\\\img\\\\Im179_0.tif\"],[\"ALL_IDB\\\\ALL_IDB2\\\\ALL_IDB2\\\\img\\\\Im180_0.tif\"],[\"ALL_IDB\\\\ALL_IDB2\\\\ALL_IDB2\\\\img\\\\Im181_0.tif\"],[\"ALL_IDB\\\\ALL_IDB2\\\\ALL_IDB2\\\\img\\\\Im182_0.tif\"],[\"ALL_IDB\\\\ALL_IDB2\\\\ALL_IDB2\\\\img\\\\Im183_0.tif\"],[\"ALL_IDB\\\\ALL_IDB2\\\\ALL_IDB2\\\\img\\\\Im184_0.tif\"],[\"ALL_IDB\\\\ALL_IDB2\\\\ALL_IDB2\\\\img\\\\Im185_0.tif\"],[\"ALL_IDB\\\\ALL_IDB2\\\\ALL_IDB2\\\\img\\\\Im186_0.tif\"],[\"ALL_IDB\\\\ALL_IDB2\\\\ALL_IDB2\\\\img\\\\Im187_0.tif\"],[\"ALL_IDB\\\\ALL_IDB2\\\\ALL_IDB2\\\\img\\\\Im188_0.tif\"],[\"ALL_IDB\\\\ALL_IDB2\\\\ALL_IDB2\\\\img\\\\Im189_0.tif\"],[\"ALL_IDB\\\\ALL_IDB2\\\\ALL_IDB2\\\\img\\\\Im190_0.tif\"],[\"ALL_IDB\\\\ALL_IDB2\\\\ALL_IDB2\\\\img\\\\Im191_0.tif\"],[\"ALL_IDB\\\\ALL_IDB2\\\\ALL_IDB2\\\\img\\\\Im192_0.tif\"],[\"ALL_IDB\\\\ALL_IDB2\\\\ALL_IDB2\\\\img\\\\Im193_0.tif\"],[\"ALL_IDB\\\\ALL_IDB2\\\\ALL_IDB2\\\\img\\\\Im194_0.tif\"],[\"ALL_IDB\\\\ALL_IDB2\\\\ALL_IDB2\\\\img\\\\Im195_0.tif\"],[\"ALL_IDB\\\\ALL_IDB2\\\\ALL_IDB2\\\\img\\\\Im196_0.tif\"],[\"ALL_IDB\\\\ALL_IDB2\\\\ALL_IDB2\\\\img\\\\Im197_0.tif\"],[\"ALL_IDB\\\\ALL_IDB2\\\\ALL_IDB2\\\\img\\\\Im198_0.tif\"],[\"ALL_IDB\\\\ALL_IDB2\\\\ALL_IDB2\\\\img\\\\Im199_0.tif\"],[\"ALL_IDB\\\\ALL_IDB2\\\\ALL_IDB2\\\\img\\\\Im200_0.tif\"],[\"ALL_IDB\\\\ALL_IDB2\\\\ALL_IDB2\\\\img\\\\Im201_0.tif\"],[\"ALL_IDB\\\\ALL_IDB2\\\\ALL_IDB2\\\\img\\\\Im202_0.tif\"],[\"ALL_IDB\\\\ALL_IDB2\\\\ALL_IDB2\\\\img\\\\Im203_0.tif\"],[\"ALL_IDB\\\\ALL_IDB2\\\\ALL_IDB2\\\\img\\\\Im204_0.tif\"],[\"ALL_IDB\\\\ALL_IDB2\\\\ALL_IDB2\\\\img\\\\Im205_0.tif\"],[\"ALL_IDB\\\\ALL_IDB2\\\\ALL_IDB2\\\\img\\\\Im206_0.tif\"],[\"ALL_IDB\\\\ALL_IDB2\\\\ALL_IDB2\\\\img\\\\Im207_0.tif\"],[\"ALL_IDB\\\\ALL_IDB2\\\\ALL_IDB2\\\\img\\\\Im208_0.tif\"],[\"ALL_IDB\\\\ALL_IDB2\\\\ALL_IDB2\\\\img\\\\Im209_0.tif\"],[\"ALL_IDB\\\\ALL_IDB2\\\\ALL_IDB2\\\\img\\\\Im210_0.tif\"],[\"ALL_IDB\\\\ALL_IDB2\\\\ALL_IDB2\\\\img\\\\Im211_0.tif\"],[\"ALL_IDB\\\\ALL_IDB2\\\\ALL_IDB2\\\\img\\\\Im212_0.tif\"],[\"ALL_IDB\\\\ALL_IDB2\\\\ALL_IDB2\\\\img\\\\Im213_0.tif\"],[\"ALL_IDB\\\\ALL_IDB2\\\\ALL_IDB2\\\\img\\\\Im214_0.tif\"],[\"ALL_IDB\\\\ALL_IDB2\\\\ALL_IDB2\\\\img\\\\Im215_0.tif\"],[\"ALL_IDB\\\\ALL_IDB2\\\\ALL_IDB2\\\\img\\\\Im216_0.tif\"],[\"ALL_IDB\\\\ALL_IDB2\\\\ALL_IDB2\\\\img\\\\Im217_0.tif\"],[\"ALL_IDB\\\\ALL_IDB2\\\\ALL_IDB2\\\\img\\\\Im218_0.tif\"],[\"ALL_IDB\\\\ALL_IDB2\\\\ALL_IDB2\\\\img\\\\Im219_0.tif\"],[\"ALL_IDB\\\\ALL_IDB2\\\\ALL_IDB2\\\\img\\\\Im220_0.tif\"],[\"ALL_IDB\\\\ALL_IDB2\\\\ALL_IDB2\\\\img\\\\Im221_0.tif\"],[\"ALL_IDB\\\\ALL_IDB2\\\\ALL_IDB2\\\\img\\\\Im222_0.tif\"],[\"ALL_IDB\\\\ALL_IDB2\\\\ALL_IDB2\\\\img\\\\Im223_0.tif\"],[\"ALL_IDB\\\\ALL_IDB2\\\\ALL_IDB2\\\\img\\\\Im224_0.tif\"],[\"ALL_IDB\\\\ALL_IDB2\\\\ALL_IDB2\\\\img\\\\Im225_0.tif\"],[\"ALL_IDB\\\\ALL_IDB2\\\\ALL_IDB2\\\\img\\\\Im226_0.tif\"],[\"ALL_IDB\\\\ALL_IDB2\\\\ALL_IDB2\\\\img\\\\Im227_0.tif\"],[\"ALL_IDB\\\\ALL_IDB2\\\\ALL_IDB2\\\\img\\\\Im228_0.tif\"],[\"ALL_IDB\\\\ALL_IDB2\\\\ALL_IDB2\\\\img\\\\Im229_0.tif\"],[\"ALL_IDB\\\\ALL_IDB2\\\\ALL_IDB2\\\\img\\\\Im230_0.tif\"],[\"ALL_IDB\\\\ALL_IDB2\\\\ALL_IDB2\\\\img\\\\Im231_0.tif\"],[\"ALL_IDB\\\\ALL_IDB2\\\\ALL_IDB2\\\\img\\\\Im232_0.tif\"],[\"ALL_IDB\\\\ALL_IDB2\\\\ALL_IDB2\\\\img\\\\Im233_0.tif\"],[\"ALL_IDB\\\\ALL_IDB2\\\\ALL_IDB2\\\\img\\\\Im234_0.tif\"],[\"ALL_IDB\\\\ALL_IDB2\\\\ALL_IDB2\\\\img\\\\Im235_0.tif\"],[\"ALL_IDB\\\\ALL_IDB2\\\\ALL_IDB2\\\\img\\\\Im236_0.tif\"],[\"ALL_IDB\\\\ALL_IDB2\\\\ALL_IDB2\\\\img\\\\Im237_0.tif\"],[\"ALL_IDB\\\\ALL_IDB2\\\\ALL_IDB2\\\\img\\\\Im238_0.tif\"],[\"ALL_IDB\\\\ALL_IDB2\\\\ALL_IDB2\\\\img\\\\Im239_0.tif\"],[\"ALL_IDB\\\\ALL_IDB2\\\\ALL_IDB2\\\\img\\\\Im240_0.tif\"],[\"ALL_IDB\\\\ALL_IDB2\\\\ALL_IDB2\\\\img\\\\Im241_0.tif\"],[\"ALL_IDB\\\\ALL_IDB2\\\\ALL_IDB2\\\\img\\\\Im242_0.tif\"],[\"ALL_IDB\\\\ALL_IDB2\\\\ALL_IDB2\\\\img\\\\Im243_0.tif\"],[\"ALL_IDB\\\\ALL_IDB2\\\\ALL_IDB2\\\\img\\\\Im244_0.tif\"],[\"ALL_IDB\\\\ALL_IDB2\\\\ALL_IDB2\\\\img\\\\Im245_0.tif\"],[\"ALL_IDB\\\\ALL_IDB2\\\\ALL_IDB2\\\\img\\\\Im246_0.tif\"],[\"ALL_IDB\\\\ALL_IDB2\\\\ALL_IDB2\\\\img\\\\Im247_0.tif\"],[\"ALL_IDB\\\\ALL_IDB2\\\\ALL_IDB2\\\\img\\\\Im248_0.tif\"],[\"ALL_IDB\\\\ALL_IDB2\\\\ALL_IDB2\\\\img\\\\Im249_0.tif\"],[\"ALL_IDB\\\\ALL_IDB2\\\\ALL_IDB2\\\\img\\\\Im250_0.tif\"],[\"ALL_IDB\\\\ALL_IDB2\\\\ALL_IDB2\\\\img\\\\Im251_0.tif\"],[\"ALL_IDB\\\\ALL_IDB2\\\\ALL_IDB2\\\\img\\\\Im252_0.tif\"],[\"ALL_IDB\\\\ALL_IDB2\\\\ALL_IDB2\\\\img\\\\Im253_0.tif\"],[\"ALL_IDB\\\\ALL_IDB2\\\\ALL_IDB2\\\\img\\\\Im254_0.tif\"],[\"ALL_IDB\\\\ALL_IDB2\\\\ALL_IDB2\\\\img\\\\Im255_0.tif\"],[\"ALL_IDB\\\\ALL_IDB2\\\\ALL_IDB2\\\\img\\\\Im256_0.tif\"],[\"ALL_IDB\\\\ALL_IDB2\\\\ALL_IDB2\\\\img\\\\Im257_0.tif\"],[\"ALL_IDB\\\\ALL_IDB2\\\\ALL_IDB2\\\\img\\\\Im258_0.tif\"],[\"ALL_IDB\\\\ALL_IDB2\\\\ALL_IDB2\\\\img\\\\Im259_0.tif\"],[\"ALL_IDB\\\\ALL_IDB2\\\\ALL_IDB2\\\\img\\\\Im260_0.tif\"]],\"hovertemplate\":\"Dataset=%{x}<br>Luminosit\\u00e9=%{y}<br>img_path=%{customdata[0]}<extra></extra>\",\"legendgroup\":\"\",\"marker\":{\"color\":\"#636efa\"},\"name\":\"\",\"notched\":false,\"offsetgroup\":\"\",\"orientation\":\"v\",\"showlegend\":false,\"x\":[\"ALL_IDB1\",\"ALL_IDB1\",\"ALL_IDB1\",\"ALL_IDB1\",\"ALL_IDB1\",\"ALL_IDB1\",\"ALL_IDB1\",\"ALL_IDB1\",\"ALL_IDB1\",\"ALL_IDB1\",\"ALL_IDB1\",\"ALL_IDB1\",\"ALL_IDB1\",\"ALL_IDB1\",\"ALL_IDB1\",\"ALL_IDB1\",\"ALL_IDB1\",\"ALL_IDB1\",\"ALL_IDB1\",\"ALL_IDB1\",\"ALL_IDB1\",\"ALL_IDB1\",\"ALL_IDB1\",\"ALL_IDB1\",\"ALL_IDB1\",\"ALL_IDB1\",\"ALL_IDB1\",\"ALL_IDB1\",\"ALL_IDB1\",\"ALL_IDB1\",\"ALL_IDB1\",\"ALL_IDB1\",\"ALL_IDB1\",\"ALL_IDB1\",\"ALL_IDB1\",\"ALL_IDB1\",\"ALL_IDB1\",\"ALL_IDB1\",\"ALL_IDB1\",\"ALL_IDB1\",\"ALL_IDB1\",\"ALL_IDB1\",\"ALL_IDB1\",\"ALL_IDB1\",\"ALL_IDB1\",\"ALL_IDB1\",\"ALL_IDB1\",\"ALL_IDB1\",\"ALL_IDB1\",\"ALL_IDB1\",\"ALL_IDB1\",\"ALL_IDB1\",\"ALL_IDB1\",\"ALL_IDB1\",\"ALL_IDB1\",\"ALL_IDB1\",\"ALL_IDB1\",\"ALL_IDB1\",\"ALL_IDB1\",\"ALL_IDB1\",\"ALL_IDB1\",\"ALL_IDB1\",\"ALL_IDB1\",\"ALL_IDB1\",\"ALL_IDB1\",\"ALL_IDB1\",\"ALL_IDB1\",\"ALL_IDB1\",\"ALL_IDB1\",\"ALL_IDB1\",\"ALL_IDB1\",\"ALL_IDB1\",\"ALL_IDB1\",\"ALL_IDB1\",\"ALL_IDB1\",\"ALL_IDB1\",\"ALL_IDB1\",\"ALL_IDB1\",\"ALL_IDB1\",\"ALL_IDB1\",\"ALL_IDB1\",\"ALL_IDB1\",\"ALL_IDB1\",\"ALL_IDB1\",\"ALL_IDB1\",\"ALL_IDB1\",\"ALL_IDB1\",\"ALL_IDB1\",\"ALL_IDB1\",\"ALL_IDB1\",\"ALL_IDB1\",\"ALL_IDB1\",\"ALL_IDB1\",\"ALL_IDB1\",\"ALL_IDB1\",\"ALL_IDB1\",\"ALL_IDB1\",\"ALL_IDB1\",\"ALL_IDB1\",\"ALL_IDB1\",\"ALL_IDB1\",\"ALL_IDB1\",\"ALL_IDB1\",\"ALL_IDB1\",\"ALL_IDB1\",\"ALL_IDB1\",\"ALL_IDB1\",\"ALL_IDB1\",\"ALL_IDB2\",\"ALL_IDB2\",\"ALL_IDB2\",\"ALL_IDB2\",\"ALL_IDB2\",\"ALL_IDB2\",\"ALL_IDB2\",\"ALL_IDB2\",\"ALL_IDB2\",\"ALL_IDB2\",\"ALL_IDB2\",\"ALL_IDB2\",\"ALL_IDB2\",\"ALL_IDB2\",\"ALL_IDB2\",\"ALL_IDB2\",\"ALL_IDB2\",\"ALL_IDB2\",\"ALL_IDB2\",\"ALL_IDB2\",\"ALL_IDB2\",\"ALL_IDB2\",\"ALL_IDB2\",\"ALL_IDB2\",\"ALL_IDB2\",\"ALL_IDB2\",\"ALL_IDB2\",\"ALL_IDB2\",\"ALL_IDB2\",\"ALL_IDB2\",\"ALL_IDB2\",\"ALL_IDB2\",\"ALL_IDB2\",\"ALL_IDB2\",\"ALL_IDB2\",\"ALL_IDB2\",\"ALL_IDB2\",\"ALL_IDB2\",\"ALL_IDB2\",\"ALL_IDB2\",\"ALL_IDB2\",\"ALL_IDB2\",\"ALL_IDB2\",\"ALL_IDB2\",\"ALL_IDB2\",\"ALL_IDB2\",\"ALL_IDB2\",\"ALL_IDB2\",\"ALL_IDB2\",\"ALL_IDB2\",\"ALL_IDB2\",\"ALL_IDB2\",\"ALL_IDB2\",\"ALL_IDB2\",\"ALL_IDB2\",\"ALL_IDB2\",\"ALL_IDB2\",\"ALL_IDB2\",\"ALL_IDB2\",\"ALL_IDB2\",\"ALL_IDB2\",\"ALL_IDB2\",\"ALL_IDB2\",\"ALL_IDB2\",\"ALL_IDB2\",\"ALL_IDB2\",\"ALL_IDB2\",\"ALL_IDB2\",\"ALL_IDB2\",\"ALL_IDB2\",\"ALL_IDB2\",\"ALL_IDB2\",\"ALL_IDB2\",\"ALL_IDB2\",\"ALL_IDB2\",\"ALL_IDB2\",\"ALL_IDB2\",\"ALL_IDB2\",\"ALL_IDB2\",\"ALL_IDB2\",\"ALL_IDB2\",\"ALL_IDB2\",\"ALL_IDB2\",\"ALL_IDB2\",\"ALL_IDB2\",\"ALL_IDB2\",\"ALL_IDB2\",\"ALL_IDB2\",\"ALL_IDB2\",\"ALL_IDB2\",\"ALL_IDB2\",\"ALL_IDB2\",\"ALL_IDB2\",\"ALL_IDB2\",\"ALL_IDB2\",\"ALL_IDB2\",\"ALL_IDB2\",\"ALL_IDB2\",\"ALL_IDB2\",\"ALL_IDB2\",\"ALL_IDB2\",\"ALL_IDB2\",\"ALL_IDB2\",\"ALL_IDB2\",\"ALL_IDB2\",\"ALL_IDB2\",\"ALL_IDB2\",\"ALL_IDB2\",\"ALL_IDB2\",\"ALL_IDB2\",\"ALL_IDB2\",\"ALL_IDB2\",\"ALL_IDB2\",\"ALL_IDB2\",\"ALL_IDB2\",\"ALL_IDB2\",\"ALL_IDB2\",\"ALL_IDB2\",\"ALL_IDB2\",\"ALL_IDB2\",\"ALL_IDB2\",\"ALL_IDB2\",\"ALL_IDB2\",\"ALL_IDB2\",\"ALL_IDB2\",\"ALL_IDB2\",\"ALL_IDB2\",\"ALL_IDB2\",\"ALL_IDB2\",\"ALL_IDB2\",\"ALL_IDB2\",\"ALL_IDB2\",\"ALL_IDB2\",\"ALL_IDB2\",\"ALL_IDB2\",\"ALL_IDB2\",\"ALL_IDB2\",\"ALL_IDB2\",\"ALL_IDB2\",\"ALL_IDB2\",\"ALL_IDB2\",\"ALL_IDB2\",\"ALL_IDB2\",\"ALL_IDB2\",\"ALL_IDB2\",\"ALL_IDB2\",\"ALL_IDB2\",\"ALL_IDB2\",\"ALL_IDB2\",\"ALL_IDB2\",\"ALL_IDB2\",\"ALL_IDB2\",\"ALL_IDB2\",\"ALL_IDB2\",\"ALL_IDB2\",\"ALL_IDB2\",\"ALL_IDB2\",\"ALL_IDB2\",\"ALL_IDB2\",\"ALL_IDB2\",\"ALL_IDB2\",\"ALL_IDB2\",\"ALL_IDB2\",\"ALL_IDB2\",\"ALL_IDB2\",\"ALL_IDB2\",\"ALL_IDB2\",\"ALL_IDB2\",\"ALL_IDB2\",\"ALL_IDB2\",\"ALL_IDB2\",\"ALL_IDB2\",\"ALL_IDB2\",\"ALL_IDB2\",\"ALL_IDB2\",\"ALL_IDB2\",\"ALL_IDB2\",\"ALL_IDB2\",\"ALL_IDB2\",\"ALL_IDB2\",\"ALL_IDB2\",\"ALL_IDB2\",\"ALL_IDB2\",\"ALL_IDB2\",\"ALL_IDB2\",\"ALL_IDB2\",\"ALL_IDB2\",\"ALL_IDB2\",\"ALL_IDB2\",\"ALL_IDB2\",\"ALL_IDB2\",\"ALL_IDB2\",\"ALL_IDB2\",\"ALL_IDB2\",\"ALL_IDB2\",\"ALL_IDB2\",\"ALL_IDB2\",\"ALL_IDB2\",\"ALL_IDB2\",\"ALL_IDB2\",\"ALL_IDB2\",\"ALL_IDB2\",\"ALL_IDB2\",\"ALL_IDB2\",\"ALL_IDB2\",\"ALL_IDB2\",\"ALL_IDB2\",\"ALL_IDB2\",\"ALL_IDB2\",\"ALL_IDB2\",\"ALL_IDB2\",\"ALL_IDB2\",\"ALL_IDB2\",\"ALL_IDB2\",\"ALL_IDB2\",\"ALL_IDB2\",\"ALL_IDB2\",\"ALL_IDB2\",\"ALL_IDB2\",\"ALL_IDB2\",\"ALL_IDB2\",\"ALL_IDB2\",\"ALL_IDB2\",\"ALL_IDB2\",\"ALL_IDB2\",\"ALL_IDB2\",\"ALL_IDB2\",\"ALL_IDB2\",\"ALL_IDB2\",\"ALL_IDB2\",\"ALL_IDB2\",\"ALL_IDB2\",\"ALL_IDB2\",\"ALL_IDB2\",\"ALL_IDB2\",\"ALL_IDB2\",\"ALL_IDB2\",\"ALL_IDB2\",\"ALL_IDB2\",\"ALL_IDB2\",\"ALL_IDB2\",\"ALL_IDB2\",\"ALL_IDB2\",\"ALL_IDB2\",\"ALL_IDB2\",\"ALL_IDB2\",\"ALL_IDB2\",\"ALL_IDB2\",\"ALL_IDB2\",\"ALL_IDB2\",\"ALL_IDB2\",\"ALL_IDB2\",\"ALL_IDB2\",\"ALL_IDB2\",\"ALL_IDB2\",\"ALL_IDB2\",\"ALL_IDB2\",\"ALL_IDB2\",\"ALL_IDB2\",\"ALL_IDB2\"],\"x0\":\" \",\"xaxis\":\"x\",\"y\":[145.03414579575886,141.62241462056622,142.2885496939389,138.19690856082966,144.3650162936547,137.3963060030333,142.12832021642893,135.50760071664754,135.2329403385801,135.09749250218616,138.5709935371919,135.99933134530252,137.59533965609117,136.0710883273214,139.28842416106465,137.26808484655953,141.95639952929443,137.23209960990872,141.97959749207521,137.23168885268078,140.4316832165109,138.03262445687818,138.5305087582664,141.01131802686234,137.6871477393835,139.16984725979668,137.52137474722633,138.8166519784664,140.51532824711703,139.47052624747226,137.74500942777505,139.62830142919606,138.906015159589,158.53806643899557,143.58823743046028,146.85992056120764,139.45071883225413,133.0535439846568,142.11356127432302,140.56480628111822,134.4498109488518,146.53939590954124,152.43445485952344,136.4526286563913,152.76373329776965,140.905304744259,147.6123768766194,143.74834803510643,150.1158477096352,149.85109294822945,137.01475059378652,137.2453332587131,150.9192450337855,133.46678407445512,133.18568787945182,152.69506065672152,142.38327728877712,148.0277990127902,137.73951149151551,150.19631391937205,145.13058580056395,148.28976980452674,149.95299937604787,142.6694393242265,144.28968049839963,151.8503632179419,156.15531565945233,148.27855751949653,155.35053309804147,140.27770395137935,148.5803505086877,139.05642261882082,143.64235356970482,148.42867199010567,147.77859086045063,139.74496194368237,134.90999331593252,148.5731861727125,135.9800408744221,134.6984717538612,153.94790714067977,150.45981164742417,151.32145085543362,151.1942529324163,140.2589165221892,153.51085902968296,134.3921529286059,132.56985684029365,152.36348764638265,137.3557338899685,138.41836387999797,135.89343000622364,133.99209898770513,94.85548164977392,93.04169762612406,105.32462816897831,100.57457438684398,110.6125118281004,110.26667226318396,101.04185262186913,109.18836567405883,108.98109012218666,105.09999547515622,105.30863641848295,99.15683743585835,108.21788571514759,108.61835800563938,133.99209898770513,133.18890520674046,134.36214022922377,132.22890581235143,129.93684991445744,126.96790261775348,133.06437644778876,133.7252191554755,137.0293115717119,137.65714848067344,140.37744704688944,141.77051885721207,142.72008660237097,134.99573044255024,132.85027782403972,131.8809671607443,135.52571575648383,132.99421641508576,124.30996684279853,125.53322533270753,131.52426229011795,114.34428984541779,125.17702009114446,125.59086435827946,128.3545852321761,126.03392750034604,130.3125709700374,125.46936365425668,130.7581341125528,132.72079819527926,130.26418265227332,132.72580962618662,124.96690335962694,133.89112628503082,120.10754137080046,118.17645990098261,119.54347529864192,120.79242683462277,124.89654650335358,122.63301488288998,122.68768641463156,121.72606701085557,126.07957728353192,137.66577843722087,128.86649305818406,131.2188375297128,133.78571969295524,119.98108979696892,125.00752471649835,130.52868325031417,134.07612530091296,128.9717785280625,129.6697300489031,138.1365501370195,139.74870172144924,132.11877545458674,124.24911807900196,135.0400460264349,126.46500325515905,125.41647867492317,124.3630032248785,124.6453844872746,130.87802994746323,130.23950400460265,122.2882556889582,124.22351587457797,122.13208375599933,126.08767733046678,123.40167148632077,124.69366682311617,130.90051325531044,118.05928931550818,131.6952414116792,116.19453738890823,141.53764629290376,130.11140214083483,134.44639585762087,130.31876334236702,136.85528925494708,137.63646686550894,139.03662432436525,148.83197323199443,147.46215688352586,143.93848506411905,139.1414858665536,138.6668079758967,141.17038865085013,140.39146694121033,147.982407000863,137.02720707353632,121.81266719357977,116.27759693560841,133.8993020333389,129.29676452330844,140.99012854093172,149.57452800193795,154.44633529652228,147.0846946963618,148.47776650668442,145.9580917197838,141.70868597556358,143.0140955956941,127.87105028085209,124.17828086310577,121.11506608729883,132.0125361474057,128.95348907629185,124.16296991627428,142.58841163378705,130.28468258414208,139.426880043604,138.0154430801375,148.3506487607685,137.1777468243274,133.92283002013656,133.81521294796286,127.28562128117004,129.72982179896744,131.43920422716468,135.32484973277414,130.904707111387,140.98846311072083,132.25423549183182,137.47682780965647,135.78379687807538,138.03710881315388,146.65560417265968,144.84597798604068,144.7608442217142,140.45622189586518,125.17904888794683,147.99574558282487,152.91373071507516,140.68564247755455,141.77204802495118,145.10904025799027,134.19494617632364,130.87416917742888,140.37746218716407,136.5434752986419,132.02702539024057,133.45776620387895,147.8911868461294,142.7099123378098,150.9915059193642,141.6785568290209,131.30274493179306,128.67389362443035,146.72711168980607,140.14458962285576,138.7247498069615,138.77689291283744,135.50616966191765,135.6223258489909,135.15953307392996,146.4880770337174,151.59463428666595,147.7068540023316,145.77271419703553,142.71359142454844,151.37301094641856,134.85123166134233,144.47160441490408,138.64870020742177,136.47650986388894,145.40796984057292,138.180744598707,131.46893868240977,132.1955820678587,132.82249542006693,143.87026298657057,147.6999954579176,150.85772683916485,127.76299414071372,129.15250798649487,129.70249360323396,125.66323487108056,139.05274871686171,131.33509969870855,129.0737634180684,118.60780632560675,132.52423200956866,137.07620100228618,133.26195703190055,132.7817378007237,144.2858483852897,154.90879498554105,144.57455828248723,154.42801556420233,145.69755787369982,152.894653969023,143.54041696316372,145.82511468758042,145.5262910869203,134.75204772214568,120.61190934003542,145.67047192236066,128.63616908383446,125.06283213977501,137.65745128616632,129.94725128313829,120.14200063589153,122.5189480537177,129.1916455964511,123.97150600311889,132.5074717255371,132.51608654180987,125.12838952898606,128.71919332616693,147.52974306953928,156.35078502324032,154.74208542142955,126.88923375070024,131.64735272297838,135.91348847068085,140.0393647140759,122.98331541734167,132.5232024708928,134.98390588805282,131.22988993020334,134.9240563823828,128.8113142880184,119.75920907205257,127.01862253781283,137.57248406486093,129.1903435328317,128.22089660706445,133.95591152023496,76.49221032869536,68.55480022407606,68.86986933942981,102.47183151902375,101.52847128646914,94.54228539664894,96.94295144513922,99.78179836182228,96.287710639071,109.73724053354327,104.87866831521146,110.20861784432769,106.15013096337567,102.64788263259095,107.56097745613106,103.2814274250935,103.59025874729367,102.85232176111674,94.31829399385305,101.96140743993097,97.77301700252842,98.44526033702252,91.2028493996881,91.1896551724138,105.79527320625596,102.68647519266,101.83866523338733,102.67687625853533,119.72432587927145,127.01862253781283,137.55446713803389,129.1100243758422,133.79218459022846],\"y0\":\" \",\"yaxis\":\"y\",\"type\":\"box\"}],                        {\"template\":{\"data\":{\"histogram2dcontour\":[{\"type\":\"histogram2dcontour\",\"colorbar\":{\"outlinewidth\":0,\"ticks\":\"\"},\"colorscale\":[[0.0,\"#0d0887\"],[0.1111111111111111,\"#46039f\"],[0.2222222222222222,\"#7201a8\"],[0.3333333333333333,\"#9c179e\"],[0.4444444444444444,\"#bd3786\"],[0.5555555555555556,\"#d8576b\"],[0.6666666666666666,\"#ed7953\"],[0.7777777777777778,\"#fb9f3a\"],[0.8888888888888888,\"#fdca26\"],[1.0,\"#f0f921\"]]}],\"choropleth\":[{\"type\":\"choropleth\",\"colorbar\":{\"outlinewidth\":0,\"ticks\":\"\"}}],\"histogram2d\":[{\"type\":\"histogram2d\",\"colorbar\":{\"outlinewidth\":0,\"ticks\":\"\"},\"colorscale\":[[0.0,\"#0d0887\"],[0.1111111111111111,\"#46039f\"],[0.2222222222222222,\"#7201a8\"],[0.3333333333333333,\"#9c179e\"],[0.4444444444444444,\"#bd3786\"],[0.5555555555555556,\"#d8576b\"],[0.6666666666666666,\"#ed7953\"],[0.7777777777777778,\"#fb9f3a\"],[0.8888888888888888,\"#fdca26\"],[1.0,\"#f0f921\"]]}],\"heatmap\":[{\"type\":\"heatmap\",\"colorbar\":{\"outlinewidth\":0,\"ticks\":\"\"},\"colorscale\":[[0.0,\"#0d0887\"],[0.1111111111111111,\"#46039f\"],[0.2222222222222222,\"#7201a8\"],[0.3333333333333333,\"#9c179e\"],[0.4444444444444444,\"#bd3786\"],[0.5555555555555556,\"#d8576b\"],[0.6666666666666666,\"#ed7953\"],[0.7777777777777778,\"#fb9f3a\"],[0.8888888888888888,\"#fdca26\"],[1.0,\"#f0f921\"]]}],\"heatmapgl\":[{\"type\":\"heatmapgl\",\"colorbar\":{\"outlinewidth\":0,\"ticks\":\"\"},\"colorscale\":[[0.0,\"#0d0887\"],[0.1111111111111111,\"#46039f\"],[0.2222222222222222,\"#7201a8\"],[0.3333333333333333,\"#9c179e\"],[0.4444444444444444,\"#bd3786\"],[0.5555555555555556,\"#d8576b\"],[0.6666666666666666,\"#ed7953\"],[0.7777777777777778,\"#fb9f3a\"],[0.8888888888888888,\"#fdca26\"],[1.0,\"#f0f921\"]]}],\"contourcarpet\":[{\"type\":\"contourcarpet\",\"colorbar\":{\"outlinewidth\":0,\"ticks\":\"\"}}],\"contour\":[{\"type\":\"contour\",\"colorbar\":{\"outlinewidth\":0,\"ticks\":\"\"},\"colorscale\":[[0.0,\"#0d0887\"],[0.1111111111111111,\"#46039f\"],[0.2222222222222222,\"#7201a8\"],[0.3333333333333333,\"#9c179e\"],[0.4444444444444444,\"#bd3786\"],[0.5555555555555556,\"#d8576b\"],[0.6666666666666666,\"#ed7953\"],[0.7777777777777778,\"#fb9f3a\"],[0.8888888888888888,\"#fdca26\"],[1.0,\"#f0f921\"]]}],\"surface\":[{\"type\":\"surface\",\"colorbar\":{\"outlinewidth\":0,\"ticks\":\"\"},\"colorscale\":[[0.0,\"#0d0887\"],[0.1111111111111111,\"#46039f\"],[0.2222222222222222,\"#7201a8\"],[0.3333333333333333,\"#9c179e\"],[0.4444444444444444,\"#bd3786\"],[0.5555555555555556,\"#d8576b\"],[0.6666666666666666,\"#ed7953\"],[0.7777777777777778,\"#fb9f3a\"],[0.8888888888888888,\"#fdca26\"],[1.0,\"#f0f921\"]]}],\"mesh3d\":[{\"type\":\"mesh3d\",\"colorbar\":{\"outlinewidth\":0,\"ticks\":\"\"}}],\"scatter\":[{\"fillpattern\":{\"fillmode\":\"overlay\",\"size\":10,\"solidity\":0.2},\"type\":\"scatter\"}],\"parcoords\":[{\"type\":\"parcoords\",\"line\":{\"colorbar\":{\"outlinewidth\":0,\"ticks\":\"\"}}}],\"scatterpolargl\":[{\"type\":\"scatterpolargl\",\"marker\":{\"colorbar\":{\"outlinewidth\":0,\"ticks\":\"\"}}}],\"bar\":[{\"error_x\":{\"color\":\"#2a3f5f\"},\"error_y\":{\"color\":\"#2a3f5f\"},\"marker\":{\"line\":{\"color\":\"#E5ECF6\",\"width\":0.5},\"pattern\":{\"fillmode\":\"overlay\",\"size\":10,\"solidity\":0.2}},\"type\":\"bar\"}],\"scattergeo\":[{\"type\":\"scattergeo\",\"marker\":{\"colorbar\":{\"outlinewidth\":0,\"ticks\":\"\"}}}],\"scatterpolar\":[{\"type\":\"scatterpolar\",\"marker\":{\"colorbar\":{\"outlinewidth\":0,\"ticks\":\"\"}}}],\"histogram\":[{\"marker\":{\"pattern\":{\"fillmode\":\"overlay\",\"size\":10,\"solidity\":0.2}},\"type\":\"histogram\"}],\"scattergl\":[{\"type\":\"scattergl\",\"marker\":{\"colorbar\":{\"outlinewidth\":0,\"ticks\":\"\"}}}],\"scatter3d\":[{\"type\":\"scatter3d\",\"line\":{\"colorbar\":{\"outlinewidth\":0,\"ticks\":\"\"}},\"marker\":{\"colorbar\":{\"outlinewidth\":0,\"ticks\":\"\"}}}],\"scattermapbox\":[{\"type\":\"scattermapbox\",\"marker\":{\"colorbar\":{\"outlinewidth\":0,\"ticks\":\"\"}}}],\"scatterternary\":[{\"type\":\"scatterternary\",\"marker\":{\"colorbar\":{\"outlinewidth\":0,\"ticks\":\"\"}}}],\"scattercarpet\":[{\"type\":\"scattercarpet\",\"marker\":{\"colorbar\":{\"outlinewidth\":0,\"ticks\":\"\"}}}],\"carpet\":[{\"aaxis\":{\"endlinecolor\":\"#2a3f5f\",\"gridcolor\":\"white\",\"linecolor\":\"white\",\"minorgridcolor\":\"white\",\"startlinecolor\":\"#2a3f5f\"},\"baxis\":{\"endlinecolor\":\"#2a3f5f\",\"gridcolor\":\"white\",\"linecolor\":\"white\",\"minorgridcolor\":\"white\",\"startlinecolor\":\"#2a3f5f\"},\"type\":\"carpet\"}],\"table\":[{\"cells\":{\"fill\":{\"color\":\"#EBF0F8\"},\"line\":{\"color\":\"white\"}},\"header\":{\"fill\":{\"color\":\"#C8D4E3\"},\"line\":{\"color\":\"white\"}},\"type\":\"table\"}],\"barpolar\":[{\"marker\":{\"line\":{\"color\":\"#E5ECF6\",\"width\":0.5},\"pattern\":{\"fillmode\":\"overlay\",\"size\":10,\"solidity\":0.2}},\"type\":\"barpolar\"}],\"pie\":[{\"automargin\":true,\"type\":\"pie\"}]},\"layout\":{\"autotypenumbers\":\"strict\",\"colorway\":[\"#636efa\",\"#EF553B\",\"#00cc96\",\"#ab63fa\",\"#FFA15A\",\"#19d3f3\",\"#FF6692\",\"#B6E880\",\"#FF97FF\",\"#FECB52\"],\"font\":{\"color\":\"#2a3f5f\"},\"hovermode\":\"closest\",\"hoverlabel\":{\"align\":\"left\"},\"paper_bgcolor\":\"white\",\"plot_bgcolor\":\"#E5ECF6\",\"polar\":{\"bgcolor\":\"#E5ECF6\",\"angularaxis\":{\"gridcolor\":\"white\",\"linecolor\":\"white\",\"ticks\":\"\"},\"radialaxis\":{\"gridcolor\":\"white\",\"linecolor\":\"white\",\"ticks\":\"\"}},\"ternary\":{\"bgcolor\":\"#E5ECF6\",\"aaxis\":{\"gridcolor\":\"white\",\"linecolor\":\"white\",\"ticks\":\"\"},\"baxis\":{\"gridcolor\":\"white\",\"linecolor\":\"white\",\"ticks\":\"\"},\"caxis\":{\"gridcolor\":\"white\",\"linecolor\":\"white\",\"ticks\":\"\"}},\"coloraxis\":{\"colorbar\":{\"outlinewidth\":0,\"ticks\":\"\"}},\"colorscale\":{\"sequential\":[[0.0,\"#0d0887\"],[0.1111111111111111,\"#46039f\"],[0.2222222222222222,\"#7201a8\"],[0.3333333333333333,\"#9c179e\"],[0.4444444444444444,\"#bd3786\"],[0.5555555555555556,\"#d8576b\"],[0.6666666666666666,\"#ed7953\"],[0.7777777777777778,\"#fb9f3a\"],[0.8888888888888888,\"#fdca26\"],[1.0,\"#f0f921\"]],\"sequentialminus\":[[0.0,\"#0d0887\"],[0.1111111111111111,\"#46039f\"],[0.2222222222222222,\"#7201a8\"],[0.3333333333333333,\"#9c179e\"],[0.4444444444444444,\"#bd3786\"],[0.5555555555555556,\"#d8576b\"],[0.6666666666666666,\"#ed7953\"],[0.7777777777777778,\"#fb9f3a\"],[0.8888888888888888,\"#fdca26\"],[1.0,\"#f0f921\"]],\"diverging\":[[0,\"#8e0152\"],[0.1,\"#c51b7d\"],[0.2,\"#de77ae\"],[0.3,\"#f1b6da\"],[0.4,\"#fde0ef\"],[0.5,\"#f7f7f7\"],[0.6,\"#e6f5d0\"],[0.7,\"#b8e186\"],[0.8,\"#7fbc41\"],[0.9,\"#4d9221\"],[1,\"#276419\"]]},\"xaxis\":{\"gridcolor\":\"white\",\"linecolor\":\"white\",\"ticks\":\"\",\"title\":{\"standoff\":15},\"zerolinecolor\":\"white\",\"automargin\":true,\"zerolinewidth\":2},\"yaxis\":{\"gridcolor\":\"white\",\"linecolor\":\"white\",\"ticks\":\"\",\"title\":{\"standoff\":15},\"zerolinecolor\":\"white\",\"automargin\":true,\"zerolinewidth\":2},\"scene\":{\"xaxis\":{\"backgroundcolor\":\"#E5ECF6\",\"gridcolor\":\"white\",\"linecolor\":\"white\",\"showbackground\":true,\"ticks\":\"\",\"zerolinecolor\":\"white\",\"gridwidth\":2},\"yaxis\":{\"backgroundcolor\":\"#E5ECF6\",\"gridcolor\":\"white\",\"linecolor\":\"white\",\"showbackground\":true,\"ticks\":\"\",\"zerolinecolor\":\"white\",\"gridwidth\":2},\"zaxis\":{\"backgroundcolor\":\"#E5ECF6\",\"gridcolor\":\"white\",\"linecolor\":\"white\",\"showbackground\":true,\"ticks\":\"\",\"zerolinecolor\":\"white\",\"gridwidth\":2}},\"shapedefaults\":{\"line\":{\"color\":\"#2a3f5f\"}},\"annotationdefaults\":{\"arrowcolor\":\"#2a3f5f\",\"arrowhead\":0,\"arrowwidth\":1},\"geo\":{\"bgcolor\":\"white\",\"landcolor\":\"#E5ECF6\",\"subunitcolor\":\"white\",\"showland\":true,\"showlakes\":true,\"lakecolor\":\"white\"},\"title\":{\"x\":0.05},\"mapbox\":{\"style\":\"light\"}}},\"xaxis\":{\"anchor\":\"y\",\"domain\":[0.0,1.0],\"title\":{\"text\":\"Dataset\"}},\"yaxis\":{\"anchor\":\"x\",\"domain\":[0.0,1.0],\"title\":{\"text\":\"Luminosit\\u00e9\"}},\"legend\":{\"tracegroupgap\":0},\"title\":{\"text\":\"Bo\\u00eete \\u00e0 Moustaches de la luminosit\\u00e9 moyenne par dataset\"},\"boxmode\":\"group\",\"width\":800,\"height\":500},                        {\"responsive\": true}                    ).then(function(){\n",
       "                            \n",
       "var gd = document.getElementById('208786a7-771e-41c8-ac64-bb136c7c7b38');\n",
       "var x = new MutationObserver(function (mutations, observer) {{\n",
       "        var display = window.getComputedStyle(gd).display;\n",
       "        if (!display || display === 'none') {{\n",
       "            console.log([gd, 'removed!']);\n",
       "            Plotly.purge(gd);\n",
       "            observer.disconnect();\n",
       "        }}\n",
       "}});\n",
       "\n",
       "// Listen for the removal of the full notebook cells\n",
       "var notebookContainer = gd.closest('#notebook-container');\n",
       "if (notebookContainer) {{\n",
       "    x.observe(notebookContainer, {childList: true});\n",
       "}}\n",
       "\n",
       "// Listen for the clearing of the current output cell\n",
       "var outputEl = gd.closest('.output');\n",
       "if (outputEl) {{\n",
       "    x.observe(outputEl, {childList: true});\n",
       "}}\n",
       "\n",
       "                        })                };                });            </script>        </div>"
      ]
     },
     "metadata": {},
     "output_type": "display_data"
    }
   ],
   "source": [
    "import plotly.express as px\n",
    "\n",
    "# Créez un graphique interactif de boîte (box plot) pour la luminosité en fonction du dataset\n",
    "fig_box = px.box(df, x='dataset', y='mean_brightness', title=\"Boîte à Moustaches de la luminosité moyenne par dataset\",\n",
    "                labels={'mean_brightness': 'Luminosité', 'dataset': 'Dataset'},\n",
    "                hover_data=['img_path'])  # Ajoutez 'img_path' à hover_data\n",
    "\n",
    "# Mettez à jour la taille du graphique\n",
    "fig_box.update_layout(width=800, height=500)\n",
    "\n",
    "# Affichez le graphique interactif de la boîte à moustaches\n",
    "fig_box.show()\n",
    "\n"
   ]
  },
  {
   "cell_type": "code",
   "execution_count": 124,
   "id": "36860e07-c553-4cc5-83ae-f984de048d7b",
   "metadata": {
    "tags": []
   },
   "outputs": [
    {
     "data": {
      "application/vnd.plotly.v1+json": {
       "config": {
        "plotlyServerURL": "https://plot.ly"
       },
       "data": [
        {
         "alignmentgroup": "True",
         "customdata": [
          [
           "ALL_IDB\\ALL_IDB1\\ALL_IDB1\\im\\Im001_1.jpg"
          ],
          [
           "ALL_IDB\\ALL_IDB1\\ALL_IDB1\\im\\Im002_1.jpg"
          ],
          [
           "ALL_IDB\\ALL_IDB1\\ALL_IDB1\\im\\Im003_1.jpg"
          ],
          [
           "ALL_IDB\\ALL_IDB1\\ALL_IDB1\\im\\Im004_1.jpg"
          ],
          [
           "ALL_IDB\\ALL_IDB1\\ALL_IDB1\\im\\Im005_1.jpg"
          ],
          [
           "ALL_IDB\\ALL_IDB1\\ALL_IDB1\\im\\Im006_1.jpg"
          ],
          [
           "ALL_IDB\\ALL_IDB1\\ALL_IDB1\\im\\Im007_1.jpg"
          ],
          [
           "ALL_IDB\\ALL_IDB1\\ALL_IDB1\\im\\Im008_1.jpg"
          ],
          [
           "ALL_IDB\\ALL_IDB1\\ALL_IDB1\\im\\Im009_1.jpg"
          ],
          [
           "ALL_IDB\\ALL_IDB1\\ALL_IDB1\\im\\Im010_1.jpg"
          ],
          [
           "ALL_IDB\\ALL_IDB1\\ALL_IDB1\\im\\Im011_1.jpg"
          ],
          [
           "ALL_IDB\\ALL_IDB1\\ALL_IDB1\\im\\Im012_1.jpg"
          ],
          [
           "ALL_IDB\\ALL_IDB1\\ALL_IDB1\\im\\Im013_1.jpg"
          ],
          [
           "ALL_IDB\\ALL_IDB1\\ALL_IDB1\\im\\Im014_1.jpg"
          ],
          [
           "ALL_IDB\\ALL_IDB1\\ALL_IDB1\\im\\Im015_1.jpg"
          ],
          [
           "ALL_IDB\\ALL_IDB1\\ALL_IDB1\\im\\Im016_1.jpg"
          ],
          [
           "ALL_IDB\\ALL_IDB1\\ALL_IDB1\\im\\Im017_1.jpg"
          ],
          [
           "ALL_IDB\\ALL_IDB1\\ALL_IDB1\\im\\Im018_1.jpg"
          ],
          [
           "ALL_IDB\\ALL_IDB1\\ALL_IDB1\\im\\Im019_1.jpg"
          ],
          [
           "ALL_IDB\\ALL_IDB1\\ALL_IDB1\\im\\Im020_1.jpg"
          ],
          [
           "ALL_IDB\\ALL_IDB1\\ALL_IDB1\\im\\Im021_1.jpg"
          ],
          [
           "ALL_IDB\\ALL_IDB1\\ALL_IDB1\\im\\Im022_1.jpg"
          ],
          [
           "ALL_IDB\\ALL_IDB1\\ALL_IDB1\\im\\Im023_1.jpg"
          ],
          [
           "ALL_IDB\\ALL_IDB1\\ALL_IDB1\\im\\Im024_1.jpg"
          ],
          [
           "ALL_IDB\\ALL_IDB1\\ALL_IDB1\\im\\Im025_1.jpg"
          ],
          [
           "ALL_IDB\\ALL_IDB1\\ALL_IDB1\\im\\Im026_1.jpg"
          ],
          [
           "ALL_IDB\\ALL_IDB1\\ALL_IDB1\\im\\Im027_1.jpg"
          ],
          [
           "ALL_IDB\\ALL_IDB1\\ALL_IDB1\\im\\Im028_1.jpg"
          ],
          [
           "ALL_IDB\\ALL_IDB1\\ALL_IDB1\\im\\Im029_1.jpg"
          ],
          [
           "ALL_IDB\\ALL_IDB1\\ALL_IDB1\\im\\Im030_1.jpg"
          ],
          [
           "ALL_IDB\\ALL_IDB1\\ALL_IDB1\\im\\Im031_1.jpg"
          ],
          [
           "ALL_IDB\\ALL_IDB1\\ALL_IDB1\\im\\Im032_1.jpg"
          ],
          [
           "ALL_IDB\\ALL_IDB1\\ALL_IDB1\\im\\Im033_1.jpg"
          ],
          [
           "ALL_IDB\\ALL_IDB1\\ALL_IDB1\\im\\Im034_0.jpg"
          ],
          [
           "ALL_IDB\\ALL_IDB1\\ALL_IDB1\\im\\Im035_0.jpg"
          ],
          [
           "ALL_IDB\\ALL_IDB1\\ALL_IDB1\\im\\Im036_0.jpg"
          ],
          [
           "ALL_IDB\\ALL_IDB1\\ALL_IDB1\\im\\Im037_0.jpg"
          ],
          [
           "ALL_IDB\\ALL_IDB1\\ALL_IDB1\\im\\Im038_0.jpg"
          ],
          [
           "ALL_IDB\\ALL_IDB1\\ALL_IDB1\\im\\Im039_0.jpg"
          ],
          [
           "ALL_IDB\\ALL_IDB1\\ALL_IDB1\\im\\Im040_0.jpg"
          ],
          [
           "ALL_IDB\\ALL_IDB1\\ALL_IDB1\\im\\Im041_0.jpg"
          ],
          [
           "ALL_IDB\\ALL_IDB1\\ALL_IDB1\\im\\Im042_0.jpg"
          ],
          [
           "ALL_IDB\\ALL_IDB1\\ALL_IDB1\\im\\Im043_0.jpg"
          ],
          [
           "ALL_IDB\\ALL_IDB1\\ALL_IDB1\\im\\Im044_0.jpg"
          ],
          [
           "ALL_IDB\\ALL_IDB1\\ALL_IDB1\\im\\Im045_0.jpg"
          ],
          [
           "ALL_IDB\\ALL_IDB1\\ALL_IDB1\\im\\Im046_0.jpg"
          ],
          [
           "ALL_IDB\\ALL_IDB1\\ALL_IDB1\\im\\Im047_0.jpg"
          ],
          [
           "ALL_IDB\\ALL_IDB1\\ALL_IDB1\\im\\Im048_1.jpg"
          ],
          [
           "ALL_IDB\\ALL_IDB1\\ALL_IDB1\\im\\Im049_1.jpg"
          ],
          [
           "ALL_IDB\\ALL_IDB1\\ALL_IDB1\\im\\Im050_1.jpg"
          ],
          [
           "ALL_IDB\\ALL_IDB1\\ALL_IDB1\\im\\Im051_1.jpg"
          ],
          [
           "ALL_IDB\\ALL_IDB1\\ALL_IDB1\\im\\Im052_1.jpg"
          ],
          [
           "ALL_IDB\\ALL_IDB1\\ALL_IDB1\\im\\Im053_1.jpg"
          ],
          [
           "ALL_IDB\\ALL_IDB1\\ALL_IDB1\\im\\Im054_1.jpg"
          ],
          [
           "ALL_IDB\\ALL_IDB1\\ALL_IDB1\\im\\Im055_1.jpg"
          ],
          [
           "ALL_IDB\\ALL_IDB1\\ALL_IDB1\\im\\Im056_1.jpg"
          ],
          [
           "ALL_IDB\\ALL_IDB1\\ALL_IDB1\\im\\Im057_1.jpg"
          ],
          [
           "ALL_IDB\\ALL_IDB1\\ALL_IDB1\\im\\Im058_1.jpg"
          ],
          [
           "ALL_IDB\\ALL_IDB1\\ALL_IDB1\\im\\Im059_1.jpg"
          ],
          [
           "ALL_IDB\\ALL_IDB1\\ALL_IDB1\\im\\Im060_1.jpg"
          ],
          [
           "ALL_IDB\\ALL_IDB1\\ALL_IDB1\\im\\Im061_1.jpg"
          ],
          [
           "ALL_IDB\\ALL_IDB1\\ALL_IDB1\\im\\Im062_1.jpg"
          ],
          [
           "ALL_IDB\\ALL_IDB1\\ALL_IDB1\\im\\Im063_1.jpg"
          ],
          [
           "ALL_IDB\\ALL_IDB1\\ALL_IDB1\\im\\Im064_0.jpg"
          ],
          [
           "ALL_IDB\\ALL_IDB1\\ALL_IDB1\\im\\Im065_0.jpg"
          ],
          [
           "ALL_IDB\\ALL_IDB1\\ALL_IDB1\\im\\Im066_0.jpg"
          ],
          [
           "ALL_IDB\\ALL_IDB1\\ALL_IDB1\\im\\Im067_0.jpg"
          ],
          [
           "ALL_IDB\\ALL_IDB1\\ALL_IDB1\\im\\Im068_0.jpg"
          ],
          [
           "ALL_IDB\\ALL_IDB1\\ALL_IDB1\\im\\Im069_0.jpg"
          ],
          [
           "ALL_IDB\\ALL_IDB1\\ALL_IDB1\\im\\Im070_0.jpg"
          ],
          [
           "ALL_IDB\\ALL_IDB1\\ALL_IDB1\\im\\Im071_0.jpg"
          ],
          [
           "ALL_IDB\\ALL_IDB1\\ALL_IDB1\\im\\Im072_0.jpg"
          ],
          [
           "ALL_IDB\\ALL_IDB1\\ALL_IDB1\\im\\Im073_0.jpg"
          ],
          [
           "ALL_IDB\\ALL_IDB1\\ALL_IDB1\\im\\Im074_0.jpg"
          ],
          [
           "ALL_IDB\\ALL_IDB1\\ALL_IDB1\\im\\Im075_0.jpg"
          ],
          [
           "ALL_IDB\\ALL_IDB1\\ALL_IDB1\\im\\Im076_0.jpg"
          ],
          [
           "ALL_IDB\\ALL_IDB1\\ALL_IDB1\\im\\Im077_0.jpg"
          ],
          [
           "ALL_IDB\\ALL_IDB1\\ALL_IDB1\\im\\Im078_0.jpg"
          ],
          [
           "ALL_IDB\\ALL_IDB1\\ALL_IDB1\\im\\Im079_0.jpg"
          ],
          [
           "ALL_IDB\\ALL_IDB1\\ALL_IDB1\\im\\Im080_0.jpg"
          ],
          [
           "ALL_IDB\\ALL_IDB1\\ALL_IDB1\\im\\Im081_0.jpg"
          ],
          [
           "ALL_IDB\\ALL_IDB1\\ALL_IDB1\\im\\Im082_0.jpg"
          ],
          [
           "ALL_IDB\\ALL_IDB1\\ALL_IDB1\\im\\Im083_0.jpg"
          ],
          [
           "ALL_IDB\\ALL_IDB1\\ALL_IDB1\\im\\Im084_0.jpg"
          ],
          [
           "ALL_IDB\\ALL_IDB1\\ALL_IDB1\\im\\Im085_0.jpg"
          ],
          [
           "ALL_IDB\\ALL_IDB1\\ALL_IDB1\\im\\Im086_0.jpg"
          ],
          [
           "ALL_IDB\\ALL_IDB1\\ALL_IDB1\\im\\Im087_0.jpg"
          ],
          [
           "ALL_IDB\\ALL_IDB1\\ALL_IDB1\\im\\Im088_0.jpg"
          ],
          [
           "ALL_IDB\\ALL_IDB1\\ALL_IDB1\\im\\Im089_0.jpg"
          ],
          [
           "ALL_IDB\\ALL_IDB1\\ALL_IDB1\\im\\Im090_0.jpg"
          ],
          [
           "ALL_IDB\\ALL_IDB1\\ALL_IDB1\\im\\Im091_0.jpg"
          ],
          [
           "ALL_IDB\\ALL_IDB1\\ALL_IDB1\\im\\Im092_0.jpg"
          ],
          [
           "ALL_IDB\\ALL_IDB1\\ALL_IDB1\\im\\Im093_0.jpg"
          ],
          [
           "ALL_IDB\\ALL_IDB1\\ALL_IDB1\\im\\Im094_0.jpg"
          ],
          [
           "ALL_IDB\\ALL_IDB1\\ALL_IDB1\\im\\Im095_0.jpg"
          ],
          [
           "ALL_IDB\\ALL_IDB1\\ALL_IDB1\\im\\Im096_0.jpg"
          ],
          [
           "ALL_IDB\\ALL_IDB1\\ALL_IDB1\\im\\Im097_0.jpg"
          ],
          [
           "ALL_IDB\\ALL_IDB1\\ALL_IDB1\\im\\Im098_0.jpg"
          ],
          [
           "ALL_IDB\\ALL_IDB1\\ALL_IDB1\\im\\Im099_0.jpg"
          ],
          [
           "ALL_IDB\\ALL_IDB1\\ALL_IDB1\\im\\Im100_0.jpg"
          ],
          [
           "ALL_IDB\\ALL_IDB1\\ALL_IDB1\\im\\Im101_0.jpg"
          ],
          [
           "ALL_IDB\\ALL_IDB1\\ALL_IDB1\\im\\Im102_0.jpg"
          ],
          [
           "ALL_IDB\\ALL_IDB1\\ALL_IDB1\\im\\Im103_0.jpg"
          ],
          [
           "ALL_IDB\\ALL_IDB1\\ALL_IDB1\\im\\Im104_0.jpg"
          ],
          [
           "ALL_IDB\\ALL_IDB1\\ALL_IDB1\\im\\Im105_0.jpg"
          ],
          [
           "ALL_IDB\\ALL_IDB1\\ALL_IDB1\\im\\Im106_0.jpg"
          ],
          [
           "ALL_IDB\\ALL_IDB1\\ALL_IDB1\\im\\Im107_0.jpg"
          ],
          [
           "ALL_IDB\\ALL_IDB1\\ALL_IDB1\\im\\Im108_0.jpg"
          ],
          [
           "ALL_IDB\\ALL_IDB2\\ALL_IDB2\\img\\Im001_1.tif"
          ],
          [
           "ALL_IDB\\ALL_IDB2\\ALL_IDB2\\img\\Im002_1.tif"
          ],
          [
           "ALL_IDB\\ALL_IDB2\\ALL_IDB2\\img\\Im003_1.tif"
          ],
          [
           "ALL_IDB\\ALL_IDB2\\ALL_IDB2\\img\\Im004_1.tif"
          ],
          [
           "ALL_IDB\\ALL_IDB2\\ALL_IDB2\\img\\Im005_1.tif"
          ],
          [
           "ALL_IDB\\ALL_IDB2\\ALL_IDB2\\img\\Im006_1.tif"
          ],
          [
           "ALL_IDB\\ALL_IDB2\\ALL_IDB2\\img\\Im007_1.tif"
          ],
          [
           "ALL_IDB\\ALL_IDB2\\ALL_IDB2\\img\\Im008_1.tif"
          ],
          [
           "ALL_IDB\\ALL_IDB2\\ALL_IDB2\\img\\Im009_1.tif"
          ],
          [
           "ALL_IDB\\ALL_IDB2\\ALL_IDB2\\img\\Im010_1.tif"
          ],
          [
           "ALL_IDB\\ALL_IDB2\\ALL_IDB2\\img\\Im011_1.tif"
          ],
          [
           "ALL_IDB\\ALL_IDB2\\ALL_IDB2\\img\\Im012_1.tif"
          ],
          [
           "ALL_IDB\\ALL_IDB2\\ALL_IDB2\\img\\Im013_1.tif"
          ],
          [
           "ALL_IDB\\ALL_IDB2\\ALL_IDB2\\img\\Im014_1.tif"
          ],
          [
           "ALL_IDB\\ALL_IDB2\\ALL_IDB2\\img\\Im015_1.tif"
          ],
          [
           "ALL_IDB\\ALL_IDB2\\ALL_IDB2\\img\\Im016_1.tif"
          ],
          [
           "ALL_IDB\\ALL_IDB2\\ALL_IDB2\\img\\Im017_1.tif"
          ],
          [
           "ALL_IDB\\ALL_IDB2\\ALL_IDB2\\img\\Im018_1.tif"
          ],
          [
           "ALL_IDB\\ALL_IDB2\\ALL_IDB2\\img\\Im019_1.tif"
          ],
          [
           "ALL_IDB\\ALL_IDB2\\ALL_IDB2\\img\\Im020_1.tif"
          ],
          [
           "ALL_IDB\\ALL_IDB2\\ALL_IDB2\\img\\Im021_1.tif"
          ],
          [
           "ALL_IDB\\ALL_IDB2\\ALL_IDB2\\img\\Im022_1.tif"
          ],
          [
           "ALL_IDB\\ALL_IDB2\\ALL_IDB2\\img\\Im023_1.tif"
          ],
          [
           "ALL_IDB\\ALL_IDB2\\ALL_IDB2\\img\\Im024_1.tif"
          ],
          [
           "ALL_IDB\\ALL_IDB2\\ALL_IDB2\\img\\Im025_1.tif"
          ],
          [
           "ALL_IDB\\ALL_IDB2\\ALL_IDB2\\img\\Im026_1.tif"
          ],
          [
           "ALL_IDB\\ALL_IDB2\\ALL_IDB2\\img\\Im027_1.tif"
          ],
          [
           "ALL_IDB\\ALL_IDB2\\ALL_IDB2\\img\\Im028_1.tif"
          ],
          [
           "ALL_IDB\\ALL_IDB2\\ALL_IDB2\\img\\Im029_1.tif"
          ],
          [
           "ALL_IDB\\ALL_IDB2\\ALL_IDB2\\img\\Im030_1.tif"
          ],
          [
           "ALL_IDB\\ALL_IDB2\\ALL_IDB2\\img\\Im031_1.tif"
          ],
          [
           "ALL_IDB\\ALL_IDB2\\ALL_IDB2\\img\\Im032_1.tif"
          ],
          [
           "ALL_IDB\\ALL_IDB2\\ALL_IDB2\\img\\Im033_1.tif"
          ],
          [
           "ALL_IDB\\ALL_IDB2\\ALL_IDB2\\img\\Im034_1.tif"
          ],
          [
           "ALL_IDB\\ALL_IDB2\\ALL_IDB2\\img\\Im035_1.tif"
          ],
          [
           "ALL_IDB\\ALL_IDB2\\ALL_IDB2\\img\\Im036_1.tif"
          ],
          [
           "ALL_IDB\\ALL_IDB2\\ALL_IDB2\\img\\Im037_1.tif"
          ],
          [
           "ALL_IDB\\ALL_IDB2\\ALL_IDB2\\img\\Im038_1.tif"
          ],
          [
           "ALL_IDB\\ALL_IDB2\\ALL_IDB2\\img\\Im039_1.tif"
          ],
          [
           "ALL_IDB\\ALL_IDB2\\ALL_IDB2\\img\\Im040_1.tif"
          ],
          [
           "ALL_IDB\\ALL_IDB2\\ALL_IDB2\\img\\Im041_1.tif"
          ],
          [
           "ALL_IDB\\ALL_IDB2\\ALL_IDB2\\img\\Im042_1.tif"
          ],
          [
           "ALL_IDB\\ALL_IDB2\\ALL_IDB2\\img\\Im043_1.tif"
          ],
          [
           "ALL_IDB\\ALL_IDB2\\ALL_IDB2\\img\\Im044_1.tif"
          ],
          [
           "ALL_IDB\\ALL_IDB2\\ALL_IDB2\\img\\Im045_1.tif"
          ],
          [
           "ALL_IDB\\ALL_IDB2\\ALL_IDB2\\img\\Im046_1.tif"
          ],
          [
           "ALL_IDB\\ALL_IDB2\\ALL_IDB2\\img\\Im047_1.tif"
          ],
          [
           "ALL_IDB\\ALL_IDB2\\ALL_IDB2\\img\\Im048_1.tif"
          ],
          [
           "ALL_IDB\\ALL_IDB2\\ALL_IDB2\\img\\Im049_1.tif"
          ],
          [
           "ALL_IDB\\ALL_IDB2\\ALL_IDB2\\img\\Im050_1.tif"
          ],
          [
           "ALL_IDB\\ALL_IDB2\\ALL_IDB2\\img\\Im051_1.tif"
          ],
          [
           "ALL_IDB\\ALL_IDB2\\ALL_IDB2\\img\\Im052_1.tif"
          ],
          [
           "ALL_IDB\\ALL_IDB2\\ALL_IDB2\\img\\Im053_1.tif"
          ],
          [
           "ALL_IDB\\ALL_IDB2\\ALL_IDB2\\img\\Im054_1.tif"
          ],
          [
           "ALL_IDB\\ALL_IDB2\\ALL_IDB2\\img\\Im055_1.tif"
          ],
          [
           "ALL_IDB\\ALL_IDB2\\ALL_IDB2\\img\\Im056_1.tif"
          ],
          [
           "ALL_IDB\\ALL_IDB2\\ALL_IDB2\\img\\Im057_1.tif"
          ],
          [
           "ALL_IDB\\ALL_IDB2\\ALL_IDB2\\img\\Im058_1.tif"
          ],
          [
           "ALL_IDB\\ALL_IDB2\\ALL_IDB2\\img\\Im059_1.tif"
          ],
          [
           "ALL_IDB\\ALL_IDB2\\ALL_IDB2\\img\\Im060_1.tif"
          ],
          [
           "ALL_IDB\\ALL_IDB2\\ALL_IDB2\\img\\Im061_1.tif"
          ],
          [
           "ALL_IDB\\ALL_IDB2\\ALL_IDB2\\img\\Im062_1.tif"
          ],
          [
           "ALL_IDB\\ALL_IDB2\\ALL_IDB2\\img\\Im063_1.tif"
          ],
          [
           "ALL_IDB\\ALL_IDB2\\ALL_IDB2\\img\\Im064_1.tif"
          ],
          [
           "ALL_IDB\\ALL_IDB2\\ALL_IDB2\\img\\Im065_1.tif"
          ],
          [
           "ALL_IDB\\ALL_IDB2\\ALL_IDB2\\img\\Im066_1.tif"
          ],
          [
           "ALL_IDB\\ALL_IDB2\\ALL_IDB2\\img\\Im067_1.tif"
          ],
          [
           "ALL_IDB\\ALL_IDB2\\ALL_IDB2\\img\\Im068_1.tif"
          ],
          [
           "ALL_IDB\\ALL_IDB2\\ALL_IDB2\\img\\Im069_1.tif"
          ],
          [
           "ALL_IDB\\ALL_IDB2\\ALL_IDB2\\img\\Im070_1.tif"
          ],
          [
           "ALL_IDB\\ALL_IDB2\\ALL_IDB2\\img\\Im071_1.tif"
          ],
          [
           "ALL_IDB\\ALL_IDB2\\ALL_IDB2\\img\\Im072_1.tif"
          ],
          [
           "ALL_IDB\\ALL_IDB2\\ALL_IDB2\\img\\Im073_1.tif"
          ],
          [
           "ALL_IDB\\ALL_IDB2\\ALL_IDB2\\img\\Im074_1.tif"
          ],
          [
           "ALL_IDB\\ALL_IDB2\\ALL_IDB2\\img\\Im075_1.tif"
          ],
          [
           "ALL_IDB\\ALL_IDB2\\ALL_IDB2\\img\\Im076_1.tif"
          ],
          [
           "ALL_IDB\\ALL_IDB2\\ALL_IDB2\\img\\Im077_1.tif"
          ],
          [
           "ALL_IDB\\ALL_IDB2\\ALL_IDB2\\img\\Im078_1.tif"
          ],
          [
           "ALL_IDB\\ALL_IDB2\\ALL_IDB2\\img\\Im079_1.tif"
          ],
          [
           "ALL_IDB\\ALL_IDB2\\ALL_IDB2\\img\\Im080_1.tif"
          ],
          [
           "ALL_IDB\\ALL_IDB2\\ALL_IDB2\\img\\Im081_1.tif"
          ],
          [
           "ALL_IDB\\ALL_IDB2\\ALL_IDB2\\img\\Im082_1.tif"
          ],
          [
           "ALL_IDB\\ALL_IDB2\\ALL_IDB2\\img\\Im083_1.tif"
          ],
          [
           "ALL_IDB\\ALL_IDB2\\ALL_IDB2\\img\\Im084_1.tif"
          ],
          [
           "ALL_IDB\\ALL_IDB2\\ALL_IDB2\\img\\Im085_1.tif"
          ],
          [
           "ALL_IDB\\ALL_IDB2\\ALL_IDB2\\img\\Im086_1.tif"
          ],
          [
           "ALL_IDB\\ALL_IDB2\\ALL_IDB2\\img\\Im087_1.tif"
          ],
          [
           "ALL_IDB\\ALL_IDB2\\ALL_IDB2\\img\\Im088_1.tif"
          ],
          [
           "ALL_IDB\\ALL_IDB2\\ALL_IDB2\\img\\Im089_1.tif"
          ],
          [
           "ALL_IDB\\ALL_IDB2\\ALL_IDB2\\img\\Im090_1.tif"
          ],
          [
           "ALL_IDB\\ALL_IDB2\\ALL_IDB2\\img\\Im091_1.tif"
          ],
          [
           "ALL_IDB\\ALL_IDB2\\ALL_IDB2\\img\\Im092_1.tif"
          ],
          [
           "ALL_IDB\\ALL_IDB2\\ALL_IDB2\\img\\Im093_1.tif"
          ],
          [
           "ALL_IDB\\ALL_IDB2\\ALL_IDB2\\img\\Im094_1.tif"
          ],
          [
           "ALL_IDB\\ALL_IDB2\\ALL_IDB2\\img\\Im095_1.tif"
          ],
          [
           "ALL_IDB\\ALL_IDB2\\ALL_IDB2\\img\\Im096_1.tif"
          ],
          [
           "ALL_IDB\\ALL_IDB2\\ALL_IDB2\\img\\Im097_1.tif"
          ],
          [
           "ALL_IDB\\ALL_IDB2\\ALL_IDB2\\img\\Im098_1.tif"
          ],
          [
           "ALL_IDB\\ALL_IDB2\\ALL_IDB2\\img\\Im099_1.tif"
          ],
          [
           "ALL_IDB\\ALL_IDB2\\ALL_IDB2\\img\\Im100_1.tif"
          ],
          [
           "ALL_IDB\\ALL_IDB2\\ALL_IDB2\\img\\Im101_1.tif"
          ],
          [
           "ALL_IDB\\ALL_IDB2\\ALL_IDB2\\img\\Im102_1.tif"
          ],
          [
           "ALL_IDB\\ALL_IDB2\\ALL_IDB2\\img\\Im103_1.tif"
          ],
          [
           "ALL_IDB\\ALL_IDB2\\ALL_IDB2\\img\\Im104_1.tif"
          ],
          [
           "ALL_IDB\\ALL_IDB2\\ALL_IDB2\\img\\Im105_1.tif"
          ],
          [
           "ALL_IDB\\ALL_IDB2\\ALL_IDB2\\img\\Im106_1.tif"
          ],
          [
           "ALL_IDB\\ALL_IDB2\\ALL_IDB2\\img\\Im107_1.tif"
          ],
          [
           "ALL_IDB\\ALL_IDB2\\ALL_IDB2\\img\\Im108_1.tif"
          ],
          [
           "ALL_IDB\\ALL_IDB2\\ALL_IDB2\\img\\Im109_1.tif"
          ],
          [
           "ALL_IDB\\ALL_IDB2\\ALL_IDB2\\img\\Im110_1.tif"
          ],
          [
           "ALL_IDB\\ALL_IDB2\\ALL_IDB2\\img\\Im111_1.tif"
          ],
          [
           "ALL_IDB\\ALL_IDB2\\ALL_IDB2\\img\\Im112_1.tif"
          ],
          [
           "ALL_IDB\\ALL_IDB2\\ALL_IDB2\\img\\Im113_1.tif"
          ],
          [
           "ALL_IDB\\ALL_IDB2\\ALL_IDB2\\img\\Im114_1.tif"
          ],
          [
           "ALL_IDB\\ALL_IDB2\\ALL_IDB2\\img\\Im115_1.tif"
          ],
          [
           "ALL_IDB\\ALL_IDB2\\ALL_IDB2\\img\\Im116_1.tif"
          ],
          [
           "ALL_IDB\\ALL_IDB2\\ALL_IDB2\\img\\Im117_1.tif"
          ],
          [
           "ALL_IDB\\ALL_IDB2\\ALL_IDB2\\img\\Im118_1.tif"
          ],
          [
           "ALL_IDB\\ALL_IDB2\\ALL_IDB2\\img\\Im119_1.tif"
          ],
          [
           "ALL_IDB\\ALL_IDB2\\ALL_IDB2\\img\\Im120_1.tif"
          ],
          [
           "ALL_IDB\\ALL_IDB2\\ALL_IDB2\\img\\Im121_1.tif"
          ],
          [
           "ALL_IDB\\ALL_IDB2\\ALL_IDB2\\img\\Im122_1.tif"
          ],
          [
           "ALL_IDB\\ALL_IDB2\\ALL_IDB2\\img\\Im123_1.tif"
          ],
          [
           "ALL_IDB\\ALL_IDB2\\ALL_IDB2\\img\\Im124_1.tif"
          ],
          [
           "ALL_IDB\\ALL_IDB2\\ALL_IDB2\\img\\Im125_1.tif"
          ],
          [
           "ALL_IDB\\ALL_IDB2\\ALL_IDB2\\img\\Im126_1.tif"
          ],
          [
           "ALL_IDB\\ALL_IDB2\\ALL_IDB2\\img\\Im127_1.tif"
          ],
          [
           "ALL_IDB\\ALL_IDB2\\ALL_IDB2\\img\\Im128_1.tif"
          ],
          [
           "ALL_IDB\\ALL_IDB2\\ALL_IDB2\\img\\Im129_1.tif"
          ],
          [
           "ALL_IDB\\ALL_IDB2\\ALL_IDB2\\img\\Im130_1.tif"
          ],
          [
           "ALL_IDB\\ALL_IDB2\\ALL_IDB2\\img\\Im131_0.tif"
          ],
          [
           "ALL_IDB\\ALL_IDB2\\ALL_IDB2\\img\\Im132_0.tif"
          ],
          [
           "ALL_IDB\\ALL_IDB2\\ALL_IDB2\\img\\Im133_0.tif"
          ],
          [
           "ALL_IDB\\ALL_IDB2\\ALL_IDB2\\img\\Im134_0.tif"
          ],
          [
           "ALL_IDB\\ALL_IDB2\\ALL_IDB2\\img\\Im135_0.tif"
          ],
          [
           "ALL_IDB\\ALL_IDB2\\ALL_IDB2\\img\\Im136_0.tif"
          ],
          [
           "ALL_IDB\\ALL_IDB2\\ALL_IDB2\\img\\Im137_0.tif"
          ],
          [
           "ALL_IDB\\ALL_IDB2\\ALL_IDB2\\img\\Im138_0.tif"
          ],
          [
           "ALL_IDB\\ALL_IDB2\\ALL_IDB2\\img\\Im139_0.tif"
          ],
          [
           "ALL_IDB\\ALL_IDB2\\ALL_IDB2\\img\\Im140_0.tif"
          ],
          [
           "ALL_IDB\\ALL_IDB2\\ALL_IDB2\\img\\Im141_0.tif"
          ],
          [
           "ALL_IDB\\ALL_IDB2\\ALL_IDB2\\img\\Im142_0.tif"
          ],
          [
           "ALL_IDB\\ALL_IDB2\\ALL_IDB2\\img\\Im143_0.tif"
          ],
          [
           "ALL_IDB\\ALL_IDB2\\ALL_IDB2\\img\\Im144_0.tif"
          ],
          [
           "ALL_IDB\\ALL_IDB2\\ALL_IDB2\\img\\Im145_0.tif"
          ],
          [
           "ALL_IDB\\ALL_IDB2\\ALL_IDB2\\img\\Im146_0.tif"
          ],
          [
           "ALL_IDB\\ALL_IDB2\\ALL_IDB2\\img\\Im147_0.tif"
          ],
          [
           "ALL_IDB\\ALL_IDB2\\ALL_IDB2\\img\\Im148_0.tif"
          ],
          [
           "ALL_IDB\\ALL_IDB2\\ALL_IDB2\\img\\Im149_0.tif"
          ],
          [
           "ALL_IDB\\ALL_IDB2\\ALL_IDB2\\img\\Im150_0.tif"
          ],
          [
           "ALL_IDB\\ALL_IDB2\\ALL_IDB2\\img\\Im151_0.tif"
          ],
          [
           "ALL_IDB\\ALL_IDB2\\ALL_IDB2\\img\\Im152_0.tif"
          ],
          [
           "ALL_IDB\\ALL_IDB2\\ALL_IDB2\\img\\Im153_0.tif"
          ],
          [
           "ALL_IDB\\ALL_IDB2\\ALL_IDB2\\img\\Im154_0.tif"
          ],
          [
           "ALL_IDB\\ALL_IDB2\\ALL_IDB2\\img\\Im155_0.tif"
          ],
          [
           "ALL_IDB\\ALL_IDB2\\ALL_IDB2\\img\\Im156_0.tif"
          ],
          [
           "ALL_IDB\\ALL_IDB2\\ALL_IDB2\\img\\Im157_0.tif"
          ],
          [
           "ALL_IDB\\ALL_IDB2\\ALL_IDB2\\img\\Im158_0.tif"
          ],
          [
           "ALL_IDB\\ALL_IDB2\\ALL_IDB2\\img\\Im159_0.tif"
          ],
          [
           "ALL_IDB\\ALL_IDB2\\ALL_IDB2\\img\\Im160_0.tif"
          ],
          [
           "ALL_IDB\\ALL_IDB2\\ALL_IDB2\\img\\Im161_0.tif"
          ],
          [
           "ALL_IDB\\ALL_IDB2\\ALL_IDB2\\img\\Im162_0.tif"
          ],
          [
           "ALL_IDB\\ALL_IDB2\\ALL_IDB2\\img\\Im163_0.tif"
          ],
          [
           "ALL_IDB\\ALL_IDB2\\ALL_IDB2\\img\\Im164_0.tif"
          ],
          [
           "ALL_IDB\\ALL_IDB2\\ALL_IDB2\\img\\Im165_0.tif"
          ],
          [
           "ALL_IDB\\ALL_IDB2\\ALL_IDB2\\img\\Im166_0.tif"
          ],
          [
           "ALL_IDB\\ALL_IDB2\\ALL_IDB2\\img\\Im167_0.tif"
          ],
          [
           "ALL_IDB\\ALL_IDB2\\ALL_IDB2\\img\\Im168_0.tif"
          ],
          [
           "ALL_IDB\\ALL_IDB2\\ALL_IDB2\\img\\Im169_0.tif"
          ],
          [
           "ALL_IDB\\ALL_IDB2\\ALL_IDB2\\img\\Im170_0.tif"
          ],
          [
           "ALL_IDB\\ALL_IDB2\\ALL_IDB2\\img\\Im171_0.tif"
          ],
          [
           "ALL_IDB\\ALL_IDB2\\ALL_IDB2\\img\\Im172_0.tif"
          ],
          [
           "ALL_IDB\\ALL_IDB2\\ALL_IDB2\\img\\Im173_0.tif"
          ],
          [
           "ALL_IDB\\ALL_IDB2\\ALL_IDB2\\img\\Im174_0.tif"
          ],
          [
           "ALL_IDB\\ALL_IDB2\\ALL_IDB2\\img\\Im175_0.tif"
          ],
          [
           "ALL_IDB\\ALL_IDB2\\ALL_IDB2\\img\\Im176_0.tif"
          ],
          [
           "ALL_IDB\\ALL_IDB2\\ALL_IDB2\\img\\Im177_0.tif"
          ],
          [
           "ALL_IDB\\ALL_IDB2\\ALL_IDB2\\img\\Im178_0.tif"
          ],
          [
           "ALL_IDB\\ALL_IDB2\\ALL_IDB2\\img\\Im179_0.tif"
          ],
          [
           "ALL_IDB\\ALL_IDB2\\ALL_IDB2\\img\\Im180_0.tif"
          ],
          [
           "ALL_IDB\\ALL_IDB2\\ALL_IDB2\\img\\Im181_0.tif"
          ],
          [
           "ALL_IDB\\ALL_IDB2\\ALL_IDB2\\img\\Im182_0.tif"
          ],
          [
           "ALL_IDB\\ALL_IDB2\\ALL_IDB2\\img\\Im183_0.tif"
          ],
          [
           "ALL_IDB\\ALL_IDB2\\ALL_IDB2\\img\\Im184_0.tif"
          ],
          [
           "ALL_IDB\\ALL_IDB2\\ALL_IDB2\\img\\Im185_0.tif"
          ],
          [
           "ALL_IDB\\ALL_IDB2\\ALL_IDB2\\img\\Im186_0.tif"
          ],
          [
           "ALL_IDB\\ALL_IDB2\\ALL_IDB2\\img\\Im187_0.tif"
          ],
          [
           "ALL_IDB\\ALL_IDB2\\ALL_IDB2\\img\\Im188_0.tif"
          ],
          [
           "ALL_IDB\\ALL_IDB2\\ALL_IDB2\\img\\Im189_0.tif"
          ],
          [
           "ALL_IDB\\ALL_IDB2\\ALL_IDB2\\img\\Im190_0.tif"
          ],
          [
           "ALL_IDB\\ALL_IDB2\\ALL_IDB2\\img\\Im191_0.tif"
          ],
          [
           "ALL_IDB\\ALL_IDB2\\ALL_IDB2\\img\\Im192_0.tif"
          ],
          [
           "ALL_IDB\\ALL_IDB2\\ALL_IDB2\\img\\Im193_0.tif"
          ],
          [
           "ALL_IDB\\ALL_IDB2\\ALL_IDB2\\img\\Im194_0.tif"
          ],
          [
           "ALL_IDB\\ALL_IDB2\\ALL_IDB2\\img\\Im195_0.tif"
          ],
          [
           "ALL_IDB\\ALL_IDB2\\ALL_IDB2\\img\\Im196_0.tif"
          ],
          [
           "ALL_IDB\\ALL_IDB2\\ALL_IDB2\\img\\Im197_0.tif"
          ],
          [
           "ALL_IDB\\ALL_IDB2\\ALL_IDB2\\img\\Im198_0.tif"
          ],
          [
           "ALL_IDB\\ALL_IDB2\\ALL_IDB2\\img\\Im199_0.tif"
          ],
          [
           "ALL_IDB\\ALL_IDB2\\ALL_IDB2\\img\\Im200_0.tif"
          ],
          [
           "ALL_IDB\\ALL_IDB2\\ALL_IDB2\\img\\Im201_0.tif"
          ],
          [
           "ALL_IDB\\ALL_IDB2\\ALL_IDB2\\img\\Im202_0.tif"
          ],
          [
           "ALL_IDB\\ALL_IDB2\\ALL_IDB2\\img\\Im203_0.tif"
          ],
          [
           "ALL_IDB\\ALL_IDB2\\ALL_IDB2\\img\\Im204_0.tif"
          ],
          [
           "ALL_IDB\\ALL_IDB2\\ALL_IDB2\\img\\Im205_0.tif"
          ],
          [
           "ALL_IDB\\ALL_IDB2\\ALL_IDB2\\img\\Im206_0.tif"
          ],
          [
           "ALL_IDB\\ALL_IDB2\\ALL_IDB2\\img\\Im207_0.tif"
          ],
          [
           "ALL_IDB\\ALL_IDB2\\ALL_IDB2\\img\\Im208_0.tif"
          ],
          [
           "ALL_IDB\\ALL_IDB2\\ALL_IDB2\\img\\Im209_0.tif"
          ],
          [
           "ALL_IDB\\ALL_IDB2\\ALL_IDB2\\img\\Im210_0.tif"
          ],
          [
           "ALL_IDB\\ALL_IDB2\\ALL_IDB2\\img\\Im211_0.tif"
          ],
          [
           "ALL_IDB\\ALL_IDB2\\ALL_IDB2\\img\\Im212_0.tif"
          ],
          [
           "ALL_IDB\\ALL_IDB2\\ALL_IDB2\\img\\Im213_0.tif"
          ],
          [
           "ALL_IDB\\ALL_IDB2\\ALL_IDB2\\img\\Im214_0.tif"
          ],
          [
           "ALL_IDB\\ALL_IDB2\\ALL_IDB2\\img\\Im215_0.tif"
          ],
          [
           "ALL_IDB\\ALL_IDB2\\ALL_IDB2\\img\\Im216_0.tif"
          ],
          [
           "ALL_IDB\\ALL_IDB2\\ALL_IDB2\\img\\Im217_0.tif"
          ],
          [
           "ALL_IDB\\ALL_IDB2\\ALL_IDB2\\img\\Im218_0.tif"
          ],
          [
           "ALL_IDB\\ALL_IDB2\\ALL_IDB2\\img\\Im219_0.tif"
          ],
          [
           "ALL_IDB\\ALL_IDB2\\ALL_IDB2\\img\\Im220_0.tif"
          ],
          [
           "ALL_IDB\\ALL_IDB2\\ALL_IDB2\\img\\Im221_0.tif"
          ],
          [
           "ALL_IDB\\ALL_IDB2\\ALL_IDB2\\img\\Im222_0.tif"
          ],
          [
           "ALL_IDB\\ALL_IDB2\\ALL_IDB2\\img\\Im223_0.tif"
          ],
          [
           "ALL_IDB\\ALL_IDB2\\ALL_IDB2\\img\\Im224_0.tif"
          ],
          [
           "ALL_IDB\\ALL_IDB2\\ALL_IDB2\\img\\Im225_0.tif"
          ],
          [
           "ALL_IDB\\ALL_IDB2\\ALL_IDB2\\img\\Im226_0.tif"
          ],
          [
           "ALL_IDB\\ALL_IDB2\\ALL_IDB2\\img\\Im227_0.tif"
          ],
          [
           "ALL_IDB\\ALL_IDB2\\ALL_IDB2\\img\\Im228_0.tif"
          ],
          [
           "ALL_IDB\\ALL_IDB2\\ALL_IDB2\\img\\Im229_0.tif"
          ],
          [
           "ALL_IDB\\ALL_IDB2\\ALL_IDB2\\img\\Im230_0.tif"
          ],
          [
           "ALL_IDB\\ALL_IDB2\\ALL_IDB2\\img\\Im231_0.tif"
          ],
          [
           "ALL_IDB\\ALL_IDB2\\ALL_IDB2\\img\\Im232_0.tif"
          ],
          [
           "ALL_IDB\\ALL_IDB2\\ALL_IDB2\\img\\Im233_0.tif"
          ],
          [
           "ALL_IDB\\ALL_IDB2\\ALL_IDB2\\img\\Im234_0.tif"
          ],
          [
           "ALL_IDB\\ALL_IDB2\\ALL_IDB2\\img\\Im235_0.tif"
          ],
          [
           "ALL_IDB\\ALL_IDB2\\ALL_IDB2\\img\\Im236_0.tif"
          ],
          [
           "ALL_IDB\\ALL_IDB2\\ALL_IDB2\\img\\Im237_0.tif"
          ],
          [
           "ALL_IDB\\ALL_IDB2\\ALL_IDB2\\img\\Im238_0.tif"
          ],
          [
           "ALL_IDB\\ALL_IDB2\\ALL_IDB2\\img\\Im239_0.tif"
          ],
          [
           "ALL_IDB\\ALL_IDB2\\ALL_IDB2\\img\\Im240_0.tif"
          ],
          [
           "ALL_IDB\\ALL_IDB2\\ALL_IDB2\\img\\Im241_0.tif"
          ],
          [
           "ALL_IDB\\ALL_IDB2\\ALL_IDB2\\img\\Im242_0.tif"
          ],
          [
           "ALL_IDB\\ALL_IDB2\\ALL_IDB2\\img\\Im243_0.tif"
          ],
          [
           "ALL_IDB\\ALL_IDB2\\ALL_IDB2\\img\\Im244_0.tif"
          ],
          [
           "ALL_IDB\\ALL_IDB2\\ALL_IDB2\\img\\Im245_0.tif"
          ],
          [
           "ALL_IDB\\ALL_IDB2\\ALL_IDB2\\img\\Im246_0.tif"
          ],
          [
           "ALL_IDB\\ALL_IDB2\\ALL_IDB2\\img\\Im247_0.tif"
          ],
          [
           "ALL_IDB\\ALL_IDB2\\ALL_IDB2\\img\\Im248_0.tif"
          ],
          [
           "ALL_IDB\\ALL_IDB2\\ALL_IDB2\\img\\Im249_0.tif"
          ],
          [
           "ALL_IDB\\ALL_IDB2\\ALL_IDB2\\img\\Im250_0.tif"
          ],
          [
           "ALL_IDB\\ALL_IDB2\\ALL_IDB2\\img\\Im251_0.tif"
          ],
          [
           "ALL_IDB\\ALL_IDB2\\ALL_IDB2\\img\\Im252_0.tif"
          ],
          [
           "ALL_IDB\\ALL_IDB2\\ALL_IDB2\\img\\Im253_0.tif"
          ],
          [
           "ALL_IDB\\ALL_IDB2\\ALL_IDB2\\img\\Im254_0.tif"
          ],
          [
           "ALL_IDB\\ALL_IDB2\\ALL_IDB2\\img\\Im255_0.tif"
          ],
          [
           "ALL_IDB\\ALL_IDB2\\ALL_IDB2\\img\\Im256_0.tif"
          ],
          [
           "ALL_IDB\\ALL_IDB2\\ALL_IDB2\\img\\Im257_0.tif"
          ],
          [
           "ALL_IDB\\ALL_IDB2\\ALL_IDB2\\img\\Im258_0.tif"
          ],
          [
           "ALL_IDB\\ALL_IDB2\\ALL_IDB2\\img\\Im259_0.tif"
          ],
          [
           "ALL_IDB\\ALL_IDB2\\ALL_IDB2\\img\\Im260_0.tif"
          ]
         ],
         "hovertemplate": "Dataset=%{x}<br>Teinte=%{y}<br>img_path=%{customdata[0]}<extra></extra>",
         "legendgroup": "",
         "marker": {
          "color": "#636efa"
         },
         "name": "",
         "notched": false,
         "offsetgroup": "",
         "orientation": "v",
         "showlegend": false,
         "type": "box",
         "x": [
          "ALL_IDB1",
          "ALL_IDB1",
          "ALL_IDB1",
          "ALL_IDB1",
          "ALL_IDB1",
          "ALL_IDB1",
          "ALL_IDB1",
          "ALL_IDB1",
          "ALL_IDB1",
          "ALL_IDB1",
          "ALL_IDB1",
          "ALL_IDB1",
          "ALL_IDB1",
          "ALL_IDB1",
          "ALL_IDB1",
          "ALL_IDB1",
          "ALL_IDB1",
          "ALL_IDB1",
          "ALL_IDB1",
          "ALL_IDB1",
          "ALL_IDB1",
          "ALL_IDB1",
          "ALL_IDB1",
          "ALL_IDB1",
          "ALL_IDB1",
          "ALL_IDB1",
          "ALL_IDB1",
          "ALL_IDB1",
          "ALL_IDB1",
          "ALL_IDB1",
          "ALL_IDB1",
          "ALL_IDB1",
          "ALL_IDB1",
          "ALL_IDB1",
          "ALL_IDB1",
          "ALL_IDB1",
          "ALL_IDB1",
          "ALL_IDB1",
          "ALL_IDB1",
          "ALL_IDB1",
          "ALL_IDB1",
          "ALL_IDB1",
          "ALL_IDB1",
          "ALL_IDB1",
          "ALL_IDB1",
          "ALL_IDB1",
          "ALL_IDB1",
          "ALL_IDB1",
          "ALL_IDB1",
          "ALL_IDB1",
          "ALL_IDB1",
          "ALL_IDB1",
          "ALL_IDB1",
          "ALL_IDB1",
          "ALL_IDB1",
          "ALL_IDB1",
          "ALL_IDB1",
          "ALL_IDB1",
          "ALL_IDB1",
          "ALL_IDB1",
          "ALL_IDB1",
          "ALL_IDB1",
          "ALL_IDB1",
          "ALL_IDB1",
          "ALL_IDB1",
          "ALL_IDB1",
          "ALL_IDB1",
          "ALL_IDB1",
          "ALL_IDB1",
          "ALL_IDB1",
          "ALL_IDB1",
          "ALL_IDB1",
          "ALL_IDB1",
          "ALL_IDB1",
          "ALL_IDB1",
          "ALL_IDB1",
          "ALL_IDB1",
          "ALL_IDB1",
          "ALL_IDB1",
          "ALL_IDB1",
          "ALL_IDB1",
          "ALL_IDB1",
          "ALL_IDB1",
          "ALL_IDB1",
          "ALL_IDB1",
          "ALL_IDB1",
          "ALL_IDB1",
          "ALL_IDB1",
          "ALL_IDB1",
          "ALL_IDB1",
          "ALL_IDB1",
          "ALL_IDB1",
          "ALL_IDB1",
          "ALL_IDB1",
          "ALL_IDB1",
          "ALL_IDB1",
          "ALL_IDB1",
          "ALL_IDB1",
          "ALL_IDB1",
          "ALL_IDB1",
          "ALL_IDB1",
          "ALL_IDB1",
          "ALL_IDB1",
          "ALL_IDB1",
          "ALL_IDB1",
          "ALL_IDB1",
          "ALL_IDB1",
          "ALL_IDB1",
          "ALL_IDB2",
          "ALL_IDB2",
          "ALL_IDB2",
          "ALL_IDB2",
          "ALL_IDB2",
          "ALL_IDB2",
          "ALL_IDB2",
          "ALL_IDB2",
          "ALL_IDB2",
          "ALL_IDB2",
          "ALL_IDB2",
          "ALL_IDB2",
          "ALL_IDB2",
          "ALL_IDB2",
          "ALL_IDB2",
          "ALL_IDB2",
          "ALL_IDB2",
          "ALL_IDB2",
          "ALL_IDB2",
          "ALL_IDB2",
          "ALL_IDB2",
          "ALL_IDB2",
          "ALL_IDB2",
          "ALL_IDB2",
          "ALL_IDB2",
          "ALL_IDB2",
          "ALL_IDB2",
          "ALL_IDB2",
          "ALL_IDB2",
          "ALL_IDB2",
          "ALL_IDB2",
          "ALL_IDB2",
          "ALL_IDB2",
          "ALL_IDB2",
          "ALL_IDB2",
          "ALL_IDB2",
          "ALL_IDB2",
          "ALL_IDB2",
          "ALL_IDB2",
          "ALL_IDB2",
          "ALL_IDB2",
          "ALL_IDB2",
          "ALL_IDB2",
          "ALL_IDB2",
          "ALL_IDB2",
          "ALL_IDB2",
          "ALL_IDB2",
          "ALL_IDB2",
          "ALL_IDB2",
          "ALL_IDB2",
          "ALL_IDB2",
          "ALL_IDB2",
          "ALL_IDB2",
          "ALL_IDB2",
          "ALL_IDB2",
          "ALL_IDB2",
          "ALL_IDB2",
          "ALL_IDB2",
          "ALL_IDB2",
          "ALL_IDB2",
          "ALL_IDB2",
          "ALL_IDB2",
          "ALL_IDB2",
          "ALL_IDB2",
          "ALL_IDB2",
          "ALL_IDB2",
          "ALL_IDB2",
          "ALL_IDB2",
          "ALL_IDB2",
          "ALL_IDB2",
          "ALL_IDB2",
          "ALL_IDB2",
          "ALL_IDB2",
          "ALL_IDB2",
          "ALL_IDB2",
          "ALL_IDB2",
          "ALL_IDB2",
          "ALL_IDB2",
          "ALL_IDB2",
          "ALL_IDB2",
          "ALL_IDB2",
          "ALL_IDB2",
          "ALL_IDB2",
          "ALL_IDB2",
          "ALL_IDB2",
          "ALL_IDB2",
          "ALL_IDB2",
          "ALL_IDB2",
          "ALL_IDB2",
          "ALL_IDB2",
          "ALL_IDB2",
          "ALL_IDB2",
          "ALL_IDB2",
          "ALL_IDB2",
          "ALL_IDB2",
          "ALL_IDB2",
          "ALL_IDB2",
          "ALL_IDB2",
          "ALL_IDB2",
          "ALL_IDB2",
          "ALL_IDB2",
          "ALL_IDB2",
          "ALL_IDB2",
          "ALL_IDB2",
          "ALL_IDB2",
          "ALL_IDB2",
          "ALL_IDB2",
          "ALL_IDB2",
          "ALL_IDB2",
          "ALL_IDB2",
          "ALL_IDB2",
          "ALL_IDB2",
          "ALL_IDB2",
          "ALL_IDB2",
          "ALL_IDB2",
          "ALL_IDB2",
          "ALL_IDB2",
          "ALL_IDB2",
          "ALL_IDB2",
          "ALL_IDB2",
          "ALL_IDB2",
          "ALL_IDB2",
          "ALL_IDB2",
          "ALL_IDB2",
          "ALL_IDB2",
          "ALL_IDB2",
          "ALL_IDB2",
          "ALL_IDB2",
          "ALL_IDB2",
          "ALL_IDB2",
          "ALL_IDB2",
          "ALL_IDB2",
          "ALL_IDB2",
          "ALL_IDB2",
          "ALL_IDB2",
          "ALL_IDB2",
          "ALL_IDB2",
          "ALL_IDB2",
          "ALL_IDB2",
          "ALL_IDB2",
          "ALL_IDB2",
          "ALL_IDB2",
          "ALL_IDB2",
          "ALL_IDB2",
          "ALL_IDB2",
          "ALL_IDB2",
          "ALL_IDB2",
          "ALL_IDB2",
          "ALL_IDB2",
          "ALL_IDB2",
          "ALL_IDB2",
          "ALL_IDB2",
          "ALL_IDB2",
          "ALL_IDB2",
          "ALL_IDB2",
          "ALL_IDB2",
          "ALL_IDB2",
          "ALL_IDB2",
          "ALL_IDB2",
          "ALL_IDB2",
          "ALL_IDB2",
          "ALL_IDB2",
          "ALL_IDB2",
          "ALL_IDB2",
          "ALL_IDB2",
          "ALL_IDB2",
          "ALL_IDB2",
          "ALL_IDB2",
          "ALL_IDB2",
          "ALL_IDB2",
          "ALL_IDB2",
          "ALL_IDB2",
          "ALL_IDB2",
          "ALL_IDB2",
          "ALL_IDB2",
          "ALL_IDB2",
          "ALL_IDB2",
          "ALL_IDB2",
          "ALL_IDB2",
          "ALL_IDB2",
          "ALL_IDB2",
          "ALL_IDB2",
          "ALL_IDB2",
          "ALL_IDB2",
          "ALL_IDB2",
          "ALL_IDB2",
          "ALL_IDB2",
          "ALL_IDB2",
          "ALL_IDB2",
          "ALL_IDB2",
          "ALL_IDB2",
          "ALL_IDB2",
          "ALL_IDB2",
          "ALL_IDB2",
          "ALL_IDB2",
          "ALL_IDB2",
          "ALL_IDB2",
          "ALL_IDB2",
          "ALL_IDB2",
          "ALL_IDB2",
          "ALL_IDB2",
          "ALL_IDB2",
          "ALL_IDB2",
          "ALL_IDB2",
          "ALL_IDB2",
          "ALL_IDB2",
          "ALL_IDB2",
          "ALL_IDB2",
          "ALL_IDB2",
          "ALL_IDB2",
          "ALL_IDB2",
          "ALL_IDB2",
          "ALL_IDB2",
          "ALL_IDB2",
          "ALL_IDB2",
          "ALL_IDB2",
          "ALL_IDB2",
          "ALL_IDB2",
          "ALL_IDB2",
          "ALL_IDB2",
          "ALL_IDB2",
          "ALL_IDB2",
          "ALL_IDB2",
          "ALL_IDB2",
          "ALL_IDB2",
          "ALL_IDB2",
          "ALL_IDB2",
          "ALL_IDB2",
          "ALL_IDB2",
          "ALL_IDB2",
          "ALL_IDB2",
          "ALL_IDB2",
          "ALL_IDB2",
          "ALL_IDB2",
          "ALL_IDB2",
          "ALL_IDB2",
          "ALL_IDB2",
          "ALL_IDB2",
          "ALL_IDB2",
          "ALL_IDB2",
          "ALL_IDB2",
          "ALL_IDB2",
          "ALL_IDB2",
          "ALL_IDB2",
          "ALL_IDB2",
          "ALL_IDB2",
          "ALL_IDB2",
          "ALL_IDB2",
          "ALL_IDB2",
          "ALL_IDB2",
          "ALL_IDB2",
          "ALL_IDB2",
          "ALL_IDB2",
          "ALL_IDB2",
          "ALL_IDB2",
          "ALL_IDB2",
          "ALL_IDB2",
          "ALL_IDB2",
          "ALL_IDB2",
          "ALL_IDB2"
         ],
         "x0": " ",
         "xaxis": "x",
         "y": [
          86.74451113912117,
          96.97391648904193,
          94.33091191520468,
          89.78057835642456,
          110.76900029717987,
          102.39187605891676,
          90.26494951358146,
          100.94504777080942,
          95.70778209884134,
          106.85586221443405,
          100.34340969489534,
          100.345524539542,
          93.80990138410668,
          90.47054759660054,
          95.904883228808,
          105.05985014619883,
          79.62673483016341,
          94.59791649587365,
          95.64925047480462,
          84.71251776247472,
          88.87741757528556,
          92.4054716107832,
          86.93103761887194,
          89.94315709200961,
          84.70486836981472,
          87.79036351587692,
          88.29986643985353,
          76.1911541167951,
          89.61301161050991,
          85.97862653372138,
          87.30021101478384,
          80.58489267366235,
          81.50243294665792,
          28.644177002362444,
          19.181269012282172,
          20.04918624256973,
          19.169264604329506,
          17.14291282451862,
          17.30650914653508,
          19.7905080685109,
          18.40339279930651,
          19.477164224838692,
          19.65220324169334,
          17.88847649303968,
          19.360363916514252,
          17.49986008706752,
          18.65583800106691,
          30.659499552278618,
          31.18208388107758,
          28.74217162335518,
          26.578025969427934,
          35.002001846453794,
          32.95686454522939,
          26.29406562769903,
          29.974140517832648,
          32.281378005448865,
          31.141516870522786,
          33.74660874866636,
          37.17040085352843,
          26.434672964931668,
          33.840943406111876,
          35.97143553447137,
          29.20991861631865,
          21.866839007646192,
          24.751421952001728,
          27.72969138977798,
          24.334806090598487,
          29.582740737565413,
          26.68680122916984,
          22.03286009024285,
          24.649070779670275,
          16.71330252470406,
          17.838189403609714,
          18.379990426383173,
          20.485844383478128,
          20.717998836241936,
          16.409131015660723,
          20.268323831161407,
          21.004065413364323,
          18.96295423080831,
          19.052419521287405,
          18.343006377648223,
          18.341895409426918,
          19.324462853414115,
          17.579768828113092,
          18.659695827300208,
          18.74945443879236,
          20.414944447619774,
          19.379087442209013,
          19.606336408639436,
          18.336502708555606,
          19.33435043089214,
          19.430337450147334,
          36.40743995452929,
          40.668106082977694,
          21.025151383808364,
          20.59238996691307,
          25.69650364527765,
          30.86742902345933,
          19.106432065424478,
          19.582383116140832,
          20.802466555847687,
          20.871097719161206,
          27.098617977759996,
          18.973173233246964,
          20.82172988746634,
          19.92517218221308,
          19.430337450147334,
          84.42117216006298,
          106.76346348922769,
          111.78797559387728,
          115.07392996108949,
          92.1293887871126,
          86.48694151311905,
          126.3118593771291,
          125.46273221396235,
          129.2386712894972,
          124.58941089191357,
          126.09583793850021,
          103.0167451437569,
          107.02623809595906,
          117.75501521597602,
          91.77407682175355,
          109.94125573437903,
          110.3047585883208,
          117.09262820027556,
          109.40849975018547,
          95.42418507471726,
          111.94442005177974,
          111.05382367636149,
          105.35208708685975,
          77.2741298127148,
          76.60663477953277,
          117.57213583854411,
          116.69088101258157,
          104.32309346091539,
          112.75410679949734,
          114.3225938318521,
          111.15891232266954,
          100.36896849308846,
          101.06322578691578,
          103.91548698693394,
          95.25538615270482,
          104.75080621962482,
          104.85601598813003,
          113.38834804463353,
          128.0666323487108,
          94.88463110720828,
          122.5736650062832,
          100.6347560144741,
          88.13639873427304,
          92.02569304607185,
          101.12275734681828,
          99.40472982179897,
          113.74582506926676,
          118.24836106526972,
          107.05108328665082,
          116.63834425956487,
          117.59757149994701,
          73.20339444957531,
          85.2439703856228,
          97.00997744099078,
          117.67828430407728,
          98.38707626156338,
          97.39034656088661,
          106.97966661115233,
          107.75443988553953,
          99.36061106148466,
          116.16481702978092,
          89.85984647761511,
          94.99550333843055,
          108.67658859331708,
          88.10735968750473,
          101.55057608745022,
          96.61449832699965,
          94.81958848733517,
          103.5368135777983,
          100.87330618177414,
          117.83687868097927,
          101.23538584989932,
          102.18204666232646,
          44.08395282290421,
          57.54868355311965,
          50.013368862511165,
          52.60152311162925,
          48.99435267755757,
          52.78344865175854,
          45.41113415797363,
          39.070553679843755,
          39.274069251616226,
          41.79454647307302,
          45.79765022937516,
          45.99308089448743,
          40.54073490893125,
          47.148374691516906,
          40.02449696437493,
          55.86632651516298,
          48.132903696498055,
          71.6865811745825,
          42.76123786885494,
          56.45773592332965,
          48.70641493436691,
          40.15867007827522,
          32.7152417144847,
          29.581371406077306,
          29.005041711456645,
          30.074732395645658,
          53.61651198352738,
          48.95056700328544,
          43.60732183681812,
          50.28921425385644,
          51.03618525640055,
          36.9295674423534,
          53.08884313161441,
          33.11326439461612,
          51.57643567654317,
          52.78355463368106,
          54.175066995715305,
          47.45806900937183,
          39.54539811352178,
          48.858529273721025,
          40.13888173931475,
          45.403306635982375,
          47.44076367545307,
          49.740359430120066,
          49.62726157852504,
          51.547472331148086,
          70.47295189934745,
          49.91310996381474,
          50.59236324546927,
          57.71009402110554,
          44.43426849763055,
          52.767021453769175,
          37.75036715166013,
          42.4313312843495,
          50.44989326106376,
          50.69141092219413,
          54.91571409105361,
          69.19315962391558,
          64.4540871171403,
          46.47224030643916,
          38.00704022770973,
          50.12410483126164,
          58.107692773546916,
          31.56096231585641,
          33.632484973277414,
          48.66835228391043,
          29.558857817680813,
          42.72346288361671,
          31.18811791245893,
          42.854002331602295,
          33.04886166073351,
          31.421308422534786,
          33.90092204272585,
          47.81147330012566,
          57.126875501521596,
          28.04926645369347,
          32.87036896849309,
          35.53174158579237,
          45.58087177701403,
          37.371618041151265,
          61.862662568698994,
          45.13362806401308,
          38.17334100440582,
          47.51313418825418,
          39.16493815197808,
          48.246983300277066,
          46.976683977047344,
          47.159502793380675,
          58.560477827067785,
          26.61537646292904,
          42.20596829626489,
          37.92254235491832,
          51.66694423836849,
          44.20696363880317,
          42.886220836045965,
          34.4503474693031,
          42.87631909642841,
          31.872306923647596,
          26.63904071219852,
          51.291117200866026,
          30.7651289194386,
          65.74562824569638,
          75.51416372693001,
          26.736210994867445,
          29.12446819785311,
          37.437478235855195,
          56.22675589335191,
          21.466910929764264,
          35.91513876061712,
          39.23561295401898,
          38.514860179563655,
          48.17356810852549,
          22.259443746309557,
          42.40698572272101,
          25.769050250571546,
          39.5869733076958,
          24.69290980938394,
          45.99003769928387,
          59.91214098623749,
          29.916213720116883,
          39.471135066390104,
          59.77291102060591,
          51.9888264773123,
          33.6241598868058,
          46.18649790307196,
          25.445336038395737,
          30.298959863131916,
          59.07535314690608,
          58.02196853850929,
          32.325455343759934,
          39.30448606337719,
          25.112946448848582,
          21.80673439416191,
          30.29827855077291,
          31.317870066163,
          40.27836908961529,
          28.385032324486367,
          31.892927977713516,
          67.21909491438174,
          37.772048024951175,
          24.374328150312646,
          21.043528289603174,
          57.31514481672698,
          35.92015019152448,
          36.7014186437342,
          45.63976744538146,
          26.502233190510076,
          29.391907421221347,
          66.82322215324986,
          62.34307862344623,
          31.18840557767718,
          42.7729413011552,
          28.61660282517525,
          21.713273478780906,
          77.32843797786492,
          84.70444669866312,
          82.97114263652743,
          34.50521582461506,
          34.897258096261865,
          63.395775430794885,
          50.06978152583688,
          35.74976154067435,
          46.537464609608016,
          47.22012445305758,
          64.64433252118259,
          48.78699147602538,
          59.10007721540069,
          44.1714333298006,
          33.30846795560871,
          60.019273569622555,
          49.753380066314406,
          38.191736438098985,
          74.93261063755696,
          45.542021832276035,
          49.55767687625853,
          34.671652863782946,
          74.19715665642175,
          43.714242586877766,
          50.505261245438994,
          34.661130372904964,
          69.99111265878363,
          52.67670971551424,
          66.84681070114613,
          62.34307862344623,
          31.64250783509213,
          42.888158791200475,
          21.65057760147769
         ],
         "y0": " ",
         "yaxis": "y"
        }
       ],
       "layout": {
        "boxmode": "group",
        "height": 500,
        "legend": {
         "tracegroupgap": 0
        },
        "template": {
         "data": {
          "bar": [
           {
            "error_x": {
             "color": "#2a3f5f"
            },
            "error_y": {
             "color": "#2a3f5f"
            },
            "marker": {
             "line": {
              "color": "#E5ECF6",
              "width": 0.5
             },
             "pattern": {
              "fillmode": "overlay",
              "size": 10,
              "solidity": 0.2
             }
            },
            "type": "bar"
           }
          ],
          "barpolar": [
           {
            "marker": {
             "line": {
              "color": "#E5ECF6",
              "width": 0.5
             },
             "pattern": {
              "fillmode": "overlay",
              "size": 10,
              "solidity": 0.2
             }
            },
            "type": "barpolar"
           }
          ],
          "carpet": [
           {
            "aaxis": {
             "endlinecolor": "#2a3f5f",
             "gridcolor": "white",
             "linecolor": "white",
             "minorgridcolor": "white",
             "startlinecolor": "#2a3f5f"
            },
            "baxis": {
             "endlinecolor": "#2a3f5f",
             "gridcolor": "white",
             "linecolor": "white",
             "minorgridcolor": "white",
             "startlinecolor": "#2a3f5f"
            },
            "type": "carpet"
           }
          ],
          "choropleth": [
           {
            "colorbar": {
             "outlinewidth": 0,
             "ticks": ""
            },
            "type": "choropleth"
           }
          ],
          "contour": [
           {
            "colorbar": {
             "outlinewidth": 0,
             "ticks": ""
            },
            "colorscale": [
             [
              0,
              "#0d0887"
             ],
             [
              0.1111111111111111,
              "#46039f"
             ],
             [
              0.2222222222222222,
              "#7201a8"
             ],
             [
              0.3333333333333333,
              "#9c179e"
             ],
             [
              0.4444444444444444,
              "#bd3786"
             ],
             [
              0.5555555555555556,
              "#d8576b"
             ],
             [
              0.6666666666666666,
              "#ed7953"
             ],
             [
              0.7777777777777778,
              "#fb9f3a"
             ],
             [
              0.8888888888888888,
              "#fdca26"
             ],
             [
              1,
              "#f0f921"
             ]
            ],
            "type": "contour"
           }
          ],
          "contourcarpet": [
           {
            "colorbar": {
             "outlinewidth": 0,
             "ticks": ""
            },
            "type": "contourcarpet"
           }
          ],
          "heatmap": [
           {
            "colorbar": {
             "outlinewidth": 0,
             "ticks": ""
            },
            "colorscale": [
             [
              0,
              "#0d0887"
             ],
             [
              0.1111111111111111,
              "#46039f"
             ],
             [
              0.2222222222222222,
              "#7201a8"
             ],
             [
              0.3333333333333333,
              "#9c179e"
             ],
             [
              0.4444444444444444,
              "#bd3786"
             ],
             [
              0.5555555555555556,
              "#d8576b"
             ],
             [
              0.6666666666666666,
              "#ed7953"
             ],
             [
              0.7777777777777778,
              "#fb9f3a"
             ],
             [
              0.8888888888888888,
              "#fdca26"
             ],
             [
              1,
              "#f0f921"
             ]
            ],
            "type": "heatmap"
           }
          ],
          "heatmapgl": [
           {
            "colorbar": {
             "outlinewidth": 0,
             "ticks": ""
            },
            "colorscale": [
             [
              0,
              "#0d0887"
             ],
             [
              0.1111111111111111,
              "#46039f"
             ],
             [
              0.2222222222222222,
              "#7201a8"
             ],
             [
              0.3333333333333333,
              "#9c179e"
             ],
             [
              0.4444444444444444,
              "#bd3786"
             ],
             [
              0.5555555555555556,
              "#d8576b"
             ],
             [
              0.6666666666666666,
              "#ed7953"
             ],
             [
              0.7777777777777778,
              "#fb9f3a"
             ],
             [
              0.8888888888888888,
              "#fdca26"
             ],
             [
              1,
              "#f0f921"
             ]
            ],
            "type": "heatmapgl"
           }
          ],
          "histogram": [
           {
            "marker": {
             "pattern": {
              "fillmode": "overlay",
              "size": 10,
              "solidity": 0.2
             }
            },
            "type": "histogram"
           }
          ],
          "histogram2d": [
           {
            "colorbar": {
             "outlinewidth": 0,
             "ticks": ""
            },
            "colorscale": [
             [
              0,
              "#0d0887"
             ],
             [
              0.1111111111111111,
              "#46039f"
             ],
             [
              0.2222222222222222,
              "#7201a8"
             ],
             [
              0.3333333333333333,
              "#9c179e"
             ],
             [
              0.4444444444444444,
              "#bd3786"
             ],
             [
              0.5555555555555556,
              "#d8576b"
             ],
             [
              0.6666666666666666,
              "#ed7953"
             ],
             [
              0.7777777777777778,
              "#fb9f3a"
             ],
             [
              0.8888888888888888,
              "#fdca26"
             ],
             [
              1,
              "#f0f921"
             ]
            ],
            "type": "histogram2d"
           }
          ],
          "histogram2dcontour": [
           {
            "colorbar": {
             "outlinewidth": 0,
             "ticks": ""
            },
            "colorscale": [
             [
              0,
              "#0d0887"
             ],
             [
              0.1111111111111111,
              "#46039f"
             ],
             [
              0.2222222222222222,
              "#7201a8"
             ],
             [
              0.3333333333333333,
              "#9c179e"
             ],
             [
              0.4444444444444444,
              "#bd3786"
             ],
             [
              0.5555555555555556,
              "#d8576b"
             ],
             [
              0.6666666666666666,
              "#ed7953"
             ],
             [
              0.7777777777777778,
              "#fb9f3a"
             ],
             [
              0.8888888888888888,
              "#fdca26"
             ],
             [
              1,
              "#f0f921"
             ]
            ],
            "type": "histogram2dcontour"
           }
          ],
          "mesh3d": [
           {
            "colorbar": {
             "outlinewidth": 0,
             "ticks": ""
            },
            "type": "mesh3d"
           }
          ],
          "parcoords": [
           {
            "line": {
             "colorbar": {
              "outlinewidth": 0,
              "ticks": ""
             }
            },
            "type": "parcoords"
           }
          ],
          "pie": [
           {
            "automargin": true,
            "type": "pie"
           }
          ],
          "scatter": [
           {
            "fillpattern": {
             "fillmode": "overlay",
             "size": 10,
             "solidity": 0.2
            },
            "type": "scatter"
           }
          ],
          "scatter3d": [
           {
            "line": {
             "colorbar": {
              "outlinewidth": 0,
              "ticks": ""
             }
            },
            "marker": {
             "colorbar": {
              "outlinewidth": 0,
              "ticks": ""
             }
            },
            "type": "scatter3d"
           }
          ],
          "scattercarpet": [
           {
            "marker": {
             "colorbar": {
              "outlinewidth": 0,
              "ticks": ""
             }
            },
            "type": "scattercarpet"
           }
          ],
          "scattergeo": [
           {
            "marker": {
             "colorbar": {
              "outlinewidth": 0,
              "ticks": ""
             }
            },
            "type": "scattergeo"
           }
          ],
          "scattergl": [
           {
            "marker": {
             "colorbar": {
              "outlinewidth": 0,
              "ticks": ""
             }
            },
            "type": "scattergl"
           }
          ],
          "scattermapbox": [
           {
            "marker": {
             "colorbar": {
              "outlinewidth": 0,
              "ticks": ""
             }
            },
            "type": "scattermapbox"
           }
          ],
          "scatterpolar": [
           {
            "marker": {
             "colorbar": {
              "outlinewidth": 0,
              "ticks": ""
             }
            },
            "type": "scatterpolar"
           }
          ],
          "scatterpolargl": [
           {
            "marker": {
             "colorbar": {
              "outlinewidth": 0,
              "ticks": ""
             }
            },
            "type": "scatterpolargl"
           }
          ],
          "scatterternary": [
           {
            "marker": {
             "colorbar": {
              "outlinewidth": 0,
              "ticks": ""
             }
            },
            "type": "scatterternary"
           }
          ],
          "surface": [
           {
            "colorbar": {
             "outlinewidth": 0,
             "ticks": ""
            },
            "colorscale": [
             [
              0,
              "#0d0887"
             ],
             [
              0.1111111111111111,
              "#46039f"
             ],
             [
              0.2222222222222222,
              "#7201a8"
             ],
             [
              0.3333333333333333,
              "#9c179e"
             ],
             [
              0.4444444444444444,
              "#bd3786"
             ],
             [
              0.5555555555555556,
              "#d8576b"
             ],
             [
              0.6666666666666666,
              "#ed7953"
             ],
             [
              0.7777777777777778,
              "#fb9f3a"
             ],
             [
              0.8888888888888888,
              "#fdca26"
             ],
             [
              1,
              "#f0f921"
             ]
            ],
            "type": "surface"
           }
          ],
          "table": [
           {
            "cells": {
             "fill": {
              "color": "#EBF0F8"
             },
             "line": {
              "color": "white"
             }
            },
            "header": {
             "fill": {
              "color": "#C8D4E3"
             },
             "line": {
              "color": "white"
             }
            },
            "type": "table"
           }
          ]
         },
         "layout": {
          "annotationdefaults": {
           "arrowcolor": "#2a3f5f",
           "arrowhead": 0,
           "arrowwidth": 1
          },
          "autotypenumbers": "strict",
          "coloraxis": {
           "colorbar": {
            "outlinewidth": 0,
            "ticks": ""
           }
          },
          "colorscale": {
           "diverging": [
            [
             0,
             "#8e0152"
            ],
            [
             0.1,
             "#c51b7d"
            ],
            [
             0.2,
             "#de77ae"
            ],
            [
             0.3,
             "#f1b6da"
            ],
            [
             0.4,
             "#fde0ef"
            ],
            [
             0.5,
             "#f7f7f7"
            ],
            [
             0.6,
             "#e6f5d0"
            ],
            [
             0.7,
             "#b8e186"
            ],
            [
             0.8,
             "#7fbc41"
            ],
            [
             0.9,
             "#4d9221"
            ],
            [
             1,
             "#276419"
            ]
           ],
           "sequential": [
            [
             0,
             "#0d0887"
            ],
            [
             0.1111111111111111,
             "#46039f"
            ],
            [
             0.2222222222222222,
             "#7201a8"
            ],
            [
             0.3333333333333333,
             "#9c179e"
            ],
            [
             0.4444444444444444,
             "#bd3786"
            ],
            [
             0.5555555555555556,
             "#d8576b"
            ],
            [
             0.6666666666666666,
             "#ed7953"
            ],
            [
             0.7777777777777778,
             "#fb9f3a"
            ],
            [
             0.8888888888888888,
             "#fdca26"
            ],
            [
             1,
             "#f0f921"
            ]
           ],
           "sequentialminus": [
            [
             0,
             "#0d0887"
            ],
            [
             0.1111111111111111,
             "#46039f"
            ],
            [
             0.2222222222222222,
             "#7201a8"
            ],
            [
             0.3333333333333333,
             "#9c179e"
            ],
            [
             0.4444444444444444,
             "#bd3786"
            ],
            [
             0.5555555555555556,
             "#d8576b"
            ],
            [
             0.6666666666666666,
             "#ed7953"
            ],
            [
             0.7777777777777778,
             "#fb9f3a"
            ],
            [
             0.8888888888888888,
             "#fdca26"
            ],
            [
             1,
             "#f0f921"
            ]
           ]
          },
          "colorway": [
           "#636efa",
           "#EF553B",
           "#00cc96",
           "#ab63fa",
           "#FFA15A",
           "#19d3f3",
           "#FF6692",
           "#B6E880",
           "#FF97FF",
           "#FECB52"
          ],
          "font": {
           "color": "#2a3f5f"
          },
          "geo": {
           "bgcolor": "white",
           "lakecolor": "white",
           "landcolor": "#E5ECF6",
           "showlakes": true,
           "showland": true,
           "subunitcolor": "white"
          },
          "hoverlabel": {
           "align": "left"
          },
          "hovermode": "closest",
          "mapbox": {
           "style": "light"
          },
          "paper_bgcolor": "white",
          "plot_bgcolor": "#E5ECF6",
          "polar": {
           "angularaxis": {
            "gridcolor": "white",
            "linecolor": "white",
            "ticks": ""
           },
           "bgcolor": "#E5ECF6",
           "radialaxis": {
            "gridcolor": "white",
            "linecolor": "white",
            "ticks": ""
           }
          },
          "scene": {
           "xaxis": {
            "backgroundcolor": "#E5ECF6",
            "gridcolor": "white",
            "gridwidth": 2,
            "linecolor": "white",
            "showbackground": true,
            "ticks": "",
            "zerolinecolor": "white"
           },
           "yaxis": {
            "backgroundcolor": "#E5ECF6",
            "gridcolor": "white",
            "gridwidth": 2,
            "linecolor": "white",
            "showbackground": true,
            "ticks": "",
            "zerolinecolor": "white"
           },
           "zaxis": {
            "backgroundcolor": "#E5ECF6",
            "gridcolor": "white",
            "gridwidth": 2,
            "linecolor": "white",
            "showbackground": true,
            "ticks": "",
            "zerolinecolor": "white"
           }
          },
          "shapedefaults": {
           "line": {
            "color": "#2a3f5f"
           }
          },
          "ternary": {
           "aaxis": {
            "gridcolor": "white",
            "linecolor": "white",
            "ticks": ""
           },
           "baxis": {
            "gridcolor": "white",
            "linecolor": "white",
            "ticks": ""
           },
           "bgcolor": "#E5ECF6",
           "caxis": {
            "gridcolor": "white",
            "linecolor": "white",
            "ticks": ""
           }
          },
          "title": {
           "x": 0.05
          },
          "xaxis": {
           "automargin": true,
           "gridcolor": "white",
           "linecolor": "white",
           "ticks": "",
           "title": {
            "standoff": 15
           },
           "zerolinecolor": "white",
           "zerolinewidth": 2
          },
          "yaxis": {
           "automargin": true,
           "gridcolor": "white",
           "linecolor": "white",
           "ticks": "",
           "title": {
            "standoff": 15
           },
           "zerolinecolor": "white",
           "zerolinewidth": 2
          }
         }
        },
        "title": {
         "text": "Boîte à Moustaches de la Teinte par Dataset"
        },
        "width": 800,
        "xaxis": {
         "anchor": "y",
         "autorange": true,
         "domain": [
          0,
          1
         ],
         "range": [
          -0.5,
          1.5
         ],
         "title": {
          "text": "Dataset"
         },
         "type": "category"
        },
        "yaxis": {
         "anchor": "x",
         "autorange": true,
         "domain": [
          0,
          1
         ],
         "range": [
          10.140823222669807,
          135.50697908248813
         ],
         "title": {
          "text": "Teinte"
         },
         "type": "linear"
        }
       }
      },
      "image/png": "[encoded data removed]",
      "text/html": [
       "<div>                            <div id=\"4a264fc7-1177-4406-844d-3c9b898c7ae4\" class=\"plotly-graph-div\" style=\"height:500px; width:800px;\"></div>            <script type=\"text/javascript\">                require([\"plotly\"], function(Plotly) {                    window.PLOTLYENV=window.PLOTLYENV || {};                                    if (document.getElementById(\"4a264fc7-1177-4406-844d-3c9b898c7ae4\")) {                    Plotly.newPlot(                        \"4a264fc7-1177-4406-844d-3c9b898c7ae4\",                        [{\"alignmentgroup\":\"True\",\"customdata\":[[\"ALL_IDB\\\\ALL_IDB1\\\\ALL_IDB1\\\\im\\\\Im001_1.jpg\"],[\"ALL_IDB\\\\ALL_IDB1\\\\ALL_IDB1\\\\im\\\\Im002_1.jpg\"],[\"ALL_IDB\\\\ALL_IDB1\\\\ALL_IDB1\\\\im\\\\Im003_1.jpg\"],[\"ALL_IDB\\\\ALL_IDB1\\\\ALL_IDB1\\\\im\\\\Im004_1.jpg\"],[\"ALL_IDB\\\\ALL_IDB1\\\\ALL_IDB1\\\\im\\\\Im005_1.jpg\"],[\"ALL_IDB\\\\ALL_IDB1\\\\ALL_IDB1\\\\im\\\\Im006_1.jpg\"],[\"ALL_IDB\\\\ALL_IDB1\\\\ALL_IDB1\\\\im\\\\Im007_1.jpg\"],[\"ALL_IDB\\\\ALL_IDB1\\\\ALL_IDB1\\\\im\\\\Im008_1.jpg\"],[\"ALL_IDB\\\\ALL_IDB1\\\\ALL_IDB1\\\\im\\\\Im009_1.jpg\"],[\"ALL_IDB\\\\ALL_IDB1\\\\ALL_IDB1\\\\im\\\\Im010_1.jpg\"],[\"ALL_IDB\\\\ALL_IDB1\\\\ALL_IDB1\\\\im\\\\Im011_1.jpg\"],[\"ALL_IDB\\\\ALL_IDB1\\\\ALL_IDB1\\\\im\\\\Im012_1.jpg\"],[\"ALL_IDB\\\\ALL_IDB1\\\\ALL_IDB1\\\\im\\\\Im013_1.jpg\"],[\"ALL_IDB\\\\ALL_IDB1\\\\ALL_IDB1\\\\im\\\\Im014_1.jpg\"],[\"ALL_IDB\\\\ALL_IDB1\\\\ALL_IDB1\\\\im\\\\Im015_1.jpg\"],[\"ALL_IDB\\\\ALL_IDB1\\\\ALL_IDB1\\\\im\\\\Im016_1.jpg\"],[\"ALL_IDB\\\\ALL_IDB1\\\\ALL_IDB1\\\\im\\\\Im017_1.jpg\"],[\"ALL_IDB\\\\ALL_IDB1\\\\ALL_IDB1\\\\im\\\\Im018_1.jpg\"],[\"ALL_IDB\\\\ALL_IDB1\\\\ALL_IDB1\\\\im\\\\Im019_1.jpg\"],[\"ALL_IDB\\\\ALL_IDB1\\\\ALL_IDB1\\\\im\\\\Im020_1.jpg\"],[\"ALL_IDB\\\\ALL_IDB1\\\\ALL_IDB1\\\\im\\\\Im021_1.jpg\"],[\"ALL_IDB\\\\ALL_IDB1\\\\ALL_IDB1\\\\im\\\\Im022_1.jpg\"],[\"ALL_IDB\\\\ALL_IDB1\\\\ALL_IDB1\\\\im\\\\Im023_1.jpg\"],[\"ALL_IDB\\\\ALL_IDB1\\\\ALL_IDB1\\\\im\\\\Im024_1.jpg\"],[\"ALL_IDB\\\\ALL_IDB1\\\\ALL_IDB1\\\\im\\\\Im025_1.jpg\"],[\"ALL_IDB\\\\ALL_IDB1\\\\ALL_IDB1\\\\im\\\\Im026_1.jpg\"],[\"ALL_IDB\\\\ALL_IDB1\\\\ALL_IDB1\\\\im\\\\Im027_1.jpg\"],[\"ALL_IDB\\\\ALL_IDB1\\\\ALL_IDB1\\\\im\\\\Im028_1.jpg\"],[\"ALL_IDB\\\\ALL_IDB1\\\\ALL_IDB1\\\\im\\\\Im029_1.jpg\"],[\"ALL_IDB\\\\ALL_IDB1\\\\ALL_IDB1\\\\im\\\\Im030_1.jpg\"],[\"ALL_IDB\\\\ALL_IDB1\\\\ALL_IDB1\\\\im\\\\Im031_1.jpg\"],[\"ALL_IDB\\\\ALL_IDB1\\\\ALL_IDB1\\\\im\\\\Im032_1.jpg\"],[\"ALL_IDB\\\\ALL_IDB1\\\\ALL_IDB1\\\\im\\\\Im033_1.jpg\"],[\"ALL_IDB\\\\ALL_IDB1\\\\ALL_IDB1\\\\im\\\\Im034_0.jpg\"],[\"ALL_IDB\\\\ALL_IDB1\\\\ALL_IDB1\\\\im\\\\Im035_0.jpg\"],[\"ALL_IDB\\\\ALL_IDB1\\\\ALL_IDB1\\\\im\\\\Im036_0.jpg\"],[\"ALL_IDB\\\\ALL_IDB1\\\\ALL_IDB1\\\\im\\\\Im037_0.jpg\"],[\"ALL_IDB\\\\ALL_IDB1\\\\ALL_IDB1\\\\im\\\\Im038_0.jpg\"],[\"ALL_IDB\\\\ALL_IDB1\\\\ALL_IDB1\\\\im\\\\Im039_0.jpg\"],[\"ALL_IDB\\\\ALL_IDB1\\\\ALL_IDB1\\\\im\\\\Im040_0.jpg\"],[\"ALL_IDB\\\\ALL_IDB1\\\\ALL_IDB1\\\\im\\\\Im041_0.jpg\"],[\"ALL_IDB\\\\ALL_IDB1\\\\ALL_IDB1\\\\im\\\\Im042_0.jpg\"],[\"ALL_IDB\\\\ALL_IDB1\\\\ALL_IDB1\\\\im\\\\Im043_0.jpg\"],[\"ALL_IDB\\\\ALL_IDB1\\\\ALL_IDB1\\\\im\\\\Im044_0.jpg\"],[\"ALL_IDB\\\\ALL_IDB1\\\\ALL_IDB1\\\\im\\\\Im045_0.jpg\"],[\"ALL_IDB\\\\ALL_IDB1\\\\ALL_IDB1\\\\im\\\\Im046_0.jpg\"],[\"ALL_IDB\\\\ALL_IDB1\\\\ALL_IDB1\\\\im\\\\Im047_0.jpg\"],[\"ALL_IDB\\\\ALL_IDB1\\\\ALL_IDB1\\\\im\\\\Im048_1.jpg\"],[\"ALL_IDB\\\\ALL_IDB1\\\\ALL_IDB1\\\\im\\\\Im049_1.jpg\"],[\"ALL_IDB\\\\ALL_IDB1\\\\ALL_IDB1\\\\im\\\\Im050_1.jpg\"],[\"ALL_IDB\\\\ALL_IDB1\\\\ALL_IDB1\\\\im\\\\Im051_1.jpg\"],[\"ALL_IDB\\\\ALL_IDB1\\\\ALL_IDB1\\\\im\\\\Im052_1.jpg\"],[\"ALL_IDB\\\\ALL_IDB1\\\\ALL_IDB1\\\\im\\\\Im053_1.jpg\"],[\"ALL_IDB\\\\ALL_IDB1\\\\ALL_IDB1\\\\im\\\\Im054_1.jpg\"],[\"ALL_IDB\\\\ALL_IDB1\\\\ALL_IDB1\\\\im\\\\Im055_1.jpg\"],[\"ALL_IDB\\\\ALL_IDB1\\\\ALL_IDB1\\\\im\\\\Im056_1.jpg\"],[\"ALL_IDB\\\\ALL_IDB1\\\\ALL_IDB1\\\\im\\\\Im057_1.jpg\"],[\"ALL_IDB\\\\ALL_IDB1\\\\ALL_IDB1\\\\im\\\\Im058_1.jpg\"],[\"ALL_IDB\\\\ALL_IDB1\\\\ALL_IDB1\\\\im\\\\Im059_1.jpg\"],[\"ALL_IDB\\\\ALL_IDB1\\\\ALL_IDB1\\\\im\\\\Im060_1.jpg\"],[\"ALL_IDB\\\\ALL_IDB1\\\\ALL_IDB1\\\\im\\\\Im061_1.jpg\"],[\"ALL_IDB\\\\ALL_IDB1\\\\ALL_IDB1\\\\im\\\\Im062_1.jpg\"],[\"ALL_IDB\\\\ALL_IDB1\\\\ALL_IDB1\\\\im\\\\Im063_1.jpg\"],[\"ALL_IDB\\\\ALL_IDB1\\\\ALL_IDB1\\\\im\\\\Im064_0.jpg\"],[\"ALL_IDB\\\\ALL_IDB1\\\\ALL_IDB1\\\\im\\\\Im065_0.jpg\"],[\"ALL_IDB\\\\ALL_IDB1\\\\ALL_IDB1\\\\im\\\\Im066_0.jpg\"],[\"ALL_IDB\\\\ALL_IDB1\\\\ALL_IDB1\\\\im\\\\Im067_0.jpg\"],[\"ALL_IDB\\\\ALL_IDB1\\\\ALL_IDB1\\\\im\\\\Im068_0.jpg\"],[\"ALL_IDB\\\\ALL_IDB1\\\\ALL_IDB1\\\\im\\\\Im069_0.jpg\"],[\"ALL_IDB\\\\ALL_IDB1\\\\ALL_IDB1\\\\im\\\\Im070_0.jpg\"],[\"ALL_IDB\\\\ALL_IDB1\\\\ALL_IDB1\\\\im\\\\Im071_0.jpg\"],[\"ALL_IDB\\\\ALL_IDB1\\\\ALL_IDB1\\\\im\\\\Im072_0.jpg\"],[\"ALL_IDB\\\\ALL_IDB1\\\\ALL_IDB1\\\\im\\\\Im073_0.jpg\"],[\"ALL_IDB\\\\ALL_IDB1\\\\ALL_IDB1\\\\im\\\\Im074_0.jpg\"],[\"ALL_IDB\\\\ALL_IDB1\\\\ALL_IDB1\\\\im\\\\Im075_0.jpg\"],[\"ALL_IDB\\\\ALL_IDB1\\\\ALL_IDB1\\\\im\\\\Im076_0.jpg\"],[\"ALL_IDB\\\\ALL_IDB1\\\\ALL_IDB1\\\\im\\\\Im077_0.jpg\"],[\"ALL_IDB\\\\ALL_IDB1\\\\ALL_IDB1\\\\im\\\\Im078_0.jpg\"],[\"ALL_IDB\\\\ALL_IDB1\\\\ALL_IDB1\\\\im\\\\Im079_0.jpg\"],[\"ALL_IDB\\\\ALL_IDB1\\\\ALL_IDB1\\\\im\\\\Im080_0.jpg\"],[\"ALL_IDB\\\\ALL_IDB1\\\\ALL_IDB1\\\\im\\\\Im081_0.jpg\"],[\"ALL_IDB\\\\ALL_IDB1\\\\ALL_IDB1\\\\im\\\\Im082_0.jpg\"],[\"ALL_IDB\\\\ALL_IDB1\\\\ALL_IDB1\\\\im\\\\Im083_0.jpg\"],[\"ALL_IDB\\\\ALL_IDB1\\\\ALL_IDB1\\\\im\\\\Im084_0.jpg\"],[\"ALL_IDB\\\\ALL_IDB1\\\\ALL_IDB1\\\\im\\\\Im085_0.jpg\"],[\"ALL_IDB\\\\ALL_IDB1\\\\ALL_IDB1\\\\im\\\\Im086_0.jpg\"],[\"ALL_IDB\\\\ALL_IDB1\\\\ALL_IDB1\\\\im\\\\Im087_0.jpg\"],[\"ALL_IDB\\\\ALL_IDB1\\\\ALL_IDB1\\\\im\\\\Im088_0.jpg\"],[\"ALL_IDB\\\\ALL_IDB1\\\\ALL_IDB1\\\\im\\\\Im089_0.jpg\"],[\"ALL_IDB\\\\ALL_IDB1\\\\ALL_IDB1\\\\im\\\\Im090_0.jpg\"],[\"ALL_IDB\\\\ALL_IDB1\\\\ALL_IDB1\\\\im\\\\Im091_0.jpg\"],[\"ALL_IDB\\\\ALL_IDB1\\\\ALL_IDB1\\\\im\\\\Im092_0.jpg\"],[\"ALL_IDB\\\\ALL_IDB1\\\\ALL_IDB1\\\\im\\\\Im093_0.jpg\"],[\"ALL_IDB\\\\ALL_IDB1\\\\ALL_IDB1\\\\im\\\\Im094_0.jpg\"],[\"ALL_IDB\\\\ALL_IDB1\\\\ALL_IDB1\\\\im\\\\Im095_0.jpg\"],[\"ALL_IDB\\\\ALL_IDB1\\\\ALL_IDB1\\\\im\\\\Im096_0.jpg\"],[\"ALL_IDB\\\\ALL_IDB1\\\\ALL_IDB1\\\\im\\\\Im097_0.jpg\"],[\"ALL_IDB\\\\ALL_IDB1\\\\ALL_IDB1\\\\im\\\\Im098_0.jpg\"],[\"ALL_IDB\\\\ALL_IDB1\\\\ALL_IDB1\\\\im\\\\Im099_0.jpg\"],[\"ALL_IDB\\\\ALL_IDB1\\\\ALL_IDB1\\\\im\\\\Im100_0.jpg\"],[\"ALL_IDB\\\\ALL_IDB1\\\\ALL_IDB1\\\\im\\\\Im101_0.jpg\"],[\"ALL_IDB\\\\ALL_IDB1\\\\ALL_IDB1\\\\im\\\\Im102_0.jpg\"],[\"ALL_IDB\\\\ALL_IDB1\\\\ALL_IDB1\\\\im\\\\Im103_0.jpg\"],[\"ALL_IDB\\\\ALL_IDB1\\\\ALL_IDB1\\\\im\\\\Im104_0.jpg\"],[\"ALL_IDB\\\\ALL_IDB1\\\\ALL_IDB1\\\\im\\\\Im105_0.jpg\"],[\"ALL_IDB\\\\ALL_IDB1\\\\ALL_IDB1\\\\im\\\\Im106_0.jpg\"],[\"ALL_IDB\\\\ALL_IDB1\\\\ALL_IDB1\\\\im\\\\Im107_0.jpg\"],[\"ALL_IDB\\\\ALL_IDB1\\\\ALL_IDB1\\\\im\\\\Im108_0.jpg\"],[\"ALL_IDB\\\\ALL_IDB2\\\\ALL_IDB2\\\\img\\\\Im001_1.tif\"],[\"ALL_IDB\\\\ALL_IDB2\\\\ALL_IDB2\\\\img\\\\Im002_1.tif\"],[\"ALL_IDB\\\\ALL_IDB2\\\\ALL_IDB2\\\\img\\\\Im003_1.tif\"],[\"ALL_IDB\\\\ALL_IDB2\\\\ALL_IDB2\\\\img\\\\Im004_1.tif\"],[\"ALL_IDB\\\\ALL_IDB2\\\\ALL_IDB2\\\\img\\\\Im005_1.tif\"],[\"ALL_IDB\\\\ALL_IDB2\\\\ALL_IDB2\\\\img\\\\Im006_1.tif\"],[\"ALL_IDB\\\\ALL_IDB2\\\\ALL_IDB2\\\\img\\\\Im007_1.tif\"],[\"ALL_IDB\\\\ALL_IDB2\\\\ALL_IDB2\\\\img\\\\Im008_1.tif\"],[\"ALL_IDB\\\\ALL_IDB2\\\\ALL_IDB2\\\\img\\\\Im009_1.tif\"],[\"ALL_IDB\\\\ALL_IDB2\\\\ALL_IDB2\\\\img\\\\Im010_1.tif\"],[\"ALL_IDB\\\\ALL_IDB2\\\\ALL_IDB2\\\\img\\\\Im011_1.tif\"],[\"ALL_IDB\\\\ALL_IDB2\\\\ALL_IDB2\\\\img\\\\Im012_1.tif\"],[\"ALL_IDB\\\\ALL_IDB2\\\\ALL_IDB2\\\\img\\\\Im013_1.tif\"],[\"ALL_IDB\\\\ALL_IDB2\\\\ALL_IDB2\\\\img\\\\Im014_1.tif\"],[\"ALL_IDB\\\\ALL_IDB2\\\\ALL_IDB2\\\\img\\\\Im015_1.tif\"],[\"ALL_IDB\\\\ALL_IDB2\\\\ALL_IDB2\\\\img\\\\Im016_1.tif\"],[\"ALL_IDB\\\\ALL_IDB2\\\\ALL_IDB2\\\\img\\\\Im017_1.tif\"],[\"ALL_IDB\\\\ALL_IDB2\\\\ALL_IDB2\\\\img\\\\Im018_1.tif\"],[\"ALL_IDB\\\\ALL_IDB2\\\\ALL_IDB2\\\\img\\\\Im019_1.tif\"],[\"ALL_IDB\\\\ALL_IDB2\\\\ALL_IDB2\\\\img\\\\Im020_1.tif\"],[\"ALL_IDB\\\\ALL_IDB2\\\\ALL_IDB2\\\\img\\\\Im021_1.tif\"],[\"ALL_IDB\\\\ALL_IDB2\\\\ALL_IDB2\\\\img\\\\Im022_1.tif\"],[\"ALL_IDB\\\\ALL_IDB2\\\\ALL_IDB2\\\\img\\\\Im023_1.tif\"],[\"ALL_IDB\\\\ALL_IDB2\\\\ALL_IDB2\\\\img\\\\Im024_1.tif\"],[\"ALL_IDB\\\\ALL_IDB2\\\\ALL_IDB2\\\\img\\\\Im025_1.tif\"],[\"ALL_IDB\\\\ALL_IDB2\\\\ALL_IDB2\\\\img\\\\Im026_1.tif\"],[\"ALL_IDB\\\\ALL_IDB2\\\\ALL_IDB2\\\\img\\\\Im027_1.tif\"],[\"ALL_IDB\\\\ALL_IDB2\\\\ALL_IDB2\\\\img\\\\Im028_1.tif\"],[\"ALL_IDB\\\\ALL_IDB2\\\\ALL_IDB2\\\\img\\\\Im029_1.tif\"],[\"ALL_IDB\\\\ALL_IDB2\\\\ALL_IDB2\\\\img\\\\Im030_1.tif\"],[\"ALL_IDB\\\\ALL_IDB2\\\\ALL_IDB2\\\\img\\\\Im031_1.tif\"],[\"ALL_IDB\\\\ALL_IDB2\\\\ALL_IDB2\\\\img\\\\Im032_1.tif\"],[\"ALL_IDB\\\\ALL_IDB2\\\\ALL_IDB2\\\\img\\\\Im033_1.tif\"],[\"ALL_IDB\\\\ALL_IDB2\\\\ALL_IDB2\\\\img\\\\Im034_1.tif\"],[\"ALL_IDB\\\\ALL_IDB2\\\\ALL_IDB2\\\\img\\\\Im035_1.tif\"],[\"ALL_IDB\\\\ALL_IDB2\\\\ALL_IDB2\\\\img\\\\Im036_1.tif\"],[\"ALL_IDB\\\\ALL_IDB2\\\\ALL_IDB2\\\\img\\\\Im037_1.tif\"],[\"ALL_IDB\\\\ALL_IDB2\\\\ALL_IDB2\\\\img\\\\Im038_1.tif\"],[\"ALL_IDB\\\\ALL_IDB2\\\\ALL_IDB2\\\\img\\\\Im039_1.tif\"],[\"ALL_IDB\\\\ALL_IDB2\\\\ALL_IDB2\\\\img\\\\Im040_1.tif\"],[\"ALL_IDB\\\\ALL_IDB2\\\\ALL_IDB2\\\\img\\\\Im041_1.tif\"],[\"ALL_IDB\\\\ALL_IDB2\\\\ALL_IDB2\\\\img\\\\Im042_1.tif\"],[\"ALL_IDB\\\\ALL_IDB2\\\\ALL_IDB2\\\\img\\\\Im043_1.tif\"],[\"ALL_IDB\\\\ALL_IDB2\\\\ALL_IDB2\\\\img\\\\Im044_1.tif\"],[\"ALL_IDB\\\\ALL_IDB2\\\\ALL_IDB2\\\\img\\\\Im045_1.tif\"],[\"ALL_IDB\\\\ALL_IDB2\\\\ALL_IDB2\\\\img\\\\Im046_1.tif\"],[\"ALL_IDB\\\\ALL_IDB2\\\\ALL_IDB2\\\\img\\\\Im047_1.tif\"],[\"ALL_IDB\\\\ALL_IDB2\\\\ALL_IDB2\\\\img\\\\Im048_1.tif\"],[\"ALL_IDB\\\\ALL_IDB2\\\\ALL_IDB2\\\\img\\\\Im049_1.tif\"],[\"ALL_IDB\\\\ALL_IDB2\\\\ALL_IDB2\\\\img\\\\Im050_1.tif\"],[\"ALL_IDB\\\\ALL_IDB2\\\\ALL_IDB2\\\\img\\\\Im051_1.tif\"],[\"ALL_IDB\\\\ALL_IDB2\\\\ALL_IDB2\\\\img\\\\Im052_1.tif\"],[\"ALL_IDB\\\\ALL_IDB2\\\\ALL_IDB2\\\\img\\\\Im053_1.tif\"],[\"ALL_IDB\\\\ALL_IDB2\\\\ALL_IDB2\\\\img\\\\Im054_1.tif\"],[\"ALL_IDB\\\\ALL_IDB2\\\\ALL_IDB2\\\\img\\\\Im055_1.tif\"],[\"ALL_IDB\\\\ALL_IDB2\\\\ALL_IDB2\\\\img\\\\Im056_1.tif\"],[\"ALL_IDB\\\\ALL_IDB2\\\\ALL_IDB2\\\\img\\\\Im057_1.tif\"],[\"ALL_IDB\\\\ALL_IDB2\\\\ALL_IDB2\\\\img\\\\Im058_1.tif\"],[\"ALL_IDB\\\\ALL_IDB2\\\\ALL_IDB2\\\\img\\\\Im059_1.tif\"],[\"ALL_IDB\\\\ALL_IDB2\\\\ALL_IDB2\\\\img\\\\Im060_1.tif\"],[\"ALL_IDB\\\\ALL_IDB2\\\\ALL_IDB2\\\\img\\\\Im061_1.tif\"],[\"ALL_IDB\\\\ALL_IDB2\\\\ALL_IDB2\\\\img\\\\Im062_1.tif\"],[\"ALL_IDB\\\\ALL_IDB2\\\\ALL_IDB2\\\\img\\\\Im063_1.tif\"],[\"ALL_IDB\\\\ALL_IDB2\\\\ALL_IDB2\\\\img\\\\Im064_1.tif\"],[\"ALL_IDB\\\\ALL_IDB2\\\\ALL_IDB2\\\\img\\\\Im065_1.tif\"],[\"ALL_IDB\\\\ALL_IDB2\\\\ALL_IDB2\\\\img\\\\Im066_1.tif\"],[\"ALL_IDB\\\\ALL_IDB2\\\\ALL_IDB2\\\\img\\\\Im067_1.tif\"],[\"ALL_IDB\\\\ALL_IDB2\\\\ALL_IDB2\\\\img\\\\Im068_1.tif\"],[\"ALL_IDB\\\\ALL_IDB2\\\\ALL_IDB2\\\\img\\\\Im069_1.tif\"],[\"ALL_IDB\\\\ALL_IDB2\\\\ALL_IDB2\\\\img\\\\Im070_1.tif\"],[\"ALL_IDB\\\\ALL_IDB2\\\\ALL_IDB2\\\\img\\\\Im071_1.tif\"],[\"ALL_IDB\\\\ALL_IDB2\\\\ALL_IDB2\\\\img\\\\Im072_1.tif\"],[\"ALL_IDB\\\\ALL_IDB2\\\\ALL_IDB2\\\\img\\\\Im073_1.tif\"],[\"ALL_IDB\\\\ALL_IDB2\\\\ALL_IDB2\\\\img\\\\Im074_1.tif\"],[\"ALL_IDB\\\\ALL_IDB2\\\\ALL_IDB2\\\\img\\\\Im075_1.tif\"],[\"ALL_IDB\\\\ALL_IDB2\\\\ALL_IDB2\\\\img\\\\Im076_1.tif\"],[\"ALL_IDB\\\\ALL_IDB2\\\\ALL_IDB2\\\\img\\\\Im077_1.tif\"],[\"ALL_IDB\\\\ALL_IDB2\\\\ALL_IDB2\\\\img\\\\Im078_1.tif\"],[\"ALL_IDB\\\\ALL_IDB2\\\\ALL_IDB2\\\\img\\\\Im079_1.tif\"],[\"ALL_IDB\\\\ALL_IDB2\\\\ALL_IDB2\\\\img\\\\Im080_1.tif\"],[\"ALL_IDB\\\\ALL_IDB2\\\\ALL_IDB2\\\\img\\\\Im081_1.tif\"],[\"ALL_IDB\\\\ALL_IDB2\\\\ALL_IDB2\\\\img\\\\Im082_1.tif\"],[\"ALL_IDB\\\\ALL_IDB2\\\\ALL_IDB2\\\\img\\\\Im083_1.tif\"],[\"ALL_IDB\\\\ALL_IDB2\\\\ALL_IDB2\\\\img\\\\Im084_1.tif\"],[\"ALL_IDB\\\\ALL_IDB2\\\\ALL_IDB2\\\\img\\\\Im085_1.tif\"],[\"ALL_IDB\\\\ALL_IDB2\\\\ALL_IDB2\\\\img\\\\Im086_1.tif\"],[\"ALL_IDB\\\\ALL_IDB2\\\\ALL_IDB2\\\\img\\\\Im087_1.tif\"],[\"ALL_IDB\\\\ALL_IDB2\\\\ALL_IDB2\\\\img\\\\Im088_1.tif\"],[\"ALL_IDB\\\\ALL_IDB2\\\\ALL_IDB2\\\\img\\\\Im089_1.tif\"],[\"ALL_IDB\\\\ALL_IDB2\\\\ALL_IDB2\\\\img\\\\Im090_1.tif\"],[\"ALL_IDB\\\\ALL_IDB2\\\\ALL_IDB2\\\\img\\\\Im091_1.tif\"],[\"ALL_IDB\\\\ALL_IDB2\\\\ALL_IDB2\\\\img\\\\Im092_1.tif\"],[\"ALL_IDB\\\\ALL_IDB2\\\\ALL_IDB2\\\\img\\\\Im093_1.tif\"],[\"ALL_IDB\\\\ALL_IDB2\\\\ALL_IDB2\\\\img\\\\Im094_1.tif\"],[\"ALL_IDB\\\\ALL_IDB2\\\\ALL_IDB2\\\\img\\\\Im095_1.tif\"],[\"ALL_IDB\\\\ALL_IDB2\\\\ALL_IDB2\\\\img\\\\Im096_1.tif\"],[\"ALL_IDB\\\\ALL_IDB2\\\\ALL_IDB2\\\\img\\\\Im097_1.tif\"],[\"ALL_IDB\\\\ALL_IDB2\\\\ALL_IDB2\\\\img\\\\Im098_1.tif\"],[\"ALL_IDB\\\\ALL_IDB2\\\\ALL_IDB2\\\\img\\\\Im099_1.tif\"],[\"ALL_IDB\\\\ALL_IDB2\\\\ALL_IDB2\\\\img\\\\Im100_1.tif\"],[\"ALL_IDB\\\\ALL_IDB2\\\\ALL_IDB2\\\\img\\\\Im101_1.tif\"],[\"ALL_IDB\\\\ALL_IDB2\\\\ALL_IDB2\\\\img\\\\Im102_1.tif\"],[\"ALL_IDB\\\\ALL_IDB2\\\\ALL_IDB2\\\\img\\\\Im103_1.tif\"],[\"ALL_IDB\\\\ALL_IDB2\\\\ALL_IDB2\\\\img\\\\Im104_1.tif\"],[\"ALL_IDB\\\\ALL_IDB2\\\\ALL_IDB2\\\\img\\\\Im105_1.tif\"],[\"ALL_IDB\\\\ALL_IDB2\\\\ALL_IDB2\\\\img\\\\Im106_1.tif\"],[\"ALL_IDB\\\\ALL_IDB2\\\\ALL_IDB2\\\\img\\\\Im107_1.tif\"],[\"ALL_IDB\\\\ALL_IDB2\\\\ALL_IDB2\\\\img\\\\Im108_1.tif\"],[\"ALL_IDB\\\\ALL_IDB2\\\\ALL_IDB2\\\\img\\\\Im109_1.tif\"],[\"ALL_IDB\\\\ALL_IDB2\\\\ALL_IDB2\\\\img\\\\Im110_1.tif\"],[\"ALL_IDB\\\\ALL_IDB2\\\\ALL_IDB2\\\\img\\\\Im111_1.tif\"],[\"ALL_IDB\\\\ALL_IDB2\\\\ALL_IDB2\\\\img\\\\Im112_1.tif\"],[\"ALL_IDB\\\\ALL_IDB2\\\\ALL_IDB2\\\\img\\\\Im113_1.tif\"],[\"ALL_IDB\\\\ALL_IDB2\\\\ALL_IDB2\\\\img\\\\Im114_1.tif\"],[\"ALL_IDB\\\\ALL_IDB2\\\\ALL_IDB2\\\\img\\\\Im115_1.tif\"],[\"ALL_IDB\\\\ALL_IDB2\\\\ALL_IDB2\\\\img\\\\Im116_1.tif\"],[\"ALL_IDB\\\\ALL_IDB2\\\\ALL_IDB2\\\\img\\\\Im117_1.tif\"],[\"ALL_IDB\\\\ALL_IDB2\\\\ALL_IDB2\\\\img\\\\Im118_1.tif\"],[\"ALL_IDB\\\\ALL_IDB2\\\\ALL_IDB2\\\\img\\\\Im119_1.tif\"],[\"ALL_IDB\\\\ALL_IDB2\\\\ALL_IDB2\\\\img\\\\Im120_1.tif\"],[\"ALL_IDB\\\\ALL_IDB2\\\\ALL_IDB2\\\\img\\\\Im121_1.tif\"],[\"ALL_IDB\\\\ALL_IDB2\\\\ALL_IDB2\\\\img\\\\Im122_1.tif\"],[\"ALL_IDB\\\\ALL_IDB2\\\\ALL_IDB2\\\\img\\\\Im123_1.tif\"],[\"ALL_IDB\\\\ALL_IDB2\\\\ALL_IDB2\\\\img\\\\Im124_1.tif\"],[\"ALL_IDB\\\\ALL_IDB2\\\\ALL_IDB2\\\\img\\\\Im125_1.tif\"],[\"ALL_IDB\\\\ALL_IDB2\\\\ALL_IDB2\\\\img\\\\Im126_1.tif\"],[\"ALL_IDB\\\\ALL_IDB2\\\\ALL_IDB2\\\\img\\\\Im127_1.tif\"],[\"ALL_IDB\\\\ALL_IDB2\\\\ALL_IDB2\\\\img\\\\Im128_1.tif\"],[\"ALL_IDB\\\\ALL_IDB2\\\\ALL_IDB2\\\\img\\\\Im129_1.tif\"],[\"ALL_IDB\\\\ALL_IDB2\\\\ALL_IDB2\\\\img\\\\Im130_1.tif\"],[\"ALL_IDB\\\\ALL_IDB2\\\\ALL_IDB2\\\\img\\\\Im131_0.tif\"],[\"ALL_IDB\\\\ALL_IDB2\\\\ALL_IDB2\\\\img\\\\Im132_0.tif\"],[\"ALL_IDB\\\\ALL_IDB2\\\\ALL_IDB2\\\\img\\\\Im133_0.tif\"],[\"ALL_IDB\\\\ALL_IDB2\\\\ALL_IDB2\\\\img\\\\Im134_0.tif\"],[\"ALL_IDB\\\\ALL_IDB2\\\\ALL_IDB2\\\\img\\\\Im135_0.tif\"],[\"ALL_IDB\\\\ALL_IDB2\\\\ALL_IDB2\\\\img\\\\Im136_0.tif\"],[\"ALL_IDB\\\\ALL_IDB2\\\\ALL_IDB2\\\\img\\\\Im137_0.tif\"],[\"ALL_IDB\\\\ALL_IDB2\\\\ALL_IDB2\\\\img\\\\Im138_0.tif\"],[\"ALL_IDB\\\\ALL_IDB2\\\\ALL_IDB2\\\\img\\\\Im139_0.tif\"],[\"ALL_IDB\\\\ALL_IDB2\\\\ALL_IDB2\\\\img\\\\Im140_0.tif\"],[\"ALL_IDB\\\\ALL_IDB2\\\\ALL_IDB2\\\\img\\\\Im141_0.tif\"],[\"ALL_IDB\\\\ALL_IDB2\\\\ALL_IDB2\\\\img\\\\Im142_0.tif\"],[\"ALL_IDB\\\\ALL_IDB2\\\\ALL_IDB2\\\\img\\\\Im143_0.tif\"],[\"ALL_IDB\\\\ALL_IDB2\\\\ALL_IDB2\\\\img\\\\Im144_0.tif\"],[\"ALL_IDB\\\\ALL_IDB2\\\\ALL_IDB2\\\\img\\\\Im145_0.tif\"],[\"ALL_IDB\\\\ALL_IDB2\\\\ALL_IDB2\\\\img\\\\Im146_0.tif\"],[\"ALL_IDB\\\\ALL_IDB2\\\\ALL_IDB2\\\\img\\\\Im147_0.tif\"],[\"ALL_IDB\\\\ALL_IDB2\\\\ALL_IDB2\\\\img\\\\Im148_0.tif\"],[\"ALL_IDB\\\\ALL_IDB2\\\\ALL_IDB2\\\\img\\\\Im149_0.tif\"],[\"ALL_IDB\\\\ALL_IDB2\\\\ALL_IDB2\\\\img\\\\Im150_0.tif\"],[\"ALL_IDB\\\\ALL_IDB2\\\\ALL_IDB2\\\\img\\\\Im151_0.tif\"],[\"ALL_IDB\\\\ALL_IDB2\\\\ALL_IDB2\\\\img\\\\Im152_0.tif\"],[\"ALL_IDB\\\\ALL_IDB2\\\\ALL_IDB2\\\\img\\\\Im153_0.tif\"],[\"ALL_IDB\\\\ALL_IDB2\\\\ALL_IDB2\\\\img\\\\Im154_0.tif\"],[\"ALL_IDB\\\\ALL_IDB2\\\\ALL_IDB2\\\\img\\\\Im155_0.tif\"],[\"ALL_IDB\\\\ALL_IDB2\\\\ALL_IDB2\\\\img\\\\Im156_0.tif\"],[\"ALL_IDB\\\\ALL_IDB2\\\\ALL_IDB2\\\\img\\\\Im157_0.tif\"],[\"ALL_IDB\\\\ALL_IDB2\\\\ALL_IDB2\\\\img\\\\Im158_0.tif\"],[\"ALL_IDB\\\\ALL_IDB2\\\\ALL_IDB2\\\\img\\\\Im159_0.tif\"],[\"ALL_IDB\\\\ALL_IDB2\\\\ALL_IDB2\\\\img\\\\Im160_0.tif\"],[\"ALL_IDB\\\\ALL_IDB2\\\\ALL_IDB2\\\\img\\\\Im161_0.tif\"],[\"ALL_IDB\\\\ALL_IDB2\\\\ALL_IDB2\\\\img\\\\Im162_0.tif\"],[\"ALL_IDB\\\\ALL_IDB2\\\\ALL_IDB2\\\\img\\\\Im163_0.tif\"],[\"ALL_IDB\\\\ALL_IDB2\\\\ALL_IDB2\\\\img\\\\Im164_0.tif\"],[\"ALL_IDB\\\\ALL_IDB2\\\\ALL_IDB2\\\\img\\\\Im165_0.tif\"],[\"ALL_IDB\\\\ALL_IDB2\\\\ALL_IDB2\\\\img\\\\Im166_0.tif\"],[\"ALL_IDB\\\\ALL_IDB2\\\\ALL_IDB2\\\\img\\\\Im167_0.tif\"],[\"ALL_IDB\\\\ALL_IDB2\\\\ALL_IDB2\\\\img\\\\Im168_0.tif\"],[\"ALL_IDB\\\\ALL_IDB2\\\\ALL_IDB2\\\\img\\\\Im169_0.tif\"],[\"ALL_IDB\\\\ALL_IDB2\\\\ALL_IDB2\\\\img\\\\Im170_0.tif\"],[\"ALL_IDB\\\\ALL_IDB2\\\\ALL_IDB2\\\\img\\\\Im171_0.tif\"],[\"ALL_IDB\\\\ALL_IDB2\\\\ALL_IDB2\\\\img\\\\Im172_0.tif\"],[\"ALL_IDB\\\\ALL_IDB2\\\\ALL_IDB2\\\\img\\\\Im173_0.tif\"],[\"ALL_IDB\\\\ALL_IDB2\\\\ALL_IDB2\\\\img\\\\Im174_0.tif\"],[\"ALL_IDB\\\\ALL_IDB2\\\\ALL_IDB2\\\\img\\\\Im175_0.tif\"],[\"ALL_IDB\\\\ALL_IDB2\\\\ALL_IDB2\\\\img\\\\Im176_0.tif\"],[\"ALL_IDB\\\\ALL_IDB2\\\\ALL_IDB2\\\\img\\\\Im177_0.tif\"],[\"ALL_IDB\\\\ALL_IDB2\\\\ALL_IDB2\\\\img\\\\Im178_0.tif\"],[\"ALL_IDB\\\\ALL_IDB2\\\\ALL_IDB2\\\\img\\\\Im179_0.tif\"],[\"ALL_IDB\\\\ALL_IDB2\\\\ALL_IDB2\\\\img\\\\Im180_0.tif\"],[\"ALL_IDB\\\\ALL_IDB2\\\\ALL_IDB2\\\\img\\\\Im181_0.tif\"],[\"ALL_IDB\\\\ALL_IDB2\\\\ALL_IDB2\\\\img\\\\Im182_0.tif\"],[\"ALL_IDB\\\\ALL_IDB2\\\\ALL_IDB2\\\\img\\\\Im183_0.tif\"],[\"ALL_IDB\\\\ALL_IDB2\\\\ALL_IDB2\\\\img\\\\Im184_0.tif\"],[\"ALL_IDB\\\\ALL_IDB2\\\\ALL_IDB2\\\\img\\\\Im185_0.tif\"],[\"ALL_IDB\\\\ALL_IDB2\\\\ALL_IDB2\\\\img\\\\Im186_0.tif\"],[\"ALL_IDB\\\\ALL_IDB2\\\\ALL_IDB2\\\\img\\\\Im187_0.tif\"],[\"ALL_IDB\\\\ALL_IDB2\\\\ALL_IDB2\\\\img\\\\Im188_0.tif\"],[\"ALL_IDB\\\\ALL_IDB2\\\\ALL_IDB2\\\\img\\\\Im189_0.tif\"],[\"ALL_IDB\\\\ALL_IDB2\\\\ALL_IDB2\\\\img\\\\Im190_0.tif\"],[\"ALL_IDB\\\\ALL_IDB2\\\\ALL_IDB2\\\\img\\\\Im191_0.tif\"],[\"ALL_IDB\\\\ALL_IDB2\\\\ALL_IDB2\\\\img\\\\Im192_0.tif\"],[\"ALL_IDB\\\\ALL_IDB2\\\\ALL_IDB2\\\\img\\\\Im193_0.tif\"],[\"ALL_IDB\\\\ALL_IDB2\\\\ALL_IDB2\\\\img\\\\Im194_0.tif\"],[\"ALL_IDB\\\\ALL_IDB2\\\\ALL_IDB2\\\\img\\\\Im195_0.tif\"],[\"ALL_IDB\\\\ALL_IDB2\\\\ALL_IDB2\\\\img\\\\Im196_0.tif\"],[\"ALL_IDB\\\\ALL_IDB2\\\\ALL_IDB2\\\\img\\\\Im197_0.tif\"],[\"ALL_IDB\\\\ALL_IDB2\\\\ALL_IDB2\\\\img\\\\Im198_0.tif\"],[\"ALL_IDB\\\\ALL_IDB2\\\\ALL_IDB2\\\\img\\\\Im199_0.tif\"],[\"ALL_IDB\\\\ALL_IDB2\\\\ALL_IDB2\\\\img\\\\Im200_0.tif\"],[\"ALL_IDB\\\\ALL_IDB2\\\\ALL_IDB2\\\\img\\\\Im201_0.tif\"],[\"ALL_IDB\\\\ALL_IDB2\\\\ALL_IDB2\\\\img\\\\Im202_0.tif\"],[\"ALL_IDB\\\\ALL_IDB2\\\\ALL_IDB2\\\\img\\\\Im203_0.tif\"],[\"ALL_IDB\\\\ALL_IDB2\\\\ALL_IDB2\\\\img\\\\Im204_0.tif\"],[\"ALL_IDB\\\\ALL_IDB2\\\\ALL_IDB2\\\\img\\\\Im205_0.tif\"],[\"ALL_IDB\\\\ALL_IDB2\\\\ALL_IDB2\\\\img\\\\Im206_0.tif\"],[\"ALL_IDB\\\\ALL_IDB2\\\\ALL_IDB2\\\\img\\\\Im207_0.tif\"],[\"ALL_IDB\\\\ALL_IDB2\\\\ALL_IDB2\\\\img\\\\Im208_0.tif\"],[\"ALL_IDB\\\\ALL_IDB2\\\\ALL_IDB2\\\\img\\\\Im209_0.tif\"],[\"ALL_IDB\\\\ALL_IDB2\\\\ALL_IDB2\\\\img\\\\Im210_0.tif\"],[\"ALL_IDB\\\\ALL_IDB2\\\\ALL_IDB2\\\\img\\\\Im211_0.tif\"],[\"ALL_IDB\\\\ALL_IDB2\\\\ALL_IDB2\\\\img\\\\Im212_0.tif\"],[\"ALL_IDB\\\\ALL_IDB2\\\\ALL_IDB2\\\\img\\\\Im213_0.tif\"],[\"ALL_IDB\\\\ALL_IDB2\\\\ALL_IDB2\\\\img\\\\Im214_0.tif\"],[\"ALL_IDB\\\\ALL_IDB2\\\\ALL_IDB2\\\\img\\\\Im215_0.tif\"],[\"ALL_IDB\\\\ALL_IDB2\\\\ALL_IDB2\\\\img\\\\Im216_0.tif\"],[\"ALL_IDB\\\\ALL_IDB2\\\\ALL_IDB2\\\\img\\\\Im217_0.tif\"],[\"ALL_IDB\\\\ALL_IDB2\\\\ALL_IDB2\\\\img\\\\Im218_0.tif\"],[\"ALL_IDB\\\\ALL_IDB2\\\\ALL_IDB2\\\\img\\\\Im219_0.tif\"],[\"ALL_IDB\\\\ALL_IDB2\\\\ALL_IDB2\\\\img\\\\Im220_0.tif\"],[\"ALL_IDB\\\\ALL_IDB2\\\\ALL_IDB2\\\\img\\\\Im221_0.tif\"],[\"ALL_IDB\\\\ALL_IDB2\\\\ALL_IDB2\\\\img\\\\Im222_0.tif\"],[\"ALL_IDB\\\\ALL_IDB2\\\\ALL_IDB2\\\\img\\\\Im223_0.tif\"],[\"ALL_IDB\\\\ALL_IDB2\\\\ALL_IDB2\\\\img\\\\Im224_0.tif\"],[\"ALL_IDB\\\\ALL_IDB2\\\\ALL_IDB2\\\\img\\\\Im225_0.tif\"],[\"ALL_IDB\\\\ALL_IDB2\\\\ALL_IDB2\\\\img\\\\Im226_0.tif\"],[\"ALL_IDB\\\\ALL_IDB2\\\\ALL_IDB2\\\\img\\\\Im227_0.tif\"],[\"ALL_IDB\\\\ALL_IDB2\\\\ALL_IDB2\\\\img\\\\Im228_0.tif\"],[\"ALL_IDB\\\\ALL_IDB2\\\\ALL_IDB2\\\\img\\\\Im229_0.tif\"],[\"ALL_IDB\\\\ALL_IDB2\\\\ALL_IDB2\\\\img\\\\Im230_0.tif\"],[\"ALL_IDB\\\\ALL_IDB2\\\\ALL_IDB2\\\\img\\\\Im231_0.tif\"],[\"ALL_IDB\\\\ALL_IDB2\\\\ALL_IDB2\\\\img\\\\Im232_0.tif\"],[\"ALL_IDB\\\\ALL_IDB2\\\\ALL_IDB2\\\\img\\\\Im233_0.tif\"],[\"ALL_IDB\\\\ALL_IDB2\\\\ALL_IDB2\\\\img\\\\Im234_0.tif\"],[\"ALL_IDB\\\\ALL_IDB2\\\\ALL_IDB2\\\\img\\\\Im235_0.tif\"],[\"ALL_IDB\\\\ALL_IDB2\\\\ALL_IDB2\\\\img\\\\Im236_0.tif\"],[\"ALL_IDB\\\\ALL_IDB2\\\\ALL_IDB2\\\\img\\\\Im237_0.tif\"],[\"ALL_IDB\\\\ALL_IDB2\\\\ALL_IDB2\\\\img\\\\Im238_0.tif\"],[\"ALL_IDB\\\\ALL_IDB2\\\\ALL_IDB2\\\\img\\\\Im239_0.tif\"],[\"ALL_IDB\\\\ALL_IDB2\\\\ALL_IDB2\\\\img\\\\Im240_0.tif\"],[\"ALL_IDB\\\\ALL_IDB2\\\\ALL_IDB2\\\\img\\\\Im241_0.tif\"],[\"ALL_IDB\\\\ALL_IDB2\\\\ALL_IDB2\\\\img\\\\Im242_0.tif\"],[\"ALL_IDB\\\\ALL_IDB2\\\\ALL_IDB2\\\\img\\\\Im243_0.tif\"],[\"ALL_IDB\\\\ALL_IDB2\\\\ALL_IDB2\\\\img\\\\Im244_0.tif\"],[\"ALL_IDB\\\\ALL_IDB2\\\\ALL_IDB2\\\\img\\\\Im245_0.tif\"],[\"ALL_IDB\\\\ALL_IDB2\\\\ALL_IDB2\\\\img\\\\Im246_0.tif\"],[\"ALL_IDB\\\\ALL_IDB2\\\\ALL_IDB2\\\\img\\\\Im247_0.tif\"],[\"ALL_IDB\\\\ALL_IDB2\\\\ALL_IDB2\\\\img\\\\Im248_0.tif\"],[\"ALL_IDB\\\\ALL_IDB2\\\\ALL_IDB2\\\\img\\\\Im249_0.tif\"],[\"ALL_IDB\\\\ALL_IDB2\\\\ALL_IDB2\\\\img\\\\Im250_0.tif\"],[\"ALL_IDB\\\\ALL_IDB2\\\\ALL_IDB2\\\\img\\\\Im251_0.tif\"],[\"ALL_IDB\\\\ALL_IDB2\\\\ALL_IDB2\\\\img\\\\Im252_0.tif\"],[\"ALL_IDB\\\\ALL_IDB2\\\\ALL_IDB2\\\\img\\\\Im253_0.tif\"],[\"ALL_IDB\\\\ALL_IDB2\\\\ALL_IDB2\\\\img\\\\Im254_0.tif\"],[\"ALL_IDB\\\\ALL_IDB2\\\\ALL_IDB2\\\\img\\\\Im255_0.tif\"],[\"ALL_IDB\\\\ALL_IDB2\\\\ALL_IDB2\\\\img\\\\Im256_0.tif\"],[\"ALL_IDB\\\\ALL_IDB2\\\\ALL_IDB2\\\\img\\\\Im257_0.tif\"],[\"ALL_IDB\\\\ALL_IDB2\\\\ALL_IDB2\\\\img\\\\Im258_0.tif\"],[\"ALL_IDB\\\\ALL_IDB2\\\\ALL_IDB2\\\\img\\\\Im259_0.tif\"],[\"ALL_IDB\\\\ALL_IDB2\\\\ALL_IDB2\\\\img\\\\Im260_0.tif\"]],\"hovertemplate\":\"Dataset=%{x}<br>Teinte=%{y}<br>img_path=%{customdata[0]}<extra></extra>\",\"legendgroup\":\"\",\"marker\":{\"color\":\"#636efa\"},\"name\":\"\",\"notched\":false,\"offsetgroup\":\"\",\"orientation\":\"v\",\"showlegend\":false,\"x\":[\"ALL_IDB1\",\"ALL_IDB1\",\"ALL_IDB1\",\"ALL_IDB1\",\"ALL_IDB1\",\"ALL_IDB1\",\"ALL_IDB1\",\"ALL_IDB1\",\"ALL_IDB1\",\"ALL_IDB1\",\"ALL_IDB1\",\"ALL_IDB1\",\"ALL_IDB1\",\"ALL_IDB1\",\"ALL_IDB1\",\"ALL_IDB1\",\"ALL_IDB1\",\"ALL_IDB1\",\"ALL_IDB1\",\"ALL_IDB1\",\"ALL_IDB1\",\"ALL_IDB1\",\"ALL_IDB1\",\"ALL_IDB1\",\"ALL_IDB1\",\"ALL_IDB1\",\"ALL_IDB1\",\"ALL_IDB1\",\"ALL_IDB1\",\"ALL_IDB1\",\"ALL_IDB1\",\"ALL_IDB1\",\"ALL_IDB1\",\"ALL_IDB1\",\"ALL_IDB1\",\"ALL_IDB1\",\"ALL_IDB1\",\"ALL_IDB1\",\"ALL_IDB1\",\"ALL_IDB1\",\"ALL_IDB1\",\"ALL_IDB1\",\"ALL_IDB1\",\"ALL_IDB1\",\"ALL_IDB1\",\"ALL_IDB1\",\"ALL_IDB1\",\"ALL_IDB1\",\"ALL_IDB1\",\"ALL_IDB1\",\"ALL_IDB1\",\"ALL_IDB1\",\"ALL_IDB1\",\"ALL_IDB1\",\"ALL_IDB1\",\"ALL_IDB1\",\"ALL_IDB1\",\"ALL_IDB1\",\"ALL_IDB1\",\"ALL_IDB1\",\"ALL_IDB1\",\"ALL_IDB1\",\"ALL_IDB1\",\"ALL_IDB1\",\"ALL_IDB1\",\"ALL_IDB1\",\"ALL_IDB1\",\"ALL_IDB1\",\"ALL_IDB1\",\"ALL_IDB1\",\"ALL_IDB1\",\"ALL_IDB1\",\"ALL_IDB1\",\"ALL_IDB1\",\"ALL_IDB1\",\"ALL_IDB1\",\"ALL_IDB1\",\"ALL_IDB1\",\"ALL_IDB1\",\"ALL_IDB1\",\"ALL_IDB1\",\"ALL_IDB1\",\"ALL_IDB1\",\"ALL_IDB1\",\"ALL_IDB1\",\"ALL_IDB1\",\"ALL_IDB1\",\"ALL_IDB1\",\"ALL_IDB1\",\"ALL_IDB1\",\"ALL_IDB1\",\"ALL_IDB1\",\"ALL_IDB1\",\"ALL_IDB1\",\"ALL_IDB1\",\"ALL_IDB1\",\"ALL_IDB1\",\"ALL_IDB1\",\"ALL_IDB1\",\"ALL_IDB1\",\"ALL_IDB1\",\"ALL_IDB1\",\"ALL_IDB1\",\"ALL_IDB1\",\"ALL_IDB1\",\"ALL_IDB1\",\"ALL_IDB1\",\"ALL_IDB1\",\"ALL_IDB2\",\"ALL_IDB2\",\"ALL_IDB2\",\"ALL_IDB2\",\"ALL_IDB2\",\"ALL_IDB2\",\"ALL_IDB2\",\"ALL_IDB2\",\"ALL_IDB2\",\"ALL_IDB2\",\"ALL_IDB2\",\"ALL_IDB2\",\"ALL_IDB2\",\"ALL_IDB2\",\"ALL_IDB2\",\"ALL_IDB2\",\"ALL_IDB2\",\"ALL_IDB2\",\"ALL_IDB2\",\"ALL_IDB2\",\"ALL_IDB2\",\"ALL_IDB2\",\"ALL_IDB2\",\"ALL_IDB2\",\"ALL_IDB2\",\"ALL_IDB2\",\"ALL_IDB2\",\"ALL_IDB2\",\"ALL_IDB2\",\"ALL_IDB2\",\"ALL_IDB2\",\"ALL_IDB2\",\"ALL_IDB2\",\"ALL_IDB2\",\"ALL_IDB2\",\"ALL_IDB2\",\"ALL_IDB2\",\"ALL_IDB2\",\"ALL_IDB2\",\"ALL_IDB2\",\"ALL_IDB2\",\"ALL_IDB2\",\"ALL_IDB2\",\"ALL_IDB2\",\"ALL_IDB2\",\"ALL_IDB2\",\"ALL_IDB2\",\"ALL_IDB2\",\"ALL_IDB2\",\"ALL_IDB2\",\"ALL_IDB2\",\"ALL_IDB2\",\"ALL_IDB2\",\"ALL_IDB2\",\"ALL_IDB2\",\"ALL_IDB2\",\"ALL_IDB2\",\"ALL_IDB2\",\"ALL_IDB2\",\"ALL_IDB2\",\"ALL_IDB2\",\"ALL_IDB2\",\"ALL_IDB2\",\"ALL_IDB2\",\"ALL_IDB2\",\"ALL_IDB2\",\"ALL_IDB2\",\"ALL_IDB2\",\"ALL_IDB2\",\"ALL_IDB2\",\"ALL_IDB2\",\"ALL_IDB2\",\"ALL_IDB2\",\"ALL_IDB2\",\"ALL_IDB2\",\"ALL_IDB2\",\"ALL_IDB2\",\"ALL_IDB2\",\"ALL_IDB2\",\"ALL_IDB2\",\"ALL_IDB2\",\"ALL_IDB2\",\"ALL_IDB2\",\"ALL_IDB2\",\"ALL_IDB2\",\"ALL_IDB2\",\"ALL_IDB2\",\"ALL_IDB2\",\"ALL_IDB2\",\"ALL_IDB2\",\"ALL_IDB2\",\"ALL_IDB2\",\"ALL_IDB2\",\"ALL_IDB2\",\"ALL_IDB2\",\"ALL_IDB2\",\"ALL_IDB2\",\"ALL_IDB2\",\"ALL_IDB2\",\"ALL_IDB2\",\"ALL_IDB2\",\"ALL_IDB2\",\"ALL_IDB2\",\"ALL_IDB2\",\"ALL_IDB2\",\"ALL_IDB2\",\"ALL_IDB2\",\"ALL_IDB2\",\"ALL_IDB2\",\"ALL_IDB2\",\"ALL_IDB2\",\"ALL_IDB2\",\"ALL_IDB2\",\"ALL_IDB2\",\"ALL_IDB2\",\"ALL_IDB2\",\"ALL_IDB2\",\"ALL_IDB2\",\"ALL_IDB2\",\"ALL_IDB2\",\"ALL_IDB2\",\"ALL_IDB2\",\"ALL_IDB2\",\"ALL_IDB2\",\"ALL_IDB2\",\"ALL_IDB2\",\"ALL_IDB2\",\"ALL_IDB2\",\"ALL_IDB2\",\"ALL_IDB2\",\"ALL_IDB2\",\"ALL_IDB2\",\"ALL_IDB2\",\"ALL_IDB2\",\"ALL_IDB2\",\"ALL_IDB2\",\"ALL_IDB2\",\"ALL_IDB2\",\"ALL_IDB2\",\"ALL_IDB2\",\"ALL_IDB2\",\"ALL_IDB2\",\"ALL_IDB2\",\"ALL_IDB2\",\"ALL_IDB2\",\"ALL_IDB2\",\"ALL_IDB2\",\"ALL_IDB2\",\"ALL_IDB2\",\"ALL_IDB2\",\"ALL_IDB2\",\"ALL_IDB2\",\"ALL_IDB2\",\"ALL_IDB2\",\"ALL_IDB2\",\"ALL_IDB2\",\"ALL_IDB2\",\"ALL_IDB2\",\"ALL_IDB2\",\"ALL_IDB2\",\"ALL_IDB2\",\"ALL_IDB2\",\"ALL_IDB2\",\"ALL_IDB2\",\"ALL_IDB2\",\"ALL_IDB2\",\"ALL_IDB2\",\"ALL_IDB2\",\"ALL_IDB2\",\"ALL_IDB2\",\"ALL_IDB2\",\"ALL_IDB2\",\"ALL_IDB2\",\"ALL_IDB2\",\"ALL_IDB2\",\"ALL_IDB2\",\"ALL_IDB2\",\"ALL_IDB2\",\"ALL_IDB2\",\"ALL_IDB2\",\"ALL_IDB2\",\"ALL_IDB2\",\"ALL_IDB2\",\"ALL_IDB2\",\"ALL_IDB2\",\"ALL_IDB2\",\"ALL_IDB2\",\"ALL_IDB2\",\"ALL_IDB2\",\"ALL_IDB2\",\"ALL_IDB2\",\"ALL_IDB2\",\"ALL_IDB2\",\"ALL_IDB2\",\"ALL_IDB2\",\"ALL_IDB2\",\"ALL_IDB2\",\"ALL_IDB2\",\"ALL_IDB2\",\"ALL_IDB2\",\"ALL_IDB2\",\"ALL_IDB2\",\"ALL_IDB2\",\"ALL_IDB2\",\"ALL_IDB2\",\"ALL_IDB2\",\"ALL_IDB2\",\"ALL_IDB2\",\"ALL_IDB2\",\"ALL_IDB2\",\"ALL_IDB2\",\"ALL_IDB2\",\"ALL_IDB2\",\"ALL_IDB2\",\"ALL_IDB2\",\"ALL_IDB2\",\"ALL_IDB2\",\"ALL_IDB2\",\"ALL_IDB2\",\"ALL_IDB2\",\"ALL_IDB2\",\"ALL_IDB2\",\"ALL_IDB2\",\"ALL_IDB2\",\"ALL_IDB2\",\"ALL_IDB2\",\"ALL_IDB2\",\"ALL_IDB2\",\"ALL_IDB2\",\"ALL_IDB2\",\"ALL_IDB2\",\"ALL_IDB2\",\"ALL_IDB2\",\"ALL_IDB2\",\"ALL_IDB2\",\"ALL_IDB2\",\"ALL_IDB2\",\"ALL_IDB2\",\"ALL_IDB2\",\"ALL_IDB2\",\"ALL_IDB2\",\"ALL_IDB2\",\"ALL_IDB2\",\"ALL_IDB2\",\"ALL_IDB2\",\"ALL_IDB2\",\"ALL_IDB2\",\"ALL_IDB2\",\"ALL_IDB2\",\"ALL_IDB2\",\"ALL_IDB2\",\"ALL_IDB2\",\"ALL_IDB2\",\"ALL_IDB2\",\"ALL_IDB2\",\"ALL_IDB2\",\"ALL_IDB2\",\"ALL_IDB2\",\"ALL_IDB2\",\"ALL_IDB2\"],\"x0\":\" \",\"xaxis\":\"x\",\"y\":[86.74451113912117,96.97391648904193,94.33091191520468,89.78057835642456,110.76900029717987,102.39187605891676,90.26494951358146,100.94504777080942,95.70778209884134,106.85586221443405,100.34340969489534,100.345524539542,93.80990138410668,90.47054759660054,95.904883228808,105.05985014619883,79.62673483016341,94.59791649587365,95.64925047480462,84.71251776247472,88.87741757528556,92.4054716107832,86.93103761887194,89.94315709200961,84.70486836981472,87.79036351587692,88.29986643985353,76.1911541167951,89.61301161050991,85.97862653372138,87.30021101478384,80.58489267366235,81.50243294665792,28.644177002362444,19.181269012282172,20.04918624256973,19.169264604329506,17.14291282451862,17.30650914653508,19.7905080685109,18.40339279930651,19.477164224838692,19.65220324169334,17.88847649303968,19.360363916514252,17.49986008706752,18.65583800106691,30.659499552278618,31.18208388107758,28.74217162335518,26.578025969427934,35.002001846453794,32.95686454522939,26.29406562769903,29.974140517832648,32.281378005448865,31.141516870522786,33.74660874866636,37.17040085352843,26.434672964931668,33.840943406111876,35.97143553447137,29.20991861631865,21.866839007646192,24.751421952001728,27.72969138977798,24.334806090598487,29.582740737565413,26.68680122916984,22.03286009024285,24.649070779670275,16.71330252470406,17.838189403609714,18.379990426383173,20.485844383478128,20.717998836241936,16.409131015660723,20.268323831161407,21.004065413364323,18.96295423080831,19.052419521287405,18.343006377648223,18.341895409426918,19.324462853414115,17.579768828113092,18.659695827300208,18.74945443879236,20.414944447619774,19.379087442209013,19.606336408639436,18.336502708555606,19.33435043089214,19.430337450147334,36.40743995452929,40.668106082977694,21.025151383808364,20.59238996691307,25.69650364527765,30.86742902345933,19.106432065424478,19.582383116140832,20.802466555847687,20.871097719161206,27.098617977759996,18.973173233246964,20.82172988746634,19.92517218221308,19.430337450147334,84.42117216006298,106.76346348922769,111.78797559387728,115.07392996108949,92.1293887871126,86.48694151311905,126.3118593771291,125.46273221396235,129.2386712894972,124.58941089191357,126.09583793850021,103.0167451437569,107.02623809595906,117.75501521597602,91.77407682175355,109.94125573437903,110.3047585883208,117.09262820027556,109.40849975018547,95.42418507471726,111.94442005177974,111.05382367636149,105.35208708685975,77.2741298127148,76.60663477953277,117.57213583854411,116.69088101258157,104.32309346091539,112.75410679949734,114.3225938318521,111.15891232266954,100.36896849308846,101.06322578691578,103.91548698693394,95.25538615270482,104.75080621962482,104.85601598813003,113.38834804463353,128.0666323487108,94.88463110720828,122.5736650062832,100.6347560144741,88.13639873427304,92.02569304607185,101.12275734681828,99.40472982179897,113.74582506926676,118.24836106526972,107.05108328665082,116.63834425956487,117.59757149994701,73.20339444957531,85.2439703856228,97.00997744099078,117.67828430407728,98.38707626156338,97.39034656088661,106.97966661115233,107.75443988553953,99.36061106148466,116.16481702978092,89.85984647761511,94.99550333843055,108.67658859331708,88.10735968750473,101.55057608745022,96.61449832699965,94.81958848733517,103.5368135777983,100.87330618177414,117.83687868097927,101.23538584989932,102.18204666232646,44.08395282290421,57.54868355311965,50.013368862511165,52.60152311162925,48.99435267755757,52.78344865175854,45.41113415797363,39.070553679843755,39.274069251616226,41.79454647307302,45.79765022937516,45.99308089448743,40.54073490893125,47.148374691516906,40.02449696437493,55.86632651516298,48.132903696498055,71.6865811745825,42.76123786885494,56.45773592332965,48.70641493436691,40.15867007827522,32.7152417144847,29.581371406077306,29.005041711456645,30.074732395645658,53.61651198352738,48.95056700328544,43.60732183681812,50.28921425385644,51.03618525640055,36.9295674423534,53.08884313161441,33.11326439461612,51.57643567654317,52.78355463368106,54.175066995715305,47.45806900937183,39.54539811352178,48.858529273721025,40.13888173931475,45.403306635982375,47.44076367545307,49.740359430120066,49.62726157852504,51.547472331148086,70.47295189934745,49.91310996381474,50.59236324546927,57.71009402110554,44.43426849763055,52.767021453769175,37.75036715166013,42.4313312843495,50.44989326106376,50.69141092219413,54.91571409105361,69.19315962391558,64.4540871171403,46.47224030643916,38.00704022770973,50.12410483126164,58.107692773546916,31.56096231585641,33.632484973277414,48.66835228391043,29.558857817680813,42.72346288361671,31.18811791245893,42.854002331602295,33.04886166073351,31.421308422534786,33.90092204272585,47.81147330012566,57.126875501521596,28.04926645369347,32.87036896849309,35.53174158579237,45.58087177701403,37.371618041151265,61.862662568698994,45.13362806401308,38.17334100440582,47.51313418825418,39.16493815197808,48.246983300277066,46.976683977047344,47.159502793380675,58.560477827067785,26.61537646292904,42.20596829626489,37.92254235491832,51.66694423836849,44.20696363880317,42.886220836045965,34.4503474693031,42.87631909642841,31.872306923647596,26.63904071219852,51.291117200866026,30.7651289194386,65.74562824569638,75.51416372693001,26.736210994867445,29.12446819785311,37.437478235855195,56.22675589335191,21.466910929764264,35.91513876061712,39.23561295401898,38.514860179563655,48.17356810852549,22.259443746309557,42.40698572272101,25.769050250571546,39.5869733076958,24.69290980938394,45.99003769928387,59.91214098623749,29.916213720116883,39.471135066390104,59.77291102060591,51.9888264773123,33.6241598868058,46.18649790307196,25.445336038395737,30.298959863131916,59.07535314690608,58.02196853850929,32.325455343759934,39.30448606337719,25.112946448848582,21.80673439416191,30.29827855077291,31.317870066163,40.27836908961529,28.385032324486367,31.892927977713516,67.21909491438174,37.772048024951175,24.374328150312646,21.043528289603174,57.31514481672698,35.92015019152448,36.7014186437342,45.63976744538146,26.502233190510076,29.391907421221347,66.82322215324986,62.34307862344623,31.18840557767718,42.7729413011552,28.61660282517525,21.713273478780906,77.32843797786492,84.70444669866312,82.97114263652743,34.50521582461506,34.897258096261865,63.395775430794885,50.06978152583688,35.74976154067435,46.537464609608016,47.22012445305758,64.64433252118259,48.78699147602538,59.10007721540069,44.1714333298006,33.30846795560871,60.019273569622555,49.753380066314406,38.191736438098985,74.93261063755696,45.542021832276035,49.55767687625853,34.671652863782946,74.19715665642175,43.714242586877766,50.505261245438994,34.661130372904964,69.99111265878363,52.67670971551424,66.84681070114613,62.34307862344623,31.64250783509213,42.888158791200475,21.65057760147769],\"y0\":\" \",\"yaxis\":\"y\",\"type\":\"box\"}],                        {\"template\":{\"data\":{\"histogram2dcontour\":[{\"type\":\"histogram2dcontour\",\"colorbar\":{\"outlinewidth\":0,\"ticks\":\"\"},\"colorscale\":[[0.0,\"#0d0887\"],[0.1111111111111111,\"#46039f\"],[0.2222222222222222,\"#7201a8\"],[0.3333333333333333,\"#9c179e\"],[0.4444444444444444,\"#bd3786\"],[0.5555555555555556,\"#d8576b\"],[0.6666666666666666,\"#ed7953\"],[0.7777777777777778,\"#fb9f3a\"],[0.8888888888888888,\"#fdca26\"],[1.0,\"#f0f921\"]]}],\"choropleth\":[{\"type\":\"choropleth\",\"colorbar\":{\"outlinewidth\":0,\"ticks\":\"\"}}],\"histogram2d\":[{\"type\":\"histogram2d\",\"colorbar\":{\"outlinewidth\":0,\"ticks\":\"\"},\"colorscale\":[[0.0,\"#0d0887\"],[0.1111111111111111,\"#46039f\"],[0.2222222222222222,\"#7201a8\"],[0.3333333333333333,\"#9c179e\"],[0.4444444444444444,\"#bd3786\"],[0.5555555555555556,\"#d8576b\"],[0.6666666666666666,\"#ed7953\"],[0.7777777777777778,\"#fb9f3a\"],[0.8888888888888888,\"#fdca26\"],[1.0,\"#f0f921\"]]}],\"heatmap\":[{\"type\":\"heatmap\",\"colorbar\":{\"outlinewidth\":0,\"ticks\":\"\"},\"colorscale\":[[0.0,\"#0d0887\"],[0.1111111111111111,\"#46039f\"],[0.2222222222222222,\"#7201a8\"],[0.3333333333333333,\"#9c179e\"],[0.4444444444444444,\"#bd3786\"],[0.5555555555555556,\"#d8576b\"],[0.6666666666666666,\"#ed7953\"],[0.7777777777777778,\"#fb9f3a\"],[0.8888888888888888,\"#fdca26\"],[1.0,\"#f0f921\"]]}],\"heatmapgl\":[{\"type\":\"heatmapgl\",\"colorbar\":{\"outlinewidth\":0,\"ticks\":\"\"},\"colorscale\":[[0.0,\"#0d0887\"],[0.1111111111111111,\"#46039f\"],[0.2222222222222222,\"#7201a8\"],[0.3333333333333333,\"#9c179e\"],[0.4444444444444444,\"#bd3786\"],[0.5555555555555556,\"#d8576b\"],[0.6666666666666666,\"#ed7953\"],[0.7777777777777778,\"#fb9f3a\"],[0.8888888888888888,\"#fdca26\"],[1.0,\"#f0f921\"]]}],\"contourcarpet\":[{\"type\":\"contourcarpet\",\"colorbar\":{\"outlinewidth\":0,\"ticks\":\"\"}}],\"contour\":[{\"type\":\"contour\",\"colorbar\":{\"outlinewidth\":0,\"ticks\":\"\"},\"colorscale\":[[0.0,\"#0d0887\"],[0.1111111111111111,\"#46039f\"],[0.2222222222222222,\"#7201a8\"],[0.3333333333333333,\"#9c179e\"],[0.4444444444444444,\"#bd3786\"],[0.5555555555555556,\"#d8576b\"],[0.6666666666666666,\"#ed7953\"],[0.7777777777777778,\"#fb9f3a\"],[0.8888888888888888,\"#fdca26\"],[1.0,\"#f0f921\"]]}],\"surface\":[{\"type\":\"surface\",\"colorbar\":{\"outlinewidth\":0,\"ticks\":\"\"},\"colorscale\":[[0.0,\"#0d0887\"],[0.1111111111111111,\"#46039f\"],[0.2222222222222222,\"#7201a8\"],[0.3333333333333333,\"#9c179e\"],[0.4444444444444444,\"#bd3786\"],[0.5555555555555556,\"#d8576b\"],[0.6666666666666666,\"#ed7953\"],[0.7777777777777778,\"#fb9f3a\"],[0.8888888888888888,\"#fdca26\"],[1.0,\"#f0f921\"]]}],\"mesh3d\":[{\"type\":\"mesh3d\",\"colorbar\":{\"outlinewidth\":0,\"ticks\":\"\"}}],\"scatter\":[{\"fillpattern\":{\"fillmode\":\"overlay\",\"size\":10,\"solidity\":0.2},\"type\":\"scatter\"}],\"parcoords\":[{\"type\":\"parcoords\",\"line\":{\"colorbar\":{\"outlinewidth\":0,\"ticks\":\"\"}}}],\"scatterpolargl\":[{\"type\":\"scatterpolargl\",\"marker\":{\"colorbar\":{\"outlinewidth\":0,\"ticks\":\"\"}}}],\"bar\":[{\"error_x\":{\"color\":\"#2a3f5f\"},\"error_y\":{\"color\":\"#2a3f5f\"},\"marker\":{\"line\":{\"color\":\"#E5ECF6\",\"width\":0.5},\"pattern\":{\"fillmode\":\"overlay\",\"size\":10,\"solidity\":0.2}},\"type\":\"bar\"}],\"scattergeo\":[{\"type\":\"scattergeo\",\"marker\":{\"colorbar\":{\"outlinewidth\":0,\"ticks\":\"\"}}}],\"scatterpolar\":[{\"type\":\"scatterpolar\",\"marker\":{\"colorbar\":{\"outlinewidth\":0,\"ticks\":\"\"}}}],\"histogram\":[{\"marker\":{\"pattern\":{\"fillmode\":\"overlay\",\"size\":10,\"solidity\":0.2}},\"type\":\"histogram\"}],\"scattergl\":[{\"type\":\"scattergl\",\"marker\":{\"colorbar\":{\"outlinewidth\":0,\"ticks\":\"\"}}}],\"scatter3d\":[{\"type\":\"scatter3d\",\"line\":{\"colorbar\":{\"outlinewidth\":0,\"ticks\":\"\"}},\"marker\":{\"colorbar\":{\"outlinewidth\":0,\"ticks\":\"\"}}}],\"scattermapbox\":[{\"type\":\"scattermapbox\",\"marker\":{\"colorbar\":{\"outlinewidth\":0,\"ticks\":\"\"}}}],\"scatterternary\":[{\"type\":\"scatterternary\",\"marker\":{\"colorbar\":{\"outlinewidth\":0,\"ticks\":\"\"}}}],\"scattercarpet\":[{\"type\":\"scattercarpet\",\"marker\":{\"colorbar\":{\"outlinewidth\":0,\"ticks\":\"\"}}}],\"carpet\":[{\"aaxis\":{\"endlinecolor\":\"#2a3f5f\",\"gridcolor\":\"white\",\"linecolor\":\"white\",\"minorgridcolor\":\"white\",\"startlinecolor\":\"#2a3f5f\"},\"baxis\":{\"endlinecolor\":\"#2a3f5f\",\"gridcolor\":\"white\",\"linecolor\":\"white\",\"minorgridcolor\":\"white\",\"startlinecolor\":\"#2a3f5f\"},\"type\":\"carpet\"}],\"table\":[{\"cells\":{\"fill\":{\"color\":\"#EBF0F8\"},\"line\":{\"color\":\"white\"}},\"header\":{\"fill\":{\"color\":\"#C8D4E3\"},\"line\":{\"color\":\"white\"}},\"type\":\"table\"}],\"barpolar\":[{\"marker\":{\"line\":{\"color\":\"#E5ECF6\",\"width\":0.5},\"pattern\":{\"fillmode\":\"overlay\",\"size\":10,\"solidity\":0.2}},\"type\":\"barpolar\"}],\"pie\":[{\"automargin\":true,\"type\":\"pie\"}]},\"layout\":{\"autotypenumbers\":\"strict\",\"colorway\":[\"#636efa\",\"#EF553B\",\"#00cc96\",\"#ab63fa\",\"#FFA15A\",\"#19d3f3\",\"#FF6692\",\"#B6E880\",\"#FF97FF\",\"#FECB52\"],\"font\":{\"color\":\"#2a3f5f\"},\"hovermode\":\"closest\",\"hoverlabel\":{\"align\":\"left\"},\"paper_bgcolor\":\"white\",\"plot_bgcolor\":\"#E5ECF6\",\"polar\":{\"bgcolor\":\"#E5ECF6\",\"angularaxis\":{\"gridcolor\":\"white\",\"linecolor\":\"white\",\"ticks\":\"\"},\"radialaxis\":{\"gridcolor\":\"white\",\"linecolor\":\"white\",\"ticks\":\"\"}},\"ternary\":{\"bgcolor\":\"#E5ECF6\",\"aaxis\":{\"gridcolor\":\"white\",\"linecolor\":\"white\",\"ticks\":\"\"},\"baxis\":{\"gridcolor\":\"white\",\"linecolor\":\"white\",\"ticks\":\"\"},\"caxis\":{\"gridcolor\":\"white\",\"linecolor\":\"white\",\"ticks\":\"\"}},\"coloraxis\":{\"colorbar\":{\"outlinewidth\":0,\"ticks\":\"\"}},\"colorscale\":{\"sequential\":[[0.0,\"#0d0887\"],[0.1111111111111111,\"#46039f\"],[0.2222222222222222,\"#7201a8\"],[0.3333333333333333,\"#9c179e\"],[0.4444444444444444,\"#bd3786\"],[0.5555555555555556,\"#d8576b\"],[0.6666666666666666,\"#ed7953\"],[0.7777777777777778,\"#fb9f3a\"],[0.8888888888888888,\"#fdca26\"],[1.0,\"#f0f921\"]],\"sequentialminus\":[[0.0,\"#0d0887\"],[0.1111111111111111,\"#46039f\"],[0.2222222222222222,\"#7201a8\"],[0.3333333333333333,\"#9c179e\"],[0.4444444444444444,\"#bd3786\"],[0.5555555555555556,\"#d8576b\"],[0.6666666666666666,\"#ed7953\"],[0.7777777777777778,\"#fb9f3a\"],[0.8888888888888888,\"#fdca26\"],[1.0,\"#f0f921\"]],\"diverging\":[[0,\"#8e0152\"],[0.1,\"#c51b7d\"],[0.2,\"#de77ae\"],[0.3,\"#f1b6da\"],[0.4,\"#fde0ef\"],[0.5,\"#f7f7f7\"],[0.6,\"#e6f5d0\"],[0.7,\"#b8e186\"],[0.8,\"#7fbc41\"],[0.9,\"#4d9221\"],[1,\"#276419\"]]},\"xaxis\":{\"gridcolor\":\"white\",\"linecolor\":\"white\",\"ticks\":\"\",\"title\":{\"standoff\":15},\"zerolinecolor\":\"white\",\"automargin\":true,\"zerolinewidth\":2},\"yaxis\":{\"gridcolor\":\"white\",\"linecolor\":\"white\",\"ticks\":\"\",\"title\":{\"standoff\":15},\"zerolinecolor\":\"white\",\"automargin\":true,\"zerolinewidth\":2},\"scene\":{\"xaxis\":{\"backgroundcolor\":\"#E5ECF6\",\"gridcolor\":\"white\",\"linecolor\":\"white\",\"showbackground\":true,\"ticks\":\"\",\"zerolinecolor\":\"white\",\"gridwidth\":2},\"yaxis\":{\"backgroundcolor\":\"#E5ECF6\",\"gridcolor\":\"white\",\"linecolor\":\"white\",\"showbackground\":true,\"ticks\":\"\",\"zerolinecolor\":\"white\",\"gridwidth\":2},\"zaxis\":{\"backgroundcolor\":\"#E5ECF6\",\"gridcolor\":\"white\",\"linecolor\":\"white\",\"showbackground\":true,\"ticks\":\"\",\"zerolinecolor\":\"white\",\"gridwidth\":2}},\"shapedefaults\":{\"line\":{\"color\":\"#2a3f5f\"}},\"annotationdefaults\":{\"arrowcolor\":\"#2a3f5f\",\"arrowhead\":0,\"arrowwidth\":1},\"geo\":{\"bgcolor\":\"white\",\"landcolor\":\"#E5ECF6\",\"subunitcolor\":\"white\",\"showland\":true,\"showlakes\":true,\"lakecolor\":\"white\"},\"title\":{\"x\":0.05},\"mapbox\":{\"style\":\"light\"}}},\"xaxis\":{\"anchor\":\"y\",\"domain\":[0.0,1.0],\"title\":{\"text\":\"Dataset\"}},\"yaxis\":{\"anchor\":\"x\",\"domain\":[0.0,1.0],\"title\":{\"text\":\"Teinte\"}},\"legend\":{\"tracegroupgap\":0},\"title\":{\"text\":\"Bo\\u00eete \\u00e0 Moustaches de la Teinte par Dataset\"},\"boxmode\":\"group\",\"width\":800,\"height\":500},                        {\"responsive\": true}                    ).then(function(){\n",
       "                            \n",
       "var gd = document.getElementById('4a264fc7-1177-4406-844d-3c9b898c7ae4');\n",
       "var x = new MutationObserver(function (mutations, observer) {{\n",
       "        var display = window.getComputedStyle(gd).display;\n",
       "        if (!display || display === 'none') {{\n",
       "            console.log([gd, 'removed!']);\n",
       "            Plotly.purge(gd);\n",
       "            observer.disconnect();\n",
       "        }}\n",
       "}});\n",
       "\n",
       "// Listen for the removal of the full notebook cells\n",
       "var notebookContainer = gd.closest('#notebook-container');\n",
       "if (notebookContainer) {{\n",
       "    x.observe(notebookContainer, {childList: true});\n",
       "}}\n",
       "\n",
       "// Listen for the clearing of the current output cell\n",
       "var outputEl = gd.closest('.output');\n",
       "if (outputEl) {{\n",
       "    x.observe(outputEl, {childList: true});\n",
       "}}\n",
       "\n",
       "                        })                };                });            </script>        </div>"
      ]
     },
     "metadata": {},
     "output_type": "display_data"
    }
   ],
   "source": [
    "# Créez un graphique interactif de boîte (box plot) pour la teinte en fonction du dataset\n",
    "fig_box = px.box(df, x='dataset', y='mean_hue', title=\"Boîte à Moustaches de la Teinte par Dataset\",\n",
    "                labels={'mean_hue': 'Teinte', 'dataset': 'Dataset'},\n",
    "                hover_data=['img_path'])  # Ajoutez 'img_path' à hover_data\n",
    "\n",
    "# Mettez à jour la taille du graphique\n",
    "fig_box.update_layout(width=800, height=500)\n",
    "\n",
    "# Affichez le graphique interactif de la boîte à moustaches\n",
    "fig_box.show()"
   ]
  },
  {
   "cell_type": "code",
   "execution_count": null,
   "id": "38139b91-4357-4566-9129-e13f8e855dcd",
   "metadata": {},
   "outputs": [],
   "source": []
  }
 ],
 "metadata": {
  "kernelspec": {
   "display_name": "Python 3 (ipykernel)",
   "language": "python",
   "name": "python3"
  },
  "language_info": {
   "codemirror_mode": {
    "name": "ipython",
    "version": 3
   },
   "file_extension": ".py",
   "mimetype": "text/x-python",
   "name": "python",
   "nbconvert_exporter": "python",
   "pygments_lexer": "ipython3",
   "version": "3.11.5"
  }
 },
 "nbformat": 4,
 "nbformat_minor": 5
}
